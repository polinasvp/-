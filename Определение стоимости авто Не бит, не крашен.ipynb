{
 "cells": [
  {
   "cell_type": "markdown",
   "metadata": {},
   "source": [
    "# Определение стоимости автомобилей"
   ]
  },
  {
   "cell_type": "markdown",
   "metadata": {},
   "source": [
    "Сервис по продаже автомобилей с пробегом «Не бит, не крашен» разрабатывает приложение для привлечения новых клиентов. В нём можно быстро узнать рыночную стоимость своего автомобиля. В вашем распоряжении исторические данные: технические характеристики, комплектации и цены автомобилей. Вам нужно построить модель для определения стоимости. \n",
    "\n",
    "Заказчику важны:\n",
    "\n",
    "- качество предсказания;\n",
    "- скорость предсказания;\n",
    "- время обучения.\n",
    "\n",
    "**План работы**\n",
    "\n",
    "1. **Загрузим данные и проведем их предварительную обработку.**  \n",
    "2. **Обучим несколько моделей.**  \n",
    "   Для каждой модели подберем оптимальные значения гиперпараметров.  \n",
    "3. **Оценим производительность моделей, сравнив их скорость работы и качество.**  \n",
    "\n",
    "---\n",
    "\n",
    "**Описание данных**\n",
    "\n",
    "**Признаки:**\n",
    "- **DateCrawled** — дата скачивания анкеты из базы  \n",
    "- **VehicleType** — тип автомобильного кузова  \n",
    "- **RegistrationYear** — год регистрации автомобиля  \n",
    "- **Gearbox** — тип коробки передач  \n",
    "- **Power** — мощность (л. с.)  \n",
    "- **Model** — модель автомобиля  \n",
    "- **Kilometer** — пробег (км)  \n",
    "- **RegistrationMonth** — месяц регистрации автомобиля  \n",
    "- **FuelType** — тип топлива  \n",
    "- **Brand** — марка автомобиля  \n",
    "- **Repaired** — была машина в ремонте или нет  \n",
    "- **DateCreated** — дата создания анкеты  \n",
    "- **NumberOfPictures** — количество фотографий автомобиля  \n",
    "- **PostalCode** — почтовый индекс владельца анкеты (пользователя)  \n",
    "- **LastSeen** — дата последней активности пользователя  \n",
    "\n",
    "**Целевой признак:**\n",
    "- **Price** — цена (евро)  "
   ]
  },
  {
   "cell_type": "code",
   "execution_count": 1,
   "metadata": {},
   "outputs": [
    {
     "data": {
      "text/html": [
       "<style>.container { width:90% !important; }</style>"
      ],
      "text/plain": [
       "<IPython.core.display.HTML object>"
      ]
     },
     "metadata": {},
     "output_type": "display_data"
    }
   ],
   "source": [
    "from IPython.core.display import display, HTML\n",
    "display(HTML(\"<style>.container { width:90% !important; }</style>\"))"
   ]
  },
  {
   "cell_type": "code",
   "execution_count": 2,
   "metadata": {},
   "outputs": [],
   "source": [
    "import warnings\n",
    "warnings.filterwarnings('ignore')"
   ]
  },
  {
   "cell_type": "markdown",
   "metadata": {},
   "source": [
    "## Подготовка данных"
   ]
  },
  {
   "cell_type": "code",
   "execution_count": 3,
   "metadata": {},
   "outputs": [],
   "source": [
    "!pip install lightgbm -q"
   ]
  },
  {
   "cell_type": "code",
   "execution_count": 4,
   "metadata": {},
   "outputs": [],
   "source": [
    "!pip install -U scikit-learn -q"
   ]
  },
  {
   "cell_type": "code",
   "execution_count": 5,
   "metadata": {},
   "outputs": [],
   "source": [
    "import numpy as np\n",
    "import pandas as pd\n",
    "import time\n",
    "import matplotlib.pyplot as plt\n",
    "import seaborn as sns\n",
    "from catboost import CatBoostClassifier, CatBoostRegressor, Pool\n",
    "from lightgbm import LGBMRegressor\n",
    "from sklearn.compose import make_column_transformer\n",
    "from sklearn.ensemble import RandomForestRegressor\n",
    "from sklearn.linear_model import ElasticNet, Lasso, LinearRegression, Ridge\n",
    "from sklearn.metrics import mean_squared_error\n",
    "from sklearn.model_selection import GridSearchCV, KFold, cross_val_score, train_test_split\n",
    "from sklearn.pipeline import Pipeline, make_pipeline\n",
    "from sklearn.preprocessing import LabelEncoder, OneHotEncoder, OrdinalEncoder, StandardScaler\n",
    "from sklearn.tree import DecisionTreeRegressor\n",
    "from sklearn.impute import SimpleImputer"
   ]
  },
  {
   "cell_type": "code",
   "execution_count": 6,
   "metadata": {},
   "outputs": [
    {
     "data": {
      "text/html": [
       "<style  type=\"text/css\" >\n",
       "#T_9a3d4_row0_col1,#T_9a3d4_row0_col5,#T_9a3d4_row0_col8,#T_9a3d4_row0_col13,#T_9a3d4_row1_col5,#T_9a3d4_row1_col8,#T_9a3d4_row1_col13,#T_9a3d4_row2_col5,#T_9a3d4_row2_col8,#T_9a3d4_row2_col13,#T_9a3d4_row3_col5,#T_9a3d4_row3_col8,#T_9a3d4_row3_col13,#T_9a3d4_row4_col5,#T_9a3d4_row4_col8,#T_9a3d4_row4_col13,#T_9a3d4_row5_col5,#T_9a3d4_row5_col8,#T_9a3d4_row5_col13,#T_9a3d4_row6_col5,#T_9a3d4_row6_col8,#T_9a3d4_row6_col13,#T_9a3d4_row7_col1,#T_9a3d4_row7_col5,#T_9a3d4_row7_col8,#T_9a3d4_row7_col13,#T_9a3d4_row8_col5,#T_9a3d4_row8_col8,#T_9a3d4_row8_col13,#T_9a3d4_row9_col5,#T_9a3d4_row9_col8,#T_9a3d4_row9_col13{\n",
       "            background-color:  #f7fbff;\n",
       "            color:  #000000;\n",
       "        }#T_9a3d4_row0_col3,#T_9a3d4_row3_col3,#T_9a3d4_row5_col3,#T_9a3d4_row6_col1,#T_9a3d4_row6_col3,#T_9a3d4_row9_col3{\n",
       "            background-color:  #f5f9fe;\n",
       "            color:  #000000;\n",
       "        }#T_9a3d4_row0_col7,#T_9a3d4_row1_col7,#T_9a3d4_row2_col7,#T_9a3d4_row3_col7,#T_9a3d4_row4_col7,#T_9a3d4_row5_col7,#T_9a3d4_row6_col7,#T_9a3d4_row7_col7,#T_9a3d4_row8_col14,#T_9a3d4_row9_col7{\n",
       "            background-color:  #08306b;\n",
       "            color:  #f1f1f1;\n",
       "        }#T_9a3d4_row0_col14{\n",
       "            background-color:  #77b5d9;\n",
       "            color:  #000000;\n",
       "        }#T_9a3d4_row1_col1{\n",
       "            background-color:  #dae8f6;\n",
       "            color:  #000000;\n",
       "        }#T_9a3d4_row1_col3,#T_9a3d4_row2_col3{\n",
       "            background-color:  #f4f9fe;\n",
       "            color:  #000000;\n",
       "        }#T_9a3d4_row1_col14{\n",
       "            background-color:  #5fa6d1;\n",
       "            color:  #000000;\n",
       "        }#T_9a3d4_row2_col1{\n",
       "            background-color:  #e7f1fa;\n",
       "            color:  #000000;\n",
       "        }#T_9a3d4_row2_col14{\n",
       "            background-color:  #2777b8;\n",
       "            color:  #000000;\n",
       "        }#T_9a3d4_row3_col1{\n",
       "            background-color:  #f5fafe;\n",
       "            color:  #000000;\n",
       "        }#T_9a3d4_row3_col14{\n",
       "            background-color:  #4896c8;\n",
       "            color:  #000000;\n",
       "        }#T_9a3d4_row4_col1{\n",
       "            background-color:  #eff6fc;\n",
       "            color:  #000000;\n",
       "        }#T_9a3d4_row4_col3,#T_9a3d4_row8_col3{\n",
       "            background-color:  #f3f8fe;\n",
       "            color:  #000000;\n",
       "        }#T_9a3d4_row4_col14{\n",
       "            background-color:  #3686c0;\n",
       "            color:  #000000;\n",
       "        }#T_9a3d4_row5_col1,#T_9a3d4_row9_col1{\n",
       "            background-color:  #f6faff;\n",
       "            color:  #000000;\n",
       "        }#T_9a3d4_row5_col14{\n",
       "            background-color:  #cbdef1;\n",
       "            color:  #000000;\n",
       "        }#T_9a3d4_row6_col14{\n",
       "            background-color:  #81badb;\n",
       "            color:  #000000;\n",
       "        }#T_9a3d4_row7_col3{\n",
       "            background-color:  #eef5fc;\n",
       "            color:  #000000;\n",
       "        }#T_9a3d4_row7_col14{\n",
       "            background-color:  #72b2d8;\n",
       "            color:  #000000;\n",
       "        }#T_9a3d4_row8_col1{\n",
       "            background-color:  #d9e7f5;\n",
       "            color:  #000000;\n",
       "        }#T_9a3d4_row8_col7{\n",
       "            background-color:  #b0d2e7;\n",
       "            color:  #000000;\n",
       "        }#T_9a3d4_row9_col14{\n",
       "            background-color:  #d3e4f3;\n",
       "            color:  #000000;\n",
       "        }</style><table id=\"T_9a3d4_\" ><thead>    <tr>        <th class=\"blank level0\" ></th>        <th class=\"col_heading level0 col0\" >DateCrawled</th>        <th class=\"col_heading level0 col1\" >Price</th>        <th class=\"col_heading level0 col2\" >VehicleType</th>        <th class=\"col_heading level0 col3\" >RegistrationYear</th>        <th class=\"col_heading level0 col4\" >Gearbox</th>        <th class=\"col_heading level0 col5\" >Power</th>        <th class=\"col_heading level0 col6\" >Model</th>        <th class=\"col_heading level0 col7\" >Kilometer</th>        <th class=\"col_heading level0 col8\" >RegistrationMonth</th>        <th class=\"col_heading level0 col9\" >FuelType</th>        <th class=\"col_heading level0 col10\" >Brand</th>        <th class=\"col_heading level0 col11\" >Repaired</th>        <th class=\"col_heading level0 col12\" >DateCreated</th>        <th class=\"col_heading level0 col13\" >NumberOfPictures</th>        <th class=\"col_heading level0 col14\" >PostalCode</th>        <th class=\"col_heading level0 col15\" >LastSeen</th>    </tr></thead><tbody>\n",
       "                <tr>\n",
       "                        <th id=\"T_9a3d4_level0_row0\" class=\"row_heading level0 row0\" >0</th>\n",
       "                        <td id=\"T_9a3d4_row0_col0\" class=\"data row0 col0\" >2016-03-24 11:52:17</td>\n",
       "                        <td id=\"T_9a3d4_row0_col1\" class=\"data row0 col1\" >480</td>\n",
       "                        <td id=\"T_9a3d4_row0_col2\" class=\"data row0 col2\" >nan</td>\n",
       "                        <td id=\"T_9a3d4_row0_col3\" class=\"data row0 col3\" >1993</td>\n",
       "                        <td id=\"T_9a3d4_row0_col4\" class=\"data row0 col4\" >manual</td>\n",
       "                        <td id=\"T_9a3d4_row0_col5\" class=\"data row0 col5\" >0</td>\n",
       "                        <td id=\"T_9a3d4_row0_col6\" class=\"data row0 col6\" >golf</td>\n",
       "                        <td id=\"T_9a3d4_row0_col7\" class=\"data row0 col7\" >150000</td>\n",
       "                        <td id=\"T_9a3d4_row0_col8\" class=\"data row0 col8\" >0</td>\n",
       "                        <td id=\"T_9a3d4_row0_col9\" class=\"data row0 col9\" >petrol</td>\n",
       "                        <td id=\"T_9a3d4_row0_col10\" class=\"data row0 col10\" >volkswagen</td>\n",
       "                        <td id=\"T_9a3d4_row0_col11\" class=\"data row0 col11\" >nan</td>\n",
       "                        <td id=\"T_9a3d4_row0_col12\" class=\"data row0 col12\" >2016-03-24 00:00:00</td>\n",
       "                        <td id=\"T_9a3d4_row0_col13\" class=\"data row0 col13\" >0</td>\n",
       "                        <td id=\"T_9a3d4_row0_col14\" class=\"data row0 col14\" >70435</td>\n",
       "                        <td id=\"T_9a3d4_row0_col15\" class=\"data row0 col15\" >2016-04-07 03:16:57</td>\n",
       "            </tr>\n",
       "            <tr>\n",
       "                        <th id=\"T_9a3d4_level0_row1\" class=\"row_heading level0 row1\" >1</th>\n",
       "                        <td id=\"T_9a3d4_row1_col0\" class=\"data row1 col0\" >2016-03-24 10:58:45</td>\n",
       "                        <td id=\"T_9a3d4_row1_col1\" class=\"data row1 col1\" >18300</td>\n",
       "                        <td id=\"T_9a3d4_row1_col2\" class=\"data row1 col2\" >coupe</td>\n",
       "                        <td id=\"T_9a3d4_row1_col3\" class=\"data row1 col3\" >2011</td>\n",
       "                        <td id=\"T_9a3d4_row1_col4\" class=\"data row1 col4\" >manual</td>\n",
       "                        <td id=\"T_9a3d4_row1_col5\" class=\"data row1 col5\" >190</td>\n",
       "                        <td id=\"T_9a3d4_row1_col6\" class=\"data row1 col6\" >nan</td>\n",
       "                        <td id=\"T_9a3d4_row1_col7\" class=\"data row1 col7\" >125000</td>\n",
       "                        <td id=\"T_9a3d4_row1_col8\" class=\"data row1 col8\" >5</td>\n",
       "                        <td id=\"T_9a3d4_row1_col9\" class=\"data row1 col9\" >gasoline</td>\n",
       "                        <td id=\"T_9a3d4_row1_col10\" class=\"data row1 col10\" >audi</td>\n",
       "                        <td id=\"T_9a3d4_row1_col11\" class=\"data row1 col11\" >yes</td>\n",
       "                        <td id=\"T_9a3d4_row1_col12\" class=\"data row1 col12\" >2016-03-24 00:00:00</td>\n",
       "                        <td id=\"T_9a3d4_row1_col13\" class=\"data row1 col13\" >0</td>\n",
       "                        <td id=\"T_9a3d4_row1_col14\" class=\"data row1 col14\" >66954</td>\n",
       "                        <td id=\"T_9a3d4_row1_col15\" class=\"data row1 col15\" >2016-04-07 01:46:50</td>\n",
       "            </tr>\n",
       "            <tr>\n",
       "                        <th id=\"T_9a3d4_level0_row2\" class=\"row_heading level0 row2\" >2</th>\n",
       "                        <td id=\"T_9a3d4_row2_col0\" class=\"data row2 col0\" >2016-03-14 12:52:21</td>\n",
       "                        <td id=\"T_9a3d4_row2_col1\" class=\"data row2 col1\" >9800</td>\n",
       "                        <td id=\"T_9a3d4_row2_col2\" class=\"data row2 col2\" >suv</td>\n",
       "                        <td id=\"T_9a3d4_row2_col3\" class=\"data row2 col3\" >2004</td>\n",
       "                        <td id=\"T_9a3d4_row2_col4\" class=\"data row2 col4\" >auto</td>\n",
       "                        <td id=\"T_9a3d4_row2_col5\" class=\"data row2 col5\" >163</td>\n",
       "                        <td id=\"T_9a3d4_row2_col6\" class=\"data row2 col6\" >grand</td>\n",
       "                        <td id=\"T_9a3d4_row2_col7\" class=\"data row2 col7\" >125000</td>\n",
       "                        <td id=\"T_9a3d4_row2_col8\" class=\"data row2 col8\" >8</td>\n",
       "                        <td id=\"T_9a3d4_row2_col9\" class=\"data row2 col9\" >gasoline</td>\n",
       "                        <td id=\"T_9a3d4_row2_col10\" class=\"data row2 col10\" >jeep</td>\n",
       "                        <td id=\"T_9a3d4_row2_col11\" class=\"data row2 col11\" >nan</td>\n",
       "                        <td id=\"T_9a3d4_row2_col12\" class=\"data row2 col12\" >2016-03-14 00:00:00</td>\n",
       "                        <td id=\"T_9a3d4_row2_col13\" class=\"data row2 col13\" >0</td>\n",
       "                        <td id=\"T_9a3d4_row2_col14\" class=\"data row2 col14\" >90480</td>\n",
       "                        <td id=\"T_9a3d4_row2_col15\" class=\"data row2 col15\" >2016-04-05 12:47:46</td>\n",
       "            </tr>\n",
       "            <tr>\n",
       "                        <th id=\"T_9a3d4_level0_row3\" class=\"row_heading level0 row3\" >3</th>\n",
       "                        <td id=\"T_9a3d4_row3_col0\" class=\"data row3 col0\" >2016-03-17 16:54:04</td>\n",
       "                        <td id=\"T_9a3d4_row3_col1\" class=\"data row3 col1\" >1500</td>\n",
       "                        <td id=\"T_9a3d4_row3_col2\" class=\"data row3 col2\" >small</td>\n",
       "                        <td id=\"T_9a3d4_row3_col3\" class=\"data row3 col3\" >2001</td>\n",
       "                        <td id=\"T_9a3d4_row3_col4\" class=\"data row3 col4\" >manual</td>\n",
       "                        <td id=\"T_9a3d4_row3_col5\" class=\"data row3 col5\" >75</td>\n",
       "                        <td id=\"T_9a3d4_row3_col6\" class=\"data row3 col6\" >golf</td>\n",
       "                        <td id=\"T_9a3d4_row3_col7\" class=\"data row3 col7\" >150000</td>\n",
       "                        <td id=\"T_9a3d4_row3_col8\" class=\"data row3 col8\" >6</td>\n",
       "                        <td id=\"T_9a3d4_row3_col9\" class=\"data row3 col9\" >petrol</td>\n",
       "                        <td id=\"T_9a3d4_row3_col10\" class=\"data row3 col10\" >volkswagen</td>\n",
       "                        <td id=\"T_9a3d4_row3_col11\" class=\"data row3 col11\" >no</td>\n",
       "                        <td id=\"T_9a3d4_row3_col12\" class=\"data row3 col12\" >2016-03-17 00:00:00</td>\n",
       "                        <td id=\"T_9a3d4_row3_col13\" class=\"data row3 col13\" >0</td>\n",
       "                        <td id=\"T_9a3d4_row3_col14\" class=\"data row3 col14\" >91074</td>\n",
       "                        <td id=\"T_9a3d4_row3_col15\" class=\"data row3 col15\" >2016-03-17 17:40:17</td>\n",
       "            </tr>\n",
       "            <tr>\n",
       "                        <th id=\"T_9a3d4_level0_row4\" class=\"row_heading level0 row4\" >4</th>\n",
       "                        <td id=\"T_9a3d4_row4_col0\" class=\"data row4 col0\" >2016-03-31 17:25:20</td>\n",
       "                        <td id=\"T_9a3d4_row4_col1\" class=\"data row4 col1\" >3600</td>\n",
       "                        <td id=\"T_9a3d4_row4_col2\" class=\"data row4 col2\" >small</td>\n",
       "                        <td id=\"T_9a3d4_row4_col3\" class=\"data row4 col3\" >2008</td>\n",
       "                        <td id=\"T_9a3d4_row4_col4\" class=\"data row4 col4\" >manual</td>\n",
       "                        <td id=\"T_9a3d4_row4_col5\" class=\"data row4 col5\" >69</td>\n",
       "                        <td id=\"T_9a3d4_row4_col6\" class=\"data row4 col6\" >fabia</td>\n",
       "                        <td id=\"T_9a3d4_row4_col7\" class=\"data row4 col7\" >90000</td>\n",
       "                        <td id=\"T_9a3d4_row4_col8\" class=\"data row4 col8\" >7</td>\n",
       "                        <td id=\"T_9a3d4_row4_col9\" class=\"data row4 col9\" >gasoline</td>\n",
       "                        <td id=\"T_9a3d4_row4_col10\" class=\"data row4 col10\" >skoda</td>\n",
       "                        <td id=\"T_9a3d4_row4_col11\" class=\"data row4 col11\" >no</td>\n",
       "                        <td id=\"T_9a3d4_row4_col12\" class=\"data row4 col12\" >2016-03-31 00:00:00</td>\n",
       "                        <td id=\"T_9a3d4_row4_col13\" class=\"data row4 col13\" >0</td>\n",
       "                        <td id=\"T_9a3d4_row4_col14\" class=\"data row4 col14\" >60437</td>\n",
       "                        <td id=\"T_9a3d4_row4_col15\" class=\"data row4 col15\" >2016-04-06 10:17:21</td>\n",
       "            </tr>\n",
       "            <tr>\n",
       "                        <th id=\"T_9a3d4_level0_row5\" class=\"row_heading level0 row5\" >5</th>\n",
       "                        <td id=\"T_9a3d4_row5_col0\" class=\"data row5 col0\" >2016-04-04 17:36:23</td>\n",
       "                        <td id=\"T_9a3d4_row5_col1\" class=\"data row5 col1\" >650</td>\n",
       "                        <td id=\"T_9a3d4_row5_col2\" class=\"data row5 col2\" >sedan</td>\n",
       "                        <td id=\"T_9a3d4_row5_col3\" class=\"data row5 col3\" >1995</td>\n",
       "                        <td id=\"T_9a3d4_row5_col4\" class=\"data row5 col4\" >manual</td>\n",
       "                        <td id=\"T_9a3d4_row5_col5\" class=\"data row5 col5\" >102</td>\n",
       "                        <td id=\"T_9a3d4_row5_col6\" class=\"data row5 col6\" >3er</td>\n",
       "                        <td id=\"T_9a3d4_row5_col7\" class=\"data row5 col7\" >150000</td>\n",
       "                        <td id=\"T_9a3d4_row5_col8\" class=\"data row5 col8\" >10</td>\n",
       "                        <td id=\"T_9a3d4_row5_col9\" class=\"data row5 col9\" >petrol</td>\n",
       "                        <td id=\"T_9a3d4_row5_col10\" class=\"data row5 col10\" >bmw</td>\n",
       "                        <td id=\"T_9a3d4_row5_col11\" class=\"data row5 col11\" >yes</td>\n",
       "                        <td id=\"T_9a3d4_row5_col12\" class=\"data row5 col12\" >2016-04-04 00:00:00</td>\n",
       "                        <td id=\"T_9a3d4_row5_col13\" class=\"data row5 col13\" >0</td>\n",
       "                        <td id=\"T_9a3d4_row5_col14\" class=\"data row5 col14\" >33775</td>\n",
       "                        <td id=\"T_9a3d4_row5_col15\" class=\"data row5 col15\" >2016-04-06 19:17:07</td>\n",
       "            </tr>\n",
       "            <tr>\n",
       "                        <th id=\"T_9a3d4_level0_row6\" class=\"row_heading level0 row6\" >6</th>\n",
       "                        <td id=\"T_9a3d4_row6_col0\" class=\"data row6 col0\" >2016-04-01 20:48:51</td>\n",
       "                        <td id=\"T_9a3d4_row6_col1\" class=\"data row6 col1\" >2200</td>\n",
       "                        <td id=\"T_9a3d4_row6_col2\" class=\"data row6 col2\" >convertible</td>\n",
       "                        <td id=\"T_9a3d4_row6_col3\" class=\"data row6 col3\" >2004</td>\n",
       "                        <td id=\"T_9a3d4_row6_col4\" class=\"data row6 col4\" >manual</td>\n",
       "                        <td id=\"T_9a3d4_row6_col5\" class=\"data row6 col5\" >109</td>\n",
       "                        <td id=\"T_9a3d4_row6_col6\" class=\"data row6 col6\" >2_reihe</td>\n",
       "                        <td id=\"T_9a3d4_row6_col7\" class=\"data row6 col7\" >150000</td>\n",
       "                        <td id=\"T_9a3d4_row6_col8\" class=\"data row6 col8\" >8</td>\n",
       "                        <td id=\"T_9a3d4_row6_col9\" class=\"data row6 col9\" >petrol</td>\n",
       "                        <td id=\"T_9a3d4_row6_col10\" class=\"data row6 col10\" >peugeot</td>\n",
       "                        <td id=\"T_9a3d4_row6_col11\" class=\"data row6 col11\" >no</td>\n",
       "                        <td id=\"T_9a3d4_row6_col12\" class=\"data row6 col12\" >2016-04-01 00:00:00</td>\n",
       "                        <td id=\"T_9a3d4_row6_col13\" class=\"data row6 col13\" >0</td>\n",
       "                        <td id=\"T_9a3d4_row6_col14\" class=\"data row6 col14\" >67112</td>\n",
       "                        <td id=\"T_9a3d4_row6_col15\" class=\"data row6 col15\" >2016-04-05 18:18:39</td>\n",
       "            </tr>\n",
       "            <tr>\n",
       "                        <th id=\"T_9a3d4_level0_row7\" class=\"row_heading level0 row7\" >7</th>\n",
       "                        <td id=\"T_9a3d4_row7_col0\" class=\"data row7 col0\" >2016-03-21 18:54:38</td>\n",
       "                        <td id=\"T_9a3d4_row7_col1\" class=\"data row7 col1\" >0</td>\n",
       "                        <td id=\"T_9a3d4_row7_col2\" class=\"data row7 col2\" >sedan</td>\n",
       "                        <td id=\"T_9a3d4_row7_col3\" class=\"data row7 col3\" >1980</td>\n",
       "                        <td id=\"T_9a3d4_row7_col4\" class=\"data row7 col4\" >manual</td>\n",
       "                        <td id=\"T_9a3d4_row7_col5\" class=\"data row7 col5\" >50</td>\n",
       "                        <td id=\"T_9a3d4_row7_col6\" class=\"data row7 col6\" >other</td>\n",
       "                        <td id=\"T_9a3d4_row7_col7\" class=\"data row7 col7\" >40000</td>\n",
       "                        <td id=\"T_9a3d4_row7_col8\" class=\"data row7 col8\" >7</td>\n",
       "                        <td id=\"T_9a3d4_row7_col9\" class=\"data row7 col9\" >petrol</td>\n",
       "                        <td id=\"T_9a3d4_row7_col10\" class=\"data row7 col10\" >volkswagen</td>\n",
       "                        <td id=\"T_9a3d4_row7_col11\" class=\"data row7 col11\" >no</td>\n",
       "                        <td id=\"T_9a3d4_row7_col12\" class=\"data row7 col12\" >2016-03-21 00:00:00</td>\n",
       "                        <td id=\"T_9a3d4_row7_col13\" class=\"data row7 col13\" >0</td>\n",
       "                        <td id=\"T_9a3d4_row7_col14\" class=\"data row7 col14\" >19348</td>\n",
       "                        <td id=\"T_9a3d4_row7_col15\" class=\"data row7 col15\" >2016-03-25 16:47:58</td>\n",
       "            </tr>\n",
       "            <tr>\n",
       "                        <th id=\"T_9a3d4_level0_row8\" class=\"row_heading level0 row8\" >8</th>\n",
       "                        <td id=\"T_9a3d4_row8_col0\" class=\"data row8 col0\" >2016-04-04 23:42:13</td>\n",
       "                        <td id=\"T_9a3d4_row8_col1\" class=\"data row8 col1\" >14500</td>\n",
       "                        <td id=\"T_9a3d4_row8_col2\" class=\"data row8 col2\" >bus</td>\n",
       "                        <td id=\"T_9a3d4_row8_col3\" class=\"data row8 col3\" >2014</td>\n",
       "                        <td id=\"T_9a3d4_row8_col4\" class=\"data row8 col4\" >manual</td>\n",
       "                        <td id=\"T_9a3d4_row8_col5\" class=\"data row8 col5\" >125</td>\n",
       "                        <td id=\"T_9a3d4_row8_col6\" class=\"data row8 col6\" >c_max</td>\n",
       "                        <td id=\"T_9a3d4_row8_col7\" class=\"data row8 col7\" >30000</td>\n",
       "                        <td id=\"T_9a3d4_row8_col8\" class=\"data row8 col8\" >8</td>\n",
       "                        <td id=\"T_9a3d4_row8_col9\" class=\"data row8 col9\" >petrol</td>\n",
       "                        <td id=\"T_9a3d4_row8_col10\" class=\"data row8 col10\" >ford</td>\n",
       "                        <td id=\"T_9a3d4_row8_col11\" class=\"data row8 col11\" >nan</td>\n",
       "                        <td id=\"T_9a3d4_row8_col12\" class=\"data row8 col12\" >2016-04-04 00:00:00</td>\n",
       "                        <td id=\"T_9a3d4_row8_col13\" class=\"data row8 col13\" >0</td>\n",
       "                        <td id=\"T_9a3d4_row8_col14\" class=\"data row8 col14\" >94505</td>\n",
       "                        <td id=\"T_9a3d4_row8_col15\" class=\"data row8 col15\" >2016-04-04 23:42:13</td>\n",
       "            </tr>\n",
       "            <tr>\n",
       "                        <th id=\"T_9a3d4_level0_row9\" class=\"row_heading level0 row9\" >9</th>\n",
       "                        <td id=\"T_9a3d4_row9_col0\" class=\"data row9 col0\" >2016-03-17 10:53:50</td>\n",
       "                        <td id=\"T_9a3d4_row9_col1\" class=\"data row9 col1\" >999</td>\n",
       "                        <td id=\"T_9a3d4_row9_col2\" class=\"data row9 col2\" >small</td>\n",
       "                        <td id=\"T_9a3d4_row9_col3\" class=\"data row9 col3\" >1998</td>\n",
       "                        <td id=\"T_9a3d4_row9_col4\" class=\"data row9 col4\" >manual</td>\n",
       "                        <td id=\"T_9a3d4_row9_col5\" class=\"data row9 col5\" >101</td>\n",
       "                        <td id=\"T_9a3d4_row9_col6\" class=\"data row9 col6\" >golf</td>\n",
       "                        <td id=\"T_9a3d4_row9_col7\" class=\"data row9 col7\" >150000</td>\n",
       "                        <td id=\"T_9a3d4_row9_col8\" class=\"data row9 col8\" >0</td>\n",
       "                        <td id=\"T_9a3d4_row9_col9\" class=\"data row9 col9\" >nan</td>\n",
       "                        <td id=\"T_9a3d4_row9_col10\" class=\"data row9 col10\" >volkswagen</td>\n",
       "                        <td id=\"T_9a3d4_row9_col11\" class=\"data row9 col11\" >nan</td>\n",
       "                        <td id=\"T_9a3d4_row9_col12\" class=\"data row9 col12\" >2016-03-17 00:00:00</td>\n",
       "                        <td id=\"T_9a3d4_row9_col13\" class=\"data row9 col13\" >0</td>\n",
       "                        <td id=\"T_9a3d4_row9_col14\" class=\"data row9 col14\" >27472</td>\n",
       "                        <td id=\"T_9a3d4_row9_col15\" class=\"data row9 col15\" >2016-03-31 17:17:06</td>\n",
       "            </tr>\n",
       "    </tbody></table>"
      ],
      "text/plain": [
       "<pandas.io.formats.style.Styler at 0x7fa3e46b8940>"
      ]
     },
     "metadata": {},
     "output_type": "display_data"
    }
   ],
   "source": [
    "autos = pd.read_csv('/datasets/autos.csv')\n",
    "styled_autos = autos.head(10).style.background_gradient(cmap='Blues', axis=1)\n",
    "display(styled_autos)"
   ]
  },
  {
   "cell_type": "markdown",
   "metadata": {},
   "source": [
    "Мы загрузили данные сервиса по продаже подержанных автомобилей «Не бит, не крашен» и теперь проведем их анализ."
   ]
  },
  {
   "cell_type": "code",
   "execution_count": 7,
   "metadata": {},
   "outputs": [
    {
     "name": "stdout",
     "output_type": "stream",
     "text": [
      "Информация о данных:\n",
      "<class 'pandas.core.frame.DataFrame'>\n",
      "RangeIndex: 354369 entries, 0 to 354368\n",
      "Data columns (total 16 columns):\n",
      " #   Column             Non-Null Count   Dtype \n",
      "---  ------             --------------   ----- \n",
      " 0   DateCrawled        354369 non-null  object\n",
      " 1   Price              354369 non-null  int64 \n",
      " 2   VehicleType        316879 non-null  object\n",
      " 3   RegistrationYear   354369 non-null  int64 \n",
      " 4   Gearbox            334536 non-null  object\n",
      " 5   Power              354369 non-null  int64 \n",
      " 6   Model              334664 non-null  object\n",
      " 7   Kilometer          354369 non-null  int64 \n",
      " 8   RegistrationMonth  354369 non-null  int64 \n",
      " 9   FuelType           321474 non-null  object\n",
      " 10  Brand              354369 non-null  object\n",
      " 11  Repaired           283215 non-null  object\n",
      " 12  DateCreated        354369 non-null  object\n",
      " 13  NumberOfPictures   354369 non-null  int64 \n",
      " 14  PostalCode         354369 non-null  int64 \n",
      " 15  LastSeen           354369 non-null  object\n",
      "dtypes: int64(7), object(9)\n",
      "memory usage: 43.3+ MB\n",
      "\n",
      "Описательная статистика:\n"
     ]
    },
    {
     "data": {
      "text/html": [
       "<div>\n",
       "<style scoped>\n",
       "    .dataframe tbody tr th:only-of-type {\n",
       "        vertical-align: middle;\n",
       "    }\n",
       "\n",
       "    .dataframe tbody tr th {\n",
       "        vertical-align: top;\n",
       "    }\n",
       "\n",
       "    .dataframe thead th {\n",
       "        text-align: right;\n",
       "    }\n",
       "</style>\n",
       "<table border=\"1\" class=\"dataframe\">\n",
       "  <thead>\n",
       "    <tr style=\"text-align: right;\">\n",
       "      <th></th>\n",
       "      <th>Price</th>\n",
       "      <th>RegistrationYear</th>\n",
       "      <th>Power</th>\n",
       "      <th>Kilometer</th>\n",
       "      <th>RegistrationMonth</th>\n",
       "      <th>NumberOfPictures</th>\n",
       "      <th>PostalCode</th>\n",
       "    </tr>\n",
       "  </thead>\n",
       "  <tbody>\n",
       "    <tr>\n",
       "      <th>count</th>\n",
       "      <td>354369.000000</td>\n",
       "      <td>354369.000000</td>\n",
       "      <td>354369.000000</td>\n",
       "      <td>354369.000000</td>\n",
       "      <td>354369.000000</td>\n",
       "      <td>354369.0</td>\n",
       "      <td>354369.000000</td>\n",
       "    </tr>\n",
       "    <tr>\n",
       "      <th>mean</th>\n",
       "      <td>4416.656776</td>\n",
       "      <td>2004.234448</td>\n",
       "      <td>110.094337</td>\n",
       "      <td>128211.172535</td>\n",
       "      <td>5.714645</td>\n",
       "      <td>0.0</td>\n",
       "      <td>50508.689087</td>\n",
       "    </tr>\n",
       "    <tr>\n",
       "      <th>std</th>\n",
       "      <td>4514.158514</td>\n",
       "      <td>90.227958</td>\n",
       "      <td>189.850405</td>\n",
       "      <td>37905.341530</td>\n",
       "      <td>3.726421</td>\n",
       "      <td>0.0</td>\n",
       "      <td>25783.096248</td>\n",
       "    </tr>\n",
       "    <tr>\n",
       "      <th>min</th>\n",
       "      <td>0.000000</td>\n",
       "      <td>1000.000000</td>\n",
       "      <td>0.000000</td>\n",
       "      <td>5000.000000</td>\n",
       "      <td>0.000000</td>\n",
       "      <td>0.0</td>\n",
       "      <td>1067.000000</td>\n",
       "    </tr>\n",
       "    <tr>\n",
       "      <th>25%</th>\n",
       "      <td>1050.000000</td>\n",
       "      <td>1999.000000</td>\n",
       "      <td>69.000000</td>\n",
       "      <td>125000.000000</td>\n",
       "      <td>3.000000</td>\n",
       "      <td>0.0</td>\n",
       "      <td>30165.000000</td>\n",
       "    </tr>\n",
       "    <tr>\n",
       "      <th>50%</th>\n",
       "      <td>2700.000000</td>\n",
       "      <td>2003.000000</td>\n",
       "      <td>105.000000</td>\n",
       "      <td>150000.000000</td>\n",
       "      <td>6.000000</td>\n",
       "      <td>0.0</td>\n",
       "      <td>49413.000000</td>\n",
       "    </tr>\n",
       "    <tr>\n",
       "      <th>75%</th>\n",
       "      <td>6400.000000</td>\n",
       "      <td>2008.000000</td>\n",
       "      <td>143.000000</td>\n",
       "      <td>150000.000000</td>\n",
       "      <td>9.000000</td>\n",
       "      <td>0.0</td>\n",
       "      <td>71083.000000</td>\n",
       "    </tr>\n",
       "    <tr>\n",
       "      <th>max</th>\n",
       "      <td>20000.000000</td>\n",
       "      <td>9999.000000</td>\n",
       "      <td>20000.000000</td>\n",
       "      <td>150000.000000</td>\n",
       "      <td>12.000000</td>\n",
       "      <td>0.0</td>\n",
       "      <td>99998.000000</td>\n",
       "    </tr>\n",
       "  </tbody>\n",
       "</table>\n",
       "</div>"
      ],
      "text/plain": [
       "               Price  RegistrationYear          Power      Kilometer  \\\n",
       "count  354369.000000     354369.000000  354369.000000  354369.000000   \n",
       "mean     4416.656776       2004.234448     110.094337  128211.172535   \n",
       "std      4514.158514         90.227958     189.850405   37905.341530   \n",
       "min         0.000000       1000.000000       0.000000    5000.000000   \n",
       "25%      1050.000000       1999.000000      69.000000  125000.000000   \n",
       "50%      2700.000000       2003.000000     105.000000  150000.000000   \n",
       "75%      6400.000000       2008.000000     143.000000  150000.000000   \n",
       "max     20000.000000       9999.000000   20000.000000  150000.000000   \n",
       "\n",
       "       RegistrationMonth  NumberOfPictures     PostalCode  \n",
       "count      354369.000000          354369.0  354369.000000  \n",
       "mean            5.714645               0.0   50508.689087  \n",
       "std             3.726421               0.0   25783.096248  \n",
       "min             0.000000               0.0    1067.000000  \n",
       "25%             3.000000               0.0   30165.000000  \n",
       "50%             6.000000               0.0   49413.000000  \n",
       "75%             9.000000               0.0   71083.000000  \n",
       "max            12.000000               0.0   99998.000000  "
      ]
     },
     "metadata": {},
     "output_type": "display_data"
    }
   ],
   "source": [
    "print(\"Информация о данных:\")\n",
    "autos.info()\n",
    "print(\"\\nОписательная статистика:\")\n",
    "display(autos.describe())"
   ]
  },
  {
   "cell_type": "code",
   "execution_count": 8,
   "metadata": {},
   "outputs": [
    {
     "data": {
      "text/plain": [
       "DateCrawled              0\n",
       "Price                    0\n",
       "VehicleType          37490\n",
       "RegistrationYear         0\n",
       "Gearbox              19833\n",
       "Power                    0\n",
       "Model                19705\n",
       "Kilometer                0\n",
       "RegistrationMonth        0\n",
       "FuelType             32895\n",
       "Brand                    0\n",
       "Repaired             71154\n",
       "DateCreated              0\n",
       "NumberOfPictures         0\n",
       "PostalCode               0\n",
       "LastSeen                 0\n",
       "dtype: int64"
      ]
     },
     "execution_count": 8,
     "metadata": {},
     "output_type": "execute_result"
    }
   ],
   "source": [
    "autos.isna().sum()"
   ]
  },
  {
   "cell_type": "code",
   "execution_count": 9,
   "metadata": {},
   "outputs": [],
   "source": [
    "def plot_chart(data, chart_type, column, title, xlabel, ylabel, bins=10, color='skyblue', figsize=(12, 6), **kwargs):\n",
    "    if chart_type == 'hist':\n",
    "        ax = data[column].plot(kind='hist', bins=bins, grid=False, color=color, figsize=figsize, **kwargs)\n",
    "    elif chart_type == 'line':\n",
    "        ax = data[column].plot(kind='line', color=color, figsize=figsize, **kwargs)\n",
    "    elif chart_type == 'bar':\n",
    "        ax = data[column].plot(kind='bar', color=color, figsize=figsize, **kwargs)\n",
    "    elif chart_type == 'scatter':\n",
    "        ax = data.plot(kind='scatter', x=column[0], y=column[1], color=color, figsize=figsize, **kwargs)\n",
    "    else:\n",
    "        raise ValueError(\"Unsupported chart type\")\n",
    "\n",
    "    ax.set_xlabel(xlabel, fontsize=12)\n",
    "    ax.set_ylabel(ylabel, fontsize=12)\n",
    "    ax.set_title(title, fontsize=14, fontweight=\"bold\")\n",
    "    ax.spines['top'].set_visible(False)\n",
    "    ax.spines['right'].set_visible(False)\n",
    "    ax.grid(axis='y', linestyle='--', alpha=0.7, color='gray')\n",
    "    plt.tight_layout()\n",
    "    plt.show()"
   ]
  },
  {
   "cell_type": "code",
   "execution_count": 10,
   "metadata": {
    "scrolled": true
   },
   "outputs": [
    {
     "data": {
      "image/png": "[encoded data removed]",
      "text/plain": [
       "<Figure size 864x432 with 1 Axes>"
      ]
     },
     "metadata": {
      "needs_background": "light"
     },
     "output_type": "display_data"
    }
   ],
   "source": [
    "file = autos\n",
    "column = 'Price'\n",
    "title = 'Распределение стоимости автомобилей (евро)'\n",
    "xlabel = 'Стоимость'\n",
    "ylabel = 'Количество автомобилей'\n",
    "bins = 200\n",
    "plot_chart(file, chart_type='hist', column=column, title=title, xlabel=xlabel, ylabel=ylabel, bins=bins)"
   ]
  },
  {
   "cell_type": "code",
   "execution_count": 11,
   "metadata": {},
   "outputs": [
    {
     "data": {
      "image/png": "[encoded data removed]",
      "text/plain": [
       "<Figure size 864x432 with 1 Axes>"
      ]
     },
     "metadata": {
      "needs_background": "light"
     },
     "output_type": "display_data"
    }
   ],
   "source": [
    "fig, axes = plt.subplots(figsize=(12, 6))\n",
    "autos.boxplot(column=['Price'], vert=False, patch_artist=True, boxprops=dict(facecolor='skyblue', edgecolor='black'), \n",
    "              grid=False, fontsize=12, color='black')\n",
    "\n",
    "plt.suptitle('Диаграмма размаха стоимости автомобилей', fontsize=16, fontweight=\"bold\", color='black')\n",
    "plt.xlabel('Стоимость (евро)', fontsize=14, fontweight='bold', color='black')\n",
    "plt.ylabel('Автомобили', fontsize=14, fontweight='bold', color='black')\n",
    "\n",
    "plt.tight_layout()\n",
    "plt.show()"
   ]
  },
  {
   "cell_type": "markdown",
   "metadata": {},
   "source": [
    "Наблюдаются выбросы в данных о стоимости автомобилей, поэтому мы исключим значения, находящиеся ниже 5-го и выше 95-го перцентилей."
   ]
  },
  {
   "cell_type": "code",
   "execution_count": 12,
   "metadata": {},
   "outputs": [
    {
     "data": {
      "text/plain": [
       "0.05      200.0\n",
       "0.95    14600.0\n",
       "Name: Price, dtype: float64"
      ]
     },
     "execution_count": 12,
     "metadata": {},
     "output_type": "execute_result"
    }
   ],
   "source": [
    "autos['Price'].quantile([0.05, 0.95])"
   ]
  },
  {
   "cell_type": "code",
   "execution_count": 13,
   "metadata": {},
   "outputs": [],
   "source": [
    "autos = autos.query('200 <= Price <= 14600')"
   ]
  },
  {
   "cell_type": "code",
   "execution_count": 15,
   "metadata": {
    "scrolled": true
   },
   "outputs": [
    {
     "data": {
      "image/png": "[encoded data removed]",
      "text/plain": [
       "<Figure size 864x432 with 1 Axes>"
      ]
     },
     "metadata": {
      "needs_background": "light"
     },
     "output_type": "display_data"
    }
   ],
   "source": [
    "file = autos[(autos['RegistrationYear'] >= 1950) & (autos['RegistrationYear'] <= 2016)]\n",
    "column = 'RegistrationYear'\n",
    "title = 'Распределение возраста автомобилей (годы)'\n",
    "xlabel = 'Год выпуска'\n",
    "ylabel = 'Количество автомобилей'\n",
    "bins = 30\n",
    "\n",
    "plot_chart(file, chart_type='hist', column=column, title=title, xlabel=xlabel, ylabel=ylabel, bins=bins)"
   ]
  },
  {
   "cell_type": "code",
   "execution_count": 16,
   "metadata": {},
   "outputs": [
    {
     "data": {
      "image/png": "[encoded data removed]",
      "text/plain": [
       "<Figure size 864x432 with 1 Axes>"
      ]
     },
     "metadata": {
      "needs_background": "light"
     },
     "output_type": "display_data"
    }
   ],
   "source": [
    "fig, axes = plt.subplots(figsize=(12, 6))\n",
    "autos.boxplot(column=['RegistrationYear'], vert=False, patch_artist=True, \n",
    "              boxprops=dict(facecolor='skyblue', edgecolor='black'), \n",
    "              grid=False, fontsize=12, color='black')\n",
    "\n",
    "plt.suptitle('Диаграмма размаха возраста автомобилей', fontsize=16, fontweight=\"bold\", color='black')\n",
    "plt.xlabel('Год выпуска', fontsize=14, fontweight='bold', color='black')\n",
    "plt.ylabel('Автомобили', fontsize=14, fontweight='bold', color='black')\n",
    "\n",
    "plt.tight_layout()\n",
    "plt.show()"
   ]
  },
  {
   "cell_type": "markdown",
   "metadata": {},
   "source": [
    "Наблюдаются выбросы в данных о возрасте автомобилей, поэтому мы исключим значения ниже 5-го и выше 95-го перцентилей."
   ]
  },
  {
   "cell_type": "code",
   "execution_count": 17,
   "metadata": {},
   "outputs": [
    {
     "data": {
      "text/plain": [
       "0.05    1993.0\n",
       "0.95    2016.0\n",
       "Name: RegistrationYear, dtype: float64"
      ]
     },
     "execution_count": 17,
     "metadata": {},
     "output_type": "execute_result"
    }
   ],
   "source": [
    "autos['RegistrationYear'].quantile([0.05, 0.95])"
   ]
  },
  {
   "cell_type": "code",
   "execution_count": 18,
   "metadata": {},
   "outputs": [],
   "source": [
    "autos = autos.query('1970 <= RegistrationYear <= 2016')"
   ]
  },
  {
   "cell_type": "code",
   "execution_count": 19,
   "metadata": {},
   "outputs": [
    {
     "name": "stdout",
     "output_type": "stream",
     "text": [
      "nan\n",
      "suv\n",
      "small\n",
      "sedan\n",
      "convertible\n",
      "bus\n",
      "wagon\n",
      "coupe\n",
      "other\n"
     ]
    }
   ],
   "source": [
    "print(*autos['VehicleType'].unique(), sep='\\n')"
   ]
  },
  {
   "cell_type": "code",
   "execution_count": 20,
   "metadata": {},
   "outputs": [],
   "source": [
    "autos['VehicleType'] = autos['VehicleType'].fillna('unknown')"
   ]
  },
  {
   "cell_type": "code",
   "execution_count": 21,
   "metadata": {},
   "outputs": [
    {
     "name": "stdout",
     "output_type": "stream",
     "text": [
      "unknown\n",
      "suv\n",
      "small\n",
      "sedan\n",
      "convertible\n",
      "bus\n",
      "wagon\n",
      "coupe\n",
      "other\n"
     ]
    }
   ],
   "source": [
    "print(*autos['VehicleType'].unique(), sep='\\n')"
   ]
  },
  {
   "cell_type": "markdown",
   "metadata": {},
   "source": [
    "Обнаружены пропуски в данных о типе кузова автомобилей (VehicleType). Пропуски были заполнены категорией «unknown», чтобы избежать искажения данных, учитывая различия в типах кузова и ценах для автомобилей одного бренда."
   ]
  },
  {
   "cell_type": "code",
   "execution_count": 22,
   "metadata": {},
   "outputs": [
    {
     "name": "stdout",
     "output_type": "stream",
     "text": [
      "volkswagen  -  sedan\n",
      "jeep  -  suv\n",
      "skoda  -  wagon\n",
      "bmw  -  sedan\n",
      "peugeot  -  small\n",
      "ford  -  small\n",
      "mazda  -  sedan\n",
      "renault  -  small\n",
      "mercedes_benz  -  sedan\n",
      "seat  -  small\n",
      "honda  -  sedan\n",
      "fiat  -  small\n",
      "opel  -  small\n",
      "mini  -  small\n",
      "smart  -  small\n",
      "hyundai  -  small\n",
      "audi  -  sedan\n",
      "nissan  -  small\n",
      "alfa_romeo  -  sedan\n",
      "subaru  -  wagon\n",
      "volvo  -  wagon\n",
      "mitsubishi  -  sedan\n",
      "kia  -  small\n",
      "suzuki  -  small\n",
      "lancia  -  small\n",
      "citroen  -  small\n",
      "sonstige_autos  -  unknown\n",
      "toyota  -  small\n",
      "chevrolet  -  small\n",
      "dacia  -  wagon\n",
      "daihatsu  -  small\n",
      "chrysler  -  bus\n",
      "jaguar  -  sedan\n",
      "daewoo  -  small\n",
      "rover  -  sedan\n",
      "porsche  -  convertible\n",
      "saab  -  sedan\n",
      "trabant  -  sedan\n",
      "land_rover  -  suv\n",
      "lada  -  suv\n"
     ]
    }
   ],
   "source": [
    "spisok = autos['Brand'].unique()\n",
    "for element in spisok:\n",
    "    most_common_type = autos.loc[autos['Brand'] == element, 'VehicleType'].mode()[0]\n",
    "    print(element, ' - ', most_common_type)\n",
    "    autos.loc[(autos['Brand'] == element) & (autos['VehicleType'].isna()), 'VehicleType'] = most_common_type"
   ]
  },
  {
   "cell_type": "code",
   "execution_count": 23,
   "metadata": {},
   "outputs": [
    {
     "data": {
      "text/plain": [
       "0"
      ]
     },
     "execution_count": 23,
     "metadata": {},
     "output_type": "execute_result"
    }
   ],
   "source": [
    "autos['VehicleType'].isnull().sum()"
   ]
  },
  {
   "cell_type": "code",
   "execution_count": 24,
   "metadata": {},
   "outputs": [
    {
     "data": {
      "text/html": [
       "<div>\n",
       "<style scoped>\n",
       "    .dataframe tbody tr th:only-of-type {\n",
       "        vertical-align: middle;\n",
       "    }\n",
       "\n",
       "    .dataframe tbody tr th {\n",
       "        vertical-align: top;\n",
       "    }\n",
       "\n",
       "    .dataframe thead th {\n",
       "        text-align: right;\n",
       "    }\n",
       "</style>\n",
       "<table border=\"1\" class=\"dataframe\">\n",
       "  <thead>\n",
       "    <tr style=\"text-align: right;\">\n",
       "      <th></th>\n",
       "      <th>DateCrawled</th>\n",
       "      <th>Price</th>\n",
       "      <th>VehicleType</th>\n",
       "      <th>RegistrationYear</th>\n",
       "      <th>Gearbox</th>\n",
       "      <th>Power</th>\n",
       "      <th>Model</th>\n",
       "      <th>Kilometer</th>\n",
       "      <th>RegistrationMonth</th>\n",
       "      <th>FuelType</th>\n",
       "      <th>Brand</th>\n",
       "      <th>Repaired</th>\n",
       "      <th>DateCreated</th>\n",
       "      <th>NumberOfPictures</th>\n",
       "      <th>PostalCode</th>\n",
       "      <th>LastSeen</th>\n",
       "    </tr>\n",
       "  </thead>\n",
       "  <tbody>\n",
       "    <tr>\n",
       "      <th>306</th>\n",
       "      <td>2016-03-21 14:38:37</td>\n",
       "      <td>200</td>\n",
       "      <td>unknown</td>\n",
       "      <td>2009</td>\n",
       "      <td>NaN</td>\n",
       "      <td>0</td>\n",
       "      <td>NaN</td>\n",
       "      <td>10000</td>\n",
       "      <td>0</td>\n",
       "      <td>NaN</td>\n",
       "      <td>sonstige_autos</td>\n",
       "      <td>NaN</td>\n",
       "      <td>2016-03-21 00:00:00</td>\n",
       "      <td>0</td>\n",
       "      <td>6493</td>\n",
       "      <td>2016-03-24 02:47:34</td>\n",
       "    </tr>\n",
       "    <tr>\n",
       "      <th>431</th>\n",
       "      <td>2016-03-20 20:45:27</td>\n",
       "      <td>3950</td>\n",
       "      <td>small</td>\n",
       "      <td>2004</td>\n",
       "      <td>auto</td>\n",
       "      <td>5</td>\n",
       "      <td>NaN</td>\n",
       "      <td>70000</td>\n",
       "      <td>5</td>\n",
       "      <td>gasoline</td>\n",
       "      <td>sonstige_autos</td>\n",
       "      <td>no</td>\n",
       "      <td>2016-03-20 00:00:00</td>\n",
       "      <td>0</td>\n",
       "      <td>90562</td>\n",
       "      <td>2016-04-03 04:17:08</td>\n",
       "    </tr>\n",
       "    <tr>\n",
       "      <th>661</th>\n",
       "      <td>2016-04-01 15:56:27</td>\n",
       "      <td>9900</td>\n",
       "      <td>suv</td>\n",
       "      <td>2000</td>\n",
       "      <td>auto</td>\n",
       "      <td>250</td>\n",
       "      <td>NaN</td>\n",
       "      <td>150000</td>\n",
       "      <td>4</td>\n",
       "      <td>lpg</td>\n",
       "      <td>sonstige_autos</td>\n",
       "      <td>no</td>\n",
       "      <td>2016-04-01 00:00:00</td>\n",
       "      <td>0</td>\n",
       "      <td>17309</td>\n",
       "      <td>2016-04-07 14:56:03</td>\n",
       "    </tr>\n",
       "    <tr>\n",
       "      <th>700</th>\n",
       "      <td>2016-03-30 21:37:21</td>\n",
       "      <td>6999</td>\n",
       "      <td>sedan</td>\n",
       "      <td>2010</td>\n",
       "      <td>auto</td>\n",
       "      <td>186</td>\n",
       "      <td>NaN</td>\n",
       "      <td>125000</td>\n",
       "      <td>4</td>\n",
       "      <td>petrol</td>\n",
       "      <td>sonstige_autos</td>\n",
       "      <td>no</td>\n",
       "      <td>2016-03-30 00:00:00</td>\n",
       "      <td>0</td>\n",
       "      <td>81929</td>\n",
       "      <td>2016-04-05 11:18:33</td>\n",
       "    </tr>\n",
       "    <tr>\n",
       "      <th>985</th>\n",
       "      <td>2016-03-15 16:37:22</td>\n",
       "      <td>500</td>\n",
       "      <td>sedan</td>\n",
       "      <td>2010</td>\n",
       "      <td>manual</td>\n",
       "      <td>101</td>\n",
       "      <td>NaN</td>\n",
       "      <td>70000</td>\n",
       "      <td>1</td>\n",
       "      <td>petrol</td>\n",
       "      <td>sonstige_autos</td>\n",
       "      <td>yes</td>\n",
       "      <td>2016-03-15 00:00:00</td>\n",
       "      <td>0</td>\n",
       "      <td>76829</td>\n",
       "      <td>2016-03-21 14:15:21</td>\n",
       "    </tr>\n",
       "    <tr>\n",
       "      <th>...</th>\n",
       "      <td>...</td>\n",
       "      <td>...</td>\n",
       "      <td>...</td>\n",
       "      <td>...</td>\n",
       "      <td>...</td>\n",
       "      <td>...</td>\n",
       "      <td>...</td>\n",
       "      <td>...</td>\n",
       "      <td>...</td>\n",
       "      <td>...</td>\n",
       "      <td>...</td>\n",
       "      <td>...</td>\n",
       "      <td>...</td>\n",
       "      <td>...</td>\n",
       "      <td>...</td>\n",
       "      <td>...</td>\n",
       "    </tr>\n",
       "    <tr>\n",
       "      <th>353892</th>\n",
       "      <td>2016-03-06 11:42:12</td>\n",
       "      <td>7900</td>\n",
       "      <td>bus</td>\n",
       "      <td>2009</td>\n",
       "      <td>NaN</td>\n",
       "      <td>140</td>\n",
       "      <td>NaN</td>\n",
       "      <td>125000</td>\n",
       "      <td>7</td>\n",
       "      <td>gasoline</td>\n",
       "      <td>sonstige_autos</td>\n",
       "      <td>no</td>\n",
       "      <td>2016-03-06 00:00:00</td>\n",
       "      <td>0</td>\n",
       "      <td>97256</td>\n",
       "      <td>2016-03-26 16:16:02</td>\n",
       "    </tr>\n",
       "    <tr>\n",
       "      <th>354062</th>\n",
       "      <td>2016-03-19 11:25:16</td>\n",
       "      <td>6000</td>\n",
       "      <td>small</td>\n",
       "      <td>2008</td>\n",
       "      <td>manual</td>\n",
       "      <td>155</td>\n",
       "      <td>NaN</td>\n",
       "      <td>150000</td>\n",
       "      <td>5</td>\n",
       "      <td>petrol</td>\n",
       "      <td>sonstige_autos</td>\n",
       "      <td>no</td>\n",
       "      <td>2016-03-19 00:00:00</td>\n",
       "      <td>0</td>\n",
       "      <td>63069</td>\n",
       "      <td>2016-04-07 00:46:42</td>\n",
       "    </tr>\n",
       "    <tr>\n",
       "      <th>354073</th>\n",
       "      <td>2016-03-19 14:53:26</td>\n",
       "      <td>1750</td>\n",
       "      <td>unknown</td>\n",
       "      <td>1995</td>\n",
       "      <td>NaN</td>\n",
       "      <td>0</td>\n",
       "      <td>NaN</td>\n",
       "      <td>100000</td>\n",
       "      <td>12</td>\n",
       "      <td>NaN</td>\n",
       "      <td>sonstige_autos</td>\n",
       "      <td>NaN</td>\n",
       "      <td>2016-03-19 00:00:00</td>\n",
       "      <td>0</td>\n",
       "      <td>6188</td>\n",
       "      <td>2016-04-01 01:47:17</td>\n",
       "    </tr>\n",
       "    <tr>\n",
       "      <th>354321</th>\n",
       "      <td>2016-03-15 13:52:34</td>\n",
       "      <td>9400</td>\n",
       "      <td>wagon</td>\n",
       "      <td>2007</td>\n",
       "      <td>manual</td>\n",
       "      <td>200</td>\n",
       "      <td>NaN</td>\n",
       "      <td>150000</td>\n",
       "      <td>4</td>\n",
       "      <td>gasoline</td>\n",
       "      <td>sonstige_autos</td>\n",
       "      <td>yes</td>\n",
       "      <td>2016-03-15 00:00:00</td>\n",
       "      <td>0</td>\n",
       "      <td>91186</td>\n",
       "      <td>2016-03-17 08:16:25</td>\n",
       "    </tr>\n",
       "    <tr>\n",
       "      <th>354365</th>\n",
       "      <td>2016-03-14 17:48:27</td>\n",
       "      <td>2200</td>\n",
       "      <td>unknown</td>\n",
       "      <td>2005</td>\n",
       "      <td>NaN</td>\n",
       "      <td>0</td>\n",
       "      <td>NaN</td>\n",
       "      <td>20000</td>\n",
       "      <td>1</td>\n",
       "      <td>NaN</td>\n",
       "      <td>sonstige_autos</td>\n",
       "      <td>NaN</td>\n",
       "      <td>2016-03-14 00:00:00</td>\n",
       "      <td>0</td>\n",
       "      <td>39576</td>\n",
       "      <td>2016-04-06 00:46:52</td>\n",
       "    </tr>\n",
       "  </tbody>\n",
       "</table>\n",
       "<p>2029 rows × 16 columns</p>\n",
       "</div>"
      ],
      "text/plain": [
       "                DateCrawled  Price VehicleType  RegistrationYear Gearbox  \\\n",
       "306     2016-03-21 14:38:37    200     unknown              2009     NaN   \n",
       "431     2016-03-20 20:45:27   3950       small              2004    auto   \n",
       "661     2016-04-01 15:56:27   9900         suv              2000    auto   \n",
       "700     2016-03-30 21:37:21   6999       sedan              2010    auto   \n",
       "985     2016-03-15 16:37:22    500       sedan              2010  manual   \n",
       "...                     ...    ...         ...               ...     ...   \n",
       "353892  2016-03-06 11:42:12   7900         bus              2009     NaN   \n",
       "354062  2016-03-19 11:25:16   6000       small              2008  manual   \n",
       "354073  2016-03-19 14:53:26   1750     unknown              1995     NaN   \n",
       "354321  2016-03-15 13:52:34   9400       wagon              2007  manual   \n",
       "354365  2016-03-14 17:48:27   2200     unknown              2005     NaN   \n",
       "\n",
       "        Power Model  Kilometer  RegistrationMonth  FuelType           Brand  \\\n",
       "306         0   NaN      10000                  0       NaN  sonstige_autos   \n",
       "431         5   NaN      70000                  5  gasoline  sonstige_autos   \n",
       "661       250   NaN     150000                  4       lpg  sonstige_autos   \n",
       "700       186   NaN     125000                  4    petrol  sonstige_autos   \n",
       "985       101   NaN      70000                  1    petrol  sonstige_autos   \n",
       "...       ...   ...        ...                ...       ...             ...   \n",
       "353892    140   NaN     125000                  7  gasoline  sonstige_autos   \n",
       "354062    155   NaN     150000                  5    petrol  sonstige_autos   \n",
       "354073      0   NaN     100000                 12       NaN  sonstige_autos   \n",
       "354321    200   NaN     150000                  4  gasoline  sonstige_autos   \n",
       "354365      0   NaN      20000                  1       NaN  sonstige_autos   \n",
       "\n",
       "       Repaired          DateCreated  NumberOfPictures  PostalCode  \\\n",
       "306         NaN  2016-03-21 00:00:00                 0        6493   \n",
       "431          no  2016-03-20 00:00:00                 0       90562   \n",
       "661          no  2016-04-01 00:00:00                 0       17309   \n",
       "700          no  2016-03-30 00:00:00                 0       81929   \n",
       "985         yes  2016-03-15 00:00:00                 0       76829   \n",
       "...         ...                  ...               ...         ...   \n",
       "353892       no  2016-03-06 00:00:00                 0       97256   \n",
       "354062       no  2016-03-19 00:00:00                 0       63069   \n",
       "354073      NaN  2016-03-19 00:00:00                 0        6188   \n",
       "354321      yes  2016-03-15 00:00:00                 0       91186   \n",
       "354365      NaN  2016-03-14 00:00:00                 0       39576   \n",
       "\n",
       "                   LastSeen  \n",
       "306     2016-03-24 02:47:34  \n",
       "431     2016-04-03 04:17:08  \n",
       "661     2016-04-07 14:56:03  \n",
       "700     2016-04-05 11:18:33  \n",
       "985     2016-03-21 14:15:21  \n",
       "...                     ...  \n",
       "353892  2016-03-26 16:16:02  \n",
       "354062  2016-04-07 00:46:42  \n",
       "354073  2016-04-01 01:47:17  \n",
       "354321  2016-03-17 08:16:25  \n",
       "354365  2016-04-06 00:46:52  \n",
       "\n",
       "[2029 rows x 16 columns]"
      ]
     },
     "metadata": {},
     "output_type": "display_data"
    }
   ],
   "source": [
    "display(autos.loc[autos['Brand'] == 'sonstige_autos'])"
   ]
  },
  {
   "cell_type": "code",
   "execution_count": 25,
   "metadata": {},
   "outputs": [
    {
     "name": "stdout",
     "output_type": "stream",
     "text": [
      "nan\n"
     ]
    }
   ],
   "source": [
    "df = autos.loc[autos['Brand'] == 'sonstige_autos']\n",
    "print(*df['Model'].unique(), sep='\\n')"
   ]
  },
  {
   "cell_type": "markdown",
   "metadata": {},
   "source": [
    "В данных для бренда Brand, где указано \"sonstige_autos\" (другие автомобили), отсутствует информация о модели автомобиля Model. Мы заполним это пустое значение меткой \"no_info\"."
   ]
  },
  {
   "cell_type": "code",
   "execution_count": 26,
   "metadata": {},
   "outputs": [],
   "source": [
    "autos.loc[autos['Brand'] == 'sonstige_autos', 'Model'] = 'no_info'"
   ]
  },
  {
   "cell_type": "code",
   "execution_count": 27,
   "metadata": {},
   "outputs": [],
   "source": [
    "autos['Model'] = autos['Model'].fillna('unknown')"
   ]
  },
  {
   "cell_type": "code",
   "execution_count": 28,
   "metadata": {},
   "outputs": [
    {
     "name": "stdout",
     "output_type": "stream",
     "text": [
      "golf\n",
      "grand\n",
      "fabia\n",
      "3er\n",
      "2_reihe\n",
      "c_max\n",
      "3_reihe\n",
      "passat\n",
      "polo\n",
      "twingo\n",
      "a_klasse\n",
      "scirocco\n",
      "5er\n",
      "arosa\n",
      "other\n",
      "civic\n",
      "transporter\n",
      "punto\n",
      "e_klasse\n",
      "clio\n",
      "kadett\n",
      "kangoo\n",
      "one\n",
      "fortwo\n",
      "1er\n",
      "b_klasse\n",
      "signum\n",
      "astra\n",
      "a8\n",
      "jetta\n",
      "fiesta\n",
      "c_klasse\n",
      "micra\n",
      "vito\n",
      "sprinter\n",
      "156\n",
      "unknown\n",
      "escort\n",
      "forester\n",
      "xc_reihe\n",
      "scenic\n",
      "a4\n",
      "ka\n",
      "a1\n",
      "insignia\n",
      "combo\n",
      "focus\n",
      "tt\n",
      "corsa\n",
      "a6\n",
      "jazz\n",
      "omega\n",
      "slk\n",
      "7er\n",
      "80\n",
      "147\n",
      "z_reihe\n",
      "sorento\n",
      "v40\n",
      "ibiza\n",
      "eos\n",
      "touran\n",
      "getz\n",
      "a3\n",
      "almera\n",
      "megane\n",
      "lupo\n",
      "r19\n",
      "caddy\n",
      "mondeo\n",
      "cordoba\n",
      "colt\n",
      "impreza\n",
      "vectra\n",
      "berlingo\n",
      "tiguan\n",
      "sharan\n",
      "6_reihe\n",
      "no_info\n",
      "c4\n",
      "panda\n",
      "up\n",
      "i_reihe\n",
      "ceed\n",
      "yeti\n",
      "octavia\n",
      "zafira\n",
      "mii\n",
      "rx_reihe\n",
      "modus\n",
      "fox\n",
      "matiz\n",
      "beetle\n",
      "c1\n",
      "rio\n",
      "logan\n",
      "spider\n",
      "cuore\n",
      "s_max\n",
      "a2\n",
      "c3\n",
      "1_reihe\n",
      "avensis\n",
      "viano\n",
      "roomster\n",
      "sl\n",
      "kaefer\n",
      "santa\n",
      "cooper\n",
      "leon\n",
      "4_reihe\n",
      "sportage\n",
      "laguna\n",
      "ptcruiser\n",
      "clk\n",
      "primera\n",
      "espace\n",
      "galaxy\n",
      "s_klasse\n",
      "159\n",
      "transit\n",
      "juke\n",
      "x_reihe\n",
      "qashqai\n",
      "carisma\n",
      "accord\n",
      "corolla\n",
      "lanos\n",
      "phaeton\n",
      "verso\n",
      "swift\n",
      "rav\n",
      "picanto\n",
      "boxster\n",
      "kalos\n",
      "stilo\n",
      "alhambra\n",
      "touareg\n",
      "roadster\n",
      "ypsilon\n",
      "galant\n",
      "justy\n",
      "90\n",
      "sirion\n",
      "crossfire\n",
      "agila\n",
      "duster\n",
      "v50\n",
      "mx_reihe\n",
      "500\n",
      "meriva\n",
      "c_reihe\n",
      "v_klasse\n",
      "m_klasse\n",
      "yaris\n",
      "c5\n",
      "aygo\n",
      "cc\n",
      "carnival\n",
      "fusion\n",
      "bora\n",
      "forfour\n",
      "a5\n",
      "100\n",
      "cl\n",
      "tigra\n",
      "300c\n",
      "cr_reihe\n",
      "spark\n",
      "v70\n",
      "5_reihe\n",
      "ducato\n",
      "s_type\n",
      "x_trail\n",
      "toledo\n",
      "altea\n",
      "voyager\n",
      "bravo\n",
      "antara\n",
      "tucson\n",
      "x_type\n",
      "citigo\n",
      "jimny\n",
      "wrangler\n",
      "lybra\n",
      "q7\n",
      "lancer\n",
      "captiva\n",
      "discovery\n",
      "freelander\n",
      "sandero\n",
      "note\n",
      "kuga\n",
      "seicento\n",
      "navara\n",
      "900\n",
      "cherokee\n",
      "defender\n",
      "legacy\n",
      "pajero\n",
      "auris\n",
      "cayenne\n",
      "c2\n",
      "niva\n",
      "s60\n",
      "clubman\n",
      "m_reihe\n",
      "nubira\n",
      "vivaro\n",
      "g_klasse\n",
      "lodgy\n",
      "850\n",
      "601\n",
      "superb\n",
      "serie_2\n",
      "calibra\n",
      "exeo\n",
      "charade\n",
      "croma\n",
      "outlander\n",
      "doblo\n",
      "musa\n",
      "6er\n",
      "move\n",
      "9000\n",
      "v60\n",
      "200\n",
      "145\n",
      "b_max\n",
      "cx_reihe\n",
      "mustang\n",
      "range_rover_sport\n",
      "aveo\n",
      "terios\n",
      "range_rover\n",
      "samara\n",
      "911\n",
      "rangerover\n",
      "q5\n",
      "range_rover_evoque\n",
      "materia\n",
      "delta\n",
      "glk\n",
      "kalina\n",
      "elefantino\n",
      "i3\n",
      "kappa\n",
      "amarok\n",
      "serie_3\n",
      "serie_1\n",
      "gl\n",
      "q3\n"
     ]
    }
   ],
   "source": [
    "print(*autos['Model'].unique(), sep='\\n')"
   ]
  },
  {
   "cell_type": "code",
   "execution_count": 29,
   "metadata": {},
   "outputs": [
    {
     "name": "stdout",
     "output_type": "stream",
     "text": [
      "volkswagen        65791\n",
      "opel              34907\n",
      "bmw               31284\n",
      "mercedes_benz     27277\n",
      "audi              24535\n",
      "ford              21796\n",
      "renault           15694\n",
      "peugeot           10065\n",
      "fiat               8462\n",
      "seat               6019\n",
      "mazda              5032\n",
      "skoda              4935\n",
      "smart              4918\n",
      "citroen            4605\n",
      "nissan             4244\n",
      "toyota             4231\n",
      "hyundai            3178\n",
      "volvo              2826\n",
      "mitsubishi         2673\n",
      "mini               2556\n",
      "honda              2518\n",
      "kia                2127\n",
      "suzuki             2111\n",
      "alfa_romeo         2045\n",
      "sonstige_autos     2029\n",
      "chevrolet          1520\n",
      "chrysler           1257\n",
      "dacia               845\n",
      "daihatsu            704\n",
      "subaru              652\n",
      "jeep                540\n",
      "saab                485\n",
      "daewoo              484\n",
      "porsche             434\n",
      "land_rover          421\n",
      "jaguar              416\n",
      "rover               414\n",
      "lancia              411\n",
      "trabant             400\n",
      "lada                205\n",
      "Name: Brand, dtype: int64\n"
     ]
    }
   ],
   "source": [
    "brand_counts = autos['Brand'].value_counts()\n",
    "\n",
    "print(brand_counts)"
   ]
  },
  {
   "cell_type": "markdown",
   "metadata": {},
   "source": [
    "Обнаружены пропуски в данных о моделях автомобилей (Model). Пропуски были заполнены категорией «unknown», чтобы избежать искажения данных, учитывая разнообразие моделей для каждого бренда"
   ]
  },
  {
   "cell_type": "code",
   "execution_count": 30,
   "metadata": {},
   "outputs": [
    {
     "name": "stdout",
     "output_type": "stream",
     "text": [
      "volkswagen - golf\n",
      "jeep - grand\n",
      "skoda - fabia\n",
      "bmw - 3er\n",
      "peugeot - 2_reihe\n",
      "ford - focus\n",
      "mazda - 6_reihe\n",
      "renault - twingo\n",
      "mercedes_benz - c_klasse\n",
      "seat - ibiza\n",
      "honda - civic\n",
      "fiat - punto\n",
      "opel - corsa\n",
      "mini - cooper\n",
      "smart - fortwo\n",
      "hyundai - i_reihe\n",
      "audi - a4\n",
      "nissan - micra\n",
      "alfa_romeo - 156\n",
      "subaru - impreza\n",
      "volvo - v40\n",
      "mitsubishi - colt\n",
      "kia - other\n",
      "suzuki - other\n",
      "lancia - ypsilon\n",
      "citroen - other\n",
      "sonstige_autos - no_info\n",
      "toyota - yaris\n",
      "chevrolet - other\n",
      "dacia - logan\n",
      "daihatsu - cuore\n",
      "chrysler - other\n",
      "jaguar - x_type\n",
      "daewoo - matiz\n",
      "rover - other\n",
      "porsche - cayenne\n",
      "saab - other\n",
      "trabant - 601\n",
      "land_rover - freelander\n",
      "lada - niva\n"
     ]
    }
   ],
   "source": [
    "for element in autos['Brand'].unique():\n",
    "    most_common_model = autos.loc[autos['Brand'] == element, 'Model'].mode()[0]\n",
    "    print(f'{element} - {most_common_model}')\n",
    "    autos.loc[(autos['Brand'] == element) & (autos['Model'].isna()), 'Model'] = most_common_model"
   ]
  },
  {
   "cell_type": "code",
   "execution_count": 31,
   "metadata": {},
   "outputs": [
    {
     "data": {
      "text/plain": [
       "0"
      ]
     },
     "execution_count": 31,
     "metadata": {},
     "output_type": "execute_result"
    }
   ],
   "source": [
    "autos['Model'].isnull().sum()"
   ]
  },
  {
   "cell_type": "code",
   "execution_count": 32,
   "metadata": {},
   "outputs": [
    {
     "name": "stdout",
     "output_type": "stream",
     "text": [
      "manual\n",
      "auto\n",
      "nan\n"
     ]
    }
   ],
   "source": [
    "print(*autos['Gearbox'].unique(), sep='\\n')"
   ]
  },
  {
   "cell_type": "markdown",
   "metadata": {},
   "source": [
    "В данных о типе коробки передач (Gearbox) имеются пропуски. Эти значения мы заполним меткой \"no_info\"."
   ]
  },
  {
   "cell_type": "code",
   "execution_count": 33,
   "metadata": {},
   "outputs": [],
   "source": [
    "autos['Gearbox'] = autos['Gearbox'].fillna('no_info')"
   ]
  },
  {
   "cell_type": "code",
   "execution_count": 34,
   "metadata": {},
   "outputs": [
    {
     "name": "stdout",
     "output_type": "stream",
     "text": [
      "petrol\n",
      "gasoline\n",
      "nan\n",
      "lpg\n",
      "other\n",
      "hybrid\n",
      "cng\n",
      "electric\n"
     ]
    }
   ],
   "source": [
    "print(*autos['FuelType'].unique(), sep='\\n')"
   ]
  },
  {
   "cell_type": "markdown",
   "metadata": {},
   "source": [
    "В данных о типе топлива (FuelType) имеются пропуски. Эти значения будут заменены на \"no_info\"."
   ]
  },
  {
   "cell_type": "code",
   "execution_count": 35,
   "metadata": {},
   "outputs": [],
   "source": [
    "autos['FuelType'] = autos['FuelType'].fillna('no_info')"
   ]
  },
  {
   "cell_type": "code",
   "execution_count": 36,
   "metadata": {},
   "outputs": [
    {
     "data": {
      "text/plain": [
       "DateCrawled              0\n",
       "Price                    0\n",
       "VehicleType              0\n",
       "RegistrationYear         0\n",
       "Gearbox                  0\n",
       "Power                    0\n",
       "Model                    0\n",
       "Kilometer                0\n",
       "RegistrationMonth        0\n",
       "FuelType                 0\n",
       "Brand                    0\n",
       "Repaired             55148\n",
       "DateCreated              0\n",
       "NumberOfPictures         0\n",
       "PostalCode               0\n",
       "LastSeen                 0\n",
       "dtype: int64"
      ]
     },
     "execution_count": 36,
     "metadata": {},
     "output_type": "execute_result"
    }
   ],
   "source": [
    "autos.isna().sum()"
   ]
  },
  {
   "cell_type": "code",
   "execution_count": 37,
   "metadata": {},
   "outputs": [
    {
     "name": "stdout",
     "output_type": "stream",
     "text": [
      "nan\n",
      "no\n",
      "yes\n"
     ]
    }
   ],
   "source": [
    "print(*autos['Repaired'].unique(), sep='\\n')"
   ]
  },
  {
   "cell_type": "markdown",
   "metadata": {},
   "source": [
    "В данных о ремонте автомобиля (Repaired) есть пропуски. Эти значения мы заполним меткой \"no_info\"."
   ]
  },
  {
   "cell_type": "code",
   "execution_count": 38,
   "metadata": {},
   "outputs": [
    {
     "name": "stdout",
     "output_type": "stream",
     "text": [
      "no_info\n",
      "no\n",
      "yes\n"
     ]
    }
   ],
   "source": [
    "autos['Repaired'] = autos['Repaired'].fillna('no_info')\n",
    "print(*autos['Repaired'].unique(), sep='\\n')"
   ]
  },
  {
   "cell_type": "code",
   "execution_count": 39,
   "metadata": {},
   "outputs": [
    {
     "data": {
      "image/png": "[encoded data removed]",
      "text/plain": [
       "<Figure size 720x432 with 1 Axes>"
      ]
     },
     "metadata": {
      "needs_background": "light"
     },
     "output_type": "display_data"
    }
   ],
   "source": [
    "file = autos\n",
    "column = 'Repaired'\n",
    "title = 'Соотношение количества автомобилей с информацией о ремонте'\n",
    "xlabel = 'Доля автомобилей, %'\n",
    "ylabel = 'Данные о ремонте'\n",
    "\n",
    "file[column].fillna('no_info', inplace=True)\n",
    "repaired_counts = file[column].value_counts()\n",
    "repaired_percentage = repaired_counts / repaired_counts.sum() * 100\n",
    "\n",
    "ax = repaired_counts.plot(kind='bar', color='skyblue', figsize=(10, 6))\n",
    "\n",
    "for i, v in enumerate(repaired_counts):\n",
    "    ax.text(i, v + 0.5, f'{repaired_percentage[i]:.1f}%', ha='center', fontsize=12)\n",
    "\n",
    "ax.set_title(title, fontsize=16, fontweight=\"bold\")\n",
    "ax.set_xlabel(xlabel, fontsize=14)\n",
    "ax.set_ylabel(ylabel, fontsize=14)\n",
    "\n",
    "plt.tight_layout()\n",
    "plt.show()"
   ]
  },
  {
   "cell_type": "code",
   "execution_count": 40,
   "metadata": {
    "scrolled": true
   },
   "outputs": [
    {
     "data": {
      "text/plain": [
       "DateCrawled          0\n",
       "Price                0\n",
       "VehicleType          0\n",
       "RegistrationYear     0\n",
       "Gearbox              0\n",
       "Power                0\n",
       "Model                0\n",
       "Kilometer            0\n",
       "RegistrationMonth    0\n",
       "FuelType             0\n",
       "Brand                0\n",
       "Repaired             0\n",
       "DateCreated          0\n",
       "NumberOfPictures     0\n",
       "PostalCode           0\n",
       "LastSeen             0\n",
       "dtype: int64"
      ]
     },
     "execution_count": 40,
     "metadata": {},
     "output_type": "execute_result"
    }
   ],
   "source": [
    "autos.isna().sum()"
   ]
  },
  {
   "cell_type": "code",
   "execution_count": 41,
   "metadata": {},
   "outputs": [
    {
     "data": {
      "text/plain": [
       "4"
      ]
     },
     "execution_count": 41,
     "metadata": {},
     "output_type": "execute_result"
    }
   ],
   "source": [
    "autos.duplicated().sum()"
   ]
  },
  {
   "cell_type": "code",
   "execution_count": 42,
   "metadata": {},
   "outputs": [
    {
     "data": {
      "text/html": [
       "<div>\n",
       "<style scoped>\n",
       "    .dataframe tbody tr th:only-of-type {\n",
       "        vertical-align: middle;\n",
       "    }\n",
       "\n",
       "    .dataframe tbody tr th {\n",
       "        vertical-align: top;\n",
       "    }\n",
       "\n",
       "    .dataframe thead th {\n",
       "        text-align: right;\n",
       "    }\n",
       "</style>\n",
       "<table border=\"1\" class=\"dataframe\">\n",
       "  <thead>\n",
       "    <tr style=\"text-align: right;\">\n",
       "      <th></th>\n",
       "      <th>DateCrawled</th>\n",
       "      <th>Price</th>\n",
       "      <th>VehicleType</th>\n",
       "      <th>RegistrationYear</th>\n",
       "      <th>Gearbox</th>\n",
       "      <th>Power</th>\n",
       "      <th>Model</th>\n",
       "      <th>Kilometer</th>\n",
       "      <th>RegistrationMonth</th>\n",
       "      <th>FuelType</th>\n",
       "      <th>Brand</th>\n",
       "      <th>Repaired</th>\n",
       "      <th>DateCreated</th>\n",
       "      <th>NumberOfPictures</th>\n",
       "      <th>PostalCode</th>\n",
       "      <th>LastSeen</th>\n",
       "    </tr>\n",
       "  </thead>\n",
       "  <tbody>\n",
       "    <tr>\n",
       "      <th>171088</th>\n",
       "      <td>2016-03-08 18:42:48</td>\n",
       "      <td>1799</td>\n",
       "      <td>coupe</td>\n",
       "      <td>1999</td>\n",
       "      <td>auto</td>\n",
       "      <td>193</td>\n",
       "      <td>clk</td>\n",
       "      <td>20000</td>\n",
       "      <td>7</td>\n",
       "      <td>petrol</td>\n",
       "      <td>mercedes_benz</td>\n",
       "      <td>no</td>\n",
       "      <td>2016-03-08 00:00:00</td>\n",
       "      <td>0</td>\n",
       "      <td>89518</td>\n",
       "      <td>2016-03-09 09:46:57</td>\n",
       "    </tr>\n",
       "    <tr>\n",
       "      <th>231258</th>\n",
       "      <td>2016-03-28 00:56:10</td>\n",
       "      <td>1000</td>\n",
       "      <td>small</td>\n",
       "      <td>2002</td>\n",
       "      <td>manual</td>\n",
       "      <td>83</td>\n",
       "      <td>other</td>\n",
       "      <td>150000</td>\n",
       "      <td>1</td>\n",
       "      <td>petrol</td>\n",
       "      <td>suzuki</td>\n",
       "      <td>no</td>\n",
       "      <td>2016-03-28 00:00:00</td>\n",
       "      <td>0</td>\n",
       "      <td>66589</td>\n",
       "      <td>2016-03-28 08:46:21</td>\n",
       "    </tr>\n",
       "    <tr>\n",
       "      <th>258109</th>\n",
       "      <td>2016-04-03 09:01:15</td>\n",
       "      <td>4699</td>\n",
       "      <td>coupe</td>\n",
       "      <td>2003</td>\n",
       "      <td>auto</td>\n",
       "      <td>218</td>\n",
       "      <td>clk</td>\n",
       "      <td>125000</td>\n",
       "      <td>6</td>\n",
       "      <td>petrol</td>\n",
       "      <td>mercedes_benz</td>\n",
       "      <td>yes</td>\n",
       "      <td>2016-04-03 00:00:00</td>\n",
       "      <td>0</td>\n",
       "      <td>75196</td>\n",
       "      <td>2016-04-07 09:44:54</td>\n",
       "    </tr>\n",
       "    <tr>\n",
       "      <th>325651</th>\n",
       "      <td>2016-03-18 18:46:15</td>\n",
       "      <td>1999</td>\n",
       "      <td>wagon</td>\n",
       "      <td>2001</td>\n",
       "      <td>manual</td>\n",
       "      <td>131</td>\n",
       "      <td>passat</td>\n",
       "      <td>150000</td>\n",
       "      <td>7</td>\n",
       "      <td>gasoline</td>\n",
       "      <td>volkswagen</td>\n",
       "      <td>no</td>\n",
       "      <td>2016-03-18 00:00:00</td>\n",
       "      <td>0</td>\n",
       "      <td>36391</td>\n",
       "      <td>2016-03-18 18:46:15</td>\n",
       "    </tr>\n",
       "  </tbody>\n",
       "</table>\n",
       "</div>"
      ],
      "text/plain": [
       "                DateCrawled  Price VehicleType  RegistrationYear Gearbox  \\\n",
       "171088  2016-03-08 18:42:48   1799       coupe              1999    auto   \n",
       "231258  2016-03-28 00:56:10   1000       small              2002  manual   \n",
       "258109  2016-04-03 09:01:15   4699       coupe              2003    auto   \n",
       "325651  2016-03-18 18:46:15   1999       wagon              2001  manual   \n",
       "\n",
       "        Power   Model  Kilometer  RegistrationMonth  FuelType          Brand  \\\n",
       "171088    193     clk      20000                  7    petrol  mercedes_benz   \n",
       "231258     83   other     150000                  1    petrol         suzuki   \n",
       "258109    218     clk     125000                  6    petrol  mercedes_benz   \n",
       "325651    131  passat     150000                  7  gasoline     volkswagen   \n",
       "\n",
       "       Repaired          DateCreated  NumberOfPictures  PostalCode  \\\n",
       "171088       no  2016-03-08 00:00:00                 0       89518   \n",
       "231258       no  2016-03-28 00:00:00                 0       66589   \n",
       "258109      yes  2016-04-03 00:00:00                 0       75196   \n",
       "325651       no  2016-03-18 00:00:00                 0       36391   \n",
       "\n",
       "                   LastSeen  \n",
       "171088  2016-03-09 09:46:57  \n",
       "231258  2016-03-28 08:46:21  \n",
       "258109  2016-04-07 09:44:54  \n",
       "325651  2016-03-18 18:46:15  "
      ]
     },
     "execution_count": 42,
     "metadata": {},
     "output_type": "execute_result"
    }
   ],
   "source": [
    "autos[autos.duplicated()]"
   ]
  },
  {
   "cell_type": "markdown",
   "metadata": {},
   "source": [
    "Найдены дубликаты в данных. Удалим их."
   ]
  },
  {
   "cell_type": "code",
   "execution_count": 43,
   "metadata": {},
   "outputs": [
    {
     "data": {
      "text/plain": [
       "0"
      ]
     },
     "execution_count": 43,
     "metadata": {},
     "output_type": "execute_result"
    }
   ],
   "source": [
    "autos = autos.drop_duplicates()\n",
    "autos.duplicated().sum()"
   ]
  },
  {
   "cell_type": "code",
   "execution_count": 47,
   "metadata": {},
   "outputs": [
    {
     "data": {
      "image/png": "[encoded data removed]",
      "text/plain": [
       "<Figure size 864x432 with 1 Axes>"
      ]
     },
     "metadata": {
      "needs_background": "light"
     },
     "output_type": "display_data"
    }
   ],
   "source": [
    "#Заменю ограничение по мощности, устанавлю нижнюю границу в 40 л.с.\n",
    "autos = autos.query('40 <= Power <= 600')  # 600 л.с. как верхняя граница для внедорожников\n",
    "\n",
    "#Диаграмма размаха мощности автомобилей.\n",
    "fig, axes = plt.subplots(figsize=(12, 6))\n",
    "autos.boxplot(column=['Power'], vert=False, patch_artist=True, boxprops=dict(facecolor=\"skyblue\"), grid=False, fontsize=14)\n",
    "plt.suptitle(f'Диаграмма размаха мощности автомобилей', fontsize=16, fontweight=\"bold\")\n",
    "plt.tight_layout()\n",
    "plt.show()"
   ]
  },
  {
   "cell_type": "code",
   "execution_count": 48,
   "metadata": {},
   "outputs": [
    {
     "data": {
      "text/plain": [
       "count    274247.000000\n",
       "mean        117.693718\n",
       "std          50.158042\n",
       "min          40.000000\n",
       "25%          75.000000\n",
       "50%         109.000000\n",
       "75%         143.000000\n",
       "max         600.000000\n",
       "Name: Power, dtype: float64"
      ]
     },
     "execution_count": 48,
     "metadata": {},
     "output_type": "execute_result"
    }
   ],
   "source": [
    "autos['Power'].describe()"
   ]
  },
  {
   "cell_type": "code",
   "execution_count": 49,
   "metadata": {},
   "outputs": [
    {
     "data": {
      "image/png": "[encoded data removed]",
      "text/plain": [
       "<Figure size 864x432 with 1 Axes>"
      ]
     },
     "metadata": {
      "needs_background": "light"
     },
     "output_type": "display_data"
    }
   ],
   "source": [
    "fig, axes = plt.subplots(figsize=(12, 6))\n",
    "autos.boxplot(column=['Kilometer'], vert=False, patch_artist=True, boxprops=dict(facecolor=\"skyblue\"), grid=False, fontsize=14)\n",
    "plt.suptitle(f'Диаграмма размаха пробега автомобилей', fontsize=16, fontweight=\"bold\")\n",
    "plt.tight_layout()\n",
    "plt.show()"
   ]
  },
  {
   "cell_type": "code",
   "execution_count": 53,
   "metadata": {},
   "outputs": [],
   "source": [
    "#Исключу категориальные признаки, такие как Brand и Model.\n",
    "file = autos.loc[:, ['Price', 'RegistrationYear', 'Power', 'Kilometer']]"
   ]
  },
  {
   "cell_type": "code",
   "execution_count": 54,
   "metadata": {},
   "outputs": [
    {
     "data": {
      "image/png": "[encoded data removed]",
      "text/plain": [
       "<Figure size 1008x720 with 2 Axes>"
      ]
     },
     "metadata": {
      "needs_background": "light"
     },
     "output_type": "display_data"
    }
   ],
   "source": [
    "plt.figure(figsize=(14,10))\n",
    "colormap = sns.color_palette(\"coolwarm\")\n",
    "chart = sns.heatmap(file.corr(), annot=True, cmap=colormap, linewidths=1, linecolor='white')\n",
    "plt.title('Тепловая карта: Визуализация корреляций', fontsize=20, fontweight=\"bold\", color='darkblue')\n",
    "chart.set_xticklabels(chart.get_xticklabels(), rotation=45, horizontalalignment='right', fontsize=12, fontweight=\"bold\", color='darkblue')\n",
    "chart.set_yticklabels(chart.get_yticklabels(), rotation=0, horizontalalignment='right', fontsize=12, fontweight=\"bold\", color='darkblue')\n",
    "plt.tight_layout()\n",
    "plt.show()"
   ]
  },
  {
   "cell_type": "markdown",
   "metadata": {},
   "source": [
    "Между ценой (\"Price\") и мощностью автомобиля (\"Power\") наблюдается умеренная положительная корреляция (значение 0.46), что указывает на то, что с увеличением цены увеличивается и мощность автомобиля.\n",
    "Цена и год регистрации (\"RegistrationYear\") имеют слабую отрицательную корреляцию (-0.34), что предполагает, что чем позже был зарегистрирован автомобиль, тем выше его цена.\n",
    "Мощность и год регистрации имеют слабые корреляции: положительную с \"RegistrationYear\" (0.08) и отрицательную с \"Kilometer\" (-0.3). Это говорит о том, что автомобили с большей мощностью обычно регистрируются раньше, но проходят меньший километраж.\n",
    "Километраж и год регистрации также имеют слабую корреляцию: положительную с \"RegistrationYear\" (0.15) и отрицательную с \"Power\" (-0.15). Это означает, что автомобили, прошедшие больший километраж, обычно были зарегистрированы раньше, но обладают меньшей мощностью."
   ]
  },
  {
   "cell_type": "code",
   "execution_count": 55,
   "metadata": {},
   "outputs": [
    {
     "name": "stdout",
     "output_type": "stream",
     "text": [
      "['gasoline' 'petrol' 'no_info' 'lpg' 'other' 'hybrid' 'cng' 'electric']\n"
     ]
    }
   ],
   "source": [
    "#Проверим уникальные значения для столбца типа топлива.\n",
    "print(autos['FuelType'].unique())"
   ]
  },
  {
   "cell_type": "markdown",
   "metadata": {},
   "source": [
    "**`gasoline`** на **`petrol`**- эти термины фактически означают одно и то же топливо—бензин. "
   ]
  },
  {
   "cell_type": "code",
   "execution_count": 56,
   "metadata": {},
   "outputs": [
    {
     "name": "stdout",
     "output_type": "stream",
     "text": [
      "['petrol' 'no_info' 'lpg' 'other' 'hybrid' 'cng' 'electric']\n"
     ]
    }
   ],
   "source": [
    "autos['FuelType'] = autos['FuelType'].replace({'gasoline': 'petrol'})\n",
    "\n",
    "print(autos['FuelType'].unique())"
   ]
  },
  {
   "cell_type": "code",
   "execution_count": 57,
   "metadata": {
    "scrolled": true
   },
   "outputs": [
    {
     "name": "stdout",
     "output_type": "stream",
     "text": [
      "['grand' 'golf' 'fabia' '3er' '2_reihe' 'c_max' '3_reihe' 'passat' 'polo'\n",
      " 'twingo' 'a_klasse' 'scirocco' '5er' 'arosa' 'other' 'civic'\n",
      " 'transporter' 'punto' 'e_klasse' 'clio' 'kadett' 'one' 'fortwo' '1er'\n",
      " 'b_klasse' 'a8' 'jetta' 'fiesta' 'c_klasse' 'micra' 'vito' 'sprinter'\n",
      " '156' 'unknown' 'escort' 'forester' 'xc_reihe' 'scenic' 'ka' 'a1' 'focus'\n",
      " 'a4' 'tt' 'astra' 'a6' 'jazz' 'omega' 'slk' '7er' 'combo' 'corsa' '80'\n",
      " '147' 'z_reihe' 'sorento' 'ibiza' 'eos' 'touran' 'getz' 'insignia'\n",
      " 'almera' 'megane' 'a3' 'lupo' 'r19' 'caddy' 'mondeo' 'cordoba' 'colt'\n",
      " 'impreza' 'vectra' 'berlingo' 'tiguan' '6_reihe' 'c4' 'panda' 'up'\n",
      " 'i_reihe' 'ceed' 'kangoo' 'yeti' 'octavia' 'zafira' 'mii' 'rx_reihe'\n",
      " 'modus' 'fox' 'matiz' 'beetle' 'rio' 'logan' 'spider' 'cuore' 's_max'\n",
      " 'a2' 'c3' '1_reihe' 'sharan' 'avensis' 'viano' 'roomster' 'sl' 'kaefer'\n",
      " 'santa' 'leon' 'cooper' '4_reihe' 'sportage' 'laguna' 'ptcruiser' 'clk'\n",
      " 'primera' 'espace' 'galaxy' 's_klasse' 'no_info' '159' 'transit' 'juke'\n",
      " 'x_reihe' 'v40' 'carisma' 'accord' 'corolla' 'lanos' 'phaeton' 'verso'\n",
      " 'swift' 'rav' 'picanto' 'boxster' 'stilo' 'alhambra' 'touareg' 'roadster'\n",
      " 'ypsilon' 'galant' 'justy' '90' 'sirion' 'signum' 'crossfire' 'agila'\n",
      " 'duster' 'v50' 'mx_reihe' 'meriva' 'c_reihe' 'v_klasse' 'm_klasse'\n",
      " 'yaris' 'c5' 'aygo' 'cc' 'carnival' 'fusion' 'bora' 'forfour' 'a5' 'cl'\n",
      " 'tigra' '300c' '500' '100' 'cr_reihe' 'spark' '5_reihe' 'ducato' 's_type'\n",
      " 'x_trail' 'toledo' 'altea' 'qashqai' 'voyager' 'v70' 'bravo' 'tucson'\n",
      " 'x_type' 'c1' 'citigo' 'jimny' 'wrangler' 'lybra' 'lancer' 'captiva'\n",
      " 'discovery' 'freelander' 'sandero' 'note' 'kuga' 'seicento' 'navara'\n",
      " 'antara' '900' 'cherokee' 'defender' 'legacy' 'pajero' 'auris' 'cayenne'\n",
      " 'c2' 'niva' 's60' 'clubman' 'm_reihe' 'nubira' 'vivaro' 'g_klasse'\n",
      " 'lodgy' '850' 'superb' 'serie_2' 'calibra' 'exeo' 'charade' 'croma' 'q7'\n",
      " 'outlander' 'doblo' 'musa' '6er' '9000' 'kalos' 'v60' '200' '145' 'b_max'\n",
      " 'cx_reihe' 'mustang' 'range_rover_sport' 'aveo' 'range_rover' 'move'\n",
      " 'rangerover' 'q5' 'range_rover_evoque' 'materia' 'delta' 'terios' 'glk'\n",
      " 'kalina' 'elefantino' 'i3' '911' 'samara' '601' 'kappa' 'amarok'\n",
      " 'serie_3' 'gl' 'q3']\n"
     ]
    }
   ],
   "source": [
    "#Проверим уникальные значения для модели.\n",
    "print(autos['Model'].unique())"
   ]
  },
  {
   "cell_type": "code",
   "execution_count": 58,
   "metadata": {
    "scrolled": true
   },
   "outputs": [
    {
     "name": "stdout",
     "output_type": "stream",
     "text": [
      "['grand' 'golf' 'fabia' '3er' '2_reihe' 'c_max' '3_reihe' 'passat' 'polo'\n",
      " 'twingo' 'a_klasse' 'scirocco' '5er' 'arosa' 'other' 'civic'\n",
      " 'transporter' 'punto' 'e_klasse' 'clio' 'kadett' 'one' 'fortwo' '1er'\n",
      " 'b_klasse' 'a8' 'jetta' 'fiesta' 'c_klasse' 'micra' 'vito' 'sprinter'\n",
      " '156' 'unknown' 'escort' 'forester' 'xc_reihe' 'scenic' 'ka' 'a1' 'focus'\n",
      " 'a4' 'tt' 'astra' 'a6' 'jazz' 'omega' 'slk' '7er' 'combo' 'corsa' '80'\n",
      " '147' 'z_reihe' 'sorento' 'ibiza' 'eos' 'touran' 'getz' 'insignia'\n",
      " 'almera' 'megane' 'a3' 'lupo' 'r19' 'caddy' 'mondeo' 'cordoba' 'colt'\n",
      " 'impreza' 'vectra' 'berlingo' 'tiguan' '6_reihe' 'c4' 'panda' 'up'\n",
      " 'i_reihe' 'ceed' 'kangoo' 'yeti' 'octavia' 'zafira' 'mii' 'rx_reihe'\n",
      " 'modus' 'fox' 'matiz' 'beetle' 'rio' 'logan' 'spider' 'cuore' 's_max'\n",
      " 'a2' 'c3' '1_reihe' 'sharan' 'avensis' 'viano' 'roomster' 'sl' 'kaefer'\n",
      " 'santa' 'leon' 'cooper' '4_reihe' 'sportage' 'laguna' 'ptcruiser' 'clk'\n",
      " 'primera' 'espace' 'galaxy' 's_klasse' '159' 'transit' 'juke' 'x_reihe'\n",
      " 'v40' 'carisma' 'accord' 'corolla' 'lanos' 'phaeton' 'verso' 'swift'\n",
      " 'rav' 'picanto' 'boxster' 'stilo' 'alhambra' 'touareg' 'roadster'\n",
      " 'ypsilon' 'galant' 'justy' '90' 'sirion' 'signum' 'crossfire' 'agila'\n",
      " 'duster' 'v50' 'mx_reihe' 'meriva' 'c_reihe' 'v_klasse' 'm_klasse'\n",
      " 'yaris' 'c5' 'aygo' 'cc' 'carnival' 'fusion' 'bora' 'forfour' 'a5' 'cl'\n",
      " 'tigra' '300c' '500' '100' 'cr_reihe' 'spark' '5_reihe' 'ducato' 's_type'\n",
      " 'x_trail' 'toledo' 'altea' 'qashqai' 'voyager' 'v70' 'bravo' 'tucson'\n",
      " 'x_type' 'c1' 'citigo' 'jimny' 'wrangler' 'lybra' 'lancer' 'captiva'\n",
      " 'discovery' 'freelander' 'sandero' 'note' 'kuga' 'seicento' 'navara'\n",
      " 'antara' '900' 'cherokee' 'defender' 'legacy' 'pajero' 'auris' 'cayenne'\n",
      " 'c2' 'niva' 's60' 'clubman' 'm_reihe' 'nubira' 'vivaro' 'g_klasse'\n",
      " 'lodgy' '850' 'superb' 'serie_2' 'calibra' 'exeo' 'charade' 'croma' 'q7'\n",
      " 'outlander' 'doblo' 'musa' '6er' '9000' 'kalos' 'v60' '200' '145' 'b_max'\n",
      " 'cx_reihe' 'mustang' 'range_rover' 'aveo' 'move' 'q5'\n",
      " 'range_rover_evoque' 'materia' 'delta' 'terios' 'glk' 'kalina'\n",
      " 'elefantino' 'i3' '911' 'samara' '601' 'kappa' 'amarok' 'serie_3' 'gl'\n",
      " 'q3']\n"
     ]
    }
   ],
   "source": [
    "autos['Model'] = autos['Model'].replace({\n",
    "    'rangerover': 'range_rover',\n",
    "    'range_rover_sport': 'range_rover',\n",
    "    'no_info': 'unknown',\n",
    "})\n",
    "\n",
    "print(autos['Model'].unique())"
   ]
  },
  {
   "cell_type": "markdown",
   "metadata": {},
   "source": [
    "Целевым признаком для построения модели предсказания стоимости автомобиля является `Price`. Некоторые признаки, такие как `DateCrawled`, `RegistrationMonth`, `DateCreated`, `NumberOfPictures`, `PostalCode`, и `LastSeen`, не несут полезной информации и не влияют на предсказания, поэтому их следует удалить."
   ]
  },
  {
   "cell_type": "code",
   "execution_count": 59,
   "metadata": {},
   "outputs": [
    {
     "data": {
      "text/html": [
       "<div>\n",
       "<style scoped>\n",
       "    .dataframe tbody tr th:only-of-type {\n",
       "        vertical-align: middle;\n",
       "    }\n",
       "\n",
       "    .dataframe tbody tr th {\n",
       "        vertical-align: top;\n",
       "    }\n",
       "\n",
       "    .dataframe thead th {\n",
       "        text-align: right;\n",
       "    }\n",
       "</style>\n",
       "<table border=\"1\" class=\"dataframe\">\n",
       "  <thead>\n",
       "    <tr style=\"text-align: right;\">\n",
       "      <th></th>\n",
       "      <th>Price</th>\n",
       "      <th>VehicleType</th>\n",
       "      <th>RegistrationYear</th>\n",
       "      <th>Gearbox</th>\n",
       "      <th>Power</th>\n",
       "      <th>Model</th>\n",
       "      <th>Kilometer</th>\n",
       "      <th>FuelType</th>\n",
       "      <th>Brand</th>\n",
       "      <th>Repaired</th>\n",
       "    </tr>\n",
       "  </thead>\n",
       "  <tbody>\n",
       "    <tr>\n",
       "      <th>2</th>\n",
       "      <td>9800</td>\n",
       "      <td>suv</td>\n",
       "      <td>2004</td>\n",
       "      <td>auto</td>\n",
       "      <td>163</td>\n",
       "      <td>grand</td>\n",
       "      <td>125000</td>\n",
       "      <td>petrol</td>\n",
       "      <td>jeep</td>\n",
       "      <td>no_info</td>\n",
       "    </tr>\n",
       "    <tr>\n",
       "      <th>3</th>\n",
       "      <td>1500</td>\n",
       "      <td>small</td>\n",
       "      <td>2001</td>\n",
       "      <td>manual</td>\n",
       "      <td>75</td>\n",
       "      <td>golf</td>\n",
       "      <td>150000</td>\n",
       "      <td>petrol</td>\n",
       "      <td>volkswagen</td>\n",
       "      <td>no</td>\n",
       "    </tr>\n",
       "    <tr>\n",
       "      <th>4</th>\n",
       "      <td>3600</td>\n",
       "      <td>small</td>\n",
       "      <td>2008</td>\n",
       "      <td>manual</td>\n",
       "      <td>69</td>\n",
       "      <td>fabia</td>\n",
       "      <td>90000</td>\n",
       "      <td>petrol</td>\n",
       "      <td>skoda</td>\n",
       "      <td>no</td>\n",
       "    </tr>\n",
       "    <tr>\n",
       "      <th>5</th>\n",
       "      <td>650</td>\n",
       "      <td>sedan</td>\n",
       "      <td>1995</td>\n",
       "      <td>manual</td>\n",
       "      <td>102</td>\n",
       "      <td>3er</td>\n",
       "      <td>150000</td>\n",
       "      <td>petrol</td>\n",
       "      <td>bmw</td>\n",
       "      <td>yes</td>\n",
       "    </tr>\n",
       "    <tr>\n",
       "      <th>6</th>\n",
       "      <td>2200</td>\n",
       "      <td>convertible</td>\n",
       "      <td>2004</td>\n",
       "      <td>manual</td>\n",
       "      <td>109</td>\n",
       "      <td>2_reihe</td>\n",
       "      <td>150000</td>\n",
       "      <td>petrol</td>\n",
       "      <td>peugeot</td>\n",
       "      <td>no</td>\n",
       "    </tr>\n",
       "  </tbody>\n",
       "</table>\n",
       "</div>"
      ],
      "text/plain": [
       "   Price  VehicleType  RegistrationYear Gearbox  Power    Model  Kilometer  \\\n",
       "2   9800          suv              2004    auto    163    grand     125000   \n",
       "3   1500        small              2001  manual     75     golf     150000   \n",
       "4   3600        small              2008  manual     69    fabia      90000   \n",
       "5    650        sedan              1995  manual    102      3er     150000   \n",
       "6   2200  convertible              2004  manual    109  2_reihe     150000   \n",
       "\n",
       "  FuelType       Brand Repaired  \n",
       "2   petrol        jeep  no_info  \n",
       "3   petrol  volkswagen       no  \n",
       "4   petrol       skoda       no  \n",
       "5   petrol         bmw      yes  \n",
       "6   petrol     peugeot       no  "
      ]
     },
     "execution_count": 59,
     "metadata": {},
     "output_type": "execute_result"
    }
   ],
   "source": [
    "#Удалю лишние признаки.\n",
    "autos = autos.drop(columns=['DateCrawled', 'RegistrationMonth', 'DateCreated', 'NumberOfPictures', 'PostalCode', 'LastSeen'])\n",
    "\n",
    "autos.head()"
   ]
  },
  {
   "cell_type": "code",
   "execution_count": 60,
   "metadata": {
    "scrolled": false
   },
   "outputs": [
    {
     "name": "stdout",
     "output_type": "stream",
     "text": [
      "Index(['Price', 'VehicleType', 'RegistrationYear', 'Gearbox', 'Power', 'Model',\n",
      "       'Kilometer', 'FuelType', 'Brand', 'Repaired'],\n",
      "      dtype='object')\n"
     ]
    }
   ],
   "source": [
    "print(autos.columns)"
   ]
  },
  {
   "cell_type": "code",
   "execution_count": 61,
   "metadata": {},
   "outputs": [
    {
     "name": "stdout",
     "output_type": "stream",
     "text": [
      "Найдено 38020 дубликатов. Удаляем...\n"
     ]
    }
   ],
   "source": [
    "def check_duplicates(data):\n",
    "    #Проверка наличия дубликатов.\n",
    "    duplicates_count = data.duplicated().sum()\n",
    "    if duplicates_count > 0:\n",
    "        print(f\"Найдено {duplicates_count} дубликатов. Удаляем...\")\n",
    "        data = data.drop_duplicates().reset_index(drop=True)\n",
    "    else:\n",
    "        print(\"Дубликатов не найдено.\")\n",
    "    \n",
    "    return data\n",
    "\n",
    "autos = check_duplicates(autos)"
   ]
  },
  {
   "cell_type": "markdown",
   "metadata": {},
   "source": [
    "## Обучение моделей"
   ]
  },
  {
   "cell_type": "code",
   "execution_count": 65,
   "metadata": {},
   "outputs": [],
   "source": [
    "autos = pd.read_csv('/datasets/autos.csv')\n",
    "\n",
    "all_features = ['RegistrationYear', 'Power', 'Kilometer', 'VehicleType', 'Gearbox', 'Model', 'FuelType', 'Brand', 'Repaired']\n",
    "cat_features = ['VehicleType', 'Gearbox', 'Model', 'FuelType', 'Brand', 'Repaired']\n",
    "num_features = ['RegistrationYear', 'Power', 'Kilometer']\n",
    "\n",
    "X = autos[all_features]\n",
    "y = autos['Price']\n",
    "\n",
    "def train_and_evaluate_model(X, y, model, model_name, param_grid=None, cv=3):\n",
    "    RANDOM_STATE = 42\n",
    "\n",
    "    X_train, X_test, y_train, y_test = train_test_split(X, y, test_size=0.4, random_state=RANDOM_STATE)\n",
    "\n",
    "    if model_name == 'LinearRegression':\n",
    "        encoder = OneHotEncoder(handle_unknown='ignore', sparse_output=False)\n",
    "    else:\n",
    "        encoder = OrdinalEncoder(handle_unknown='use_encoded_value', unknown_value=-1)\n",
    "\n",
    "    encoder.fit(X_train[cat_features])\n",
    "\n",
    "    X_train_encoded = pd.DataFrame(encoder.transform(X_train[cat_features]), index=X_train.index)\n",
    "    X_test_encoded = pd.DataFrame(encoder.transform(X_test[cat_features]), index=X_test.index)\n",
    "\n",
    "    if model_name == 'LinearRegression':\n",
    "        X_train_encoded.columns = encoder.get_feature_names_out(cat_features)\n",
    "        X_test_encoded.columns = encoder.get_feature_names_out(cat_features)\n",
    "    else:\n",
    "        X_train_encoded.columns = [f\"{col}_encoded\" for col in cat_features]\n",
    "        X_test_encoded.columns = [f\"{col}_encoded\" for col in cat_features]\n",
    "\n",
    "    X_train = pd.concat([X_train[num_features], X_train_encoded], axis=1)\n",
    "    X_test = pd.concat([X_test[num_features], X_test_encoded], axis=1)\n",
    "\n",
    "    if param_grid:\n",
    "        grid_search = GridSearchCV(model, param_grid, scoring='neg_mean_squared_error', cv=cv, n_jobs=-1)\n",
    "        grid_search.fit(X_train, y_train)\n",
    "        best_model = grid_search.best_estimator_\n",
    "        best_score = (-grid_search.best_score_) ** 0.5\n",
    "        best_params = grid_search.best_params_\n",
    "    else:\n",
    "        best_model = model\n",
    "        scores = cross_val_score(model, X_train, y_train, scoring='neg_mean_squared_error', cv=cv, n_jobs=-1)\n",
    "        best_score = (-np.mean(scores)) ** 0.5\n",
    "        best_params = None\n",
    "\n",
    "    start = time.time()\n",
    "    best_model.fit(X_train, y_train)\n",
    "    training_time = round(time.time() - start, 4)\n",
    "\n",
    "    start = time.time()\n",
    "    y_pred = best_model.predict(X_test)\n",
    "    predict_time = round(time.time() - start, 4)\n",
    "\n",
    "    rmse = np.sqrt(mean_squared_error(y_test, y_pred))\n",
    "\n",
    "    print(f\"\\nМодель: {model_name}\")\n",
    "    if best_params:\n",
    "        print(f\"Лучшие параметры: {best_params}\")\n",
    "    print(f\"Лучшее RMSE (кросс-валидация): {round(best_score, 2)}\")\n",
    "    print(f\"Время обучения: {training_time} секунд\")\n",
    "    print(f\"Время предсказания: {predict_time} секунд\")\n",
    "    print(f\"RMSE на тестовой выборке: {round(rmse, 2)}\")"
   ]
  },
  {
   "cell_type": "code",
   "execution_count": 66,
   "metadata": {},
   "outputs": [
    {
     "name": "stdout",
     "output_type": "stream",
     "text": [
      "\n",
      "Модель: LinearRegression\n",
      "Лучшее RMSE (кросс-валидация): 3175.02\n",
      "Время обучения: 21.2999 секунд\n",
      "Время предсказания: 0.3004 секунд\n",
      "RMSE на тестовой выборке: 3175.23\n"
     ]
    }
   ],
   "source": [
    "lr_model = LinearRegression()\n",
    "train_and_evaluate_model(X, y, lr_model, 'LinearRegression')"
   ]
  },
  {
   "cell_type": "code",
   "execution_count": 67,
   "metadata": {},
   "outputs": [
    {
     "name": "stdout",
     "output_type": "stream",
     "text": [
      "\n",
      "Модель: CatBoost\n",
      "Лучшие параметры: {'depth': 8, 'learning_rate': 0.3}\n",
      "Лучшее RMSE (кросс-валидация): 1766.53\n",
      "Время обучения: 17.7754 секунд\n",
      "Время предсказания: 0.0885 секунд\n",
      "RMSE на тестовой выборке: 1739.63\n"
     ]
    }
   ],
   "source": [
    "cbr_model = CatBoostRegressor(\n",
    "    random_state=42,\n",
    "    verbose=False,\n",
    "    iterations=500,\n",
    "    early_stopping_rounds=50,\n",
    "    thread_count=-1\n",
    ")\n",
    "\n",
    "cbr_param_grid = {\n",
    "    'learning_rate': [0.3],\n",
    "    'depth': [8]\n",
    "}\n",
    "\n",
    "train_and_evaluate_model(X, y, cbr_model, 'CatBoost', param_grid=cbr_param_grid, cv=2)"
   ]
  },
  {
   "cell_type": "code",
   "execution_count": 68,
   "metadata": {},
   "outputs": [
    {
     "name": "stdout",
     "output_type": "stream",
     "text": [
      "\n",
      "Модель: LightGBM\n",
      "Лучшие параметры: {'num_leaves': 31}\n",
      "Лучшее RMSE (кросс-валидация): 2021.83\n",
      "Время обучения: 0.7049 секунд\n",
      "Время предсказания: 0.1959 секунд\n",
      "RMSE на тестовой выборке: 2031.08\n"
     ]
    }
   ],
   "source": [
    "X_sample = X.sample(frac=0.2, random_state=42)\n",
    "y_sample = y[X_sample.index]\n",
    "\n",
    "lgbm_model = LGBMRegressor(\n",
    "    random_state=42,\n",
    "    n_estimators=100,  \n",
    "    learning_rate=0.2,\n",
    "    max_depth=3  \n",
    ")\n",
    "\n",
    "lgbm_param_grid = {\n",
    "    'num_leaves': [31]\n",
    "}\n",
    "\n",
    "train_and_evaluate_model(X_sample, y_sample, lgbm_model, 'LightGBM', param_grid=lgbm_param_grid, cv=2)"
   ]
  },
  {
   "cell_type": "markdown",
   "metadata": {},
   "source": [
    "## Анализ моделей"
   ]
  },
  {
   "cell_type": "code",
   "execution_count": 82,
   "metadata": {},
   "outputs": [
    {
     "data": {
      "text/html": [
       "<style  type=\"text/css\" >\n",
       "#T_917f9_row0_col0,#T_917f9_row0_col3,#T_917f9_row1_col1,#T_917f9_row1_col2{\n",
       "            background-color:  #f7fbff;\n",
       "            color:  #000000;\n",
       "        }#T_917f9_row0_col1{\n",
       "            background-color:  #7ab6d9;\n",
       "            color:  #000000;\n",
       "        }#T_917f9_row0_col2{\n",
       "            background-color:  #d3e4f3;\n",
       "            color:  #000000;\n",
       "        }#T_917f9_row1_col0{\n",
       "            background-color:  #084a91;\n",
       "            color:  #f1f1f1;\n",
       "        }#T_917f9_row1_col3{\n",
       "            background-color:  #89bedc;\n",
       "            color:  #000000;\n",
       "        }#T_917f9_row2_col0,#T_917f9_row2_col1,#T_917f9_row2_col2,#T_917f9_row2_col3{\n",
       "            background-color:  #08306b;\n",
       "            color:  #f1f1f1;\n",
       "        }</style><table id=\"T_917f9_\" ><thead>    <tr>        <th class=\"blank level0\" ></th>        <th class=\"col_heading level0 col0\" >Время обучения модели (сек.)</th>        <th class=\"col_heading level0 col1\" >Время предсказания модели (сек.)</th>        <th class=\"col_heading level0 col2\" >RMSE обучения (кросс-валидация)</th>        <th class=\"col_heading level0 col3\" >Рейтинг модели</th>    </tr></thead><tbody>\n",
       "                <tr>\n",
       "                        <th id=\"T_917f9_level0_row0\" class=\"row_heading level0 row0\" >LGBMRegressor</th>\n",
       "                        <td id=\"T_917f9_row0_col0\" class=\"data row0 col0\" >0.609100</td>\n",
       "                        <td id=\"T_917f9_row0_col1\" class=\"data row0 col1\" >0.192500</td>\n",
       "                        <td id=\"T_917f9_row0_col2\" class=\"data row0 col2\" >2021.830000</td>\n",
       "                        <td id=\"T_917f9_row0_col3\" class=\"data row0 col3\" >0.771047</td>\n",
       "            </tr>\n",
       "            <tr>\n",
       "                        <th id=\"T_917f9_level0_row1\" class=\"row_heading level0 row1\" >CatBoostRegressor</th>\n",
       "                        <td id=\"T_917f9_row1_col0\" class=\"data row1 col0\" >17.973300</td>\n",
       "                        <td id=\"T_917f9_row1_col1\" class=\"data row1 col1\" >0.097500</td>\n",
       "                        <td id=\"T_917f9_row1_col2\" class=\"data row1 col2\" >1766.530000</td>\n",
       "                        <td id=\"T_917f9_row1_col3\" class=\"data row1 col3\" >1.225914</td>\n",
       "            </tr>\n",
       "            <tr>\n",
       "                        <th id=\"T_917f9_level0_row2\" class=\"row_heading level0 row2\" >LinearRegression</th>\n",
       "                        <td id=\"T_917f9_row2_col0\" class=\"data row2 col0\" >19.899800</td>\n",
       "                        <td id=\"T_917f9_row2_col1\" class=\"data row2 col1\" >0.302300</td>\n",
       "                        <td id=\"T_917f9_row2_col2\" class=\"data row2 col2\" >3175.020000</td>\n",
       "                        <td id=\"T_917f9_row2_col3\" class=\"data row2 col3\" >1.835959</td>\n",
       "            </tr>\n",
       "    </tbody></table>"
      ],
      "text/plain": [
       "<pandas.io.formats.style.Styler at 0x7fa357687760>"
      ]
     },
     "metadata": {},
     "output_type": "display_data"
    },
    {
     "data": {
      "text/plain": [
       "'LGBMRegressor'"
      ]
     },
     "execution_count": 82,
     "metadata": {},
     "output_type": "execute_result"
    }
   ],
   "source": [
    "#Время обучения, время предсказания и RMSE для каждой модели.\n",
    "data = {\n",
    "    'Время обучения модели (сек.)': [19.8998, 17.9733, 0.6091],\n",
    "    'Время предсказания модели (сек.)': [0.3023, 0.0975, 0.1925],\n",
    "    'RMSE обучения (кросс-валидация)': [3175.02, 1766.53, 2021.83]\n",
    "}\n",
    "\n",
    "#Индексы моделей.\n",
    "index = ['LinearRegression', 'CatBoostRegressor', 'LGBMRegressor']\n",
    "\n",
    "#Создание DataFrame.\n",
    "data_final = pd.DataFrame(data=data, index=index)\n",
    "\n",
    "#Расчет рейтинга модели.\n",
    "data_final['Рейтинг модели'] = (\n",
    "    data_final['Время обучения модели (сек.)'] * 0.33 / 10 +\n",
    "    data_final['Время предсказания модели (сек.)'] * 0.33 +\n",
    "    data_final['RMSE обучения (кросс-валидация)'] * 0.34 / 1000\n",
    ")\n",
    "\n",
    "#Сортировка моделей по рейтингу.\n",
    "data_final_sorted = data_final.sort_values(by='Рейтинг модели', ascending=True)\n",
    "\n",
    "#Отображение результатов.\n",
    "display(data_final_sorted.style.background_gradient(cmap='Blues', axis=0))\n",
    "\n",
    "#Выбор финальной модели.\n",
    "best_model = data_final_sorted.index[0]\n",
    "best_model"
   ]
  },
  {
   "cell_type": "markdown",
   "metadata": {},
   "source": [
    "**Время обучения модели (сек.):**\n",
    "\n",
    "- **LGBMRegressor**: 0.61\n",
    "- **CatBoostRegressor**: 17.97\n",
    "- **LinearRegression**: 19.90\n",
    "\n",
    "**Анализ:**  \n",
    "LGBMRegressor имеет самое быстрое время обучения, что делает его наиболее эффективным среди всех моделей.\n",
    "\n",
    "\n",
    "**Время предсказания модели (сек.):**\n",
    "\n",
    "- **CatBoostRegressor**: 0.10\n",
    "- **LGBMRegressor**: 0.19\n",
    "- **LinearRegression**: 0.30\n",
    "\n",
    "**Анализ:**  \n",
    "CatBoostRegressor наименее затратен по времени при предсказаниях, что полезно для приложений с высокой требовательностью к скорости.\n",
    "\n",
    "\n",
    "**RMSE обучения (кросс-валидация):**\n",
    "\n",
    "- **CatBoostRegressor**: 1766.53\n",
    "- **LGBMRegressor**: 2021.83\n",
    "- **LinearRegression**: 3175.02\n",
    "\n",
    "**Анализ:**  \n",
    "CatBoostRegressor демонстрирует наименьшее значение RMSE, что подтверждает его высокую точность по сравнению с остальными моделями.\n",
    "\n",
    "**Рейтинг модели:**\n",
    "\n",
    "- **LGBMRegressor**: 0.77\n",
    "- **CatBoostRegressor**: 1.23\n",
    "- **LinearRegression**: 1.84\n",
    "\n",
    "**Анализ:**  \n",
    "LGBMRegressor занимает первое место по общему рейтингу, что подтверждает его отличную производительность с учетом всех факторов.\n",
    "\n",
    "**Заключение:**  \n",
    "LGBMRegressor — лучшая модель по совокупности всех показателей. Он демонстрирует лучшее время обучения и хорошие результаты по точности. CatBoostRegressor также является сильным кандидатом, но LGBMRegressor превосходит его по времени обучения и предсказания. LinearRegression показала наихудшие результаты по всем параметрам."
   ]
  },
  {
   "cell_type": "code",
   "execution_count": 83,
   "metadata": {
    "scrolled": true
   },
   "outputs": [
    {
     "name": "stdout",
     "output_type": "stream",
     "text": [
      "Лучшая модель: LGBMRegressor\n",
      "Финальное качество на тестовой выборке (RMSE): 2026.97\n"
     ]
    }
   ],
   "source": [
    "X_encoded = pd.get_dummies(X, drop_first=True)\n",
    "\n",
    "X_train, X_test, y_train, y_test = train_test_split(X_encoded, y, test_size=0.2, random_state=42)\n",
    "\n",
    "if best_model == 'LGBMRegressor':\n",
    "    lgbm_model_final = LGBMRegressor(\n",
    "        random_state=42,\n",
    "        n_estimators=100,\n",
    "        learning_rate=0.2,\n",
    "        max_depth=3,\n",
    "        num_leaves=31\n",
    "    )\n",
    "    lgbm_model_final.fit(X_train, y_train)\n",
    "\n",
    "    # Предсказание на тестовой выборке\n",
    "    y_pred = lgbm_model_final.predict(X_test)\n",
    "\n",
    "    # Рассчитываем MSE и RMSE\n",
    "    final_mse = mean_squared_error(y_test, y_pred)\n",
    "    final_rmse = np.sqrt(final_mse)\n",
    "\n",
    "    # Выводим результаты\n",
    "    print(f'Лучшая модель: {best_model}')\n",
    "    print(f'Финальное качество на тестовой выборке (RMSE): {final_rmse:.2f}')"
   ]
  },
  {
   "cell_type": "markdown",
   "metadata": {},
   "source": [
    "## Вывод"
   ]
  },
  {
   "cell_type": "markdown",
   "metadata": {},
   "source": [
    "**Для сервиса «Не бит, не крашен» была поставлена задача разработки модели для прогнозирования рыночной стоимости автомобиля на основе его технических характеристик и исторических данных. Основные критерии для модели: качество предсказаний, скорость предсказания, время обучения.**\n",
    "\n",
    "Мы провели следующие этапы:\n",
    "\n",
    "1. Загрузили данные, провели их анализ и предварительную обработку.\n",
    "2. Удалили лишние столбцы, заполнили пропуски (включая признаки Model и VehicleType), устранены аномалии и дубликаты.\n",
    "3. Исследовали зависимости между признаками:\n",
    "   - Выявлена слабая корреляция цены с пробегом и мощностью, средняя связь с возрастом автомобиля.\n",
    "\n",
    "Построили и сравнили три модели: Линейная регрессия, CatBoost, LightGBM.\n",
    "\n",
    "**LGBMRegressor:**\n",
    "\n",
    "- **Время обучения**: 0.61 секунд\n",
    "- **Время предсказания**: 0.19 секунд\n",
    "- **RMSE обучения (кросс-валидация)**: 2021.83\n",
    "- **Рейтинг модели**: 0.771\n",
    "\n",
    "**Анализ:**  \n",
    "LGBMRegressor показал отличные результаты с хорошим балансом между качеством и временем. Он демонстрирует самое быстрое время обучения среди всех моделей (0.61 секунд) и хорошее качество предсказаний с RMSE около 2021. Это делает его оптимальным выбором для задач, где важна высокая скорость и хорошая точность предсказаний.\n",
    "\n",
    "---\n",
    "\n",
    "**CatBoostRegressor:**\n",
    "\n",
    "- **Время обучения**: 17.97 секунд\n",
    "- **Время предсказания**: 0.10 секунд\n",
    "- **RMSE обучения (кросс-валидация)**: 1766.53\n",
    "- **Рейтинг модели**: 1.226\n",
    "\n",
    "**Анализ:**  \n",
    "CatBoostRegressor демонстрирует отличные результаты с наименьшим значением RMSE, что делает его лучшим по точности среди всех моделей. Однако время обучения (17.97 секунд) значительно выше по сравнению с LGBMRegressor. Модель также имеет хорошее время предсказания (0.10 секунд), что делает её подходящей для приложений, где важен баланс между качеством и временем.\n",
    "\n",
    "---\n",
    "\n",
    "**LinearRegression:**\n",
    "\n",
    "- **Время обучения**: 19.90 секунд\n",
    "- **Время предсказания**: 0.30 секунд\n",
    "- **RMSE обучения (кросс-валидация)**: 3175.02\n",
    "- **Рейтинг модели**: 1.836\n",
    "\n",
    "**Анализ:**  \n",
    "Линейная регрессия показала наихудшие результаты по всем параметрам. RMSE для этой модели значительно выше, чем у других моделей (3175.02), что указывает на низкую точность. Несмотря на быстрое время предсказания (0.30 секунд), эффективность модели для данной задачи ограничена, и она не подходит для точных прогнозов.\n",
    "\n",
    "---\n",
    "\n",
    "**Вывод:**\n",
    "\n",
    "LGBMRegressor является лучшей моделью в данном сравнении благодаря отличному времени обучения (0.61 секунд) и хорошему качеству предсказаний (RMSE = 2021.83). Он лучше всего балансирует между временем и точностью, что делает его оптимальным выбором для прогнозирования рыночной стоимости автомобиля.\n",
    "\n",
    "CatBoostRegressor показал наилучшее качество предсказаний с RMSE = 1766.53, но его время обучения значительно выше, что делает его менее предпочтительным для задач, где важна высокая скорость.\n",
    "\n",
    "LinearRegression продемонстрировала самые худшие результаты по качеству предсказаний, что делает её неподходящей для задачи, требующей высокой точности.\n",
    "\n",
    "Таким образом, **LGBMRegressor** является наиболее оптимальной моделью для решения задачи прогнозирования стоимости автомобилей, обеспечивая хороший баланс между точностью и временем."
   ]
  }
 ],
 "metadata": {
  "ExecuteTimeLog": [
   {
    "duration": 57,
    "start_time": "2024-12-24T17:59:51.134Z"
   },
   {
    "duration": 3,
    "start_time": "2024-12-24T18:00:03.266Z"
   },
   {
    "duration": 1711,
    "start_time": "2024-12-24T18:00:51.085Z"
   },
   {
    "duration": 3015,
    "start_time": "2024-12-24T18:01:05.001Z"
   },
   {
    "duration": 1305,
    "start_time": "2024-12-24T18:02:47.696Z"
   },
   {
    "duration": 823,
    "start_time": "2024-12-24T18:03:35.496Z"
   },
   {
    "duration": 150,
    "start_time": "2024-12-24T18:04:28.372Z"
   },
   {
    "duration": 227,
    "start_time": "2024-12-24T18:05:36.379Z"
   },
   {
    "duration": 114,
    "start_time": "2024-12-24T18:05:52.190Z"
   },
   {
    "duration": 4,
    "start_time": "2024-12-24T18:06:41.134Z"
   },
   {
    "duration": 779,
    "start_time": "2024-12-24T18:07:09.813Z"
   },
   {
    "duration": 59,
    "start_time": "2024-12-24T18:08:28.871Z"
   },
   {
    "duration": 583,
    "start_time": "2024-12-24T18:08:31.491Z"
   },
   {
    "duration": 6,
    "start_time": "2024-12-24T18:09:55.283Z"
   },
   {
    "duration": 562,
    "start_time": "2024-12-24T18:09:56.088Z"
   },
   {
    "duration": 51,
    "start_time": "2024-12-24T18:10:09.917Z"
   },
   {
    "duration": 3,
    "start_time": "2024-12-24T18:10:09.969Z"
   },
   {
    "duration": 1564,
    "start_time": "2024-12-24T18:10:09.973Z"
   },
   {
    "duration": 2830,
    "start_time": "2024-12-24T18:10:11.539Z"
   },
   {
    "duration": 893,
    "start_time": "2024-12-24T18:10:14.371Z"
   },
   {
    "duration": 228,
    "start_time": "2024-12-24T18:10:15.266Z"
   },
   {
    "duration": 123,
    "start_time": "2024-12-24T18:10:15.495Z"
   },
   {
    "duration": 6,
    "start_time": "2024-12-24T18:10:15.620Z"
   },
   {
    "duration": 128,
    "start_time": "2024-12-24T18:10:15.627Z"
   },
   {
    "duration": 714,
    "start_time": "2024-12-24T18:11:28.976Z"
   },
   {
    "duration": 504,
    "start_time": "2024-12-24T18:11:51.632Z"
   },
   {
    "duration": 543,
    "start_time": "2024-12-24T18:12:24.873Z"
   },
   {
    "duration": 570,
    "start_time": "2024-12-24T18:12:29.620Z"
   },
   {
    "duration": 12,
    "start_time": "2024-12-24T18:13:30.398Z"
   },
   {
    "duration": 52,
    "start_time": "2024-12-24T18:13:42.133Z"
   },
   {
    "duration": 63,
    "start_time": "2024-12-24T18:14:26.053Z"
   },
   {
    "duration": 11,
    "start_time": "2024-12-24T18:14:49.452Z"
   },
   {
    "duration": 49,
    "start_time": "2024-12-24T18:14:50.374Z"
   },
   {
    "duration": 614,
    "start_time": "2024-12-24T18:15:27.245Z"
   },
   {
    "duration": 463,
    "start_time": "2024-12-24T18:15:57.215Z"
   },
   {
    "duration": 9,
    "start_time": "2024-12-24T18:16:44.609Z"
   },
   {
    "duration": 40,
    "start_time": "2024-12-24T18:16:51.137Z"
   },
   {
    "duration": 16,
    "start_time": "2024-12-24T18:17:03.643Z"
   },
   {
    "duration": 40,
    "start_time": "2024-12-24T18:17:20.292Z"
   },
   {
    "duration": 1549,
    "start_time": "2024-12-24T18:18:40.062Z"
   },
   {
    "duration": 12,
    "start_time": "2024-12-24T18:18:58.473Z"
   },
   {
    "duration": 30,
    "start_time": "2024-12-24T18:19:06.035Z"
   },
   {
    "duration": 18,
    "start_time": "2024-12-24T18:19:24.491Z"
   },
   {
    "duration": 16,
    "start_time": "2024-12-24T18:20:21.658Z"
   },
   {
    "duration": 26,
    "start_time": "2024-12-24T18:20:28.728Z"
   },
   {
    "duration": 1505,
    "start_time": "2024-12-24T18:21:35.348Z"
   },
   {
    "duration": 17,
    "start_time": "2024-12-24T18:21:48.259Z"
   },
   {
    "duration": 14,
    "start_time": "2024-12-24T18:21:56.016Z"
   },
   {
    "duration": 26,
    "start_time": "2024-12-24T18:22:33.061Z"
   },
   {
    "duration": 29,
    "start_time": "2024-12-24T18:22:46.119Z"
   },
   {
    "duration": 16,
    "start_time": "2024-12-24T18:23:52.398Z"
   },
   {
    "duration": 85,
    "start_time": "2024-12-24T18:23:57.742Z"
   },
   {
    "duration": 15,
    "start_time": "2024-12-24T18:24:07.468Z"
   },
   {
    "duration": 26,
    "start_time": "2024-12-24T18:24:34.691Z"
   },
   {
    "duration": 42,
    "start_time": "2024-12-24T18:24:47.073Z"
   },
   {
    "duration": 40,
    "start_time": "2024-12-24T18:25:59.121Z"
   },
   {
    "duration": 298,
    "start_time": "2024-12-24T18:26:36.126Z"
   },
   {
    "duration": 289,
    "start_time": "2024-12-24T18:27:31.734Z"
   },
   {
    "duration": 411,
    "start_time": "2024-12-24T18:27:36.000Z"
   },
   {
    "duration": 94,
    "start_time": "2024-12-24T18:27:48.617Z"
   },
   {
    "duration": 358,
    "start_time": "2024-12-24T18:28:00.518Z"
   },
   {
    "duration": 715,
    "start_time": "2024-12-24T18:28:39.643Z"
   },
   {
    "duration": 354,
    "start_time": "2024-12-24T18:28:51.358Z"
   },
   {
    "duration": 360,
    "start_time": "2024-12-24T18:28:59.938Z"
   },
   {
    "duration": 737,
    "start_time": "2024-12-24T18:29:30.424Z"
   },
   {
    "duration": 449,
    "start_time": "2024-12-24T18:30:05.144Z"
   },
   {
    "duration": 9,
    "start_time": "2024-12-24T18:30:44.154Z"
   },
   {
    "duration": 38,
    "start_time": "2024-12-24T18:33:21.825Z"
   },
   {
    "duration": 16,
    "start_time": "2024-12-24T18:33:32.249Z"
   },
   {
    "duration": 403,
    "start_time": "2024-12-24T18:34:46.797Z"
   },
   {
    "duration": 9,
    "start_time": "2024-12-24T18:35:22.040Z"
   },
   {
    "duration": 32,
    "start_time": "2024-12-24T18:35:29.851Z"
   },
   {
    "duration": 566,
    "start_time": "2024-12-24T18:36:28.127Z"
   },
   {
    "duration": 55,
    "start_time": "2024-12-24T18:37:27.794Z"
   },
   {
    "duration": 3,
    "start_time": "2024-12-24T18:37:27.851Z"
   },
   {
    "duration": 1478,
    "start_time": "2024-12-24T18:37:27.855Z"
   },
   {
    "duration": 3399,
    "start_time": "2024-12-24T18:37:29.335Z"
   },
   {
    "duration": 897,
    "start_time": "2024-12-24T18:37:32.736Z"
   },
   {
    "duration": 250,
    "start_time": "2024-12-24T18:37:33.634Z"
   },
   {
    "duration": 176,
    "start_time": "2024-12-24T18:37:33.886Z"
   },
   {
    "duration": 8,
    "start_time": "2024-12-24T18:37:34.064Z"
   },
   {
    "duration": 727,
    "start_time": "2024-12-24T18:37:34.074Z"
   },
   {
    "duration": 595,
    "start_time": "2024-12-24T18:37:34.803Z"
   },
   {
    "duration": 15,
    "start_time": "2024-12-24T18:37:35.400Z"
   },
   {
    "duration": 65,
    "start_time": "2024-12-24T18:37:35.417Z"
   },
   {
    "duration": 647,
    "start_time": "2024-12-24T18:37:35.484Z"
   },
   {
    "duration": 472,
    "start_time": "2024-12-24T18:37:36.133Z"
   },
   {
    "duration": 11,
    "start_time": "2024-12-24T18:37:36.606Z"
   },
   {
    "duration": 62,
    "start_time": "2024-12-24T18:37:36.618Z"
   },
   {
    "duration": 17,
    "start_time": "2024-12-24T18:37:36.682Z"
   },
   {
    "duration": 70,
    "start_time": "2024-12-24T18:37:36.700Z"
   },
   {
    "duration": 1810,
    "start_time": "2024-12-24T18:37:36.772Z"
   },
   {
    "duration": 13,
    "start_time": "2024-12-24T18:37:38.584Z"
   },
   {
    "duration": 68,
    "start_time": "2024-12-24T18:37:38.599Z"
   },
   {
    "duration": 19,
    "start_time": "2024-12-24T18:37:38.668Z"
   },
   {
    "duration": 33,
    "start_time": "2024-12-24T18:37:38.689Z"
   },
   {
    "duration": 45,
    "start_time": "2024-12-24T18:37:38.724Z"
   },
   {
    "duration": 1795,
    "start_time": "2024-12-24T18:37:38.771Z"
   },
   {
    "duration": 14,
    "start_time": "2024-12-24T18:37:40.568Z"
   },
   {
    "duration": 96,
    "start_time": "2024-12-24T18:37:40.584Z"
   },
   {
    "duration": 17,
    "start_time": "2024-12-24T18:37:40.684Z"
   },
   {
    "duration": 16,
    "start_time": "2024-12-24T18:37:40.702Z"
   },
   {
    "duration": 18,
    "start_time": "2024-12-24T18:37:40.720Z"
   },
   {
    "duration": 99,
    "start_time": "2024-12-24T18:37:40.740Z"
   },
   {
    "duration": 32,
    "start_time": "2024-12-24T18:37:40.840Z"
   },
   {
    "duration": 33,
    "start_time": "2024-12-24T18:37:40.874Z"
   },
   {
    "duration": 333,
    "start_time": "2024-12-24T18:37:40.909Z"
   },
   {
    "duration": 101,
    "start_time": "2024-12-24T18:37:41.244Z"
   },
   {
    "duration": 348,
    "start_time": "2024-12-24T18:37:41.347Z"
   },
   {
    "duration": 337,
    "start_time": "2024-12-24T18:37:41.696Z"
   },
   {
    "duration": 686,
    "start_time": "2024-12-24T18:37:42.035Z"
   },
   {
    "duration": 475,
    "start_time": "2024-12-24T18:37:42.723Z"
   },
   {
    "duration": 11,
    "start_time": "2024-12-24T18:37:43.199Z"
   },
   {
    "duration": 59,
    "start_time": "2024-12-24T18:37:43.211Z"
   },
   {
    "duration": 17,
    "start_time": "2024-12-24T18:37:43.271Z"
   },
   {
    "duration": 425,
    "start_time": "2024-12-24T18:37:43.290Z"
   },
   {
    "duration": 8,
    "start_time": "2024-12-24T18:37:43.716Z"
   },
   {
    "duration": 56,
    "start_time": "2024-12-24T18:37:43.726Z"
   },
   {
    "duration": 581,
    "start_time": "2024-12-24T18:37:43.784Z"
   },
   {
    "duration": 19,
    "start_time": "2024-12-24T18:39:25.262Z"
   },
   {
    "duration": 4,
    "start_time": "2024-12-24T18:39:33.152Z"
   },
   {
    "duration": 56,
    "start_time": "2024-12-24T18:40:16.719Z"
   },
   {
    "duration": 126,
    "start_time": "2024-12-24T18:41:21.572Z"
   },
   {
    "duration": 11,
    "start_time": "2024-12-24T18:41:33.581Z"
   },
   {
    "duration": 53,
    "start_time": "2024-12-24T18:41:49.669Z"
   },
   {
    "duration": 3,
    "start_time": "2024-12-24T18:41:49.723Z"
   },
   {
    "duration": 1418,
    "start_time": "2024-12-24T18:41:49.728Z"
   },
   {
    "duration": 2678,
    "start_time": "2024-12-24T18:41:51.148Z"
   },
   {
    "duration": 897,
    "start_time": "2024-12-24T18:41:53.828Z"
   },
   {
    "duration": 239,
    "start_time": "2024-12-24T18:41:54.726Z"
   },
   {
    "duration": 116,
    "start_time": "2024-12-24T18:41:54.967Z"
   },
   {
    "duration": 6,
    "start_time": "2024-12-24T18:41:55.084Z"
   },
   {
    "duration": 697,
    "start_time": "2024-12-24T18:41:55.092Z"
   },
   {
    "duration": 607,
    "start_time": "2024-12-24T18:41:55.791Z"
   },
   {
    "duration": 12,
    "start_time": "2024-12-24T18:41:56.399Z"
   },
   {
    "duration": 73,
    "start_time": "2024-12-24T18:41:56.413Z"
   },
   {
    "duration": 612,
    "start_time": "2024-12-24T18:41:56.488Z"
   },
   {
    "duration": 483,
    "start_time": "2024-12-24T18:41:57.102Z"
   },
   {
    "duration": 12,
    "start_time": "2024-12-24T18:41:57.586Z"
   },
   {
    "duration": 61,
    "start_time": "2024-12-24T18:41:57.600Z"
   },
   {
    "duration": 17,
    "start_time": "2024-12-24T18:41:57.663Z"
   },
   {
    "duration": 44,
    "start_time": "2024-12-24T18:41:57.681Z"
   },
   {
    "duration": 1774,
    "start_time": "2024-12-24T18:41:57.726Z"
   },
   {
    "duration": 13,
    "start_time": "2024-12-24T18:41:59.502Z"
   },
   {
    "duration": 62,
    "start_time": "2024-12-24T18:41:59.517Z"
   },
   {
    "duration": 18,
    "start_time": "2024-12-24T18:41:59.580Z"
   },
   {
    "duration": 51,
    "start_time": "2024-12-24T18:41:59.600Z"
   },
   {
    "duration": 44,
    "start_time": "2024-12-24T18:41:59.652Z"
   },
   {
    "duration": 1842,
    "start_time": "2024-12-24T18:41:59.697Z"
   },
   {
    "duration": 22,
    "start_time": "2024-12-24T18:42:01.541Z"
   },
   {
    "duration": 41,
    "start_time": "2024-12-24T18:42:01.564Z"
   },
   {
    "duration": 49,
    "start_time": "2024-12-24T18:42:01.609Z"
   },
   {
    "duration": 39,
    "start_time": "2024-12-24T18:42:01.660Z"
   },
   {
    "duration": 66,
    "start_time": "2024-12-24T18:42:01.701Z"
   },
   {
    "duration": 165,
    "start_time": "2024-12-24T18:42:01.769Z"
   },
   {
    "duration": 37,
    "start_time": "2024-12-24T18:42:01.935Z"
   },
   {
    "duration": 101,
    "start_time": "2024-12-24T18:42:01.974Z"
   },
   {
    "duration": 333,
    "start_time": "2024-12-24T18:42:02.077Z"
   },
   {
    "duration": 106,
    "start_time": "2024-12-24T18:42:02.412Z"
   },
   {
    "duration": 377,
    "start_time": "2024-12-24T18:42:02.520Z"
   },
   {
    "duration": 369,
    "start_time": "2024-12-24T18:42:02.899Z"
   },
   {
    "duration": 829,
    "start_time": "2024-12-24T18:42:03.270Z"
   },
   {
    "duration": 485,
    "start_time": "2024-12-24T18:42:04.101Z"
   },
   {
    "duration": 11,
    "start_time": "2024-12-24T18:42:04.587Z"
   },
   {
    "duration": 71,
    "start_time": "2024-12-24T18:42:04.600Z"
   },
   {
    "duration": 16,
    "start_time": "2024-12-24T18:42:04.673Z"
   },
   {
    "duration": 505,
    "start_time": "2024-12-24T18:42:04.690Z"
   },
   {
    "duration": 10,
    "start_time": "2024-12-24T18:42:05.196Z"
   },
   {
    "duration": 50,
    "start_time": "2024-12-24T18:42:05.207Z"
   },
   {
    "duration": 518,
    "start_time": "2024-12-24T18:42:05.258Z"
   },
   {
    "duration": 20,
    "start_time": "2024-12-24T18:42:05.778Z"
   },
   {
    "duration": 28,
    "start_time": "2024-12-24T18:42:05.799Z"
   },
   {
    "duration": 70,
    "start_time": "2024-12-24T18:42:05.829Z"
   },
   {
    "duration": 126,
    "start_time": "2024-12-24T18:42:05.901Z"
   },
   {
    "duration": 23,
    "start_time": "2024-12-24T18:43:09.069Z"
   },
   {
    "duration": 766,
    "start_time": "2024-12-24T18:44:06.096Z"
   },
   {
    "duration": 706,
    "start_time": "2024-12-24T18:44:32.891Z"
   },
   {
    "duration": 51,
    "start_time": "2024-12-24T18:45:30.185Z"
   },
   {
    "duration": 3,
    "start_time": "2024-12-24T18:45:30.237Z"
   },
   {
    "duration": 1475,
    "start_time": "2024-12-24T18:45:30.241Z"
   },
   {
    "duration": 2808,
    "start_time": "2024-12-24T18:45:31.718Z"
   },
   {
    "duration": 896,
    "start_time": "2024-12-24T18:45:34.529Z"
   },
   {
    "duration": 288,
    "start_time": "2024-12-24T18:45:35.427Z"
   },
   {
    "duration": 128,
    "start_time": "2024-12-24T18:45:35.717Z"
   },
   {
    "duration": 57,
    "start_time": "2024-12-24T18:45:35.853Z"
   },
   {
    "duration": 668,
    "start_time": "2024-12-24T18:45:35.912Z"
   },
   {
    "duration": 541,
    "start_time": "2024-12-24T18:45:36.583Z"
   },
   {
    "duration": 11,
    "start_time": "2024-12-24T18:45:37.126Z"
   },
   {
    "duration": 75,
    "start_time": "2024-12-24T18:45:37.139Z"
   },
   {
    "duration": 664,
    "start_time": "2024-12-24T18:45:37.215Z"
   },
   {
    "duration": 519,
    "start_time": "2024-12-24T18:45:37.881Z"
   },
   {
    "duration": 14,
    "start_time": "2024-12-24T18:45:38.402Z"
   },
   {
    "duration": 65,
    "start_time": "2024-12-24T18:45:38.418Z"
   },
   {
    "duration": 17,
    "start_time": "2024-12-24T18:45:38.484Z"
   },
   {
    "duration": 58,
    "start_time": "2024-12-24T18:45:38.502Z"
   },
   {
    "duration": 1828,
    "start_time": "2024-12-24T18:45:38.561Z"
   },
   {
    "duration": 25,
    "start_time": "2024-12-24T18:45:40.391Z"
   },
   {
    "duration": 55,
    "start_time": "2024-12-24T18:45:40.417Z"
   },
   {
    "duration": 19,
    "start_time": "2024-12-24T18:45:40.473Z"
   },
   {
    "duration": 21,
    "start_time": "2024-12-24T18:45:40.494Z"
   },
   {
    "duration": 67,
    "start_time": "2024-12-24T18:45:40.517Z"
   },
   {
    "duration": 1810,
    "start_time": "2024-12-24T18:45:40.586Z"
   },
   {
    "duration": 13,
    "start_time": "2024-12-24T18:45:42.398Z"
   },
   {
    "duration": 32,
    "start_time": "2024-12-24T18:45:42.413Z"
   },
   {
    "duration": 43,
    "start_time": "2024-12-24T18:45:42.454Z"
   },
   {
    "duration": 17,
    "start_time": "2024-12-24T18:45:42.499Z"
   },
   {
    "duration": 24,
    "start_time": "2024-12-24T18:45:42.518Z"
   },
   {
    "duration": 109,
    "start_time": "2024-12-24T18:45:42.544Z"
   },
   {
    "duration": 15,
    "start_time": "2024-12-24T18:45:42.655Z"
   },
   {
    "duration": 40,
    "start_time": "2024-12-24T18:45:42.671Z"
   },
   {
    "duration": 309,
    "start_time": "2024-12-24T18:45:42.712Z"
   },
   {
    "duration": 131,
    "start_time": "2024-12-24T18:45:43.023Z"
   },
   {
    "duration": 364,
    "start_time": "2024-12-24T18:45:43.155Z"
   },
   {
    "duration": 389,
    "start_time": "2024-12-24T18:45:43.521Z"
   },
   {
    "duration": 803,
    "start_time": "2024-12-24T18:45:43.911Z"
   },
   {
    "duration": 460,
    "start_time": "2024-12-24T18:45:44.715Z"
   },
   {
    "duration": 12,
    "start_time": "2024-12-24T18:45:45.177Z"
   },
   {
    "duration": 70,
    "start_time": "2024-12-24T18:45:45.191Z"
   },
   {
    "duration": 17,
    "start_time": "2024-12-24T18:45:45.262Z"
   },
   {
    "duration": 443,
    "start_time": "2024-12-24T18:45:45.280Z"
   },
   {
    "duration": 9,
    "start_time": "2024-12-24T18:45:45.724Z"
   },
   {
    "duration": 52,
    "start_time": "2024-12-24T18:45:45.734Z"
   },
   {
    "duration": 811,
    "start_time": "2024-12-24T18:45:45.788Z"
   },
   {
    "duration": 23,
    "start_time": "2024-12-24T18:45:46.654Z"
   },
   {
    "duration": 4,
    "start_time": "2024-12-24T18:45:46.679Z"
   },
   {
    "duration": 108,
    "start_time": "2024-12-24T18:45:46.685Z"
   },
   {
    "duration": 36887,
    "start_time": "2024-12-24T18:45:46.795Z"
   },
   {
    "duration": 12963,
    "start_time": "2024-12-24T18:47:08.692Z"
   },
   {
    "duration": 184,
    "start_time": "2024-12-24T18:47:48.172Z"
   },
   {
    "duration": 6,
    "start_time": "2024-12-24T18:47:59.470Z"
   },
   {
    "duration": 716,
    "start_time": "2024-12-24T18:49:17.182Z"
   },
   {
    "duration": 55,
    "start_time": "2024-12-24T18:56:40.181Z"
   },
   {
    "duration": 3,
    "start_time": "2024-12-24T18:56:40.239Z"
   },
   {
    "duration": 1532,
    "start_time": "2024-12-24T18:56:40.244Z"
   },
   {
    "duration": 2831,
    "start_time": "2024-12-24T18:56:41.779Z"
   },
   {
    "duration": 873,
    "start_time": "2024-12-24T18:56:44.614Z"
   },
   {
    "duration": 232,
    "start_time": "2024-12-24T18:56:45.489Z"
   },
   {
    "duration": 142,
    "start_time": "2024-12-24T18:56:45.723Z"
   },
   {
    "duration": 6,
    "start_time": "2024-12-24T18:56:45.866Z"
   },
   {
    "duration": 713,
    "start_time": "2024-12-24T18:56:45.873Z"
   },
   {
    "duration": 546,
    "start_time": "2024-12-24T18:56:46.587Z"
   },
   {
    "duration": 36,
    "start_time": "2024-12-24T18:56:47.135Z"
   },
   {
    "duration": 57,
    "start_time": "2024-12-24T18:56:47.173Z"
   },
   {
    "duration": 666,
    "start_time": "2024-12-24T18:56:47.232Z"
   },
   {
    "duration": 480,
    "start_time": "2024-12-24T18:56:47.901Z"
   },
   {
    "duration": 11,
    "start_time": "2024-12-24T18:56:48.382Z"
   },
   {
    "duration": 61,
    "start_time": "2024-12-24T18:56:48.395Z"
   },
   {
    "duration": 17,
    "start_time": "2024-12-24T18:56:48.457Z"
   },
   {
    "duration": 44,
    "start_time": "2024-12-24T18:56:48.475Z"
   },
   {
    "duration": 1742,
    "start_time": "2024-12-24T18:56:48.521Z"
   },
   {
    "duration": 16,
    "start_time": "2024-12-24T18:56:50.265Z"
   },
   {
    "duration": 41,
    "start_time": "2024-12-24T18:56:50.283Z"
   },
   {
    "duration": 48,
    "start_time": "2024-12-24T18:56:50.326Z"
   },
   {
    "duration": 48,
    "start_time": "2024-12-24T18:56:50.376Z"
   },
   {
    "duration": 56,
    "start_time": "2024-12-24T18:56:50.425Z"
   },
   {
    "duration": 1771,
    "start_time": "2024-12-24T18:56:50.482Z"
   },
   {
    "duration": 14,
    "start_time": "2024-12-24T18:56:52.255Z"
   },
   {
    "duration": 34,
    "start_time": "2024-12-24T18:56:52.271Z"
   },
   {
    "duration": 23,
    "start_time": "2024-12-24T18:56:52.307Z"
   },
   {
    "duration": 34,
    "start_time": "2024-12-24T18:56:52.331Z"
   },
   {
    "duration": 17,
    "start_time": "2024-12-24T18:56:52.367Z"
   },
   {
    "duration": 128,
    "start_time": "2024-12-24T18:56:52.387Z"
   },
   {
    "duration": 15,
    "start_time": "2024-12-24T18:56:52.516Z"
   },
   {
    "duration": 47,
    "start_time": "2024-12-24T18:56:52.533Z"
   },
   {
    "duration": 348,
    "start_time": "2024-12-24T18:56:52.582Z"
   },
   {
    "duration": 98,
    "start_time": "2024-12-24T18:56:52.931Z"
   },
   {
    "duration": 352,
    "start_time": "2024-12-24T18:56:53.031Z"
   },
   {
    "duration": 355,
    "start_time": "2024-12-24T18:56:53.384Z"
   },
   {
    "duration": 823,
    "start_time": "2024-12-24T18:56:53.741Z"
   },
   {
    "duration": 420,
    "start_time": "2024-12-24T18:56:54.570Z"
   },
   {
    "duration": 10,
    "start_time": "2024-12-24T18:56:54.992Z"
   },
   {
    "duration": 65,
    "start_time": "2024-12-24T18:56:55.006Z"
   },
   {
    "duration": 14,
    "start_time": "2024-12-24T18:56:55.073Z"
   },
   {
    "duration": 480,
    "start_time": "2024-12-24T18:56:55.088Z"
   },
   {
    "duration": 8,
    "start_time": "2024-12-24T18:56:55.571Z"
   },
   {
    "duration": 43,
    "start_time": "2024-12-24T18:56:55.580Z"
   },
   {
    "duration": 536,
    "start_time": "2024-12-24T18:56:55.624Z"
   },
   {
    "duration": 22,
    "start_time": "2024-12-24T18:56:56.162Z"
   },
   {
    "duration": 4,
    "start_time": "2024-12-24T18:56:56.186Z"
   },
   {
    "duration": 100,
    "start_time": "2024-12-24T18:56:56.192Z"
   },
   {
    "duration": 34240,
    "start_time": "2024-12-24T18:56:56.294Z"
   },
   {
    "duration": 16722,
    "start_time": "2024-12-24T18:57:30.536Z"
   },
   {
    "duration": 306,
    "start_time": "2024-12-24T18:57:47.260Z"
   },
   {
    "duration": 8,
    "start_time": "2024-12-24T18:57:47.654Z"
   },
   {
    "duration": 691,
    "start_time": "2024-12-24T18:57:47.665Z"
   },
   {
    "duration": 424667,
    "start_time": "2024-12-24T18:57:48.358Z"
   },
   {
    "duration": 19640,
    "start_time": "2024-12-24T19:04:53.026Z"
   },
   {
    "duration": 139,
    "start_time": "2024-12-24T19:05:12.668Z"
   },
   {
    "duration": 5,
    "start_time": "2024-12-24T19:05:12.808Z"
   },
   {
    "duration": 52,
    "start_time": "2024-12-24T19:20:59.168Z"
   },
   {
    "duration": 3,
    "start_time": "2024-12-24T19:20:59.222Z"
   },
   {
    "duration": 1390,
    "start_time": "2024-12-24T19:20:59.227Z"
   },
   {
    "duration": 2594,
    "start_time": "2024-12-24T19:21:00.619Z"
   },
   {
    "duration": 912,
    "start_time": "2024-12-24T19:21:03.215Z"
   },
   {
    "duration": 236,
    "start_time": "2024-12-24T19:21:04.129Z"
   },
   {
    "duration": 125,
    "start_time": "2024-12-24T19:21:04.367Z"
   },
   {
    "duration": 27,
    "start_time": "2024-12-24T19:21:04.494Z"
   },
   {
    "duration": 686,
    "start_time": "2024-12-24T19:21:04.522Z"
   },
   {
    "duration": 504,
    "start_time": "2024-12-24T19:21:05.212Z"
   },
   {
    "duration": 41,
    "start_time": "2024-12-24T19:21:05.718Z"
   },
   {
    "duration": 112,
    "start_time": "2024-12-24T19:21:05.761Z"
   },
   {
    "duration": 602,
    "start_time": "2024-12-24T19:21:05.874Z"
   },
   {
    "duration": 421,
    "start_time": "2024-12-24T19:21:06.478Z"
   },
   {
    "duration": 64,
    "start_time": "2024-12-24T19:21:06.900Z"
   },
   {
    "duration": 66,
    "start_time": "2024-12-24T19:21:06.966Z"
   },
   {
    "duration": 18,
    "start_time": "2024-12-24T19:21:07.034Z"
   },
   {
    "duration": 83,
    "start_time": "2024-12-24T19:21:07.053Z"
   },
   {
    "duration": 1681,
    "start_time": "2024-12-24T19:21:07.137Z"
   },
   {
    "duration": 14,
    "start_time": "2024-12-24T19:21:08.819Z"
   },
   {
    "duration": 51,
    "start_time": "2024-12-24T19:21:08.835Z"
   },
   {
    "duration": 18,
    "start_time": "2024-12-24T19:21:08.887Z"
   },
   {
    "duration": 40,
    "start_time": "2024-12-24T19:21:08.906Z"
   },
   {
    "duration": 32,
    "start_time": "2024-12-24T19:21:08.948Z"
   },
   {
    "duration": 1713,
    "start_time": "2024-12-24T19:21:08.982Z"
   },
   {
    "duration": 14,
    "start_time": "2024-12-24T19:21:10.696Z"
   },
   {
    "duration": 70,
    "start_time": "2024-12-24T19:21:10.711Z"
   },
   {
    "duration": 57,
    "start_time": "2024-12-24T19:21:10.784Z"
   },
   {
    "duration": 38,
    "start_time": "2024-12-24T19:21:10.842Z"
   },
   {
    "duration": 30,
    "start_time": "2024-12-24T19:21:10.881Z"
   },
   {
    "duration": 109,
    "start_time": "2024-12-24T19:21:10.912Z"
   },
   {
    "duration": 15,
    "start_time": "2024-12-24T19:21:11.022Z"
   },
   {
    "duration": 54,
    "start_time": "2024-12-24T19:21:11.038Z"
   },
   {
    "duration": 306,
    "start_time": "2024-12-24T19:21:11.093Z"
   },
   {
    "duration": 99,
    "start_time": "2024-12-24T19:21:11.400Z"
   },
   {
    "duration": 341,
    "start_time": "2024-12-24T19:21:11.501Z"
   },
   {
    "duration": 334,
    "start_time": "2024-12-24T19:21:11.844Z"
   },
   {
    "duration": 674,
    "start_time": "2024-12-24T19:21:12.179Z"
   },
   {
    "duration": 423,
    "start_time": "2024-12-24T19:21:12.854Z"
   },
   {
    "duration": 11,
    "start_time": "2024-12-24T19:21:13.278Z"
   },
   {
    "duration": 69,
    "start_time": "2024-12-24T19:21:13.290Z"
   },
   {
    "duration": 13,
    "start_time": "2024-12-24T19:21:13.361Z"
   },
   {
    "duration": 425,
    "start_time": "2024-12-24T19:21:13.376Z"
   },
   {
    "duration": 8,
    "start_time": "2024-12-24T19:21:13.803Z"
   },
   {
    "duration": 46,
    "start_time": "2024-12-24T19:21:13.813Z"
   },
   {
    "duration": 580,
    "start_time": "2024-12-24T19:21:13.861Z"
   },
   {
    "duration": 27,
    "start_time": "2024-12-24T19:21:14.443Z"
   },
   {
    "duration": 2,
    "start_time": "2024-12-24T19:21:14.472Z"
   },
   {
    "duration": 48,
    "start_time": "2024-12-24T19:21:14.476Z"
   },
   {
    "duration": 27441,
    "start_time": "2024-12-24T19:21:14.526Z"
   },
   {
    "duration": 12393,
    "start_time": "2024-12-24T19:21:41.969Z"
   },
   {
    "duration": 389,
    "start_time": "2024-12-24T19:21:54.364Z"
   },
   {
    "duration": 10,
    "start_time": "2024-12-24T19:21:54.755Z"
   },
   {
    "duration": 731,
    "start_time": "2024-12-24T19:21:54.768Z"
   },
   {
    "duration": 412976,
    "start_time": "2024-12-24T19:21:55.500Z"
   },
   {
    "duration": 19493,
    "start_time": "2024-12-24T19:28:48.478Z"
   },
   {
    "duration": 142,
    "start_time": "2024-12-24T19:29:07.973Z"
   },
   {
    "duration": 5,
    "start_time": "2024-12-24T19:29:08.117Z"
   },
   {
    "duration": 2002637,
    "start_time": "2024-12-24T19:29:08.123Z"
   },
   {
    "duration": 8592,
    "start_time": "2024-12-24T20:02:30.762Z"
   },
   {
    "duration": 1311,
    "start_time": "2024-12-24T20:02:39.356Z"
   },
   {
    "duration": 86,
    "start_time": "2024-12-24T20:02:40.668Z"
   },
   {
    "duration": 17,
    "start_time": "2024-12-24T20:02:40.756Z"
   },
   {
    "duration": 124,
    "start_time": "2024-12-24T20:02:40.774Z"
   },
   {
    "duration": 4,
    "start_time": "2024-12-24T20:02:40.900Z"
   },
   {
    "duration": 9,
    "start_time": "2024-12-24T20:02:40.906Z"
   },
   {
    "duration": 52,
    "start_time": "2024-12-25T18:03:20.804Z"
   },
   {
    "duration": 54,
    "start_time": "2024-12-25T18:03:20.859Z"
   },
   {
    "duration": 1669,
    "start_time": "2024-12-25T18:03:20.915Z"
   },
   {
    "duration": 2867,
    "start_time": "2024-12-25T18:03:22.586Z"
   },
   {
    "duration": 3434,
    "start_time": "2024-12-25T18:03:25.455Z"
   },
   {
    "duration": 355,
    "start_time": "2024-12-25T18:03:28.891Z"
   },
   {
    "duration": 150,
    "start_time": "2024-12-25T18:03:29.248Z"
   },
   {
    "duration": 7,
    "start_time": "2024-12-25T18:03:29.399Z"
   },
   {
    "duration": 790,
    "start_time": "2024-12-25T18:03:29.407Z"
   },
   {
    "duration": 630,
    "start_time": "2024-12-25T18:03:30.200Z"
   },
   {
    "duration": 13,
    "start_time": "2024-12-25T18:03:30.832Z"
   },
   {
    "duration": 68,
    "start_time": "2024-12-25T18:03:30.846Z"
   },
   {
    "duration": 729,
    "start_time": "2024-12-25T18:03:30.916Z"
   },
   {
    "duration": 562,
    "start_time": "2024-12-25T18:03:31.647Z"
   },
   {
    "duration": 11,
    "start_time": "2024-12-25T18:03:32.210Z"
   },
   {
    "duration": 72,
    "start_time": "2024-12-25T18:03:32.223Z"
   },
   {
    "duration": 19,
    "start_time": "2024-12-25T18:03:32.297Z"
   },
   {
    "duration": 76,
    "start_time": "2024-12-25T18:03:32.317Z"
   },
   {
    "duration": 2099,
    "start_time": "2024-12-25T18:03:32.394Z"
   },
   {
    "duration": 17,
    "start_time": "2024-12-25T18:03:34.495Z"
   },
   {
    "duration": 104,
    "start_time": "2024-12-25T18:03:34.514Z"
   },
   {
    "duration": 26,
    "start_time": "2024-12-25T18:03:34.620Z"
   },
   {
    "duration": 24,
    "start_time": "2024-12-25T18:03:34.647Z"
   },
   {
    "duration": 37,
    "start_time": "2024-12-25T18:03:34.673Z"
   },
   {
    "duration": 2109,
    "start_time": "2024-12-25T18:03:34.712Z"
   },
   {
    "duration": 17,
    "start_time": "2024-12-25T18:03:36.822Z"
   },
   {
    "duration": 121,
    "start_time": "2024-12-25T18:03:36.841Z"
   },
   {
    "duration": 39,
    "start_time": "2024-12-25T18:03:36.966Z"
   },
   {
    "duration": 32,
    "start_time": "2024-12-25T18:03:37.006Z"
   },
   {
    "duration": 64,
    "start_time": "2024-12-25T18:03:37.040Z"
   },
   {
    "duration": 121,
    "start_time": "2024-12-25T18:03:37.106Z"
   },
   {
    "duration": 34,
    "start_time": "2024-12-25T18:03:37.229Z"
   },
   {
    "duration": 41,
    "start_time": "2024-12-25T18:03:37.265Z"
   },
   {
    "duration": 338,
    "start_time": "2024-12-25T18:03:37.308Z"
   },
   {
    "duration": 133,
    "start_time": "2024-12-25T18:03:37.648Z"
   },
   {
    "duration": 392,
    "start_time": "2024-12-25T18:03:37.783Z"
   },
   {
    "duration": 379,
    "start_time": "2024-12-25T18:03:38.177Z"
   },
   {
    "duration": 788,
    "start_time": "2024-12-25T18:03:38.558Z"
   },
   {
    "duration": 463,
    "start_time": "2024-12-25T18:03:39.348Z"
   },
   {
    "duration": 11,
    "start_time": "2024-12-25T18:03:39.812Z"
   },
   {
    "duration": 62,
    "start_time": "2024-12-25T18:03:39.825Z"
   },
   {
    "duration": 14,
    "start_time": "2024-12-25T18:03:39.889Z"
   },
   {
    "duration": 536,
    "start_time": "2024-12-25T18:03:39.904Z"
   },
   {
    "duration": 9,
    "start_time": "2024-12-25T18:03:40.442Z"
   },
   {
    "duration": 49,
    "start_time": "2024-12-25T18:03:40.453Z"
   },
   {
    "duration": 685,
    "start_time": "2024-12-25T18:03:40.504Z"
   },
   {
    "duration": 19,
    "start_time": "2024-12-25T18:03:41.191Z"
   },
   {
    "duration": 3,
    "start_time": "2024-12-25T18:03:41.212Z"
   },
   {
    "duration": 72,
    "start_time": "2024-12-25T18:03:41.216Z"
   },
   {
    "duration": 70752,
    "start_time": "2024-12-25T18:03:41.290Z"
   },
   {
    "duration": 12427,
    "start_time": "2024-12-25T18:04:52.044Z"
   },
   {
    "duration": 299,
    "start_time": "2024-12-25T18:05:04.473Z"
   },
   {
    "duration": 92,
    "start_time": "2024-12-25T18:05:04.780Z"
   },
   {
    "duration": 831,
    "start_time": "2024-12-25T18:05:04.873Z"
   },
   {
    "duration": 430615,
    "start_time": "2024-12-25T18:05:05.706Z"
   },
   {
    "duration": 20479,
    "start_time": "2024-12-25T18:12:16.323Z"
   },
   {
    "duration": 150,
    "start_time": "2024-12-25T18:12:36.804Z"
   },
   {
    "duration": 17,
    "start_time": "2024-12-25T18:12:36.956Z"
   },
   {
    "duration": 664401,
    "start_time": "2024-12-25T18:12:36.975Z"
   },
   {
    "duration": 9309,
    "start_time": "2024-12-25T18:23:41.377Z"
   },
   {
    "duration": 1395,
    "start_time": "2024-12-25T18:23:50.687Z"
   },
   {
    "duration": 6,
    "start_time": "2024-12-25T18:23:52.084Z"
   },
   {
    "duration": 84,
    "start_time": "2024-12-25T18:23:52.091Z"
   },
   {
    "duration": 149,
    "start_time": "2024-12-25T18:23:52.177Z"
   },
   {
    "duration": 6,
    "start_time": "2024-12-25T18:23:52.328Z"
   },
   {
    "duration": 24,
    "start_time": "2024-12-25T18:23:52.336Z"
   },
   {
    "duration": 2594,
    "start_time": "2024-12-26T14:17:17.273Z"
   },
   {
    "duration": 2,
    "start_time": "2024-12-26T14:21:51.473Z"
   },
   {
    "duration": 41,
    "start_time": "2024-12-26T14:22:16.370Z"
   },
   {
    "duration": 52,
    "start_time": "2024-12-26T14:22:33.183Z"
   },
   {
    "duration": 22,
    "start_time": "2024-12-26T14:22:33.237Z"
   },
   {
    "duration": 2538,
    "start_time": "2024-12-26T14:22:33.261Z"
   },
   {
    "duration": 1890,
    "start_time": "2024-12-26T14:22:35.801Z"
   },
   {
    "duration": 3066,
    "start_time": "2024-12-26T14:22:37.692Z"
   },
   {
    "duration": 262,
    "start_time": "2024-12-26T14:22:40.760Z"
   },
   {
    "duration": 139,
    "start_time": "2024-12-26T14:22:41.024Z"
   },
   {
    "duration": 7,
    "start_time": "2024-12-26T14:22:41.165Z"
   },
   {
    "duration": 726,
    "start_time": "2024-12-26T14:22:41.174Z"
   },
   {
    "duration": 593,
    "start_time": "2024-12-26T14:22:41.903Z"
   },
   {
    "duration": 12,
    "start_time": "2024-12-26T14:22:42.497Z"
   },
   {
    "duration": 65,
    "start_time": "2024-12-26T14:22:42.510Z"
   },
   {
    "duration": 2,
    "start_time": "2024-12-26T14:22:42.577Z"
   },
   {
    "duration": 359,
    "start_time": "2024-12-26T14:22:42.580Z"
   },
   {
    "duration": 569,
    "start_time": "2024-12-26T14:22:42.941Z"
   },
   {
    "duration": 10,
    "start_time": "2024-12-26T14:22:43.511Z"
   },
   {
    "duration": 113,
    "start_time": "2024-12-26T14:22:43.522Z"
   },
   {
    "duration": 19,
    "start_time": "2024-12-26T14:22:43.637Z"
   },
   {
    "duration": 45,
    "start_time": "2024-12-26T14:22:43.657Z"
   },
   {
    "duration": 1920,
    "start_time": "2024-12-26T14:22:43.703Z"
   },
   {
    "duration": 15,
    "start_time": "2024-12-26T14:22:45.625Z"
   },
   {
    "duration": 35,
    "start_time": "2024-12-26T14:22:45.654Z"
   },
   {
    "duration": 20,
    "start_time": "2024-12-26T14:22:45.691Z"
   },
   {
    "duration": 42,
    "start_time": "2024-12-26T14:22:45.712Z"
   },
   {
    "duration": 32,
    "start_time": "2024-12-26T14:22:45.756Z"
   },
   {
    "duration": 1909,
    "start_time": "2024-12-26T14:22:45.790Z"
   },
   {
    "duration": 16,
    "start_time": "2024-12-26T14:22:47.701Z"
   },
   {
    "duration": 35,
    "start_time": "2024-12-26T14:22:47.720Z"
   },
   {
    "duration": 21,
    "start_time": "2024-12-26T14:22:47.758Z"
   },
   {
    "duration": 36,
    "start_time": "2024-12-26T14:22:47.780Z"
   },
   {
    "duration": 19,
    "start_time": "2024-12-26T14:22:47.818Z"
   },
   {
    "duration": 124,
    "start_time": "2024-12-26T14:22:47.838Z"
   },
   {
    "duration": 18,
    "start_time": "2024-12-26T14:22:47.964Z"
   },
   {
    "duration": 43,
    "start_time": "2024-12-26T14:22:47.983Z"
   },
   {
    "duration": 343,
    "start_time": "2024-12-26T14:22:48.028Z"
   },
   {
    "duration": 160,
    "start_time": "2024-12-26T14:22:48.373Z"
   },
   {
    "duration": 398,
    "start_time": "2024-12-26T14:22:48.553Z"
   },
   {
    "duration": 324,
    "start_time": "2024-12-26T14:22:48.954Z"
   },
   {
    "duration": 653,
    "start_time": "2024-12-26T14:22:49.280Z"
   },
   {
    "duration": 444,
    "start_time": "2024-12-26T14:22:49.935Z"
   },
   {
    "duration": 10,
    "start_time": "2024-12-26T14:22:50.382Z"
   },
   {
    "duration": 63,
    "start_time": "2024-12-26T14:22:50.393Z"
   },
   {
    "duration": 14,
    "start_time": "2024-12-26T14:22:50.458Z"
   },
   {
    "duration": 435,
    "start_time": "2024-12-26T14:22:50.473Z"
   },
   {
    "duration": 9,
    "start_time": "2024-12-26T14:22:50.910Z"
   },
   {
    "duration": 58,
    "start_time": "2024-12-26T14:22:50.920Z"
   },
   {
    "duration": 543,
    "start_time": "2024-12-26T14:22:50.980Z"
   },
   {
    "duration": 18,
    "start_time": "2024-12-26T14:22:51.525Z"
   },
   {
    "duration": 10,
    "start_time": "2024-12-26T14:22:51.544Z"
   },
   {
    "duration": 48,
    "start_time": "2024-12-26T14:22:51.555Z"
   },
   {
    "duration": 63598,
    "start_time": "2024-12-26T14:22:51.605Z"
   },
   {
    "duration": 11851,
    "start_time": "2024-12-26T14:23:55.204Z"
   },
   {
    "duration": 302,
    "start_time": "2024-12-26T14:24:07.056Z"
   },
   {
    "duration": 97,
    "start_time": "2024-12-26T14:24:07.361Z"
   },
   {
    "duration": 812,
    "start_time": "2024-12-26T14:24:07.460Z"
   },
   {
    "duration": 382936,
    "start_time": "2024-12-26T14:24:08.274Z"
   },
   {
    "duration": 17969,
    "start_time": "2024-12-26T14:30:31.212Z"
   },
   {
    "duration": 130,
    "start_time": "2024-12-26T14:30:49.182Z"
   },
   {
    "duration": 5,
    "start_time": "2024-12-26T14:30:49.314Z"
   },
   {
    "duration": 55,
    "start_time": "2024-12-26T14:49:00.457Z"
   },
   {
    "duration": 3,
    "start_time": "2024-12-26T14:49:00.513Z"
   },
   {
    "duration": 2427,
    "start_time": "2024-12-26T14:49:00.517Z"
   },
   {
    "duration": 1518,
    "start_time": "2024-12-26T14:49:02.947Z"
   },
   {
    "duration": 934,
    "start_time": "2024-12-26T14:49:04.467Z"
   },
   {
    "duration": 265,
    "start_time": "2024-12-26T14:49:05.403Z"
   },
   {
    "duration": 138,
    "start_time": "2024-12-26T14:49:05.670Z"
   },
   {
    "duration": 57,
    "start_time": "2024-12-26T14:49:05.810Z"
   },
   {
    "duration": 1029,
    "start_time": "2024-12-26T14:49:05.869Z"
   },
   {
    "duration": 1210,
    "start_time": "2024-12-26T14:49:06.901Z"
   },
   {
    "duration": 12,
    "start_time": "2024-12-26T14:49:08.113Z"
   },
   {
    "duration": 64,
    "start_time": "2024-12-26T14:49:08.127Z"
   },
   {
    "duration": 3,
    "start_time": "2024-12-26T14:49:08.192Z"
   },
   {
    "duration": 444,
    "start_time": "2024-12-26T14:49:08.196Z"
   },
   {
    "duration": 570,
    "start_time": "2024-12-26T14:49:08.642Z"
   },
   {
    "duration": 11,
    "start_time": "2024-12-26T14:49:09.213Z"
   },
   {
    "duration": 81,
    "start_time": "2024-12-26T14:49:09.225Z"
   },
   {
    "duration": 20,
    "start_time": "2024-12-26T14:49:09.307Z"
   },
   {
    "duration": 42,
    "start_time": "2024-12-26T14:49:09.328Z"
   },
   {
    "duration": 2099,
    "start_time": "2024-12-26T14:49:09.372Z"
   },
   {
    "duration": 16,
    "start_time": "2024-12-26T14:49:11.473Z"
   },
   {
    "duration": 43,
    "start_time": "2024-12-26T14:49:11.491Z"
   },
   {
    "duration": 44,
    "start_time": "2024-12-26T14:49:11.536Z"
   },
   {
    "duration": 53,
    "start_time": "2024-12-26T14:49:11.582Z"
   },
   {
    "duration": 42,
    "start_time": "2024-12-26T14:49:11.637Z"
   },
   {
    "duration": 2119,
    "start_time": "2024-12-26T14:49:11.680Z"
   },
   {
    "duration": 17,
    "start_time": "2024-12-26T14:49:13.800Z"
   },
   {
    "duration": 37,
    "start_time": "2024-12-26T14:49:13.822Z"
   },
   {
    "duration": 39,
    "start_time": "2024-12-26T14:49:13.861Z"
   },
   {
    "duration": 19,
    "start_time": "2024-12-26T14:49:13.902Z"
   },
   {
    "duration": 24,
    "start_time": "2024-12-26T14:49:13.922Z"
   },
   {
    "duration": 138,
    "start_time": "2024-12-26T14:49:13.948Z"
   },
   {
    "duration": 20,
    "start_time": "2024-12-26T14:49:14.087Z"
   },
   {
    "duration": 50,
    "start_time": "2024-12-26T14:49:14.109Z"
   },
   {
    "duration": 350,
    "start_time": "2024-12-26T14:49:14.164Z"
   },
   {
    "duration": 130,
    "start_time": "2024-12-26T14:49:14.515Z"
   },
   {
    "duration": 441,
    "start_time": "2024-12-26T14:49:14.654Z"
   },
   {
    "duration": 388,
    "start_time": "2024-12-26T14:49:15.097Z"
   },
   {
    "duration": 775,
    "start_time": "2024-12-26T14:49:15.486Z"
   },
   {
    "duration": 502,
    "start_time": "2024-12-26T14:49:16.262Z"
   },
   {
    "duration": 11,
    "start_time": "2024-12-26T14:49:16.768Z"
   },
   {
    "duration": 53,
    "start_time": "2024-12-26T14:49:16.781Z"
   },
   {
    "duration": 35,
    "start_time": "2024-12-26T14:49:16.836Z"
   },
   {
    "duration": 535,
    "start_time": "2024-12-26T14:49:16.873Z"
   },
   {
    "duration": 10,
    "start_time": "2024-12-26T14:49:17.410Z"
   },
   {
    "duration": 59,
    "start_time": "2024-12-26T14:49:17.421Z"
   },
   {
    "duration": 511,
    "start_time": "2024-12-26T14:49:17.482Z"
   },
   {
    "duration": 19,
    "start_time": "2024-12-26T14:49:17.994Z"
   },
   {
    "duration": 3,
    "start_time": "2024-12-26T14:49:18.014Z"
   },
   {
    "duration": 76,
    "start_time": "2024-12-26T14:49:18.019Z"
   },
   {
    "duration": 67070,
    "start_time": "2024-12-26T14:49:18.097Z"
   },
   {
    "duration": 20398,
    "start_time": "2024-12-26T14:50:25.169Z"
   },
   {
    "duration": 387,
    "start_time": "2024-12-26T14:50:45.572Z"
   },
   {
    "duration": 7,
    "start_time": "2024-12-26T14:50:45.962Z"
   },
   {
    "duration": 837,
    "start_time": "2024-12-26T14:50:45.971Z"
   },
   {
    "duration": 59,
    "start_time": "2024-12-26T14:56:25.571Z"
   },
   {
    "duration": 3,
    "start_time": "2024-12-26T14:56:25.632Z"
   },
   {
    "duration": 2609,
    "start_time": "2024-12-26T14:56:25.636Z"
   },
   {
    "duration": 1420,
    "start_time": "2024-12-26T14:56:28.247Z"
   },
   {
    "duration": 932,
    "start_time": "2024-12-26T14:56:29.670Z"
   },
   {
    "duration": 254,
    "start_time": "2024-12-26T14:56:30.603Z"
   },
   {
    "duration": 155,
    "start_time": "2024-12-26T14:56:30.859Z"
   },
   {
    "duration": 6,
    "start_time": "2024-12-26T14:56:31.015Z"
   },
   {
    "duration": 709,
    "start_time": "2024-12-26T14:56:31.023Z"
   },
   {
    "duration": 585,
    "start_time": "2024-12-26T14:56:31.735Z"
   },
   {
    "duration": 12,
    "start_time": "2024-12-26T14:56:32.321Z"
   },
   {
    "duration": 64,
    "start_time": "2024-12-26T14:56:32.335Z"
   },
   {
    "duration": 2,
    "start_time": "2024-12-26T14:56:32.401Z"
   },
   {
    "duration": 424,
    "start_time": "2024-12-26T14:56:32.405Z"
   },
   {
    "duration": 559,
    "start_time": "2024-12-26T14:56:32.830Z"
   },
   {
    "duration": 10,
    "start_time": "2024-12-26T14:56:33.391Z"
   },
   {
    "duration": 69,
    "start_time": "2024-12-26T14:56:33.402Z"
   },
   {
    "duration": 19,
    "start_time": "2024-12-26T14:56:33.472Z"
   },
   {
    "duration": 32,
    "start_time": "2024-12-26T14:56:33.493Z"
   },
   {
    "duration": 32,
    "start_time": "2024-12-26T14:56:33.526Z"
   },
   {
    "duration": 2159,
    "start_time": "2024-12-26T14:56:33.560Z"
   },
   {
    "duration": 16,
    "start_time": "2024-12-26T14:56:35.721Z"
   },
   {
    "duration": 50,
    "start_time": "2024-12-26T14:56:35.757Z"
   },
   {
    "duration": 22,
    "start_time": "2024-12-26T14:56:35.809Z"
   },
   {
    "duration": 50,
    "start_time": "2024-12-26T14:56:35.833Z"
   },
   {
    "duration": 43,
    "start_time": "2024-12-26T14:56:35.885Z"
   },
   {
    "duration": 2140,
    "start_time": "2024-12-26T14:56:35.930Z"
   },
   {
    "duration": 16,
    "start_time": "2024-12-26T14:56:38.074Z"
   },
   {
    "duration": 22,
    "start_time": "2024-12-26T14:56:38.091Z"
   },
   {
    "duration": 24,
    "start_time": "2024-12-26T14:56:38.114Z"
   },
   {
    "duration": 35,
    "start_time": "2024-12-26T14:56:38.140Z"
   },
   {
    "duration": 17,
    "start_time": "2024-12-26T14:56:38.177Z"
   },
   {
    "duration": 141,
    "start_time": "2024-12-26T14:56:38.196Z"
   },
   {
    "duration": 30,
    "start_time": "2024-12-26T14:56:38.338Z"
   },
   {
    "duration": 82,
    "start_time": "2024-12-26T14:56:38.370Z"
   },
   {
    "duration": 360,
    "start_time": "2024-12-26T14:56:38.453Z"
   },
   {
    "duration": 130,
    "start_time": "2024-12-26T14:56:38.815Z"
   },
   {
    "duration": 387,
    "start_time": "2024-12-26T14:56:38.947Z"
   },
   {
    "duration": 338,
    "start_time": "2024-12-26T14:56:39.336Z"
   },
   {
    "duration": 723,
    "start_time": "2024-12-26T14:56:39.676Z"
   },
   {
    "duration": 494,
    "start_time": "2024-12-26T14:56:40.400Z"
   },
   {
    "duration": 11,
    "start_time": "2024-12-26T14:56:40.895Z"
   },
   {
    "duration": 67,
    "start_time": "2024-12-26T14:56:40.907Z"
   },
   {
    "duration": 13,
    "start_time": "2024-12-26T14:56:40.976Z"
   },
   {
    "duration": 514,
    "start_time": "2024-12-26T14:56:40.990Z"
   },
   {
    "duration": 8,
    "start_time": "2024-12-26T14:56:41.506Z"
   },
   {
    "duration": 54,
    "start_time": "2024-12-26T14:56:41.516Z"
   },
   {
    "duration": 513,
    "start_time": "2024-12-26T14:56:41.572Z"
   },
   {
    "duration": 19,
    "start_time": "2024-12-26T14:56:42.086Z"
   },
   {
    "duration": 3,
    "start_time": "2024-12-26T14:56:42.106Z"
   },
   {
    "duration": 77,
    "start_time": "2024-12-26T14:56:42.111Z"
   },
   {
    "duration": 68275,
    "start_time": "2024-12-26T14:56:42.190Z"
   },
   {
    "duration": 23489,
    "start_time": "2024-12-26T14:57:50.468Z"
   },
   {
    "duration": 309,
    "start_time": "2024-12-26T14:58:13.963Z"
   },
   {
    "duration": 95,
    "start_time": "2024-12-26T14:58:14.274Z"
   },
   {
    "duration": 962,
    "start_time": "2024-12-26T14:58:14.375Z"
   },
   {
    "duration": 61,
    "start_time": "2024-12-26T15:03:37.215Z"
   },
   {
    "duration": 2,
    "start_time": "2024-12-26T15:03:37.279Z"
   },
   {
    "duration": 2528,
    "start_time": "2024-12-26T15:03:37.283Z"
   },
   {
    "duration": 1522,
    "start_time": "2024-12-26T15:03:39.814Z"
   },
   {
    "duration": 996,
    "start_time": "2024-12-26T15:03:41.337Z"
   },
   {
    "duration": 280,
    "start_time": "2024-12-26T15:03:42.334Z"
   },
   {
    "duration": 165,
    "start_time": "2024-12-26T15:03:42.615Z"
   },
   {
    "duration": 42,
    "start_time": "2024-12-26T15:03:42.782Z"
   },
   {
    "duration": 682,
    "start_time": "2024-12-26T15:03:42.825Z"
   },
   {
    "duration": 619,
    "start_time": "2024-12-26T15:03:43.510Z"
   },
   {
    "duration": 33,
    "start_time": "2024-12-26T15:03:44.131Z"
   },
   {
    "duration": 47,
    "start_time": "2024-12-26T15:03:44.166Z"
   },
   {
    "duration": 3,
    "start_time": "2024-12-26T15:03:44.215Z"
   },
   {
    "duration": 428,
    "start_time": "2024-12-26T15:03:44.219Z"
   },
   {
    "duration": 559,
    "start_time": "2024-12-26T15:03:44.649Z"
   },
   {
    "duration": 10,
    "start_time": "2024-12-26T15:03:45.210Z"
   },
   {
    "duration": 71,
    "start_time": "2024-12-26T15:03:45.222Z"
   },
   {
    "duration": 19,
    "start_time": "2024-12-26T15:03:45.295Z"
   },
   {
    "duration": 36,
    "start_time": "2024-12-26T15:03:45.315Z"
   },
   {
    "duration": 35,
    "start_time": "2024-12-26T15:03:45.353Z"
   },
   {
    "duration": 2165,
    "start_time": "2024-12-26T15:03:45.391Z"
   },
   {
    "duration": 19,
    "start_time": "2024-12-26T15:03:47.558Z"
   },
   {
    "duration": 39,
    "start_time": "2024-12-26T15:03:47.578Z"
   },
   {
    "duration": 41,
    "start_time": "2024-12-26T15:03:47.619Z"
   },
   {
    "duration": 29,
    "start_time": "2024-12-26T15:03:47.662Z"
   },
   {
    "duration": 110,
    "start_time": "2024-12-26T15:03:47.693Z"
   },
   {
    "duration": 46,
    "start_time": "2024-12-26T15:03:47.805Z"
   },
   {
    "duration": 42,
    "start_time": "2024-12-26T15:03:47.856Z"
   },
   {
    "duration": 2025,
    "start_time": "2024-12-26T15:03:47.900Z"
   },
   {
    "duration": 28,
    "start_time": "2024-12-26T15:03:49.926Z"
   },
   {
    "duration": 22,
    "start_time": "2024-12-26T15:03:49.956Z"
   },
   {
    "duration": 26,
    "start_time": "2024-12-26T15:03:49.980Z"
   },
   {
    "duration": 18,
    "start_time": "2024-12-26T15:03:50.008Z"
   },
   {
    "duration": 36,
    "start_time": "2024-12-26T15:03:50.028Z"
   },
   {
    "duration": 122,
    "start_time": "2024-12-26T15:03:50.066Z"
   },
   {
    "duration": 17,
    "start_time": "2024-12-26T15:03:50.190Z"
   },
   {
    "duration": 46,
    "start_time": "2024-12-26T15:03:50.208Z"
   },
   {
    "duration": 355,
    "start_time": "2024-12-26T15:03:50.256Z"
   },
   {
    "duration": 154,
    "start_time": "2024-12-26T15:03:50.613Z"
   },
   {
    "duration": 412,
    "start_time": "2024-12-26T15:03:50.769Z"
   },
   {
    "duration": 407,
    "start_time": "2024-12-26T15:03:51.184Z"
   },
   {
    "duration": 800,
    "start_time": "2024-12-26T15:03:51.593Z"
   },
   {
    "duration": 518,
    "start_time": "2024-12-26T15:03:52.394Z"
   },
   {
    "duration": 11,
    "start_time": "2024-12-26T15:03:52.914Z"
   },
   {
    "duration": 74,
    "start_time": "2024-12-26T15:03:52.926Z"
   },
   {
    "duration": 14,
    "start_time": "2024-12-26T15:03:53.002Z"
   },
   {
    "duration": 512,
    "start_time": "2024-12-26T15:03:53.018Z"
   },
   {
    "duration": 28,
    "start_time": "2024-12-26T15:03:53.532Z"
   },
   {
    "duration": 39,
    "start_time": "2024-12-26T15:03:53.562Z"
   },
   {
    "duration": 579,
    "start_time": "2024-12-26T15:03:53.603Z"
   },
   {
    "duration": 18,
    "start_time": "2024-12-26T15:03:54.184Z"
   },
   {
    "duration": 3,
    "start_time": "2024-12-26T15:03:54.203Z"
   },
   {
    "duration": 66,
    "start_time": "2024-12-26T15:03:54.208Z"
   },
   {
    "duration": 69178,
    "start_time": "2024-12-26T15:03:54.276Z"
   },
   {
    "duration": 18699,
    "start_time": "2024-12-26T15:05:03.455Z"
   },
   {
    "duration": 397,
    "start_time": "2024-12-26T15:05:22.156Z"
   },
   {
    "duration": 5,
    "start_time": "2024-12-26T15:05:22.555Z"
   },
   {
    "duration": 781,
    "start_time": "2024-12-26T15:05:22.562Z"
   },
   {
    "duration": 57,
    "start_time": "2024-12-26T15:11:31.171Z"
   },
   {
    "duration": 2,
    "start_time": "2024-12-26T15:11:31.230Z"
   },
   {
    "duration": 2323,
    "start_time": "2024-12-26T15:11:31.234Z"
   },
   {
    "duration": 1400,
    "start_time": "2024-12-26T15:11:33.559Z"
   },
   {
    "duration": 924,
    "start_time": "2024-12-26T15:11:34.961Z"
   },
   {
    "duration": 243,
    "start_time": "2024-12-26T15:11:35.886Z"
   },
   {
    "duration": 141,
    "start_time": "2024-12-26T15:11:36.130Z"
   },
   {
    "duration": 6,
    "start_time": "2024-12-26T15:11:36.272Z"
   },
   {
    "duration": 712,
    "start_time": "2024-12-26T15:11:36.279Z"
   },
   {
    "duration": 582,
    "start_time": "2024-12-26T15:11:36.994Z"
   },
   {
    "duration": 12,
    "start_time": "2024-12-26T15:11:37.577Z"
   },
   {
    "duration": 82,
    "start_time": "2024-12-26T15:11:37.590Z"
   },
   {
    "duration": 2,
    "start_time": "2024-12-26T15:11:37.674Z"
   },
   {
    "duration": 613,
    "start_time": "2024-12-26T15:11:37.677Z"
   },
   {
    "duration": 890,
    "start_time": "2024-12-26T15:11:38.291Z"
   },
   {
    "duration": 10,
    "start_time": "2024-12-26T15:11:39.183Z"
   },
   {
    "duration": 73,
    "start_time": "2024-12-26T15:11:39.194Z"
   },
   {
    "duration": 18,
    "start_time": "2024-12-26T15:11:39.269Z"
   },
   {
    "duration": 17,
    "start_time": "2024-12-26T15:11:39.289Z"
   },
   {
    "duration": 18,
    "start_time": "2024-12-26T15:11:39.307Z"
   },
   {
    "duration": 2027,
    "start_time": "2024-12-26T15:11:39.326Z"
   },
   {
    "duration": 16,
    "start_time": "2024-12-26T15:11:41.355Z"
   },
   {
    "duration": 41,
    "start_time": "2024-12-26T15:11:41.373Z"
   },
   {
    "duration": 21,
    "start_time": "2024-12-26T15:11:41.416Z"
   },
   {
    "duration": 41,
    "start_time": "2024-12-26T15:11:41.438Z"
   },
   {
    "duration": 17,
    "start_time": "2024-12-26T15:11:41.480Z"
   },
   {
    "duration": 56,
    "start_time": "2024-12-26T15:11:41.499Z"
   },
   {
    "duration": 32,
    "start_time": "2024-12-26T15:11:41.559Z"
   },
   {
    "duration": 2014,
    "start_time": "2024-12-26T15:11:41.593Z"
   },
   {
    "duration": 15,
    "start_time": "2024-12-26T15:11:43.608Z"
   },
   {
    "duration": 30,
    "start_time": "2024-12-26T15:11:43.625Z"
   },
   {
    "duration": 18,
    "start_time": "2024-12-26T15:11:43.657Z"
   },
   {
    "duration": 20,
    "start_time": "2024-12-26T15:11:43.677Z"
   },
   {
    "duration": 46,
    "start_time": "2024-12-26T15:11:43.698Z"
   },
   {
    "duration": 129,
    "start_time": "2024-12-26T15:11:43.746Z"
   },
   {
    "duration": 19,
    "start_time": "2024-12-26T15:11:43.877Z"
   },
   {
    "duration": 43,
    "start_time": "2024-12-26T15:11:43.898Z"
   },
   {
    "duration": 361,
    "start_time": "2024-12-26T15:11:43.954Z"
   },
   {
    "duration": 149,
    "start_time": "2024-12-26T15:11:44.316Z"
   },
   {
    "duration": 399,
    "start_time": "2024-12-26T15:11:44.466Z"
   },
   {
    "duration": 388,
    "start_time": "2024-12-26T15:11:44.867Z"
   },
   {
    "duration": 812,
    "start_time": "2024-12-26T15:11:45.257Z"
   },
   {
    "duration": 2,
    "start_time": "2024-12-26T15:11:46.071Z"
   },
   {
    "duration": 12,
    "start_time": "2024-12-26T15:11:46.074Z"
   },
   {
    "duration": 5,
    "start_time": "2024-12-26T15:11:46.087Z"
   },
   {
    "duration": 471,
    "start_time": "2024-12-26T15:11:46.094Z"
   },
   {
    "duration": 15,
    "start_time": "2024-12-26T15:11:46.566Z"
   },
   {
    "duration": 529,
    "start_time": "2024-12-26T15:11:46.582Z"
   },
   {
    "duration": 10,
    "start_time": "2024-12-26T15:11:47.113Z"
   },
   {
    "duration": 56,
    "start_time": "2024-12-26T15:11:47.125Z"
   },
   {
    "duration": 564,
    "start_time": "2024-12-26T15:11:47.183Z"
   },
   {
    "duration": 21,
    "start_time": "2024-12-26T15:11:47.753Z"
   },
   {
    "duration": 76,
    "start_time": "2024-12-26T15:11:47.775Z"
   },
   {
    "duration": 62,
    "start_time": "2024-12-26T15:11:47.852Z"
   },
   {
    "duration": 75017,
    "start_time": "2024-12-26T15:11:47.916Z"
   },
   {
    "duration": 21121,
    "start_time": "2024-12-26T15:13:02.935Z"
   },
   {
    "duration": 406,
    "start_time": "2024-12-26T15:13:24.062Z"
   },
   {
    "duration": 83,
    "start_time": "2024-12-26T15:13:24.474Z"
   },
   {
    "duration": 884,
    "start_time": "2024-12-26T15:13:24.559Z"
   },
   {
    "duration": 0,
    "start_time": "2024-12-26T15:20:06.797Z"
   },
   {
    "duration": 52,
    "start_time": "2024-12-26T15:20:08.146Z"
   },
   {
    "duration": 3,
    "start_time": "2024-12-26T15:20:08.200Z"
   },
   {
    "duration": 2310,
    "start_time": "2024-12-26T15:20:08.205Z"
   },
   {
    "duration": 1884,
    "start_time": "2024-12-26T15:20:10.517Z"
   },
   {
    "duration": 907,
    "start_time": "2024-12-26T15:20:12.403Z"
   },
   {
    "duration": 243,
    "start_time": "2024-12-26T15:20:13.312Z"
   },
   {
    "duration": 136,
    "start_time": "2024-12-26T15:20:13.556Z"
   },
   {
    "duration": 6,
    "start_time": "2024-12-26T15:20:13.694Z"
   },
   {
    "duration": 652,
    "start_time": "2024-12-26T15:20:13.702Z"
   },
   {
    "duration": 561,
    "start_time": "2024-12-26T15:20:14.357Z"
   },
   {
    "duration": 41,
    "start_time": "2024-12-26T15:20:14.920Z"
   },
   {
    "duration": 48,
    "start_time": "2024-12-26T15:20:14.963Z"
   },
   {
    "duration": 3,
    "start_time": "2024-12-26T15:20:15.013Z"
   },
   {
    "duration": 406,
    "start_time": "2024-12-26T15:20:15.018Z"
   },
   {
    "duration": 473,
    "start_time": "2024-12-26T15:20:15.426Z"
   },
   {
    "duration": 60,
    "start_time": "2024-12-26T15:20:15.900Z"
   },
   {
    "duration": 57,
    "start_time": "2024-12-26T15:20:15.962Z"
   },
   {
    "duration": 35,
    "start_time": "2024-12-26T15:20:16.020Z"
   },
   {
    "duration": 45,
    "start_time": "2024-12-26T15:20:16.057Z"
   },
   {
    "duration": 19,
    "start_time": "2024-12-26T15:20:16.103Z"
   },
   {
    "duration": 1945,
    "start_time": "2024-12-26T15:20:16.124Z"
   },
   {
    "duration": 15,
    "start_time": "2024-12-26T15:20:18.070Z"
   },
   {
    "duration": 51,
    "start_time": "2024-12-26T15:20:18.086Z"
   },
   {
    "duration": 21,
    "start_time": "2024-12-26T15:20:18.139Z"
   },
   {
    "duration": 20,
    "start_time": "2024-12-26T15:20:18.162Z"
   },
   {
    "duration": 27,
    "start_time": "2024-12-26T15:20:18.184Z"
   },
   {
    "duration": 49,
    "start_time": "2024-12-26T15:20:18.212Z"
   },
   {
    "duration": 30,
    "start_time": "2024-12-26T15:20:18.264Z"
   },
   {
    "duration": 1902,
    "start_time": "2024-12-26T15:20:18.296Z"
   },
   {
    "duration": 16,
    "start_time": "2024-12-26T15:20:20.199Z"
   },
   {
    "duration": 24,
    "start_time": "2024-12-26T15:20:20.216Z"
   },
   {
    "duration": 25,
    "start_time": "2024-12-26T15:20:20.241Z"
   },
   {
    "duration": 19,
    "start_time": "2024-12-26T15:20:20.267Z"
   },
   {
    "duration": 21,
    "start_time": "2024-12-26T15:20:20.287Z"
   },
   {
    "duration": 122,
    "start_time": "2024-12-26T15:20:20.309Z"
   },
   {
    "duration": 26,
    "start_time": "2024-12-26T15:20:20.433Z"
   },
   {
    "duration": 136,
    "start_time": "2024-12-26T15:20:20.460Z"
   },
   {
    "duration": 290,
    "start_time": "2024-12-26T15:20:20.598Z"
   },
   {
    "duration": 118,
    "start_time": "2024-12-26T15:20:20.889Z"
   },
   {
    "duration": 355,
    "start_time": "2024-12-26T15:20:21.008Z"
   },
   {
    "duration": 358,
    "start_time": "2024-12-26T15:20:21.364Z"
   },
   {
    "duration": 727,
    "start_time": "2024-12-26T15:20:21.723Z"
   },
   {
    "duration": 2,
    "start_time": "2024-12-26T15:20:22.454Z"
   },
   {
    "duration": 112,
    "start_time": "2024-12-26T15:20:22.458Z"
   },
   {
    "duration": 8,
    "start_time": "2024-12-26T15:20:22.572Z"
   },
   {
    "duration": 408,
    "start_time": "2024-12-26T15:20:22.581Z"
   },
   {
    "duration": 64,
    "start_time": "2024-12-26T15:20:22.991Z"
   },
   {
    "duration": 448,
    "start_time": "2024-12-26T15:20:23.057Z"
   },
   {
    "duration": 2,
    "start_time": "2024-12-26T15:20:23.507Z"
   },
   {
    "duration": 6,
    "start_time": "2024-12-26T15:20:23.511Z"
   },
   {
    "duration": 4,
    "start_time": "2024-12-26T15:20:23.518Z"
   },
   {
    "duration": 31,
    "start_time": "2024-12-26T15:20:23.523Z"
   },
   {
    "duration": 484,
    "start_time": "2024-12-26T15:20:23.555Z"
   },
   {
    "duration": 31,
    "start_time": "2024-12-26T15:20:24.040Z"
   },
   {
    "duration": 3,
    "start_time": "2024-12-26T15:20:24.073Z"
   },
   {
    "duration": 94,
    "start_time": "2024-12-26T15:20:24.077Z"
   },
   {
    "duration": 15446,
    "start_time": "2024-12-26T15:21:33.108Z"
   },
   {
    "duration": 307,
    "start_time": "2024-12-26T15:21:48.556Z"
   },
   {
    "duration": 6,
    "start_time": "2024-12-26T15:21:48.956Z"
   },
   {
    "duration": 940,
    "start_time": "2024-12-26T15:21:48.965Z"
   },
   {
    "duration": 53,
    "start_time": "2024-12-26T15:24:59.798Z"
   },
   {
    "duration": 3,
    "start_time": "2024-12-26T15:24:59.852Z"
   },
   {
    "duration": 2309,
    "start_time": "2024-12-26T15:24:59.856Z"
   },
   {
    "duration": 2006,
    "start_time": "2024-12-26T15:25:02.168Z"
   },
   {
    "duration": 1512,
    "start_time": "2024-12-26T15:25:04.175Z"
   },
   {
    "duration": 236,
    "start_time": "2024-12-26T15:25:05.688Z"
   },
   {
    "duration": 138,
    "start_time": "2024-12-26T15:25:05.926Z"
   },
   {
    "duration": 12,
    "start_time": "2024-12-26T15:25:06.065Z"
   },
   {
    "duration": 671,
    "start_time": "2024-12-26T15:25:06.079Z"
   },
   {
    "duration": 559,
    "start_time": "2024-12-26T15:25:06.753Z"
   },
   {
    "duration": 48,
    "start_time": "2024-12-26T15:25:07.314Z"
   },
   {
    "duration": 48,
    "start_time": "2024-12-26T15:25:07.363Z"
   },
   {
    "duration": 2,
    "start_time": "2024-12-26T15:25:07.413Z"
   },
   {
    "duration": 413,
    "start_time": "2024-12-26T15:25:07.417Z"
   },
   {
    "duration": 540,
    "start_time": "2024-12-26T15:25:07.831Z"
   },
   {
    "duration": 10,
    "start_time": "2024-12-26T15:25:08.372Z"
   },
   {
    "duration": 71,
    "start_time": "2024-12-26T15:25:08.383Z"
   },
   {
    "duration": 18,
    "start_time": "2024-12-26T15:25:08.455Z"
   },
   {
    "duration": 144,
    "start_time": "2024-12-26T15:25:08.475Z"
   },
   {
    "duration": 33,
    "start_time": "2024-12-26T15:25:08.620Z"
   },
   {
    "duration": 1959,
    "start_time": "2024-12-26T15:25:08.656Z"
   },
   {
    "duration": 15,
    "start_time": "2024-12-26T15:25:10.617Z"
   },
   {
    "duration": 73,
    "start_time": "2024-12-26T15:25:10.634Z"
   },
   {
    "duration": 24,
    "start_time": "2024-12-26T15:25:10.709Z"
   },
   {
    "duration": 24,
    "start_time": "2024-12-26T15:25:10.734Z"
   },
   {
    "duration": 52,
    "start_time": "2024-12-26T15:25:10.760Z"
   },
   {
    "duration": 131,
    "start_time": "2024-12-26T15:25:10.813Z"
   },
   {
    "duration": 31,
    "start_time": "2024-12-26T15:25:10.948Z"
   },
   {
    "duration": 1937,
    "start_time": "2024-12-26T15:25:10.980Z"
   },
   {
    "duration": 15,
    "start_time": "2024-12-26T15:25:12.919Z"
   },
   {
    "duration": 30,
    "start_time": "2024-12-26T15:25:12.935Z"
   },
   {
    "duration": 20,
    "start_time": "2024-12-26T15:25:12.967Z"
   },
   {
    "duration": 19,
    "start_time": "2024-12-26T15:25:12.988Z"
   },
   {
    "duration": 30,
    "start_time": "2024-12-26T15:25:13.008Z"
   },
   {
    "duration": 116,
    "start_time": "2024-12-26T15:25:13.040Z"
   },
   {
    "duration": 27,
    "start_time": "2024-12-26T15:25:13.158Z"
   },
   {
    "duration": 45,
    "start_time": "2024-12-26T15:25:13.186Z"
   },
   {
    "duration": 292,
    "start_time": "2024-12-26T15:25:13.232Z"
   },
   {
    "duration": 129,
    "start_time": "2024-12-26T15:25:13.526Z"
   },
   {
    "duration": 355,
    "start_time": "2024-12-26T15:25:13.656Z"
   },
   {
    "duration": 361,
    "start_time": "2024-12-26T15:25:14.013Z"
   },
   {
    "duration": 758,
    "start_time": "2024-12-26T15:25:14.376Z"
   },
   {
    "duration": 2,
    "start_time": "2024-12-26T15:25:15.136Z"
   },
   {
    "duration": 24,
    "start_time": "2024-12-26T15:25:15.139Z"
   },
   {
    "duration": 7,
    "start_time": "2024-12-26T15:25:15.164Z"
   },
   {
    "duration": 435,
    "start_time": "2024-12-26T15:25:15.173Z"
   },
   {
    "duration": 50,
    "start_time": "2024-12-26T15:25:15.609Z"
   },
   {
    "duration": 467,
    "start_time": "2024-12-26T15:25:15.660Z"
   },
   {
    "duration": 2,
    "start_time": "2024-12-26T15:25:16.129Z"
   },
   {
    "duration": 14,
    "start_time": "2024-12-26T15:25:16.132Z"
   },
   {
    "duration": 8,
    "start_time": "2024-12-26T15:25:16.147Z"
   },
   {
    "duration": 19,
    "start_time": "2024-12-26T15:25:16.156Z"
   },
   {
    "duration": 481,
    "start_time": "2024-12-26T15:25:16.177Z"
   },
   {
    "duration": 353,
    "start_time": "2024-12-26T15:25:16.659Z"
   },
   {
    "duration": 27,
    "start_time": "2024-12-26T15:25:17.014Z"
   },
   {
    "duration": 4,
    "start_time": "2024-12-26T15:25:17.043Z"
   },
   {
    "duration": 60,
    "start_time": "2024-12-26T15:25:17.054Z"
   },
   {
    "duration": 50,
    "start_time": "2024-12-26T15:26:23.594Z"
   },
   {
    "duration": 2,
    "start_time": "2024-12-26T15:26:23.646Z"
   },
   {
    "duration": 2262,
    "start_time": "2024-12-26T15:26:23.649Z"
   },
   {
    "duration": 1903,
    "start_time": "2024-12-26T15:26:25.913Z"
   },
   {
    "duration": 880,
    "start_time": "2024-12-26T15:26:27.817Z"
   },
   {
    "duration": 237,
    "start_time": "2024-12-26T15:26:28.698Z"
   },
   {
    "duration": 135,
    "start_time": "2024-12-26T15:26:28.937Z"
   },
   {
    "duration": 6,
    "start_time": "2024-12-26T15:26:29.073Z"
   },
   {
    "duration": 663,
    "start_time": "2024-12-26T15:26:29.080Z"
   },
   {
    "duration": 554,
    "start_time": "2024-12-26T15:26:29.746Z"
   },
   {
    "duration": 11,
    "start_time": "2024-12-26T15:26:30.302Z"
   },
   {
    "duration": 84,
    "start_time": "2024-12-26T15:26:30.315Z"
   },
   {
    "duration": 3,
    "start_time": "2024-12-26T15:26:30.401Z"
   },
   {
    "duration": 410,
    "start_time": "2024-12-26T15:26:30.405Z"
   },
   {
    "duration": 473,
    "start_time": "2024-12-26T15:26:30.817Z"
   },
   {
    "duration": 11,
    "start_time": "2024-12-26T15:26:31.292Z"
   },
   {
    "duration": 74,
    "start_time": "2024-12-26T15:26:31.304Z"
   },
   {
    "duration": 18,
    "start_time": "2024-12-26T15:26:31.380Z"
   },
   {
    "duration": 30,
    "start_time": "2024-12-26T15:26:31.400Z"
   },
   {
    "duration": 23,
    "start_time": "2024-12-26T15:26:31.431Z"
   },
   {
    "duration": 1985,
    "start_time": "2024-12-26T15:26:31.455Z"
   },
   {
    "duration": 19,
    "start_time": "2024-12-26T15:26:33.442Z"
   },
   {
    "duration": 65,
    "start_time": "2024-12-26T15:26:33.462Z"
   },
   {
    "duration": 23,
    "start_time": "2024-12-26T15:26:33.528Z"
   },
   {
    "duration": 46,
    "start_time": "2024-12-26T15:26:33.553Z"
   },
   {
    "duration": 33,
    "start_time": "2024-12-26T15:26:33.600Z"
   },
   {
    "duration": 41,
    "start_time": "2024-12-26T15:26:33.635Z"
   },
   {
    "duration": 33,
    "start_time": "2024-12-26T15:26:33.680Z"
   },
   {
    "duration": 2016,
    "start_time": "2024-12-26T15:26:33.715Z"
   },
   {
    "duration": 23,
    "start_time": "2024-12-26T15:26:35.733Z"
   },
   {
    "duration": 84,
    "start_time": "2024-12-26T15:26:35.758Z"
   },
   {
    "duration": 47,
    "start_time": "2024-12-26T15:26:35.844Z"
   },
   {
    "duration": 39,
    "start_time": "2024-12-26T15:26:35.892Z"
   },
   {
    "duration": 45,
    "start_time": "2024-12-26T15:26:35.933Z"
   },
   {
    "duration": 136,
    "start_time": "2024-12-26T15:26:35.980Z"
   },
   {
    "duration": 29,
    "start_time": "2024-12-26T15:26:36.117Z"
   },
   {
    "duration": 54,
    "start_time": "2024-12-26T15:26:36.148Z"
   },
   {
    "duration": 294,
    "start_time": "2024-12-26T15:26:36.203Z"
   },
   {
    "duration": 125,
    "start_time": "2024-12-26T15:26:36.499Z"
   },
   {
    "duration": 380,
    "start_time": "2024-12-26T15:26:36.625Z"
   },
   {
    "duration": 371,
    "start_time": "2024-12-26T15:26:37.007Z"
   },
   {
    "duration": 766,
    "start_time": "2024-12-26T15:26:37.380Z"
   },
   {
    "duration": 6,
    "start_time": "2024-12-26T15:26:38.148Z"
   },
   {
    "duration": 11,
    "start_time": "2024-12-26T15:26:38.156Z"
   },
   {
    "duration": 17,
    "start_time": "2024-12-26T15:26:38.169Z"
   },
   {
    "duration": 477,
    "start_time": "2024-12-26T15:26:38.187Z"
   },
   {
    "duration": 14,
    "start_time": "2024-12-26T15:26:38.666Z"
   },
   {
    "duration": 496,
    "start_time": "2024-12-26T15:26:38.682Z"
   },
   {
    "duration": 2,
    "start_time": "2024-12-26T15:26:39.179Z"
   },
   {
    "duration": 4,
    "start_time": "2024-12-26T15:26:39.183Z"
   },
   {
    "duration": 4,
    "start_time": "2024-12-26T15:26:39.188Z"
   },
   {
    "duration": 20,
    "start_time": "2024-12-26T15:26:39.193Z"
   },
   {
    "duration": 527,
    "start_time": "2024-12-26T15:26:39.215Z"
   },
   {
    "duration": 303,
    "start_time": "2024-12-26T15:26:39.744Z"
   },
   {
    "duration": 28,
    "start_time": "2024-12-26T15:26:40.053Z"
   },
   {
    "duration": 4,
    "start_time": "2024-12-26T15:26:40.082Z"
   },
   {
    "duration": 90,
    "start_time": "2024-12-26T15:26:40.087Z"
   },
   {
    "duration": 50,
    "start_time": "2024-12-26T15:27:48.461Z"
   },
   {
    "duration": 2,
    "start_time": "2024-12-26T15:27:48.512Z"
   },
   {
    "duration": 2283,
    "start_time": "2024-12-26T15:27:48.515Z"
   },
   {
    "duration": 1589,
    "start_time": "2024-12-26T15:27:50.800Z"
   },
   {
    "duration": 1264,
    "start_time": "2024-12-26T15:27:52.391Z"
   },
   {
    "duration": 239,
    "start_time": "2024-12-26T15:27:53.656Z"
   },
   {
    "duration": 137,
    "start_time": "2024-12-26T15:27:53.896Z"
   },
   {
    "duration": 7,
    "start_time": "2024-12-26T15:27:54.034Z"
   },
   {
    "duration": 640,
    "start_time": "2024-12-26T15:27:54.042Z"
   },
   {
    "duration": 577,
    "start_time": "2024-12-26T15:27:54.685Z"
   },
   {
    "duration": 12,
    "start_time": "2024-12-26T15:27:55.264Z"
   },
   {
    "duration": 46,
    "start_time": "2024-12-26T15:27:55.278Z"
   },
   {
    "duration": 3,
    "start_time": "2024-12-26T15:27:55.326Z"
   },
   {
    "duration": 365,
    "start_time": "2024-12-26T15:27:55.354Z"
   },
   {
    "duration": 478,
    "start_time": "2024-12-26T15:27:55.721Z"
   },
   {
    "duration": 11,
    "start_time": "2024-12-26T15:27:56.201Z"
   },
   {
    "duration": 81,
    "start_time": "2024-12-26T15:27:56.214Z"
   },
   {
    "duration": 18,
    "start_time": "2024-12-26T15:27:56.297Z"
   },
   {
    "duration": 24,
    "start_time": "2024-12-26T15:27:56.317Z"
   },
   {
    "duration": 26,
    "start_time": "2024-12-26T15:27:56.342Z"
   },
   {
    "duration": 1919,
    "start_time": "2024-12-26T15:27:56.370Z"
   },
   {
    "duration": 15,
    "start_time": "2024-12-26T15:27:58.291Z"
   },
   {
    "duration": 48,
    "start_time": "2024-12-26T15:27:58.307Z"
   },
   {
    "duration": 22,
    "start_time": "2024-12-26T15:27:58.356Z"
   },
   {
    "duration": 21,
    "start_time": "2024-12-26T15:27:58.380Z"
   },
   {
    "duration": 17,
    "start_time": "2024-12-26T15:27:58.402Z"
   },
   {
    "duration": 60,
    "start_time": "2024-12-26T15:27:58.421Z"
   },
   {
    "duration": 30,
    "start_time": "2024-12-26T15:27:58.484Z"
   },
   {
    "duration": 1981,
    "start_time": "2024-12-26T15:27:58.516Z"
   },
   {
    "duration": 16,
    "start_time": "2024-12-26T15:28:00.499Z"
   },
   {
    "duration": 27,
    "start_time": "2024-12-26T15:28:00.516Z"
   },
   {
    "duration": 27,
    "start_time": "2024-12-26T15:28:00.544Z"
   },
   {
    "duration": 31,
    "start_time": "2024-12-26T15:28:00.573Z"
   },
   {
    "duration": 42,
    "start_time": "2024-12-26T15:28:00.606Z"
   },
   {
    "duration": 114,
    "start_time": "2024-12-26T15:28:00.649Z"
   },
   {
    "duration": 54,
    "start_time": "2024-12-26T15:28:00.764Z"
   },
   {
    "duration": 42,
    "start_time": "2024-12-26T15:28:00.819Z"
   },
   {
    "duration": 344,
    "start_time": "2024-12-26T15:28:00.862Z"
   },
   {
    "duration": 119,
    "start_time": "2024-12-26T15:28:01.207Z"
   },
   {
    "duration": 363,
    "start_time": "2024-12-26T15:28:01.328Z"
   },
   {
    "duration": 376,
    "start_time": "2024-12-26T15:28:01.692Z"
   },
   {
    "duration": 738,
    "start_time": "2024-12-26T15:28:02.069Z"
   },
   {
    "duration": 3,
    "start_time": "2024-12-26T15:28:02.808Z"
   },
   {
    "duration": 36,
    "start_time": "2024-12-26T15:28:02.812Z"
   },
   {
    "duration": 9,
    "start_time": "2024-12-26T15:28:02.849Z"
   },
   {
    "duration": 442,
    "start_time": "2024-12-26T15:28:02.859Z"
   },
   {
    "duration": 14,
    "start_time": "2024-12-26T15:28:03.302Z"
   },
   {
    "duration": 487,
    "start_time": "2024-12-26T15:28:03.317Z"
   },
   {
    "duration": 2,
    "start_time": "2024-12-26T15:28:03.806Z"
   },
   {
    "duration": 66,
    "start_time": "2024-12-26T15:28:03.809Z"
   },
   {
    "duration": 15,
    "start_time": "2024-12-26T15:28:03.876Z"
   },
   {
    "duration": 32,
    "start_time": "2024-12-26T15:28:03.892Z"
   },
   {
    "duration": 537,
    "start_time": "2024-12-26T15:28:03.926Z"
   },
   {
    "duration": 306,
    "start_time": "2024-12-26T15:28:04.464Z"
   },
   {
    "duration": 24,
    "start_time": "2024-12-26T15:28:04.771Z"
   },
   {
    "duration": 70,
    "start_time": "2024-12-26T15:28:04.796Z"
   },
   {
    "duration": 123,
    "start_time": "2024-12-26T15:28:04.868Z"
   },
   {
    "duration": 73354,
    "start_time": "2024-12-26T15:28:04.993Z"
   },
   {
    "duration": 55,
    "start_time": "2024-12-26T15:29:20.686Z"
   },
   {
    "duration": 2,
    "start_time": "2024-12-26T15:29:20.743Z"
   },
   {
    "duration": 2269,
    "start_time": "2024-12-26T15:29:20.746Z"
   },
   {
    "duration": 1394,
    "start_time": "2024-12-26T15:29:23.017Z"
   },
   {
    "duration": 1579,
    "start_time": "2024-12-26T15:29:24.413Z"
   },
   {
    "duration": 230,
    "start_time": "2024-12-26T15:29:25.994Z"
   },
   {
    "duration": 138,
    "start_time": "2024-12-26T15:29:26.225Z"
   },
   {
    "duration": 5,
    "start_time": "2024-12-26T15:29:26.365Z"
   },
   {
    "duration": 672,
    "start_time": "2024-12-26T15:29:26.371Z"
   },
   {
    "duration": 560,
    "start_time": "2024-12-26T15:29:27.045Z"
   },
   {
    "duration": 11,
    "start_time": "2024-12-26T15:29:27.606Z"
   },
   {
    "duration": 62,
    "start_time": "2024-12-26T15:29:27.618Z"
   },
   {
    "duration": 2,
    "start_time": "2024-12-26T15:29:27.682Z"
   },
   {
    "duration": 410,
    "start_time": "2024-12-26T15:29:27.686Z"
   },
   {
    "duration": 491,
    "start_time": "2024-12-26T15:29:28.098Z"
   },
   {
    "duration": 11,
    "start_time": "2024-12-26T15:29:28.590Z"
   },
   {
    "duration": 87,
    "start_time": "2024-12-26T15:29:28.602Z"
   },
   {
    "duration": 19,
    "start_time": "2024-12-26T15:29:28.690Z"
   },
   {
    "duration": 75,
    "start_time": "2024-12-26T15:29:28.711Z"
   },
   {
    "duration": 123,
    "start_time": "2024-12-26T15:29:28.788Z"
   },
   {
    "duration": 1956,
    "start_time": "2024-12-26T15:29:28.912Z"
   },
   {
    "duration": 15,
    "start_time": "2024-12-26T15:29:30.870Z"
   },
   {
    "duration": 72,
    "start_time": "2024-12-26T15:29:30.886Z"
   },
   {
    "duration": 25,
    "start_time": "2024-12-26T15:29:30.960Z"
   },
   {
    "duration": 36,
    "start_time": "2024-12-26T15:29:30.987Z"
   },
   {
    "duration": 19,
    "start_time": "2024-12-26T15:29:31.024Z"
   },
   {
    "duration": 52,
    "start_time": "2024-12-26T15:29:31.045Z"
   },
   {
    "duration": 31,
    "start_time": "2024-12-26T15:29:31.102Z"
   },
   {
    "duration": 1930,
    "start_time": "2024-12-26T15:29:31.134Z"
   },
   {
    "duration": 15,
    "start_time": "2024-12-26T15:29:33.066Z"
   },
   {
    "duration": 19,
    "start_time": "2024-12-26T15:29:33.082Z"
   },
   {
    "duration": 36,
    "start_time": "2024-12-26T15:29:33.103Z"
   },
   {
    "duration": 51,
    "start_time": "2024-12-26T15:29:33.140Z"
   },
   {
    "duration": 22,
    "start_time": "2024-12-26T15:29:33.192Z"
   },
   {
    "duration": 122,
    "start_time": "2024-12-26T15:29:33.216Z"
   },
   {
    "duration": 26,
    "start_time": "2024-12-26T15:29:33.339Z"
   },
   {
    "duration": 47,
    "start_time": "2024-12-26T15:29:33.366Z"
   },
   {
    "duration": 309,
    "start_time": "2024-12-26T15:29:33.414Z"
   },
   {
    "duration": 126,
    "start_time": "2024-12-26T15:29:33.725Z"
   },
   {
    "duration": 406,
    "start_time": "2024-12-26T15:29:33.853Z"
   },
   {
    "duration": 397,
    "start_time": "2024-12-26T15:29:34.260Z"
   },
   {
    "duration": 730,
    "start_time": "2024-12-26T15:29:34.658Z"
   },
   {
    "duration": 2,
    "start_time": "2024-12-26T15:29:35.390Z"
   },
   {
    "duration": 20,
    "start_time": "2024-12-26T15:29:35.393Z"
   },
   {
    "duration": 6,
    "start_time": "2024-12-26T15:29:35.415Z"
   },
   {
    "duration": 478,
    "start_time": "2024-12-26T15:29:35.422Z"
   },
   {
    "duration": 15,
    "start_time": "2024-12-26T15:29:35.901Z"
   },
   {
    "duration": 504,
    "start_time": "2024-12-26T15:29:35.917Z"
   },
   {
    "duration": 3,
    "start_time": "2024-12-26T15:29:36.422Z"
   },
   {
    "duration": 14,
    "start_time": "2024-12-26T15:29:36.426Z"
   },
   {
    "duration": 3,
    "start_time": "2024-12-26T15:29:36.441Z"
   },
   {
    "duration": 49,
    "start_time": "2024-12-26T15:29:36.446Z"
   },
   {
    "duration": 664,
    "start_time": "2024-12-26T15:29:36.497Z"
   },
   {
    "duration": 8,
    "start_time": "2024-12-26T15:29:37.162Z"
   },
   {
    "duration": 27,
    "start_time": "2024-12-26T15:29:37.171Z"
   },
   {
    "duration": 3,
    "start_time": "2024-12-26T15:29:37.200Z"
   },
   {
    "duration": 102,
    "start_time": "2024-12-26T15:29:37.205Z"
   },
   {
    "duration": 45085,
    "start_time": "2024-12-26T15:29:37.308Z"
   },
   {
    "duration": 0,
    "start_time": "2024-12-26T15:30:22.395Z"
   },
   {
    "duration": 0,
    "start_time": "2024-12-26T15:30:22.396Z"
   },
   {
    "duration": 0,
    "start_time": "2024-12-26T15:30:22.397Z"
   },
   {
    "duration": 0,
    "start_time": "2024-12-26T15:30:22.398Z"
   },
   {
    "duration": 0,
    "start_time": "2024-12-26T15:30:22.399Z"
   },
   {
    "duration": 0,
    "start_time": "2024-12-26T15:30:22.399Z"
   },
   {
    "duration": 0,
    "start_time": "2024-12-26T15:30:22.401Z"
   },
   {
    "duration": 0,
    "start_time": "2024-12-26T15:30:22.401Z"
   },
   {
    "duration": 0,
    "start_time": "2024-12-26T15:30:22.402Z"
   },
   {
    "duration": 0,
    "start_time": "2024-12-26T15:30:22.403Z"
   },
   {
    "duration": 0,
    "start_time": "2024-12-26T15:30:22.404Z"
   },
   {
    "duration": 0,
    "start_time": "2024-12-26T15:30:22.404Z"
   },
   {
    "duration": 0,
    "start_time": "2024-12-26T15:30:22.406Z"
   },
   {
    "duration": 0,
    "start_time": "2024-12-26T15:30:22.407Z"
   },
   {
    "duration": 0,
    "start_time": "2024-12-26T15:30:22.408Z"
   },
   {
    "duration": 0,
    "start_time": "2024-12-26T15:30:22.409Z"
   },
   {
    "duration": 17,
    "start_time": "2024-12-26T15:32:09.644Z"
   },
   {
    "duration": 39,
    "start_time": "2024-12-26T15:34:00.699Z"
   },
   {
    "duration": 19,
    "start_time": "2024-12-26T15:38:02.855Z"
   },
   {
    "duration": 58,
    "start_time": "2024-12-26T15:39:58.647Z"
   },
   {
    "duration": 15,
    "start_time": "2024-12-26T15:47:24.664Z"
   },
   {
    "duration": 4,
    "start_time": "2024-12-26T15:48:01.331Z"
   },
   {
    "duration": 77,
    "start_time": "2024-12-26T15:48:51.162Z"
   },
   {
    "duration": 3,
    "start_time": "2024-12-26T15:48:51.240Z"
   },
   {
    "duration": 2273,
    "start_time": "2024-12-26T15:48:51.244Z"
   },
   {
    "duration": 1842,
    "start_time": "2024-12-26T15:48:53.519Z"
   },
   {
    "duration": 1014,
    "start_time": "2024-12-26T15:48:55.363Z"
   },
   {
    "duration": 235,
    "start_time": "2024-12-26T15:48:56.378Z"
   },
   {
    "duration": 139,
    "start_time": "2024-12-26T15:48:56.615Z"
   },
   {
    "duration": 6,
    "start_time": "2024-12-26T15:48:56.756Z"
   },
   {
    "duration": 659,
    "start_time": "2024-12-26T15:48:56.763Z"
   },
   {
    "duration": 572,
    "start_time": "2024-12-26T15:48:57.424Z"
   },
   {
    "duration": 12,
    "start_time": "2024-12-26T15:48:57.997Z"
   },
   {
    "duration": 58,
    "start_time": "2024-12-26T15:48:58.010Z"
   },
   {
    "duration": 2,
    "start_time": "2024-12-26T15:48:58.070Z"
   },
   {
    "duration": 353,
    "start_time": "2024-12-26T15:48:58.073Z"
   },
   {
    "duration": 468,
    "start_time": "2024-12-26T15:48:58.428Z"
   },
   {
    "duration": 10,
    "start_time": "2024-12-26T15:48:58.897Z"
   },
   {
    "duration": 86,
    "start_time": "2024-12-26T15:48:58.909Z"
   },
   {
    "duration": 19,
    "start_time": "2024-12-26T15:48:58.996Z"
   },
   {
    "duration": 25,
    "start_time": "2024-12-26T15:48:59.016Z"
   },
   {
    "duration": 22,
    "start_time": "2024-12-26T15:48:59.042Z"
   },
   {
    "duration": 1936,
    "start_time": "2024-12-26T15:48:59.065Z"
   },
   {
    "duration": 16,
    "start_time": "2024-12-26T15:49:01.002Z"
   },
   {
    "duration": 49,
    "start_time": "2024-12-26T15:49:01.019Z"
   },
   {
    "duration": 21,
    "start_time": "2024-12-26T15:49:01.070Z"
   },
   {
    "duration": 41,
    "start_time": "2024-12-26T15:49:01.093Z"
   },
   {
    "duration": 36,
    "start_time": "2024-12-26T15:49:01.136Z"
   },
   {
    "duration": 49,
    "start_time": "2024-12-26T15:49:01.173Z"
   },
   {
    "duration": 41,
    "start_time": "2024-12-26T15:49:01.227Z"
   },
   {
    "duration": 1934,
    "start_time": "2024-12-26T15:49:01.270Z"
   },
   {
    "duration": 16,
    "start_time": "2024-12-26T15:49:03.206Z"
   },
   {
    "duration": 32,
    "start_time": "2024-12-26T15:49:03.223Z"
   },
   {
    "duration": 28,
    "start_time": "2024-12-26T15:49:03.257Z"
   },
   {
    "duration": 56,
    "start_time": "2024-12-26T15:49:03.287Z"
   },
   {
    "duration": 31,
    "start_time": "2024-12-26T15:49:03.345Z"
   },
   {
    "duration": 116,
    "start_time": "2024-12-26T15:49:03.378Z"
   },
   {
    "duration": 18,
    "start_time": "2024-12-26T15:49:03.496Z"
   },
   {
    "duration": 78,
    "start_time": "2024-12-26T15:49:03.516Z"
   },
   {
    "duration": 296,
    "start_time": "2024-12-26T15:49:03.596Z"
   },
   {
    "duration": 121,
    "start_time": "2024-12-26T15:49:03.894Z"
   },
   {
    "duration": 372,
    "start_time": "2024-12-26T15:49:04.017Z"
   },
   {
    "duration": 394,
    "start_time": "2024-12-26T15:49:04.391Z"
   },
   {
    "duration": 753,
    "start_time": "2024-12-26T15:49:04.786Z"
   },
   {
    "duration": 3,
    "start_time": "2024-12-26T15:49:05.540Z"
   },
   {
    "duration": 46,
    "start_time": "2024-12-26T15:49:05.553Z"
   },
   {
    "duration": 48,
    "start_time": "2024-12-26T15:49:05.600Z"
   },
   {
    "duration": 432,
    "start_time": "2024-12-26T15:49:05.650Z"
   },
   {
    "duration": 14,
    "start_time": "2024-12-26T15:49:06.083Z"
   },
   {
    "duration": 501,
    "start_time": "2024-12-26T15:49:06.098Z"
   },
   {
    "duration": 3,
    "start_time": "2024-12-26T15:49:06.600Z"
   },
   {
    "duration": 78,
    "start_time": "2024-12-26T15:49:06.604Z"
   },
   {
    "duration": 38,
    "start_time": "2024-12-26T15:49:06.684Z"
   },
   {
    "duration": 42,
    "start_time": "2024-12-26T15:49:06.723Z"
   },
   {
    "duration": 477,
    "start_time": "2024-12-26T15:49:06.766Z"
   },
   {
    "duration": 23,
    "start_time": "2024-12-26T15:49:07.244Z"
   },
   {
    "duration": 90,
    "start_time": "2024-12-26T15:49:07.268Z"
   },
   {
    "duration": 17,
    "start_time": "2024-12-26T15:49:07.359Z"
   },
   {
    "duration": 47,
    "start_time": "2024-12-26T15:49:07.378Z"
   },
   {
    "duration": 51,
    "start_time": "2024-12-26T15:49:07.426Z"
   },
   {
    "duration": 4,
    "start_time": "2024-12-26T15:49:07.478Z"
   },
   {
    "duration": 130,
    "start_time": "2024-12-26T15:49:07.483Z"
   },
   {
    "duration": 0,
    "start_time": "2024-12-26T15:49:07.615Z"
   },
   {
    "duration": 0,
    "start_time": "2024-12-26T15:49:07.616Z"
   },
   {
    "duration": 0,
    "start_time": "2024-12-26T15:49:07.617Z"
   },
   {
    "duration": 0,
    "start_time": "2024-12-26T15:49:07.618Z"
   },
   {
    "duration": 0,
    "start_time": "2024-12-26T15:49:07.620Z"
   },
   {
    "duration": 0,
    "start_time": "2024-12-26T15:49:07.621Z"
   },
   {
    "duration": 0,
    "start_time": "2024-12-26T15:49:07.622Z"
   },
   {
    "duration": 0,
    "start_time": "2024-12-26T15:49:07.623Z"
   },
   {
    "duration": 0,
    "start_time": "2024-12-26T15:49:07.624Z"
   },
   {
    "duration": 0,
    "start_time": "2024-12-26T15:49:07.626Z"
   },
   {
    "duration": 0,
    "start_time": "2024-12-26T15:49:07.627Z"
   },
   {
    "duration": 0,
    "start_time": "2024-12-26T15:49:07.628Z"
   },
   {
    "duration": 0,
    "start_time": "2024-12-26T15:49:07.629Z"
   },
   {
    "duration": 0,
    "start_time": "2024-12-26T15:49:07.655Z"
   },
   {
    "duration": 0,
    "start_time": "2024-12-26T15:49:07.656Z"
   },
   {
    "duration": 0,
    "start_time": "2024-12-26T15:49:07.657Z"
   },
   {
    "duration": 0,
    "start_time": "2024-12-26T15:49:07.658Z"
   },
   {
    "duration": 0,
    "start_time": "2024-12-26T15:49:07.659Z"
   },
   {
    "duration": 0,
    "start_time": "2024-12-26T15:49:07.660Z"
   },
   {
    "duration": 13,
    "start_time": "2024-12-26T15:50:46.456Z"
   },
   {
    "duration": 48,
    "start_time": "2024-12-26T15:50:55.298Z"
   },
   {
    "duration": 2,
    "start_time": "2024-12-26T15:50:55.348Z"
   },
   {
    "duration": 2307,
    "start_time": "2024-12-26T15:50:55.351Z"
   },
   {
    "duration": 1424,
    "start_time": "2024-12-26T15:50:57.660Z"
   },
   {
    "duration": 1519,
    "start_time": "2024-12-26T15:50:59.086Z"
   },
   {
    "duration": 234,
    "start_time": "2024-12-26T15:51:00.607Z"
   },
   {
    "duration": 144,
    "start_time": "2024-12-26T15:51:00.843Z"
   },
   {
    "duration": 6,
    "start_time": "2024-12-26T15:51:00.988Z"
   },
   {
    "duration": 644,
    "start_time": "2024-12-26T15:51:00.996Z"
   },
   {
    "duration": 559,
    "start_time": "2024-12-26T15:51:01.643Z"
   },
   {
    "duration": 11,
    "start_time": "2024-12-26T15:51:02.204Z"
   },
   {
    "duration": 82,
    "start_time": "2024-12-26T15:51:02.217Z"
   },
   {
    "duration": 2,
    "start_time": "2024-12-26T15:51:02.301Z"
   },
   {
    "duration": 423,
    "start_time": "2024-12-26T15:51:02.305Z"
   },
   {
    "duration": 544,
    "start_time": "2024-12-26T15:51:02.730Z"
   },
   {
    "duration": 10,
    "start_time": "2024-12-26T15:51:03.275Z"
   },
   {
    "duration": 67,
    "start_time": "2024-12-26T15:51:03.287Z"
   },
   {
    "duration": 18,
    "start_time": "2024-12-26T15:51:03.356Z"
   },
   {
    "duration": 31,
    "start_time": "2024-12-26T15:51:03.376Z"
   },
   {
    "duration": 26,
    "start_time": "2024-12-26T15:51:03.409Z"
   },
   {
    "duration": 1968,
    "start_time": "2024-12-26T15:51:03.436Z"
   },
   {
    "duration": 16,
    "start_time": "2024-12-26T15:51:05.406Z"
   },
   {
    "duration": 55,
    "start_time": "2024-12-26T15:51:05.423Z"
   },
   {
    "duration": 23,
    "start_time": "2024-12-26T15:51:05.480Z"
   },
   {
    "duration": 53,
    "start_time": "2024-12-26T15:51:05.504Z"
   },
   {
    "duration": 43,
    "start_time": "2024-12-26T15:51:05.558Z"
   },
   {
    "duration": 57,
    "start_time": "2024-12-26T15:51:05.602Z"
   },
   {
    "duration": 32,
    "start_time": "2024-12-26T15:51:05.663Z"
   },
   {
    "duration": 2005,
    "start_time": "2024-12-26T15:51:05.696Z"
   },
   {
    "duration": 17,
    "start_time": "2024-12-26T15:51:07.702Z"
   },
   {
    "duration": 44,
    "start_time": "2024-12-26T15:51:07.721Z"
   },
   {
    "duration": 34,
    "start_time": "2024-12-26T15:51:07.767Z"
   },
   {
    "duration": 34,
    "start_time": "2024-12-26T15:51:07.803Z"
   },
   {
    "duration": 71,
    "start_time": "2024-12-26T15:51:07.838Z"
   },
   {
    "duration": 137,
    "start_time": "2024-12-26T15:51:07.911Z"
   },
   {
    "duration": 17,
    "start_time": "2024-12-26T15:51:08.049Z"
   },
   {
    "duration": 37,
    "start_time": "2024-12-26T15:51:08.068Z"
   },
   {
    "duration": 301,
    "start_time": "2024-12-26T15:51:08.107Z"
   },
   {
    "duration": 123,
    "start_time": "2024-12-26T15:51:08.409Z"
   },
   {
    "duration": 366,
    "start_time": "2024-12-26T15:51:08.534Z"
   },
   {
    "duration": 376,
    "start_time": "2024-12-26T15:51:08.901Z"
   },
   {
    "duration": 737,
    "start_time": "2024-12-26T15:51:09.279Z"
   },
   {
    "duration": 3,
    "start_time": "2024-12-26T15:51:10.018Z"
   },
   {
    "duration": 26,
    "start_time": "2024-12-26T15:51:10.022Z"
   },
   {
    "duration": 10,
    "start_time": "2024-12-26T15:51:10.049Z"
   },
   {
    "duration": 425,
    "start_time": "2024-12-26T15:51:10.061Z"
   },
   {
    "duration": 13,
    "start_time": "2024-12-26T15:51:10.488Z"
   },
   {
    "duration": 496,
    "start_time": "2024-12-26T15:51:10.502Z"
   },
   {
    "duration": 2,
    "start_time": "2024-12-26T15:51:10.999Z"
   },
   {
    "duration": 18,
    "start_time": "2024-12-26T15:51:11.002Z"
   },
   {
    "duration": 3,
    "start_time": "2024-12-26T15:51:11.022Z"
   },
   {
    "duration": 20,
    "start_time": "2024-12-26T15:51:11.026Z"
   },
   {
    "duration": 496,
    "start_time": "2024-12-26T15:51:11.047Z"
   },
   {
    "duration": 21,
    "start_time": "2024-12-26T15:51:11.545Z"
   },
   {
    "duration": 37,
    "start_time": "2024-12-26T15:51:11.568Z"
   },
   {
    "duration": 18,
    "start_time": "2024-12-26T15:51:11.606Z"
   },
   {
    "duration": 72,
    "start_time": "2024-12-26T15:51:11.625Z"
   },
   {
    "duration": 29,
    "start_time": "2024-12-26T15:51:11.698Z"
   },
   {
    "duration": 14,
    "start_time": "2024-12-26T15:51:11.729Z"
   },
   {
    "duration": 10,
    "start_time": "2024-12-26T15:51:11.744Z"
   },
   {
    "duration": 85,
    "start_time": "2024-12-26T15:51:11.755Z"
   },
   {
    "duration": 3372,
    "start_time": "2024-12-26T15:51:11.842Z"
   },
   {
    "duration": 0,
    "start_time": "2024-12-26T15:51:15.216Z"
   },
   {
    "duration": 0,
    "start_time": "2024-12-26T15:51:15.218Z"
   },
   {
    "duration": 0,
    "start_time": "2024-12-26T15:51:15.219Z"
   },
   {
    "duration": 0,
    "start_time": "2024-12-26T15:51:15.220Z"
   },
   {
    "duration": 0,
    "start_time": "2024-12-26T15:51:15.221Z"
   },
   {
    "duration": 0,
    "start_time": "2024-12-26T15:51:15.222Z"
   },
   {
    "duration": 0,
    "start_time": "2024-12-26T15:51:15.222Z"
   },
   {
    "duration": 0,
    "start_time": "2024-12-26T15:51:15.223Z"
   },
   {
    "duration": 0,
    "start_time": "2024-12-26T15:51:15.224Z"
   },
   {
    "duration": 0,
    "start_time": "2024-12-26T15:51:15.226Z"
   },
   {
    "duration": 0,
    "start_time": "2024-12-26T15:51:15.228Z"
   },
   {
    "duration": 0,
    "start_time": "2024-12-26T15:51:15.229Z"
   },
   {
    "duration": 0,
    "start_time": "2024-12-26T15:51:15.230Z"
   },
   {
    "duration": 0,
    "start_time": "2024-12-26T15:51:15.254Z"
   },
   {
    "duration": 0,
    "start_time": "2024-12-26T15:51:15.255Z"
   },
   {
    "duration": 0,
    "start_time": "2024-12-26T15:51:15.256Z"
   },
   {
    "duration": 52,
    "start_time": "2024-12-26T15:54:05.061Z"
   },
   {
    "duration": 2,
    "start_time": "2024-12-26T15:54:05.115Z"
   },
   {
    "duration": 2318,
    "start_time": "2024-12-26T15:54:05.118Z"
   },
   {
    "duration": 1415,
    "start_time": "2024-12-26T15:54:07.439Z"
   },
   {
    "duration": 892,
    "start_time": "2024-12-26T15:54:08.855Z"
   },
   {
    "duration": 265,
    "start_time": "2024-12-26T15:54:09.749Z"
   },
   {
    "duration": 158,
    "start_time": "2024-12-26T15:54:10.016Z"
   },
   {
    "duration": 5,
    "start_time": "2024-12-26T15:54:10.176Z"
   },
   {
    "duration": 658,
    "start_time": "2024-12-26T15:54:10.182Z"
   },
   {
    "duration": 576,
    "start_time": "2024-12-26T15:54:10.842Z"
   },
   {
    "duration": 12,
    "start_time": "2024-12-26T15:54:11.419Z"
   },
   {
    "duration": 59,
    "start_time": "2024-12-26T15:54:11.432Z"
   },
   {
    "duration": 2,
    "start_time": "2024-12-26T15:54:11.493Z"
   },
   {
    "duration": 414,
    "start_time": "2024-12-26T15:54:11.496Z"
   },
   {
    "duration": 488,
    "start_time": "2024-12-26T15:54:11.912Z"
   },
   {
    "duration": 11,
    "start_time": "2024-12-26T15:54:12.401Z"
   },
   {
    "duration": 79,
    "start_time": "2024-12-26T15:54:12.413Z"
   },
   {
    "duration": 18,
    "start_time": "2024-12-26T15:54:12.494Z"
   },
   {
    "duration": 23,
    "start_time": "2024-12-26T15:54:12.513Z"
   },
   {
    "duration": 25,
    "start_time": "2024-12-26T15:54:12.537Z"
   },
   {
    "duration": 1945,
    "start_time": "2024-12-26T15:54:12.564Z"
   },
   {
    "duration": 15,
    "start_time": "2024-12-26T15:54:14.511Z"
   },
   {
    "duration": 54,
    "start_time": "2024-12-26T15:54:14.528Z"
   },
   {
    "duration": 23,
    "start_time": "2024-12-26T15:54:14.583Z"
   },
   {
    "duration": 32,
    "start_time": "2024-12-26T15:54:14.608Z"
   },
   {
    "duration": 64,
    "start_time": "2024-12-26T15:54:14.641Z"
   },
   {
    "duration": 43,
    "start_time": "2024-12-26T15:54:14.707Z"
   },
   {
    "duration": 31,
    "start_time": "2024-12-26T15:54:14.754Z"
   },
   {
    "duration": 1979,
    "start_time": "2024-12-26T15:54:14.786Z"
   },
   {
    "duration": 16,
    "start_time": "2024-12-26T15:54:16.766Z"
   },
   {
    "duration": 17,
    "start_time": "2024-12-26T15:54:16.783Z"
   },
   {
    "duration": 35,
    "start_time": "2024-12-26T15:54:16.801Z"
   },
   {
    "duration": 23,
    "start_time": "2024-12-26T15:54:16.838Z"
   },
   {
    "duration": 30,
    "start_time": "2024-12-26T15:54:16.863Z"
   },
   {
    "duration": 199,
    "start_time": "2024-12-26T15:54:16.895Z"
   },
   {
    "duration": 18,
    "start_time": "2024-12-26T15:54:17.095Z"
   },
   {
    "duration": 41,
    "start_time": "2024-12-26T15:54:17.114Z"
   },
   {
    "duration": 331,
    "start_time": "2024-12-26T15:54:17.157Z"
   },
   {
    "duration": 124,
    "start_time": "2024-12-26T15:54:17.490Z"
   },
   {
    "duration": 382,
    "start_time": "2024-12-26T15:54:17.616Z"
   },
   {
    "duration": 361,
    "start_time": "2024-12-26T15:54:18.000Z"
   },
   {
    "duration": 758,
    "start_time": "2024-12-26T15:54:18.363Z"
   },
   {
    "duration": 2,
    "start_time": "2024-12-26T15:54:19.123Z"
   },
   {
    "duration": 6,
    "start_time": "2024-12-26T15:54:19.126Z"
   },
   {
    "duration": 4,
    "start_time": "2024-12-26T15:54:19.133Z"
   },
   {
    "duration": 447,
    "start_time": "2024-12-26T15:54:19.138Z"
   },
   {
    "duration": 14,
    "start_time": "2024-12-26T15:54:19.586Z"
   },
   {
    "duration": 498,
    "start_time": "2024-12-26T15:54:19.602Z"
   },
   {
    "duration": 2,
    "start_time": "2024-12-26T15:54:20.102Z"
   },
   {
    "duration": 23,
    "start_time": "2024-12-26T15:54:20.105Z"
   },
   {
    "duration": 11,
    "start_time": "2024-12-26T15:54:20.129Z"
   },
   {
    "duration": 28,
    "start_time": "2024-12-26T15:54:20.141Z"
   },
   {
    "duration": 477,
    "start_time": "2024-12-26T15:54:20.170Z"
   },
   {
    "duration": 21,
    "start_time": "2024-12-26T15:54:20.648Z"
   },
   {
    "duration": 98,
    "start_time": "2024-12-26T15:54:20.670Z"
   },
   {
    "duration": 18,
    "start_time": "2024-12-26T15:54:20.769Z"
   },
   {
    "duration": 69,
    "start_time": "2024-12-26T15:54:20.788Z"
   },
   {
    "duration": 39,
    "start_time": "2024-12-26T15:54:20.859Z"
   },
   {
    "duration": 88,
    "start_time": "2024-12-26T15:54:20.899Z"
   },
   {
    "duration": 7,
    "start_time": "2024-12-26T15:54:20.988Z"
   },
   {
    "duration": 69,
    "start_time": "2024-12-26T15:54:20.996Z"
   },
   {
    "duration": 67792,
    "start_time": "2024-12-26T15:54:21.067Z"
   },
   {
    "duration": 15498,
    "start_time": "2024-12-26T15:55:28.860Z"
   },
   {
    "duration": 396,
    "start_time": "2024-12-26T15:55:44.359Z"
   },
   {
    "duration": 95,
    "start_time": "2024-12-26T15:55:44.761Z"
   },
   {
    "duration": 833,
    "start_time": "2024-12-26T15:55:44.857Z"
   },
   {
    "duration": 433468,
    "start_time": "2024-12-26T15:55:45.692Z"
   },
   {
    "duration": 20752,
    "start_time": "2024-12-26T16:02:59.162Z"
   },
   {
    "duration": 151,
    "start_time": "2024-12-26T16:03:19.916Z"
   },
   {
    "duration": 4,
    "start_time": "2024-12-26T16:03:20.069Z"
   },
   {
    "duration": 676980,
    "start_time": "2024-12-26T16:03:20.075Z"
   },
   {
    "duration": 9602,
    "start_time": "2024-12-26T16:14:37.057Z"
   },
   {
    "duration": 1496,
    "start_time": "2024-12-26T16:14:46.661Z"
   },
   {
    "duration": 5,
    "start_time": "2024-12-26T16:14:48.159Z"
   },
   {
    "duration": 16,
    "start_time": "2024-12-26T16:14:48.166Z"
   },
   {
    "duration": 125,
    "start_time": "2024-12-26T16:14:48.184Z"
   },
   {
    "duration": 5,
    "start_time": "2024-12-26T16:14:48.310Z"
   },
   {
    "duration": 11,
    "start_time": "2024-12-26T16:14:48.317Z"
   },
   {
    "duration": 55,
    "start_time": "2024-12-26T19:21:12.141Z"
   },
   {
    "duration": 3,
    "start_time": "2024-12-26T19:21:12.198Z"
   },
   {
    "duration": 2263,
    "start_time": "2024-12-26T19:21:12.204Z"
   },
   {
    "duration": 1480,
    "start_time": "2024-12-26T19:21:14.469Z"
   },
   {
    "duration": 2887,
    "start_time": "2024-12-26T19:21:15.950Z"
   },
   {
    "duration": 234,
    "start_time": "2024-12-26T19:21:18.839Z"
   },
   {
    "duration": 140,
    "start_time": "2024-12-26T19:21:19.074Z"
   },
   {
    "duration": 6,
    "start_time": "2024-12-26T19:21:19.215Z"
   },
   {
    "duration": 630,
    "start_time": "2024-12-26T19:21:19.223Z"
   },
   {
    "duration": 554,
    "start_time": "2024-12-26T19:21:19.854Z"
   },
   {
    "duration": 11,
    "start_time": "2024-12-26T19:21:20.409Z"
   },
   {
    "duration": 63,
    "start_time": "2024-12-26T19:21:20.422Z"
   },
   {
    "duration": 2,
    "start_time": "2024-12-26T19:21:20.487Z"
   },
   {
    "duration": 367,
    "start_time": "2024-12-26T19:21:20.490Z"
   },
   {
    "duration": 518,
    "start_time": "2024-12-26T19:21:20.859Z"
   },
   {
    "duration": 9,
    "start_time": "2024-12-26T19:21:21.379Z"
   },
   {
    "duration": 71,
    "start_time": "2024-12-26T19:21:21.390Z"
   },
   {
    "duration": 19,
    "start_time": "2024-12-26T19:21:21.463Z"
   },
   {
    "duration": 22,
    "start_time": "2024-12-26T19:21:21.483Z"
   },
   {
    "duration": 21,
    "start_time": "2024-12-26T19:21:21.506Z"
   },
   {
    "duration": 1912,
    "start_time": "2024-12-26T19:21:21.529Z"
   },
   {
    "duration": 24,
    "start_time": "2024-12-26T19:21:23.442Z"
   },
   {
    "duration": 39,
    "start_time": "2024-12-26T19:21:23.468Z"
   },
   {
    "duration": 22,
    "start_time": "2024-12-26T19:21:23.508Z"
   },
   {
    "duration": 37,
    "start_time": "2024-12-26T19:21:23.531Z"
   },
   {
    "duration": 16,
    "start_time": "2024-12-26T19:21:23.570Z"
   },
   {
    "duration": 65,
    "start_time": "2024-12-26T19:21:23.590Z"
   },
   {
    "duration": 31,
    "start_time": "2024-12-26T19:21:23.656Z"
   },
   {
    "duration": 2633,
    "start_time": "2024-12-26T19:21:23.688Z"
   },
   {
    "duration": 16,
    "start_time": "2024-12-26T19:21:26.322Z"
   },
   {
    "duration": 26,
    "start_time": "2024-12-26T19:21:26.339Z"
   },
   {
    "duration": 25,
    "start_time": "2024-12-26T19:21:26.367Z"
   },
   {
    "duration": 18,
    "start_time": "2024-12-26T19:21:26.393Z"
   },
   {
    "duration": 33,
    "start_time": "2024-12-26T19:21:26.413Z"
   },
   {
    "duration": 114,
    "start_time": "2024-12-26T19:21:26.448Z"
   },
   {
    "duration": 18,
    "start_time": "2024-12-26T19:21:26.563Z"
   },
   {
    "duration": 33,
    "start_time": "2024-12-26T19:21:26.582Z"
   },
   {
    "duration": 300,
    "start_time": "2024-12-26T19:21:26.617Z"
   },
   {
    "duration": 138,
    "start_time": "2024-12-26T19:21:26.919Z"
   },
   {
    "duration": 354,
    "start_time": "2024-12-26T19:21:27.058Z"
   },
   {
    "duration": 357,
    "start_time": "2024-12-26T19:21:27.414Z"
   },
   {
    "duration": 746,
    "start_time": "2024-12-26T19:21:27.773Z"
   },
   {
    "duration": 2,
    "start_time": "2024-12-26T19:21:28.521Z"
   },
   {
    "duration": 7,
    "start_time": "2024-12-26T19:21:28.525Z"
   },
   {
    "duration": 3,
    "start_time": "2024-12-26T19:21:28.534Z"
   },
   {
    "duration": 445,
    "start_time": "2024-12-26T19:21:28.538Z"
   },
   {
    "duration": 14,
    "start_time": "2024-12-26T19:21:28.984Z"
   },
   {
    "duration": 499,
    "start_time": "2024-12-26T19:21:29.000Z"
   },
   {
    "duration": 2,
    "start_time": "2024-12-26T19:21:29.501Z"
   },
   {
    "duration": 14,
    "start_time": "2024-12-26T19:21:29.504Z"
   },
   {
    "duration": 4,
    "start_time": "2024-12-26T19:21:29.519Z"
   },
   {
    "duration": 19,
    "start_time": "2024-12-26T19:21:29.524Z"
   },
   {
    "duration": 528,
    "start_time": "2024-12-26T19:21:29.544Z"
   },
   {
    "duration": 16,
    "start_time": "2024-12-26T19:21:30.074Z"
   },
   {
    "duration": 71,
    "start_time": "2024-12-26T19:21:30.091Z"
   },
   {
    "duration": 19,
    "start_time": "2024-12-26T19:21:30.163Z"
   },
   {
    "duration": 64,
    "start_time": "2024-12-26T19:21:30.184Z"
   },
   {
    "duration": 29,
    "start_time": "2024-12-26T19:21:30.250Z"
   },
   {
    "duration": 12,
    "start_time": "2024-12-26T19:21:30.281Z"
   },
   {
    "duration": 33,
    "start_time": "2024-12-26T19:21:30.294Z"
   },
   {
    "duration": 49,
    "start_time": "2024-12-26T19:21:30.329Z"
   },
   {
    "duration": 16,
    "start_time": "2024-12-26T19:21:30.380Z"
   },
   {
    "duration": 54,
    "start_time": "2024-12-26T19:22:24.633Z"
   },
   {
    "duration": 2,
    "start_time": "2024-12-26T19:22:24.689Z"
   },
   {
    "duration": 2316,
    "start_time": "2024-12-26T19:22:24.693Z"
   },
   {
    "duration": 1551,
    "start_time": "2024-12-26T19:22:27.012Z"
   },
   {
    "duration": 2990,
    "start_time": "2024-12-26T19:22:28.564Z"
   },
   {
    "duration": 259,
    "start_time": "2024-12-26T19:22:31.555Z"
   },
   {
    "duration": 139,
    "start_time": "2024-12-26T19:22:31.816Z"
   },
   {
    "duration": 7,
    "start_time": "2024-12-26T19:22:31.957Z"
   },
   {
    "duration": 642,
    "start_time": "2024-12-26T19:22:31.966Z"
   },
   {
    "duration": 578,
    "start_time": "2024-12-26T19:22:32.611Z"
   },
   {
    "duration": 11,
    "start_time": "2024-12-26T19:22:33.191Z"
   },
   {
    "duration": 72,
    "start_time": "2024-12-26T19:22:33.204Z"
   },
   {
    "duration": 3,
    "start_time": "2024-12-26T19:22:33.277Z"
   },
   {
    "duration": 345,
    "start_time": "2024-12-26T19:22:33.282Z"
   },
   {
    "duration": 549,
    "start_time": "2024-12-26T19:22:33.628Z"
   },
   {
    "duration": 13,
    "start_time": "2024-12-26T19:22:34.179Z"
   },
   {
    "duration": 74,
    "start_time": "2024-12-26T19:22:34.193Z"
   },
   {
    "duration": 18,
    "start_time": "2024-12-26T19:22:34.268Z"
   },
   {
    "duration": 19,
    "start_time": "2024-12-26T19:22:34.288Z"
   },
   {
    "duration": 21,
    "start_time": "2024-12-26T19:22:34.308Z"
   },
   {
    "duration": 2010,
    "start_time": "2024-12-26T19:22:34.331Z"
   },
   {
    "duration": 23,
    "start_time": "2024-12-26T19:22:36.343Z"
   },
   {
    "duration": 81,
    "start_time": "2024-12-26T19:22:36.368Z"
   },
   {
    "duration": 22,
    "start_time": "2024-12-26T19:22:36.451Z"
   },
   {
    "duration": 23,
    "start_time": "2024-12-26T19:22:36.474Z"
   },
   {
    "duration": 69,
    "start_time": "2024-12-26T19:22:36.499Z"
   },
   {
    "duration": 62,
    "start_time": "2024-12-26T19:22:36.569Z"
   },
   {
    "duration": 31,
    "start_time": "2024-12-26T19:22:36.635Z"
   },
   {
    "duration": 1989,
    "start_time": "2024-12-26T19:22:36.668Z"
   },
   {
    "duration": 16,
    "start_time": "2024-12-26T19:22:38.658Z"
   },
   {
    "duration": 26,
    "start_time": "2024-12-26T19:22:38.676Z"
   },
   {
    "duration": 21,
    "start_time": "2024-12-26T19:22:38.703Z"
   },
   {
    "duration": 32,
    "start_time": "2024-12-26T19:22:38.725Z"
   },
   {
    "duration": 73,
    "start_time": "2024-12-26T19:22:38.759Z"
   },
   {
    "duration": 127,
    "start_time": "2024-12-26T19:22:38.833Z"
   },
   {
    "duration": 18,
    "start_time": "2024-12-26T19:22:38.961Z"
   },
   {
    "duration": 43,
    "start_time": "2024-12-26T19:22:38.980Z"
   },
   {
    "duration": 290,
    "start_time": "2024-12-26T19:22:39.024Z"
   },
   {
    "duration": 145,
    "start_time": "2024-12-26T19:22:39.316Z"
   },
   {
    "duration": 369,
    "start_time": "2024-12-26T19:22:39.463Z"
   },
   {
    "duration": 390,
    "start_time": "2024-12-26T19:22:39.834Z"
   },
   {
    "duration": 750,
    "start_time": "2024-12-26T19:22:40.226Z"
   },
   {
    "duration": 3,
    "start_time": "2024-12-26T19:22:40.977Z"
   },
   {
    "duration": 8,
    "start_time": "2024-12-26T19:22:40.981Z"
   },
   {
    "duration": 3,
    "start_time": "2024-12-26T19:22:40.990Z"
   },
   {
    "duration": 468,
    "start_time": "2024-12-26T19:22:40.995Z"
   },
   {
    "duration": 13,
    "start_time": "2024-12-26T19:22:41.465Z"
   },
   {
    "duration": 494,
    "start_time": "2024-12-26T19:22:41.479Z"
   },
   {
    "duration": 2,
    "start_time": "2024-12-26T19:22:41.974Z"
   },
   {
    "duration": 3,
    "start_time": "2024-12-26T19:22:41.978Z"
   },
   {
    "duration": 21,
    "start_time": "2024-12-26T19:22:41.983Z"
   },
   {
    "duration": 23,
    "start_time": "2024-12-26T19:22:42.005Z"
   },
   {
    "duration": 508,
    "start_time": "2024-12-26T19:22:42.029Z"
   },
   {
    "duration": 24,
    "start_time": "2024-12-26T19:22:42.538Z"
   },
   {
    "duration": 36,
    "start_time": "2024-12-26T19:22:42.563Z"
   },
   {
    "duration": 18,
    "start_time": "2024-12-26T19:22:42.600Z"
   },
   {
    "duration": 69,
    "start_time": "2024-12-26T19:22:42.620Z"
   },
   {
    "duration": 28,
    "start_time": "2024-12-26T19:22:42.690Z"
   },
   {
    "duration": 4,
    "start_time": "2024-12-26T19:22:42.720Z"
   },
   {
    "duration": 5,
    "start_time": "2024-12-26T19:22:42.725Z"
   },
   {
    "duration": 24,
    "start_time": "2024-12-26T19:22:42.731Z"
   },
   {
    "duration": 6,
    "start_time": "2024-12-26T19:22:42.756Z"
   },
   {
    "duration": 4,
    "start_time": "2024-12-26T19:23:35.691Z"
   },
   {
    "duration": 50,
    "start_time": "2024-12-26T19:23:40.482Z"
   },
   {
    "duration": 3,
    "start_time": "2024-12-26T19:23:40.533Z"
   },
   {
    "duration": 2265,
    "start_time": "2024-12-26T19:23:40.537Z"
   },
   {
    "duration": 1390,
    "start_time": "2024-12-26T19:23:42.804Z"
   },
   {
    "duration": 2911,
    "start_time": "2024-12-26T19:23:44.195Z"
   },
   {
    "duration": 238,
    "start_time": "2024-12-26T19:23:47.107Z"
   },
   {
    "duration": 136,
    "start_time": "2024-12-26T19:23:47.347Z"
   },
   {
    "duration": 6,
    "start_time": "2024-12-26T19:23:47.484Z"
   },
   {
    "duration": 652,
    "start_time": "2024-12-26T19:23:47.491Z"
   },
   {
    "duration": 559,
    "start_time": "2024-12-26T19:23:48.146Z"
   },
   {
    "duration": 11,
    "start_time": "2024-12-26T19:23:48.707Z"
   },
   {
    "duration": 63,
    "start_time": "2024-12-26T19:23:48.720Z"
   },
   {
    "duration": 2,
    "start_time": "2024-12-26T19:23:48.785Z"
   },
   {
    "duration": 426,
    "start_time": "2024-12-26T19:23:48.789Z"
   },
   {
    "duration": 472,
    "start_time": "2024-12-26T19:23:49.217Z"
   },
   {
    "duration": 10,
    "start_time": "2024-12-26T19:23:49.690Z"
   },
   {
    "duration": 74,
    "start_time": "2024-12-26T19:23:49.702Z"
   },
   {
    "duration": 18,
    "start_time": "2024-12-26T19:23:49.778Z"
   },
   {
    "duration": 19,
    "start_time": "2024-12-26T19:23:49.798Z"
   },
   {
    "duration": 36,
    "start_time": "2024-12-26T19:23:49.818Z"
   },
   {
    "duration": 2594,
    "start_time": "2024-12-26T19:23:49.855Z"
   },
   {
    "duration": 16,
    "start_time": "2024-12-26T19:23:52.454Z"
   },
   {
    "duration": 43,
    "start_time": "2024-12-26T19:23:52.471Z"
   },
   {
    "duration": 40,
    "start_time": "2024-12-26T19:23:52.515Z"
   },
   {
    "duration": 20,
    "start_time": "2024-12-26T19:23:52.556Z"
   },
   {
    "duration": 17,
    "start_time": "2024-12-26T19:23:52.578Z"
   },
   {
    "duration": 62,
    "start_time": "2024-12-26T19:23:52.596Z"
   },
   {
    "duration": 31,
    "start_time": "2024-12-26T19:23:52.662Z"
   },
   {
    "duration": 1948,
    "start_time": "2024-12-26T19:23:52.695Z"
   },
   {
    "duration": 19,
    "start_time": "2024-12-26T19:23:54.645Z"
   },
   {
    "duration": 17,
    "start_time": "2024-12-26T19:23:54.666Z"
   },
   {
    "duration": 25,
    "start_time": "2024-12-26T19:23:54.684Z"
   },
   {
    "duration": 22,
    "start_time": "2024-12-26T19:23:54.710Z"
   },
   {
    "duration": 29,
    "start_time": "2024-12-26T19:23:54.733Z"
   },
   {
    "duration": 117,
    "start_time": "2024-12-26T19:23:54.763Z"
   },
   {
    "duration": 16,
    "start_time": "2024-12-26T19:23:54.882Z"
   },
   {
    "duration": 34,
    "start_time": "2024-12-26T19:23:54.900Z"
   },
   {
    "duration": 330,
    "start_time": "2024-12-26T19:23:54.954Z"
   },
   {
    "duration": 120,
    "start_time": "2024-12-26T19:23:55.285Z"
   },
   {
    "duration": 356,
    "start_time": "2024-12-26T19:23:55.406Z"
   },
   {
    "duration": 359,
    "start_time": "2024-12-26T19:23:55.763Z"
   },
   {
    "duration": 739,
    "start_time": "2024-12-26T19:23:56.123Z"
   },
   {
    "duration": 3,
    "start_time": "2024-12-26T19:23:56.864Z"
   },
   {
    "duration": 5,
    "start_time": "2024-12-26T19:23:56.868Z"
   },
   {
    "duration": 4,
    "start_time": "2024-12-26T19:23:56.875Z"
   },
   {
    "duration": 489,
    "start_time": "2024-12-26T19:23:56.881Z"
   },
   {
    "duration": 13,
    "start_time": "2024-12-26T19:23:57.371Z"
   },
   {
    "duration": 515,
    "start_time": "2024-12-26T19:23:57.386Z"
   },
   {
    "duration": 2,
    "start_time": "2024-12-26T19:23:57.903Z"
   },
   {
    "duration": 7,
    "start_time": "2024-12-26T19:23:57.907Z"
   },
   {
    "duration": 17,
    "start_time": "2024-12-26T19:23:57.916Z"
   },
   {
    "duration": 17,
    "start_time": "2024-12-26T19:23:57.934Z"
   },
   {
    "duration": 521,
    "start_time": "2024-12-26T19:23:57.953Z"
   },
   {
    "duration": 15,
    "start_time": "2024-12-26T19:23:58.475Z"
   },
   {
    "duration": 35,
    "start_time": "2024-12-26T19:23:58.492Z"
   },
   {
    "duration": 33,
    "start_time": "2024-12-26T19:23:58.529Z"
   },
   {
    "duration": 46,
    "start_time": "2024-12-26T19:23:58.563Z"
   },
   {
    "duration": 47,
    "start_time": "2024-12-26T19:23:58.611Z"
   },
   {
    "duration": 4,
    "start_time": "2024-12-26T19:23:58.659Z"
   },
   {
    "duration": 16,
    "start_time": "2024-12-26T19:23:58.664Z"
   },
   {
    "duration": 84,
    "start_time": "2024-12-26T19:23:58.681Z"
   },
   {
    "duration": 74760,
    "start_time": "2024-12-26T19:23:58.767Z"
   },
   {
    "duration": 3,
    "start_time": "2024-12-26T19:25:13.528Z"
   },
   {
    "duration": 18030,
    "start_time": "2024-12-26T19:25:13.532Z"
   },
   {
    "duration": 492,
    "start_time": "2024-12-26T19:25:31.563Z"
   },
   {
    "duration": 6,
    "start_time": "2024-12-26T19:25:32.057Z"
   },
   {
    "duration": 1057,
    "start_time": "2024-12-26T19:25:32.064Z"
   },
   {
    "duration": 54,
    "start_time": "2024-12-26T19:25:39.380Z"
   },
   {
    "duration": 25,
    "start_time": "2024-12-26T19:25:39.436Z"
   },
   {
    "duration": 2272,
    "start_time": "2024-12-26T19:25:39.462Z"
   },
   {
    "duration": 2117,
    "start_time": "2024-12-26T19:25:41.737Z"
   },
   {
    "duration": 984,
    "start_time": "2024-12-26T19:25:43.856Z"
   },
   {
    "duration": 241,
    "start_time": "2024-12-26T19:25:44.842Z"
   },
   {
    "duration": 136,
    "start_time": "2024-12-26T19:25:45.084Z"
   },
   {
    "duration": 11,
    "start_time": "2024-12-26T19:25:45.221Z"
   },
   {
    "duration": 690,
    "start_time": "2024-12-26T19:25:45.234Z"
   },
   {
    "duration": 569,
    "start_time": "2024-12-26T19:25:45.927Z"
   },
   {
    "duration": 11,
    "start_time": "2024-12-26T19:25:46.498Z"
   },
   {
    "duration": 63,
    "start_time": "2024-12-26T19:25:46.511Z"
   },
   {
    "duration": 2,
    "start_time": "2024-12-26T19:25:46.575Z"
   },
   {
    "duration": 393,
    "start_time": "2024-12-26T19:25:46.579Z"
   },
   {
    "duration": 510,
    "start_time": "2024-12-26T19:25:46.973Z"
   },
   {
    "duration": 10,
    "start_time": "2024-12-26T19:25:47.485Z"
   },
   {
    "duration": 74,
    "start_time": "2024-12-26T19:25:47.497Z"
   },
   {
    "duration": 18,
    "start_time": "2024-12-26T19:25:47.573Z"
   },
   {
    "duration": 70,
    "start_time": "2024-12-26T19:25:47.593Z"
   },
   {
    "duration": 19,
    "start_time": "2024-12-26T19:25:47.665Z"
   },
   {
    "duration": 1937,
    "start_time": "2024-12-26T19:25:47.685Z"
   },
   {
    "duration": 15,
    "start_time": "2024-12-26T19:25:49.623Z"
   },
   {
    "duration": 46,
    "start_time": "2024-12-26T19:25:49.639Z"
   },
   {
    "duration": 21,
    "start_time": "2024-12-26T19:25:49.686Z"
   },
   {
    "duration": 22,
    "start_time": "2024-12-26T19:25:49.709Z"
   },
   {
    "duration": 29,
    "start_time": "2024-12-26T19:25:49.733Z"
   },
   {
    "duration": 41,
    "start_time": "2024-12-26T19:25:49.763Z"
   },
   {
    "duration": 50,
    "start_time": "2024-12-26T19:25:49.808Z"
   },
   {
    "duration": 1895,
    "start_time": "2024-12-26T19:25:49.859Z"
   },
   {
    "duration": 15,
    "start_time": "2024-12-26T19:25:51.755Z"
   },
   {
    "duration": 28,
    "start_time": "2024-12-26T19:25:51.772Z"
   },
   {
    "duration": 40,
    "start_time": "2024-12-26T19:25:51.801Z"
   },
   {
    "duration": 17,
    "start_time": "2024-12-26T19:25:51.842Z"
   },
   {
    "duration": 18,
    "start_time": "2024-12-26T19:25:51.861Z"
   },
   {
    "duration": 119,
    "start_time": "2024-12-26T19:25:51.881Z"
   },
   {
    "duration": 18,
    "start_time": "2024-12-26T19:25:52.002Z"
   },
   {
    "duration": 45,
    "start_time": "2024-12-26T19:25:52.021Z"
   },
   {
    "duration": 347,
    "start_time": "2024-12-26T19:25:52.068Z"
   },
   {
    "duration": 119,
    "start_time": "2024-12-26T19:25:52.417Z"
   },
   {
    "duration": 358,
    "start_time": "2024-12-26T19:25:52.538Z"
   },
   {
    "duration": 374,
    "start_time": "2024-12-26T19:25:52.898Z"
   },
   {
    "duration": 716,
    "start_time": "2024-12-26T19:25:53.274Z"
   },
   {
    "duration": 2,
    "start_time": "2024-12-26T19:25:53.991Z"
   },
   {
    "duration": 17,
    "start_time": "2024-12-26T19:25:53.995Z"
   },
   {
    "duration": 3,
    "start_time": "2024-12-26T19:25:54.013Z"
   },
   {
    "duration": 479,
    "start_time": "2024-12-26T19:25:54.018Z"
   },
   {
    "duration": 14,
    "start_time": "2024-12-26T19:25:54.499Z"
   },
   {
    "duration": 500,
    "start_time": "2024-12-26T19:25:54.514Z"
   },
   {
    "duration": 2,
    "start_time": "2024-12-26T19:25:55.015Z"
   },
   {
    "duration": 7,
    "start_time": "2024-12-26T19:25:55.018Z"
   },
   {
    "duration": 8,
    "start_time": "2024-12-26T19:25:55.027Z"
   },
   {
    "duration": 26,
    "start_time": "2024-12-26T19:25:55.037Z"
   },
   {
    "duration": 482,
    "start_time": "2024-12-26T19:25:55.064Z"
   },
   {
    "duration": 19,
    "start_time": "2024-12-26T19:25:55.548Z"
   },
   {
    "duration": 50,
    "start_time": "2024-12-26T19:25:55.569Z"
   },
   {
    "duration": 17,
    "start_time": "2024-12-26T19:25:55.620Z"
   },
   {
    "duration": 57,
    "start_time": "2024-12-26T19:25:55.638Z"
   },
   {
    "duration": 31,
    "start_time": "2024-12-26T19:25:55.696Z"
   },
   {
    "duration": 3,
    "start_time": "2024-12-26T19:25:55.728Z"
   },
   {
    "duration": 41,
    "start_time": "2024-12-26T19:25:55.732Z"
   },
   {
    "duration": 80,
    "start_time": "2024-12-26T19:25:55.775Z"
   },
   {
    "duration": 73524,
    "start_time": "2024-12-26T19:25:55.856Z"
   },
   {
    "duration": 3,
    "start_time": "2024-12-26T19:27:09.381Z"
   },
   {
    "duration": 14972,
    "start_time": "2024-12-26T19:27:09.386Z"
   },
   {
    "duration": 399,
    "start_time": "2024-12-26T19:27:24.360Z"
   },
   {
    "duration": 94,
    "start_time": "2024-12-26T19:27:24.762Z"
   },
   {
    "duration": 868,
    "start_time": "2024-12-26T19:27:24.858Z"
   },
   {
    "duration": 429886,
    "start_time": "2024-12-26T19:27:25.727Z"
   },
   {
    "duration": 20376,
    "start_time": "2024-12-26T19:34:35.615Z"
   },
   {
    "duration": 149,
    "start_time": "2024-12-26T19:34:55.992Z"
   },
   {
    "duration": 4,
    "start_time": "2024-12-26T19:34:56.144Z"
   },
   {
    "duration": 585209,
    "start_time": "2024-12-26T19:34:56.154Z"
   },
   {
    "duration": 7391,
    "start_time": "2024-12-26T19:44:41.364Z"
   },
   {
    "duration": 1401,
    "start_time": "2024-12-26T19:44:48.756Z"
   },
   {
    "duration": 5,
    "start_time": "2024-12-26T19:44:50.159Z"
   },
   {
    "duration": 17,
    "start_time": "2024-12-26T19:44:50.165Z"
   },
   {
    "duration": 137,
    "start_time": "2024-12-26T19:44:50.183Z"
   },
   {
    "duration": 4,
    "start_time": "2024-12-26T19:44:50.322Z"
   },
   {
    "duration": 9,
    "start_time": "2024-12-26T19:44:50.328Z"
   },
   {
    "duration": 113,
    "start_time": "2024-12-26T19:49:27.404Z"
   },
   {
    "duration": 70,
    "start_time": "2024-12-26T19:49:34.003Z"
   },
   {
    "duration": 2,
    "start_time": "2024-12-26T19:49:34.075Z"
   },
   {
    "duration": 2256,
    "start_time": "2024-12-26T19:49:34.078Z"
   },
   {
    "duration": 1744,
    "start_time": "2024-12-26T19:49:36.337Z"
   },
   {
    "duration": 1138,
    "start_time": "2024-12-26T19:49:38.082Z"
   },
   {
    "duration": 241,
    "start_time": "2024-12-26T19:49:39.222Z"
   },
   {
    "duration": 131,
    "start_time": "2024-12-26T19:49:39.464Z"
   },
   {
    "duration": 5,
    "start_time": "2024-12-26T19:49:39.596Z"
   },
   {
    "duration": 657,
    "start_time": "2024-12-26T19:49:39.603Z"
   },
   {
    "duration": 549,
    "start_time": "2024-12-26T19:49:40.263Z"
   },
   {
    "duration": 12,
    "start_time": "2024-12-26T19:49:40.813Z"
   },
   {
    "duration": 63,
    "start_time": "2024-12-26T19:49:40.826Z"
   },
   {
    "duration": 2,
    "start_time": "2024-12-26T19:49:40.891Z"
   },
   {
    "duration": 413,
    "start_time": "2024-12-26T19:49:40.894Z"
   },
   {
    "duration": 478,
    "start_time": "2024-12-26T19:49:41.309Z"
   },
   {
    "duration": 10,
    "start_time": "2024-12-26T19:49:41.788Z"
   },
   {
    "duration": 67,
    "start_time": "2024-12-26T19:49:41.800Z"
   },
   {
    "duration": 18,
    "start_time": "2024-12-26T19:49:41.868Z"
   },
   {
    "duration": 17,
    "start_time": "2024-12-26T19:49:41.887Z"
   },
   {
    "duration": 17,
    "start_time": "2024-12-26T19:49:41.905Z"
   },
   {
    "duration": 1932,
    "start_time": "2024-12-26T19:49:41.923Z"
   },
   {
    "duration": 16,
    "start_time": "2024-12-26T19:49:43.856Z"
   },
   {
    "duration": 36,
    "start_time": "2024-12-26T19:49:43.873Z"
   },
   {
    "duration": 22,
    "start_time": "2024-12-26T19:49:43.911Z"
   },
   {
    "duration": 19,
    "start_time": "2024-12-26T19:49:43.954Z"
   },
   {
    "duration": 19,
    "start_time": "2024-12-26T19:49:43.975Z"
   },
   {
    "duration": 62,
    "start_time": "2024-12-26T19:49:43.996Z"
   },
   {
    "duration": 33,
    "start_time": "2024-12-26T19:49:44.063Z"
   },
   {
    "duration": 1931,
    "start_time": "2024-12-26T19:49:44.097Z"
   },
   {
    "duration": 25,
    "start_time": "2024-12-26T19:49:46.029Z"
   },
   {
    "duration": 17,
    "start_time": "2024-12-26T19:49:46.055Z"
   },
   {
    "duration": 24,
    "start_time": "2024-12-26T19:49:46.073Z"
   },
   {
    "duration": 24,
    "start_time": "2024-12-26T19:49:46.099Z"
   },
   {
    "duration": 19,
    "start_time": "2024-12-26T19:49:46.125Z"
   },
   {
    "duration": 115,
    "start_time": "2024-12-26T19:49:46.153Z"
   },
   {
    "duration": 18,
    "start_time": "2024-12-26T19:49:46.269Z"
   },
   {
    "duration": 38,
    "start_time": "2024-12-26T19:49:46.288Z"
   },
   {
    "duration": 331,
    "start_time": "2024-12-26T19:49:46.328Z"
   },
   {
    "duration": 119,
    "start_time": "2024-12-26T19:49:46.660Z"
   },
   {
    "duration": 220,
    "start_time": "2024-12-26T19:49:46.780Z"
   },
   {
    "duration": 0,
    "start_time": "2024-12-26T19:49:47.002Z"
   },
   {
    "duration": 0,
    "start_time": "2024-12-26T19:49:47.003Z"
   },
   {
    "duration": 0,
    "start_time": "2024-12-26T19:49:47.004Z"
   },
   {
    "duration": 0,
    "start_time": "2024-12-26T19:49:47.005Z"
   },
   {
    "duration": 0,
    "start_time": "2024-12-26T19:49:47.006Z"
   },
   {
    "duration": 0,
    "start_time": "2024-12-26T19:49:47.008Z"
   },
   {
    "duration": 0,
    "start_time": "2024-12-26T19:49:47.009Z"
   },
   {
    "duration": 0,
    "start_time": "2024-12-26T19:49:47.010Z"
   },
   {
    "duration": 0,
    "start_time": "2024-12-26T19:49:47.011Z"
   },
   {
    "duration": 0,
    "start_time": "2024-12-26T19:49:47.012Z"
   },
   {
    "duration": 0,
    "start_time": "2024-12-26T19:49:47.013Z"
   },
   {
    "duration": 0,
    "start_time": "2024-12-26T19:49:47.014Z"
   },
   {
    "duration": 0,
    "start_time": "2024-12-26T19:49:47.015Z"
   },
   {
    "duration": 0,
    "start_time": "2024-12-26T19:49:47.016Z"
   },
   {
    "duration": 0,
    "start_time": "2024-12-26T19:49:47.017Z"
   },
   {
    "duration": 0,
    "start_time": "2024-12-26T19:49:47.018Z"
   },
   {
    "duration": 0,
    "start_time": "2024-12-26T19:49:47.054Z"
   },
   {
    "duration": 0,
    "start_time": "2024-12-26T19:49:47.055Z"
   },
   {
    "duration": 0,
    "start_time": "2024-12-26T19:49:47.056Z"
   },
   {
    "duration": 0,
    "start_time": "2024-12-26T19:49:47.058Z"
   },
   {
    "duration": 0,
    "start_time": "2024-12-26T19:49:47.059Z"
   },
   {
    "duration": 0,
    "start_time": "2024-12-26T19:49:47.060Z"
   },
   {
    "duration": 0,
    "start_time": "2024-12-26T19:49:47.061Z"
   },
   {
    "duration": 0,
    "start_time": "2024-12-26T19:49:47.062Z"
   },
   {
    "duration": 0,
    "start_time": "2024-12-26T19:49:47.063Z"
   },
   {
    "duration": 0,
    "start_time": "2024-12-26T19:49:47.064Z"
   },
   {
    "duration": 0,
    "start_time": "2024-12-26T19:49:47.064Z"
   },
   {
    "duration": 0,
    "start_time": "2024-12-26T19:49:47.065Z"
   },
   {
    "duration": 0,
    "start_time": "2024-12-26T19:49:47.066Z"
   },
   {
    "duration": 0,
    "start_time": "2024-12-26T19:49:47.067Z"
   },
   {
    "duration": 0,
    "start_time": "2024-12-26T19:49:47.068Z"
   },
   {
    "duration": 0,
    "start_time": "2024-12-26T19:49:47.069Z"
   },
   {
    "duration": 0,
    "start_time": "2024-12-26T19:49:47.070Z"
   },
   {
    "duration": 0,
    "start_time": "2024-12-26T19:49:47.071Z"
   },
   {
    "duration": 0,
    "start_time": "2024-12-26T19:49:47.072Z"
   },
   {
    "duration": 0,
    "start_time": "2024-12-26T19:49:47.073Z"
   },
   {
    "duration": 0,
    "start_time": "2024-12-26T19:49:47.074Z"
   },
   {
    "duration": 0,
    "start_time": "2024-12-26T19:49:47.075Z"
   },
   {
    "duration": 0,
    "start_time": "2024-12-26T19:49:47.076Z"
   },
   {
    "duration": 0,
    "start_time": "2024-12-26T19:49:47.076Z"
   },
   {
    "duration": 0,
    "start_time": "2024-12-26T19:49:47.077Z"
   },
   {
    "duration": 53,
    "start_time": "2024-12-26T19:50:32.229Z"
   },
   {
    "duration": 2,
    "start_time": "2024-12-26T19:50:32.284Z"
   },
   {
    "duration": 2905,
    "start_time": "2024-12-26T19:50:32.288Z"
   },
   {
    "duration": 1341,
    "start_time": "2024-12-26T19:50:35.195Z"
   },
   {
    "duration": 912,
    "start_time": "2024-12-26T19:50:36.537Z"
   },
   {
    "duration": 232,
    "start_time": "2024-12-26T19:50:37.450Z"
   },
   {
    "duration": 149,
    "start_time": "2024-12-26T19:50:37.683Z"
   },
   {
    "duration": 7,
    "start_time": "2024-12-26T19:50:37.833Z"
   },
   {
    "duration": 652,
    "start_time": "2024-12-26T19:50:37.853Z"
   },
   {
    "duration": 583,
    "start_time": "2024-12-26T19:50:38.507Z"
   },
   {
    "duration": 11,
    "start_time": "2024-12-26T19:50:39.091Z"
   },
   {
    "duration": 63,
    "start_time": "2024-12-26T19:50:39.104Z"
   },
   {
    "duration": 2,
    "start_time": "2024-12-26T19:50:39.169Z"
   },
   {
    "duration": 354,
    "start_time": "2024-12-26T19:50:39.173Z"
   },
   {
    "duration": 471,
    "start_time": "2024-12-26T19:50:39.528Z"
   },
   {
    "duration": 10,
    "start_time": "2024-12-26T19:50:40.000Z"
   },
   {
    "duration": 62,
    "start_time": "2024-12-26T19:50:40.054Z"
   },
   {
    "duration": 36,
    "start_time": "2024-12-26T19:50:40.118Z"
   },
   {
    "duration": 18,
    "start_time": "2024-12-26T19:50:40.155Z"
   },
   {
    "duration": 20,
    "start_time": "2024-12-26T19:50:40.175Z"
   },
   {
    "duration": 1888,
    "start_time": "2024-12-26T19:50:40.196Z"
   },
   {
    "duration": 17,
    "start_time": "2024-12-26T19:50:42.086Z"
   },
   {
    "duration": 52,
    "start_time": "2024-12-26T19:50:42.104Z"
   },
   {
    "duration": 23,
    "start_time": "2024-12-26T19:50:42.158Z"
   },
   {
    "duration": 21,
    "start_time": "2024-12-26T19:50:42.183Z"
   },
   {
    "duration": 24,
    "start_time": "2024-12-26T19:50:42.206Z"
   },
   {
    "duration": 57,
    "start_time": "2024-12-26T19:50:42.232Z"
   },
   {
    "duration": 30,
    "start_time": "2024-12-26T19:50:42.297Z"
   },
   {
    "duration": 1878,
    "start_time": "2024-12-26T19:50:42.329Z"
   },
   {
    "duration": 15,
    "start_time": "2024-12-26T19:50:44.208Z"
   },
   {
    "duration": 31,
    "start_time": "2024-12-26T19:50:44.224Z"
   },
   {
    "duration": 17,
    "start_time": "2024-12-26T19:50:44.256Z"
   },
   {
    "duration": 19,
    "start_time": "2024-12-26T19:50:44.274Z"
   },
   {
    "duration": 18,
    "start_time": "2024-12-26T19:50:44.294Z"
   },
   {
    "duration": 155,
    "start_time": "2024-12-26T19:50:44.313Z"
   },
   {
    "duration": 22,
    "start_time": "2024-12-26T19:50:44.470Z"
   },
   {
    "duration": 35,
    "start_time": "2024-12-26T19:50:44.493Z"
   },
   {
    "duration": 293,
    "start_time": "2024-12-26T19:50:44.530Z"
   },
   {
    "duration": 114,
    "start_time": "2024-12-26T19:50:44.853Z"
   },
   {
    "duration": 361,
    "start_time": "2024-12-26T19:50:44.968Z"
   },
   {
    "duration": 359,
    "start_time": "2024-12-26T19:50:45.330Z"
   },
   {
    "duration": 726,
    "start_time": "2024-12-26T19:50:45.690Z"
   },
   {
    "duration": 3,
    "start_time": "2024-12-26T19:50:46.417Z"
   },
   {
    "duration": 6,
    "start_time": "2024-12-26T19:50:46.421Z"
   },
   {
    "duration": 6,
    "start_time": "2024-12-26T19:50:46.428Z"
   },
   {
    "duration": 458,
    "start_time": "2024-12-26T19:50:46.435Z"
   },
   {
    "duration": 15,
    "start_time": "2024-12-26T19:50:46.895Z"
   },
   {
    "duration": 507,
    "start_time": "2024-12-26T19:50:46.912Z"
   },
   {
    "duration": 3,
    "start_time": "2024-12-26T19:50:47.420Z"
   },
   {
    "duration": 11,
    "start_time": "2024-12-26T19:50:47.424Z"
   },
   {
    "duration": 12,
    "start_time": "2024-12-26T19:50:47.437Z"
   },
   {
    "duration": 22,
    "start_time": "2024-12-26T19:50:47.451Z"
   },
   {
    "duration": 567,
    "start_time": "2024-12-26T19:50:47.476Z"
   },
   {
    "duration": 17,
    "start_time": "2024-12-26T19:50:48.053Z"
   },
   {
    "duration": 38,
    "start_time": "2024-12-26T19:50:48.071Z"
   },
   {
    "duration": 19,
    "start_time": "2024-12-26T19:50:48.111Z"
   },
   {
    "duration": 69,
    "start_time": "2024-12-26T19:50:48.131Z"
   },
   {
    "duration": 31,
    "start_time": "2024-12-26T19:50:48.202Z"
   },
   {
    "duration": 22,
    "start_time": "2024-12-26T19:50:48.234Z"
   },
   {
    "duration": 3,
    "start_time": "2024-12-26T19:50:48.257Z"
   },
   {
    "duration": 5,
    "start_time": "2024-12-26T19:50:48.261Z"
   },
   {
    "duration": 132,
    "start_time": "2024-12-26T19:50:48.268Z"
   },
   {
    "duration": 0,
    "start_time": "2024-12-26T19:50:48.402Z"
   },
   {
    "duration": 0,
    "start_time": "2024-12-26T19:50:48.403Z"
   },
   {
    "duration": 0,
    "start_time": "2024-12-26T19:50:48.405Z"
   },
   {
    "duration": 0,
    "start_time": "2024-12-26T19:50:48.406Z"
   },
   {
    "duration": 0,
    "start_time": "2024-12-26T19:50:48.407Z"
   },
   {
    "duration": 0,
    "start_time": "2024-12-26T19:50:48.408Z"
   },
   {
    "duration": 0,
    "start_time": "2024-12-26T19:50:48.409Z"
   },
   {
    "duration": 0,
    "start_time": "2024-12-26T19:50:48.410Z"
   },
   {
    "duration": 0,
    "start_time": "2024-12-26T19:50:48.411Z"
   },
   {
    "duration": 0,
    "start_time": "2024-12-26T19:50:48.413Z"
   },
   {
    "duration": 0,
    "start_time": "2024-12-26T19:50:48.414Z"
   },
   {
    "duration": 0,
    "start_time": "2024-12-26T19:50:48.415Z"
   },
   {
    "duration": 0,
    "start_time": "2024-12-26T19:50:48.416Z"
   },
   {
    "duration": 0,
    "start_time": "2024-12-26T19:50:48.417Z"
   },
   {
    "duration": 0,
    "start_time": "2024-12-26T19:50:48.418Z"
   },
   {
    "duration": 0,
    "start_time": "2024-12-26T19:50:48.419Z"
   },
   {
    "duration": 0,
    "start_time": "2024-12-26T19:50:48.420Z"
   },
   {
    "duration": 0,
    "start_time": "2024-12-26T19:50:48.454Z"
   },
   {
    "duration": 0,
    "start_time": "2024-12-26T19:50:48.455Z"
   },
   {
    "duration": 15,
    "start_time": "2024-12-26T19:51:56.644Z"
   },
   {
    "duration": 79,
    "start_time": "2024-12-26T19:53:19.014Z"
   },
   {
    "duration": 116,
    "start_time": "2024-12-26T19:53:41.790Z"
   },
   {
    "duration": 53,
    "start_time": "2024-12-26T19:54:42.811Z"
   },
   {
    "duration": 3,
    "start_time": "2024-12-26T19:54:42.865Z"
   },
   {
    "duration": 2243,
    "start_time": "2024-12-26T19:54:42.869Z"
   },
   {
    "duration": 1834,
    "start_time": "2024-12-26T19:54:45.115Z"
   },
   {
    "duration": 879,
    "start_time": "2024-12-26T19:54:46.954Z"
   },
   {
    "duration": 221,
    "start_time": "2024-12-26T19:54:47.835Z"
   },
   {
    "duration": 132,
    "start_time": "2024-12-26T19:54:48.058Z"
   },
   {
    "duration": 26,
    "start_time": "2024-12-26T19:54:48.191Z"
   },
   {
    "duration": 628,
    "start_time": "2024-12-26T19:54:48.219Z"
   },
   {
    "duration": 552,
    "start_time": "2024-12-26T19:54:48.850Z"
   },
   {
    "duration": 12,
    "start_time": "2024-12-26T19:54:49.404Z"
   },
   {
    "duration": 65,
    "start_time": "2024-12-26T19:54:49.418Z"
   },
   {
    "duration": 3,
    "start_time": "2024-12-26T19:54:49.484Z"
   },
   {
    "duration": 436,
    "start_time": "2024-12-26T19:54:49.489Z"
   },
   {
    "duration": 470,
    "start_time": "2024-12-26T19:54:49.927Z"
   },
   {
    "duration": 56,
    "start_time": "2024-12-26T19:54:50.399Z"
   },
   {
    "duration": 53,
    "start_time": "2024-12-26T19:54:50.457Z"
   },
   {
    "duration": 19,
    "start_time": "2024-12-26T19:54:50.511Z"
   },
   {
    "duration": 39,
    "start_time": "2024-12-26T19:54:50.532Z"
   },
   {
    "duration": 29,
    "start_time": "2024-12-26T19:54:50.573Z"
   },
   {
    "duration": 1913,
    "start_time": "2024-12-26T19:54:50.604Z"
   },
   {
    "duration": 16,
    "start_time": "2024-12-26T19:54:52.519Z"
   },
   {
    "duration": 67,
    "start_time": "2024-12-26T19:54:52.536Z"
   },
   {
    "duration": 37,
    "start_time": "2024-12-26T19:54:52.604Z"
   },
   {
    "duration": 38,
    "start_time": "2024-12-26T19:54:52.642Z"
   },
   {
    "duration": 38,
    "start_time": "2024-12-26T19:54:52.682Z"
   },
   {
    "duration": 49,
    "start_time": "2024-12-26T19:54:52.721Z"
   },
   {
    "duration": 41,
    "start_time": "2024-12-26T19:54:52.774Z"
   },
   {
    "duration": 1906,
    "start_time": "2024-12-26T19:54:52.817Z"
   },
   {
    "duration": 15,
    "start_time": "2024-12-26T19:54:54.725Z"
   },
   {
    "duration": 29,
    "start_time": "2024-12-26T19:54:54.742Z"
   },
   {
    "duration": 29,
    "start_time": "2024-12-26T19:54:54.772Z"
   },
   {
    "duration": 18,
    "start_time": "2024-12-26T19:54:54.802Z"
   },
   {
    "duration": 17,
    "start_time": "2024-12-26T19:54:54.821Z"
   },
   {
    "duration": 122,
    "start_time": "2024-12-26T19:54:54.839Z"
   },
   {
    "duration": 16,
    "start_time": "2024-12-26T19:54:54.962Z"
   },
   {
    "duration": 34,
    "start_time": "2024-12-26T19:54:54.980Z"
   },
   {
    "duration": 307,
    "start_time": "2024-12-26T19:54:55.015Z"
   },
   {
    "duration": 113,
    "start_time": "2024-12-26T19:54:55.324Z"
   },
   {
    "duration": 355,
    "start_time": "2024-12-26T19:54:55.438Z"
   },
   {
    "duration": 349,
    "start_time": "2024-12-26T19:54:55.794Z"
   },
   {
    "duration": 718,
    "start_time": "2024-12-26T19:54:56.144Z"
   },
   {
    "duration": 2,
    "start_time": "2024-12-26T19:54:56.864Z"
   },
   {
    "duration": 14,
    "start_time": "2024-12-26T19:54:56.868Z"
   },
   {
    "duration": 5,
    "start_time": "2024-12-26T19:54:56.884Z"
   },
   {
    "duration": 403,
    "start_time": "2024-12-26T19:54:56.891Z"
   },
   {
    "duration": 66,
    "start_time": "2024-12-26T19:54:57.295Z"
   },
   {
    "duration": 449,
    "start_time": "2024-12-26T19:54:57.362Z"
   },
   {
    "duration": 2,
    "start_time": "2024-12-26T19:54:57.813Z"
   },
   {
    "duration": 5,
    "start_time": "2024-12-26T19:54:57.816Z"
   },
   {
    "duration": 10,
    "start_time": "2024-12-26T19:54:57.823Z"
   },
   {
    "duration": 22,
    "start_time": "2024-12-26T19:54:57.834Z"
   },
   {
    "duration": 480,
    "start_time": "2024-12-26T19:54:57.858Z"
   },
   {
    "duration": 19,
    "start_time": "2024-12-26T19:54:58.340Z"
   },
   {
    "duration": 36,
    "start_time": "2024-12-26T19:54:58.360Z"
   },
   {
    "duration": 17,
    "start_time": "2024-12-26T19:54:58.398Z"
   },
   {
    "duration": 67,
    "start_time": "2024-12-26T19:54:58.416Z"
   },
   {
    "duration": 30,
    "start_time": "2024-12-26T19:54:58.485Z"
   },
   {
    "duration": 3,
    "start_time": "2024-12-26T19:54:58.516Z"
   },
   {
    "duration": 22,
    "start_time": "2024-12-26T19:54:58.520Z"
   },
   {
    "duration": 223,
    "start_time": "2024-12-26T19:54:58.543Z"
   },
   {
    "duration": 0,
    "start_time": "2024-12-26T19:54:58.768Z"
   },
   {
    "duration": 0,
    "start_time": "2024-12-26T19:54:58.769Z"
   },
   {
    "duration": 0,
    "start_time": "2024-12-26T19:54:58.770Z"
   },
   {
    "duration": 0,
    "start_time": "2024-12-26T19:54:58.771Z"
   },
   {
    "duration": 0,
    "start_time": "2024-12-26T19:54:58.772Z"
   },
   {
    "duration": 0,
    "start_time": "2024-12-26T19:54:58.773Z"
   },
   {
    "duration": 0,
    "start_time": "2024-12-26T19:54:58.774Z"
   },
   {
    "duration": 0,
    "start_time": "2024-12-26T19:54:58.775Z"
   },
   {
    "duration": 0,
    "start_time": "2024-12-26T19:54:58.776Z"
   },
   {
    "duration": 0,
    "start_time": "2024-12-26T19:54:58.776Z"
   },
   {
    "duration": 0,
    "start_time": "2024-12-26T19:54:58.778Z"
   },
   {
    "duration": 0,
    "start_time": "2024-12-26T19:54:58.779Z"
   },
   {
    "duration": 0,
    "start_time": "2024-12-26T19:54:58.780Z"
   },
   {
    "duration": 0,
    "start_time": "2024-12-26T19:54:58.781Z"
   },
   {
    "duration": 0,
    "start_time": "2024-12-26T19:54:58.782Z"
   },
   {
    "duration": 0,
    "start_time": "2024-12-26T19:54:58.783Z"
   },
   {
    "duration": 0,
    "start_time": "2024-12-26T19:54:58.784Z"
   },
   {
    "duration": 0,
    "start_time": "2024-12-26T19:54:58.785Z"
   },
   {
    "duration": 0,
    "start_time": "2024-12-26T19:54:58.786Z"
   },
   {
    "duration": 21072,
    "start_time": "2024-12-26T19:55:26.786Z"
   },
   {
    "duration": 20598,
    "start_time": "2024-12-26T19:57:34.442Z"
   },
   {
    "duration": 1364,
    "start_time": "2024-12-27T08:23:52.338Z"
   },
   {
    "duration": 51,
    "start_time": "2024-12-27T08:23:56.897Z"
   },
   {
    "duration": 2,
    "start_time": "2024-12-27T08:23:56.950Z"
   },
   {
    "duration": 3082,
    "start_time": "2024-12-27T08:23:56.953Z"
   },
   {
    "duration": 2157,
    "start_time": "2024-12-27T08:24:00.037Z"
   },
   {
    "duration": 1104,
    "start_time": "2024-12-27T08:24:02.196Z"
   },
   {
    "duration": 215,
    "start_time": "2024-12-27T08:24:03.301Z"
   },
   {
    "duration": 117,
    "start_time": "2024-12-27T08:24:03.517Z"
   },
   {
    "duration": 6,
    "start_time": "2024-12-27T08:24:03.635Z"
   },
   {
    "duration": 679,
    "start_time": "2024-12-27T08:24:03.643Z"
   },
   {
    "duration": 528,
    "start_time": "2024-12-27T08:24:04.324Z"
   },
   {
    "duration": 12,
    "start_time": "2024-12-27T08:24:04.853Z"
   },
   {
    "duration": 59,
    "start_time": "2024-12-27T08:24:04.867Z"
   },
   {
    "duration": 2,
    "start_time": "2024-12-27T08:24:04.928Z"
   },
   {
    "duration": 429,
    "start_time": "2024-12-27T08:24:04.933Z"
   },
   {
    "duration": 474,
    "start_time": "2024-12-27T08:24:05.363Z"
   },
   {
    "duration": 55,
    "start_time": "2024-12-27T08:24:05.839Z"
   },
   {
    "duration": 62,
    "start_time": "2024-12-27T08:24:05.895Z"
   },
   {
    "duration": 17,
    "start_time": "2024-12-27T08:24:05.959Z"
   },
   {
    "duration": 42,
    "start_time": "2024-12-27T08:24:05.977Z"
   },
   {
    "duration": 30,
    "start_time": "2024-12-27T08:24:06.020Z"
   },
   {
    "duration": 1813,
    "start_time": "2024-12-27T08:24:06.051Z"
   },
   {
    "duration": 21,
    "start_time": "2024-12-27T08:24:07.865Z"
   },
   {
    "duration": 34,
    "start_time": "2024-12-27T08:24:07.888Z"
   },
   {
    "duration": 19,
    "start_time": "2024-12-27T08:24:07.923Z"
   },
   {
    "duration": 25,
    "start_time": "2024-12-27T08:24:07.943Z"
   },
   {
    "duration": 26,
    "start_time": "2024-12-27T08:24:07.970Z"
   },
   {
    "duration": 58,
    "start_time": "2024-12-27T08:24:07.997Z"
   },
   {
    "duration": 44,
    "start_time": "2024-12-27T08:24:08.056Z"
   },
   {
    "duration": 1743,
    "start_time": "2024-12-27T08:24:08.101Z"
   },
   {
    "duration": 13,
    "start_time": "2024-12-27T08:24:09.846Z"
   },
   {
    "duration": 50,
    "start_time": "2024-12-27T08:24:09.860Z"
   },
   {
    "duration": 18,
    "start_time": "2024-12-27T08:24:09.912Z"
   },
   {
    "duration": 18,
    "start_time": "2024-12-27T08:24:09.931Z"
   },
   {
    "duration": 20,
    "start_time": "2024-12-27T08:24:09.950Z"
   },
   {
    "duration": 100,
    "start_time": "2024-12-27T08:24:09.972Z"
   },
   {
    "duration": 46,
    "start_time": "2024-12-27T08:24:10.074Z"
   },
   {
    "duration": 51,
    "start_time": "2024-12-27T08:24:10.121Z"
   },
   {
    "duration": 278,
    "start_time": "2024-12-27T08:24:10.174Z"
   },
   {
    "duration": 100,
    "start_time": "2024-12-27T08:24:10.487Z"
   },
   {
    "duration": 354,
    "start_time": "2024-12-27T08:24:10.589Z"
   },
   {
    "duration": 349,
    "start_time": "2024-12-27T08:24:10.948Z"
   },
   {
    "duration": 707,
    "start_time": "2024-12-27T08:24:11.298Z"
   },
   {
    "duration": 2,
    "start_time": "2024-12-27T08:24:12.007Z"
   },
   {
    "duration": 17,
    "start_time": "2024-12-27T08:24:12.010Z"
   },
   {
    "duration": 5,
    "start_time": "2024-12-27T08:24:12.029Z"
   },
   {
    "duration": 486,
    "start_time": "2024-12-27T08:24:12.036Z"
   },
   {
    "duration": 15,
    "start_time": "2024-12-27T08:24:12.523Z"
   },
   {
    "duration": 490,
    "start_time": "2024-12-27T08:24:12.540Z"
   },
   {
    "duration": 2,
    "start_time": "2024-12-27T08:24:13.031Z"
   },
   {
    "duration": 15,
    "start_time": "2024-12-27T08:24:13.035Z"
   },
   {
    "duration": 3,
    "start_time": "2024-12-27T08:24:13.052Z"
   },
   {
    "duration": 22,
    "start_time": "2024-12-27T08:24:13.056Z"
   },
   {
    "duration": 507,
    "start_time": "2024-12-27T08:24:13.079Z"
   },
   {
    "duration": 17,
    "start_time": "2024-12-27T08:24:13.588Z"
   },
   {
    "duration": 39,
    "start_time": "2024-12-27T08:24:13.606Z"
   },
   {
    "duration": 20,
    "start_time": "2024-12-27T08:24:13.646Z"
   },
   {
    "duration": 46,
    "start_time": "2024-12-27T08:24:13.686Z"
   },
   {
    "duration": 29,
    "start_time": "2024-12-27T08:24:13.734Z"
   },
   {
    "duration": 3,
    "start_time": "2024-12-27T08:24:13.765Z"
   },
   {
    "duration": 18,
    "start_time": "2024-12-27T08:24:13.769Z"
   },
   {
    "duration": 2,
    "start_time": "2024-12-27T08:24:13.788Z"
   },
   {
    "duration": 7,
    "start_time": "2024-12-27T08:24:13.791Z"
   },
   {
    "duration": 50,
    "start_time": "2024-12-27T08:24:13.799Z"
   },
   {
    "duration": 169741,
    "start_time": "2024-12-27T08:24:13.851Z"
   },
   {
    "duration": 0,
    "start_time": "2024-12-27T08:27:03.593Z"
   },
   {
    "duration": 0,
    "start_time": "2024-12-27T08:27:03.595Z"
   },
   {
    "duration": 0,
    "start_time": "2024-12-27T08:27:03.596Z"
   },
   {
    "duration": 0,
    "start_time": "2024-12-27T08:27:03.597Z"
   },
   {
    "duration": 0,
    "start_time": "2024-12-27T08:27:03.598Z"
   },
   {
    "duration": 0,
    "start_time": "2024-12-27T08:27:03.599Z"
   },
   {
    "duration": 0,
    "start_time": "2024-12-27T08:27:03.600Z"
   },
   {
    "duration": 0,
    "start_time": "2024-12-27T08:27:03.601Z"
   },
   {
    "duration": 0,
    "start_time": "2024-12-27T08:27:03.602Z"
   },
   {
    "duration": 0,
    "start_time": "2024-12-27T08:27:03.603Z"
   },
   {
    "duration": 0,
    "start_time": "2024-12-27T08:27:03.604Z"
   },
   {
    "duration": 0,
    "start_time": "2024-12-27T08:27:03.605Z"
   },
   {
    "duration": 0,
    "start_time": "2024-12-27T08:27:03.607Z"
   },
   {
    "duration": 0,
    "start_time": "2024-12-27T08:27:03.608Z"
   },
   {
    "duration": 0,
    "start_time": "2024-12-27T08:27:03.609Z"
   },
   {
    "duration": 0,
    "start_time": "2024-12-27T08:27:03.610Z"
   },
   {
    "duration": 48,
    "start_time": "2024-12-27T08:30:48.987Z"
   },
   {
    "duration": 55,
    "start_time": "2024-12-27T08:31:01.388Z"
   },
   {
    "duration": 2,
    "start_time": "2024-12-27T08:31:01.445Z"
   },
   {
    "duration": 2652,
    "start_time": "2024-12-27T08:31:01.448Z"
   },
   {
    "duration": 1401,
    "start_time": "2024-12-27T08:31:04.103Z"
   },
   {
    "duration": 1613,
    "start_time": "2024-12-27T08:31:05.506Z"
   },
   {
    "duration": 303,
    "start_time": "2024-12-27T08:31:07.121Z"
   },
   {
    "duration": 113,
    "start_time": "2024-12-27T08:31:07.425Z"
   },
   {
    "duration": 6,
    "start_time": "2024-12-27T08:31:07.539Z"
   },
   {
    "duration": 627,
    "start_time": "2024-12-27T08:31:07.547Z"
   },
   {
    "duration": 549,
    "start_time": "2024-12-27T08:31:08.176Z"
   },
   {
    "duration": 12,
    "start_time": "2024-12-27T08:31:08.727Z"
   },
   {
    "duration": 61,
    "start_time": "2024-12-27T08:31:08.741Z"
   },
   {
    "duration": 3,
    "start_time": "2024-12-27T08:31:08.803Z"
   },
   {
    "duration": 359,
    "start_time": "2024-12-27T08:31:08.807Z"
   },
   {
    "duration": 476,
    "start_time": "2024-12-27T08:31:09.168Z"
   },
   {
    "duration": 10,
    "start_time": "2024-12-27T08:31:09.646Z"
   },
   {
    "duration": 68,
    "start_time": "2024-12-27T08:31:09.657Z"
   },
   {
    "duration": 17,
    "start_time": "2024-12-27T08:31:09.727Z"
   },
   {
    "duration": 21,
    "start_time": "2024-12-27T08:31:09.746Z"
   },
   {
    "duration": 30,
    "start_time": "2024-12-27T08:31:09.769Z"
   },
   {
    "duration": 1724,
    "start_time": "2024-12-27T08:31:09.801Z"
   },
   {
    "duration": 12,
    "start_time": "2024-12-27T08:31:11.527Z"
   },
   {
    "duration": 90,
    "start_time": "2024-12-27T08:31:11.540Z"
   },
   {
    "duration": 17,
    "start_time": "2024-12-27T08:31:11.632Z"
   },
   {
    "duration": 24,
    "start_time": "2024-12-27T08:31:11.651Z"
   },
   {
    "duration": 16,
    "start_time": "2024-12-27T08:31:11.676Z"
   },
   {
    "duration": 44,
    "start_time": "2024-12-27T08:31:11.694Z"
   },
   {
    "duration": 49,
    "start_time": "2024-12-27T08:31:11.743Z"
   },
   {
    "duration": 1708,
    "start_time": "2024-12-27T08:31:11.793Z"
   },
   {
    "duration": 13,
    "start_time": "2024-12-27T08:31:13.503Z"
   },
   {
    "duration": 19,
    "start_time": "2024-12-27T08:31:13.517Z"
   },
   {
    "duration": 83,
    "start_time": "2024-12-27T08:31:13.538Z"
   },
   {
    "duration": 20,
    "start_time": "2024-12-27T08:31:13.622Z"
   },
   {
    "duration": 24,
    "start_time": "2024-12-27T08:31:13.643Z"
   },
   {
    "duration": 113,
    "start_time": "2024-12-27T08:31:13.668Z"
   },
   {
    "duration": 16,
    "start_time": "2024-12-27T08:31:13.782Z"
   },
   {
    "duration": 38,
    "start_time": "2024-12-27T08:31:13.800Z"
   },
   {
    "duration": 304,
    "start_time": "2024-12-27T08:31:13.840Z"
   },
   {
    "duration": 97,
    "start_time": "2024-12-27T08:31:14.146Z"
   },
   {
    "duration": 339,
    "start_time": "2024-12-27T08:31:14.245Z"
   },
   {
    "duration": 338,
    "start_time": "2024-12-27T08:31:14.586Z"
   },
   {
    "duration": 707,
    "start_time": "2024-12-27T08:31:14.926Z"
   },
   {
    "duration": 2,
    "start_time": "2024-12-27T08:31:15.635Z"
   },
   {
    "duration": 19,
    "start_time": "2024-12-27T08:31:15.638Z"
   },
   {
    "duration": 4,
    "start_time": "2024-12-27T08:31:15.659Z"
   },
   {
    "duration": 462,
    "start_time": "2024-12-27T08:31:15.664Z"
   },
   {
    "duration": 14,
    "start_time": "2024-12-27T08:31:16.128Z"
   },
   {
    "duration": 489,
    "start_time": "2024-12-27T08:31:16.144Z"
   },
   {
    "duration": 2,
    "start_time": "2024-12-27T08:31:16.634Z"
   },
   {
    "duration": 5,
    "start_time": "2024-12-27T08:31:16.638Z"
   },
   {
    "duration": 24,
    "start_time": "2024-12-27T08:31:16.644Z"
   },
   {
    "duration": 27,
    "start_time": "2024-12-27T08:31:16.669Z"
   },
   {
    "duration": 504,
    "start_time": "2024-12-27T08:31:16.697Z"
   },
   {
    "duration": 17,
    "start_time": "2024-12-27T08:31:17.203Z"
   },
   {
    "duration": 39,
    "start_time": "2024-12-27T08:31:17.221Z"
   },
   {
    "duration": 36,
    "start_time": "2024-12-27T08:31:17.262Z"
   },
   {
    "duration": 53,
    "start_time": "2024-12-27T08:31:17.300Z"
   },
   {
    "duration": 39,
    "start_time": "2024-12-27T08:31:17.354Z"
   },
   {
    "duration": 3,
    "start_time": "2024-12-27T08:31:17.395Z"
   },
   {
    "duration": 6,
    "start_time": "2024-12-27T08:31:17.399Z"
   },
   {
    "duration": 3,
    "start_time": "2024-12-27T08:31:17.407Z"
   },
   {
    "duration": 6,
    "start_time": "2024-12-27T08:31:17.411Z"
   },
   {
    "duration": 9,
    "start_time": "2024-12-27T08:31:17.418Z"
   },
   {
    "duration": 85,
    "start_time": "2024-12-27T08:31:17.428Z"
   },
   {
    "duration": 4697,
    "start_time": "2024-12-27T08:31:17.514Z"
   },
   {
    "duration": 0,
    "start_time": "2024-12-27T08:31:22.212Z"
   },
   {
    "duration": 0,
    "start_time": "2024-12-27T08:31:22.213Z"
   },
   {
    "duration": 0,
    "start_time": "2024-12-27T08:31:22.214Z"
   },
   {
    "duration": 0,
    "start_time": "2024-12-27T08:31:22.215Z"
   },
   {
    "duration": 0,
    "start_time": "2024-12-27T08:31:22.216Z"
   },
   {
    "duration": 0,
    "start_time": "2024-12-27T08:31:22.217Z"
   },
   {
    "duration": 0,
    "start_time": "2024-12-27T08:31:22.219Z"
   },
   {
    "duration": 0,
    "start_time": "2024-12-27T08:31:22.220Z"
   },
   {
    "duration": 0,
    "start_time": "2024-12-27T08:31:22.221Z"
   },
   {
    "duration": 0,
    "start_time": "2024-12-27T08:31:22.225Z"
   },
   {
    "duration": 0,
    "start_time": "2024-12-27T08:31:22.226Z"
   },
   {
    "duration": 0,
    "start_time": "2024-12-27T08:31:22.227Z"
   },
   {
    "duration": 0,
    "start_time": "2024-12-27T08:31:22.228Z"
   },
   {
    "duration": 0,
    "start_time": "2024-12-27T08:31:22.229Z"
   },
   {
    "duration": 0,
    "start_time": "2024-12-27T08:31:22.230Z"
   },
   {
    "duration": 0,
    "start_time": "2024-12-27T08:31:22.231Z"
   },
   {
    "duration": 1299,
    "start_time": "2024-12-27T08:37:29.619Z"
   },
   {
    "duration": 1857,
    "start_time": "2024-12-27T08:38:39.663Z"
   },
   {
    "duration": 18,
    "start_time": "2024-12-27T08:39:34.354Z"
   },
   {
    "duration": 1520,
    "start_time": "2024-12-27T08:40:46.027Z"
   },
   {
    "duration": 52,
    "start_time": "2024-12-27T08:42:05.914Z"
   },
   {
    "duration": 2,
    "start_time": "2024-12-27T08:42:05.968Z"
   },
   {
    "duration": 2711,
    "start_time": "2024-12-27T08:42:05.972Z"
   },
   {
    "duration": 7121,
    "start_time": "2024-12-27T08:42:08.686Z"
   },
   {
    "duration": 1327,
    "start_time": "2024-12-27T08:42:15.809Z"
   },
   {
    "duration": 850,
    "start_time": "2024-12-27T08:42:17.138Z"
   },
   {
    "duration": 205,
    "start_time": "2024-12-27T08:42:17.989Z"
   },
   {
    "duration": 108,
    "start_time": "2024-12-27T08:42:18.196Z"
   },
   {
    "duration": 6,
    "start_time": "2024-12-27T08:42:18.305Z"
   },
   {
    "duration": 616,
    "start_time": "2024-12-27T08:42:18.313Z"
   },
   {
    "duration": 569,
    "start_time": "2024-12-27T08:42:18.931Z"
   },
   {
    "duration": 13,
    "start_time": "2024-12-27T08:42:19.502Z"
   },
   {
    "duration": 58,
    "start_time": "2024-12-27T08:42:19.516Z"
   },
   {
    "duration": 2,
    "start_time": "2024-12-27T08:42:19.576Z"
   },
   {
    "duration": 413,
    "start_time": "2024-12-27T08:42:19.586Z"
   },
   {
    "duration": 507,
    "start_time": "2024-12-27T08:42:20.000Z"
   },
   {
    "duration": 13,
    "start_time": "2024-12-27T08:42:20.508Z"
   },
   {
    "duration": 73,
    "start_time": "2024-12-27T08:42:20.522Z"
   },
   {
    "duration": 17,
    "start_time": "2024-12-27T08:42:20.597Z"
   },
   {
    "duration": 30,
    "start_time": "2024-12-27T08:42:20.615Z"
   },
   {
    "duration": 26,
    "start_time": "2024-12-27T08:42:20.646Z"
   },
   {
    "duration": 1742,
    "start_time": "2024-12-27T08:42:20.673Z"
   },
   {
    "duration": 14,
    "start_time": "2024-12-27T08:42:22.417Z"
   },
   {
    "duration": 37,
    "start_time": "2024-12-27T08:42:22.433Z"
   },
   {
    "duration": 32,
    "start_time": "2024-12-27T08:42:22.471Z"
   },
   {
    "duration": 25,
    "start_time": "2024-12-27T08:42:22.505Z"
   },
   {
    "duration": 47,
    "start_time": "2024-12-27T08:42:22.532Z"
   },
   {
    "duration": 55,
    "start_time": "2024-12-27T08:42:22.584Z"
   },
   {
    "duration": 27,
    "start_time": "2024-12-27T08:42:22.640Z"
   },
   {
    "duration": 1718,
    "start_time": "2024-12-27T08:42:22.668Z"
   },
   {
    "duration": 13,
    "start_time": "2024-12-27T08:42:24.388Z"
   },
   {
    "duration": 32,
    "start_time": "2024-12-27T08:42:24.403Z"
   },
   {
    "duration": 29,
    "start_time": "2024-12-27T08:42:24.436Z"
   },
   {
    "duration": 31,
    "start_time": "2024-12-27T08:42:24.467Z"
   },
   {
    "duration": 21,
    "start_time": "2024-12-27T08:42:24.500Z"
   },
   {
    "duration": 111,
    "start_time": "2024-12-27T08:42:24.522Z"
   },
   {
    "duration": 15,
    "start_time": "2024-12-27T08:42:24.635Z"
   },
   {
    "duration": 62,
    "start_time": "2024-12-27T08:42:24.652Z"
   },
   {
    "duration": 324,
    "start_time": "2024-12-27T08:42:24.715Z"
   },
   {
    "duration": 99,
    "start_time": "2024-12-27T08:42:25.041Z"
   },
   {
    "duration": 363,
    "start_time": "2024-12-27T08:42:25.142Z"
   },
   {
    "duration": 368,
    "start_time": "2024-12-27T08:42:25.507Z"
   },
   {
    "duration": 732,
    "start_time": "2024-12-27T08:42:25.876Z"
   },
   {
    "duration": 2,
    "start_time": "2024-12-27T08:42:26.609Z"
   },
   {
    "duration": 19,
    "start_time": "2024-12-27T08:42:26.612Z"
   },
   {
    "duration": 7,
    "start_time": "2024-12-27T08:42:26.632Z"
   },
   {
    "duration": 463,
    "start_time": "2024-12-27T08:42:26.640Z"
   },
   {
    "duration": 14,
    "start_time": "2024-12-27T08:42:27.104Z"
   },
   {
    "duration": 468,
    "start_time": "2024-12-27T08:42:27.120Z"
   },
   {
    "duration": 2,
    "start_time": "2024-12-27T08:42:27.590Z"
   },
   {
    "duration": 5,
    "start_time": "2024-12-27T08:42:27.593Z"
   },
   {
    "duration": 16,
    "start_time": "2024-12-27T08:42:27.599Z"
   },
   {
    "duration": 32,
    "start_time": "2024-12-27T08:42:27.616Z"
   },
   {
    "duration": 553,
    "start_time": "2024-12-27T08:42:27.649Z"
   },
   {
    "duration": 17,
    "start_time": "2024-12-27T08:42:28.203Z"
   },
   {
    "duration": 38,
    "start_time": "2024-12-27T08:42:28.221Z"
   },
   {
    "duration": 35,
    "start_time": "2024-12-27T08:42:28.260Z"
   },
   {
    "duration": 45,
    "start_time": "2024-12-27T08:42:28.296Z"
   },
   {
    "duration": 57,
    "start_time": "2024-12-27T08:42:28.343Z"
   },
   {
    "duration": 3,
    "start_time": "2024-12-27T08:42:28.401Z"
   },
   {
    "duration": 9,
    "start_time": "2024-12-27T08:42:28.405Z"
   },
   {
    "duration": 12,
    "start_time": "2024-12-27T08:42:28.415Z"
   },
   {
    "duration": 6,
    "start_time": "2024-12-27T08:42:28.428Z"
   },
   {
    "duration": 11,
    "start_time": "2024-12-27T08:42:28.435Z"
   },
   {
    "duration": 65,
    "start_time": "2024-12-27T08:42:28.447Z"
   },
   {
    "duration": 960,
    "start_time": "2024-12-27T08:42:28.514Z"
   },
   {
    "duration": 0,
    "start_time": "2024-12-27T08:42:29.476Z"
   },
   {
    "duration": 0,
    "start_time": "2024-12-27T08:42:29.478Z"
   },
   {
    "duration": 0,
    "start_time": "2024-12-27T08:42:29.486Z"
   },
   {
    "duration": 0,
    "start_time": "2024-12-27T08:42:29.487Z"
   },
   {
    "duration": 0,
    "start_time": "2024-12-27T08:42:29.488Z"
   },
   {
    "duration": 0,
    "start_time": "2024-12-27T08:42:29.489Z"
   },
   {
    "duration": 0,
    "start_time": "2024-12-27T08:42:29.490Z"
   },
   {
    "duration": 0,
    "start_time": "2024-12-27T08:42:29.492Z"
   },
   {
    "duration": 0,
    "start_time": "2024-12-27T08:42:29.493Z"
   },
   {
    "duration": 0,
    "start_time": "2024-12-27T08:42:29.494Z"
   },
   {
    "duration": 0,
    "start_time": "2024-12-27T08:42:29.495Z"
   },
   {
    "duration": 0,
    "start_time": "2024-12-27T08:42:29.496Z"
   },
   {
    "duration": 0,
    "start_time": "2024-12-27T08:42:29.498Z"
   },
   {
    "duration": 0,
    "start_time": "2024-12-27T08:42:29.499Z"
   },
   {
    "duration": 0,
    "start_time": "2024-12-27T08:42:29.500Z"
   },
   {
    "duration": 0,
    "start_time": "2024-12-27T08:42:29.501Z"
   },
   {
    "duration": 870,
    "start_time": "2024-12-27T08:42:49.706Z"
   },
   {
    "duration": 2926,
    "start_time": "2024-12-27T08:43:30.764Z"
   },
   {
    "duration": 56,
    "start_time": "2024-12-27T08:57:53.676Z"
   },
   {
    "duration": 2,
    "start_time": "2024-12-27T08:57:53.733Z"
   },
   {
    "duration": 2771,
    "start_time": "2024-12-27T08:57:53.737Z"
   },
   {
    "duration": 3258,
    "start_time": "2024-12-27T08:57:56.511Z"
   },
   {
    "duration": 1536,
    "start_time": "2024-12-27T08:57:59.771Z"
   },
   {
    "duration": 864,
    "start_time": "2024-12-27T08:58:01.309Z"
   },
   {
    "duration": 257,
    "start_time": "2024-12-27T08:58:02.175Z"
   },
   {
    "duration": 109,
    "start_time": "2024-12-27T08:58:02.434Z"
   },
   {
    "duration": 6,
    "start_time": "2024-12-27T08:58:02.545Z"
   },
   {
    "duration": 620,
    "start_time": "2024-12-27T08:58:02.553Z"
   },
   {
    "duration": 560,
    "start_time": "2024-12-27T08:58:03.175Z"
   },
   {
    "duration": 12,
    "start_time": "2024-12-27T08:58:03.737Z"
   },
   {
    "duration": 67,
    "start_time": "2024-12-27T08:58:03.751Z"
   },
   {
    "duration": 2,
    "start_time": "2024-12-27T08:58:03.820Z"
   },
   {
    "duration": 420,
    "start_time": "2024-12-27T08:58:03.824Z"
   },
   {
    "duration": 478,
    "start_time": "2024-12-27T08:58:04.245Z"
   },
   {
    "duration": 13,
    "start_time": "2024-12-27T08:58:04.724Z"
   },
   {
    "duration": 69,
    "start_time": "2024-12-27T08:58:04.738Z"
   },
   {
    "duration": 18,
    "start_time": "2024-12-27T08:58:04.808Z"
   },
   {
    "duration": 17,
    "start_time": "2024-12-27T08:58:04.828Z"
   },
   {
    "duration": 30,
    "start_time": "2024-12-27T08:58:04.847Z"
   },
   {
    "duration": 1778,
    "start_time": "2024-12-27T08:58:04.887Z"
   },
   {
    "duration": 22,
    "start_time": "2024-12-27T08:58:06.666Z"
   },
   {
    "duration": 62,
    "start_time": "2024-12-27T08:58:06.689Z"
   },
   {
    "duration": 19,
    "start_time": "2024-12-27T08:58:06.752Z"
   },
   {
    "duration": 19,
    "start_time": "2024-12-27T08:58:06.772Z"
   },
   {
    "duration": 23,
    "start_time": "2024-12-27T08:58:06.793Z"
   },
   {
    "duration": 68,
    "start_time": "2024-12-27T08:58:06.820Z"
   },
   {
    "duration": 27,
    "start_time": "2024-12-27T08:58:06.890Z"
   },
   {
    "duration": 1702,
    "start_time": "2024-12-27T08:58:06.918Z"
   },
   {
    "duration": 13,
    "start_time": "2024-12-27T08:58:08.621Z"
   },
   {
    "duration": 31,
    "start_time": "2024-12-27T08:58:08.636Z"
   },
   {
    "duration": 31,
    "start_time": "2024-12-27T08:58:08.669Z"
   },
   {
    "duration": 23,
    "start_time": "2024-12-27T08:58:08.701Z"
   },
   {
    "duration": 20,
    "start_time": "2024-12-27T08:58:08.725Z"
   },
   {
    "duration": 105,
    "start_time": "2024-12-27T08:58:08.746Z"
   },
   {
    "duration": 16,
    "start_time": "2024-12-27T08:58:08.853Z"
   },
   {
    "duration": 46,
    "start_time": "2024-12-27T08:58:08.870Z"
   },
   {
    "duration": 310,
    "start_time": "2024-12-27T08:58:08.918Z"
   },
   {
    "duration": 101,
    "start_time": "2024-12-27T08:58:09.229Z"
   },
   {
    "duration": 383,
    "start_time": "2024-12-27T08:58:09.331Z"
   },
   {
    "duration": 355,
    "start_time": "2024-12-27T08:58:09.716Z"
   },
   {
    "duration": 738,
    "start_time": "2024-12-27T08:58:10.073Z"
   },
   {
    "duration": 1,
    "start_time": "2024-12-27T08:58:10.813Z"
   },
   {
    "duration": 19,
    "start_time": "2024-12-27T08:58:10.816Z"
   },
   {
    "duration": 12,
    "start_time": "2024-12-27T08:58:10.836Z"
   },
   {
    "duration": 459,
    "start_time": "2024-12-27T08:58:10.850Z"
   },
   {
    "duration": 15,
    "start_time": "2024-12-27T08:58:11.310Z"
   },
   {
    "duration": 467,
    "start_time": "2024-12-27T08:58:11.327Z"
   },
   {
    "duration": 3,
    "start_time": "2024-12-27T08:58:11.796Z"
   },
   {
    "duration": 10,
    "start_time": "2024-12-27T08:58:11.800Z"
   },
   {
    "duration": 26,
    "start_time": "2024-12-27T08:58:11.812Z"
   },
   {
    "duration": 21,
    "start_time": "2024-12-27T08:58:11.839Z"
   },
   {
    "duration": 530,
    "start_time": "2024-12-27T08:58:11.862Z"
   },
   {
    "duration": 17,
    "start_time": "2024-12-27T08:58:12.394Z"
   },
   {
    "duration": 48,
    "start_time": "2024-12-27T08:58:12.412Z"
   },
   {
    "duration": 28,
    "start_time": "2024-12-27T08:58:12.461Z"
   },
   {
    "duration": 46,
    "start_time": "2024-12-27T08:58:12.491Z"
   },
   {
    "duration": 30,
    "start_time": "2024-12-27T08:58:12.538Z"
   },
   {
    "duration": 17,
    "start_time": "2024-12-27T08:58:12.569Z"
   },
   {
    "duration": 5,
    "start_time": "2024-12-27T08:58:12.588Z"
   },
   {
    "duration": 14,
    "start_time": "2024-12-27T08:58:12.594Z"
   },
   {
    "duration": 12,
    "start_time": "2024-12-27T08:58:12.609Z"
   },
   {
    "duration": 1113868,
    "start_time": "2024-12-27T08:58:12.623Z"
   },
   {
    "duration": 2,
    "start_time": "2024-12-27T09:16:46.493Z"
   },
   {
    "duration": 20,
    "start_time": "2024-12-27T09:16:46.496Z"
   },
   {
    "duration": 7,
    "start_time": "2024-12-27T09:16:46.518Z"
   },
   {
    "duration": 4,
    "start_time": "2024-12-27T09:16:46.526Z"
   },
   {
    "duration": 4,
    "start_time": "2024-12-27T09:16:46.531Z"
   },
   {
    "duration": 14,
    "start_time": "2024-12-27T09:16:46.536Z"
   },
   {
    "duration": 10,
    "start_time": "2024-12-27T09:16:46.551Z"
   },
   {
    "duration": 23,
    "start_time": "2024-12-27T09:16:46.563Z"
   },
   {
    "duration": 6,
    "start_time": "2024-12-27T09:16:46.588Z"
   },
   {
    "duration": 27,
    "start_time": "2024-12-27T09:16:46.595Z"
   },
   {
    "duration": 41,
    "start_time": "2024-12-27T09:16:46.624Z"
   },
   {
    "duration": 4,
    "start_time": "2024-12-27T09:16:46.667Z"
   },
   {
    "duration": 122,
    "start_time": "2024-12-27T09:16:46.673Z"
   },
   {
    "duration": 0,
    "start_time": "2024-12-27T09:16:46.796Z"
   },
   {
    "duration": 0,
    "start_time": "2024-12-27T09:16:46.798Z"
   },
   {
    "duration": 0,
    "start_time": "2024-12-27T09:16:46.799Z"
   },
   {
    "duration": 18,
    "start_time": "2024-12-27T09:44:11.976Z"
   },
   {
    "duration": 17,
    "start_time": "2024-12-27T09:47:39.552Z"
   },
   {
    "duration": 13,
    "start_time": "2024-12-27T09:54:28.483Z"
   },
   {
    "duration": 0,
    "start_time": "2024-12-27T09:56:33.734Z"
   },
   {
    "duration": 11,
    "start_time": "2024-12-27T09:56:38.545Z"
   },
   {
    "duration": 13,
    "start_time": "2024-12-27T10:00:11.584Z"
   },
   {
    "duration": 3163,
    "start_time": "2024-12-27T10:00:42.230Z"
   },
   {
    "duration": 13,
    "start_time": "2024-12-27T10:11:52.723Z"
   },
   {
    "duration": 73,
    "start_time": "2024-12-27T10:12:04.075Z"
   },
   {
    "duration": 2,
    "start_time": "2024-12-27T10:12:04.150Z"
   },
   {
    "duration": 2736,
    "start_time": "2024-12-27T10:12:04.154Z"
   },
   {
    "duration": 3348,
    "start_time": "2024-12-27T10:12:06.893Z"
   },
   {
    "duration": 1220,
    "start_time": "2024-12-27T10:12:10.243Z"
   },
   {
    "duration": 858,
    "start_time": "2024-12-27T10:12:11.464Z"
   },
   {
    "duration": 221,
    "start_time": "2024-12-27T10:12:12.323Z"
   },
   {
    "duration": 110,
    "start_time": "2024-12-27T10:12:12.545Z"
   },
   {
    "duration": 32,
    "start_time": "2024-12-27T10:12:12.656Z"
   },
   {
    "duration": 601,
    "start_time": "2024-12-27T10:12:12.690Z"
   },
   {
    "duration": 542,
    "start_time": "2024-12-27T10:12:13.293Z"
   },
   {
    "duration": 12,
    "start_time": "2024-12-27T10:12:13.837Z"
   },
   {
    "duration": 61,
    "start_time": "2024-12-27T10:12:13.851Z"
   },
   {
    "duration": 2,
    "start_time": "2024-12-27T10:12:13.914Z"
   },
   {
    "duration": 403,
    "start_time": "2024-12-27T10:12:13.917Z"
   },
   {
    "duration": 491,
    "start_time": "2024-12-27T10:12:14.322Z"
   },
   {
    "duration": 12,
    "start_time": "2024-12-27T10:12:14.814Z"
   },
   {
    "duration": 72,
    "start_time": "2024-12-27T10:12:14.827Z"
   },
   {
    "duration": 17,
    "start_time": "2024-12-27T10:12:14.901Z"
   },
   {
    "duration": 19,
    "start_time": "2024-12-27T10:12:14.919Z"
   },
   {
    "duration": 26,
    "start_time": "2024-12-27T10:12:14.939Z"
   },
   {
    "duration": 1719,
    "start_time": "2024-12-27T10:12:14.967Z"
   },
   {
    "duration": 13,
    "start_time": "2024-12-27T10:12:16.688Z"
   },
   {
    "duration": 46,
    "start_time": "2024-12-27T10:12:16.702Z"
   },
   {
    "duration": 60,
    "start_time": "2024-12-27T10:12:16.750Z"
   },
   {
    "duration": 20,
    "start_time": "2024-12-27T10:12:16.812Z"
   },
   {
    "duration": 29,
    "start_time": "2024-12-27T10:12:16.834Z"
   },
   {
    "duration": 46,
    "start_time": "2024-12-27T10:12:16.867Z"
   },
   {
    "duration": 28,
    "start_time": "2024-12-27T10:12:16.914Z"
   },
   {
    "duration": 1696,
    "start_time": "2024-12-27T10:12:16.944Z"
   },
   {
    "duration": 12,
    "start_time": "2024-12-27T10:12:18.642Z"
   },
   {
    "duration": 32,
    "start_time": "2024-12-27T10:12:18.655Z"
   },
   {
    "duration": 17,
    "start_time": "2024-12-27T10:12:18.688Z"
   },
   {
    "duration": 17,
    "start_time": "2024-12-27T10:12:18.706Z"
   },
   {
    "duration": 16,
    "start_time": "2024-12-27T10:12:18.724Z"
   },
   {
    "duration": 105,
    "start_time": "2024-12-27T10:12:18.742Z"
   },
   {
    "duration": 16,
    "start_time": "2024-12-27T10:12:18.848Z"
   },
   {
    "duration": 51,
    "start_time": "2024-12-27T10:12:18.866Z"
   },
   {
    "duration": 323,
    "start_time": "2024-12-27T10:12:18.918Z"
   },
   {
    "duration": 94,
    "start_time": "2024-12-27T10:12:19.242Z"
   },
   {
    "duration": 383,
    "start_time": "2024-12-27T10:12:19.337Z"
   },
   {
    "duration": 348,
    "start_time": "2024-12-27T10:12:19.721Z"
   },
   {
    "duration": 716,
    "start_time": "2024-12-27T10:12:20.071Z"
   },
   {
    "duration": 3,
    "start_time": "2024-12-27T10:12:20.788Z"
   },
   {
    "duration": 33,
    "start_time": "2024-12-27T10:12:20.792Z"
   },
   {
    "duration": 5,
    "start_time": "2024-12-27T10:12:20.826Z"
   },
   {
    "duration": 476,
    "start_time": "2024-12-27T10:12:20.833Z"
   },
   {
    "duration": 15,
    "start_time": "2024-12-27T10:12:21.311Z"
   },
   {
    "duration": 478,
    "start_time": "2024-12-27T10:12:21.328Z"
   },
   {
    "duration": 3,
    "start_time": "2024-12-27T10:12:21.808Z"
   },
   {
    "duration": 6,
    "start_time": "2024-12-27T10:12:21.812Z"
   },
   {
    "duration": 7,
    "start_time": "2024-12-27T10:12:21.819Z"
   },
   {
    "duration": 35,
    "start_time": "2024-12-27T10:12:21.827Z"
   },
   {
    "duration": 525,
    "start_time": "2024-12-27T10:12:21.864Z"
   },
   {
    "duration": 17,
    "start_time": "2024-12-27T10:12:22.390Z"
   },
   {
    "duration": 49,
    "start_time": "2024-12-27T10:12:22.408Z"
   },
   {
    "duration": 28,
    "start_time": "2024-12-27T10:12:22.458Z"
   },
   {
    "duration": 113,
    "start_time": "2024-12-27T10:12:22.488Z"
   },
   {
    "duration": 33,
    "start_time": "2024-12-27T10:12:22.603Z"
   },
   {
    "duration": 80,
    "start_time": "2024-12-27T10:12:22.638Z"
   },
   {
    "duration": 21,
    "start_time": "2024-12-27T10:12:22.720Z"
   },
   {
    "duration": 69,
    "start_time": "2024-12-27T10:12:22.742Z"
   },
   {
    "duration": 28,
    "start_time": "2024-12-27T10:12:22.812Z"
   },
   {
    "duration": 1105856,
    "start_time": "2024-12-27T10:12:22.842Z"
   },
   {
    "duration": 2,
    "start_time": "2024-12-27T10:30:48.700Z"
   },
   {
    "duration": 5,
    "start_time": "2024-12-27T10:30:48.704Z"
   },
   {
    "duration": 2,
    "start_time": "2024-12-27T10:30:48.786Z"
   },
   {
    "duration": 39,
    "start_time": "2024-12-27T10:30:48.790Z"
   },
   {
    "duration": 5,
    "start_time": "2024-12-27T10:30:48.830Z"
   },
   {
    "duration": 13,
    "start_time": "2024-12-27T10:30:48.837Z"
   },
   {
    "duration": 5,
    "start_time": "2024-12-27T10:30:48.851Z"
   },
   {
    "duration": 4,
    "start_time": "2024-12-27T10:30:48.857Z"
   },
   {
    "duration": 4,
    "start_time": "2024-12-27T10:30:48.862Z"
   },
   {
    "duration": 5,
    "start_time": "2024-12-27T10:30:48.867Z"
   },
   {
    "duration": 6,
    "start_time": "2024-12-27T10:30:48.873Z"
   },
   {
    "duration": 6,
    "start_time": "2024-12-27T10:30:48.880Z"
   },
   {
    "duration": 19,
    "start_time": "2024-12-27T10:30:48.887Z"
   },
   {
    "duration": 129,
    "start_time": "2024-12-27T10:30:48.907Z"
   },
   {
    "duration": 12,
    "start_time": "2024-12-27T10:35:50.398Z"
   },
   {
    "duration": 12,
    "start_time": "2024-12-27T10:38:02.187Z"
   },
   {
    "duration": 17,
    "start_time": "2024-12-27T10:38:29.450Z"
   },
   {
    "duration": 12,
    "start_time": "2024-12-27T10:40:29.614Z"
   },
   {
    "duration": 13,
    "start_time": "2024-12-27T10:43:00.455Z"
   },
   {
    "duration": 15,
    "start_time": "2024-12-27T10:44:01.708Z"
   },
   {
    "duration": 11,
    "start_time": "2024-12-27T10:46:19.364Z"
   },
   {
    "duration": 53,
    "start_time": "2024-12-27T10:47:12.364Z"
   },
   {
    "duration": 3,
    "start_time": "2024-12-27T10:47:12.419Z"
   },
   {
    "duration": 2767,
    "start_time": "2024-12-27T10:47:12.424Z"
   },
   {
    "duration": 3255,
    "start_time": "2024-12-27T10:47:15.194Z"
   },
   {
    "duration": 1332,
    "start_time": "2024-12-27T10:47:18.451Z"
   },
   {
    "duration": 869,
    "start_time": "2024-12-27T10:47:19.786Z"
   },
   {
    "duration": 260,
    "start_time": "2024-12-27T10:47:20.656Z"
   },
   {
    "duration": 110,
    "start_time": "2024-12-27T10:47:20.917Z"
   },
   {
    "duration": 17,
    "start_time": "2024-12-27T10:47:21.029Z"
   },
   {
    "duration": 627,
    "start_time": "2024-12-27T10:47:21.049Z"
   },
   {
    "duration": 562,
    "start_time": "2024-12-27T10:47:21.678Z"
   },
   {
    "duration": 12,
    "start_time": "2024-12-27T10:47:22.242Z"
   },
   {
    "duration": 67,
    "start_time": "2024-12-27T10:47:22.255Z"
   },
   {
    "duration": 3,
    "start_time": "2024-12-27T10:47:22.323Z"
   },
   {
    "duration": 415,
    "start_time": "2024-12-27T10:47:22.328Z"
   },
   {
    "duration": 477,
    "start_time": "2024-12-27T10:47:22.745Z"
   },
   {
    "duration": 13,
    "start_time": "2024-12-27T10:47:23.224Z"
   },
   {
    "duration": 72,
    "start_time": "2024-12-27T10:47:23.239Z"
   },
   {
    "duration": 18,
    "start_time": "2024-12-27T10:47:23.312Z"
   },
   {
    "duration": 45,
    "start_time": "2024-12-27T10:47:23.331Z"
   },
   {
    "duration": 35,
    "start_time": "2024-12-27T10:47:23.377Z"
   },
   {
    "duration": 1715,
    "start_time": "2024-12-27T10:47:23.413Z"
   },
   {
    "duration": 12,
    "start_time": "2024-12-27T10:47:25.129Z"
   },
   {
    "duration": 51,
    "start_time": "2024-12-27T10:47:25.143Z"
   },
   {
    "duration": 17,
    "start_time": "2024-12-27T10:47:25.196Z"
   },
   {
    "duration": 29,
    "start_time": "2024-12-27T10:47:25.215Z"
   },
   {
    "duration": 15,
    "start_time": "2024-12-27T10:47:25.245Z"
   },
   {
    "duration": 55,
    "start_time": "2024-12-27T10:47:25.264Z"
   },
   {
    "duration": 27,
    "start_time": "2024-12-27T10:47:25.321Z"
   },
   {
    "duration": 1730,
    "start_time": "2024-12-27T10:47:25.350Z"
   },
   {
    "duration": 14,
    "start_time": "2024-12-27T10:47:27.081Z"
   },
   {
    "duration": 29,
    "start_time": "2024-12-27T10:47:27.096Z"
   },
   {
    "duration": 20,
    "start_time": "2024-12-27T10:47:27.126Z"
   },
   {
    "duration": 18,
    "start_time": "2024-12-27T10:47:27.147Z"
   },
   {
    "duration": 27,
    "start_time": "2024-12-27T10:47:27.166Z"
   },
   {
    "duration": 132,
    "start_time": "2024-12-27T10:47:27.194Z"
   },
   {
    "duration": 35,
    "start_time": "2024-12-27T10:47:27.328Z"
   },
   {
    "duration": 55,
    "start_time": "2024-12-27T10:47:27.365Z"
   },
   {
    "duration": 314,
    "start_time": "2024-12-27T10:47:27.422Z"
   },
   {
    "duration": 96,
    "start_time": "2024-12-27T10:47:27.738Z"
   },
   {
    "duration": 361,
    "start_time": "2024-12-27T10:47:27.836Z"
   },
   {
    "duration": 352,
    "start_time": "2024-12-27T10:47:28.199Z"
   },
   {
    "duration": 734,
    "start_time": "2024-12-27T10:47:28.554Z"
   },
   {
    "duration": 2,
    "start_time": "2024-12-27T10:47:29.290Z"
   },
   {
    "duration": 14,
    "start_time": "2024-12-27T10:47:29.293Z"
   },
   {
    "duration": 3,
    "start_time": "2024-12-27T10:47:29.308Z"
   },
   {
    "duration": 493,
    "start_time": "2024-12-27T10:47:29.313Z"
   },
   {
    "duration": 15,
    "start_time": "2024-12-27T10:47:29.807Z"
   },
   {
    "duration": 477,
    "start_time": "2024-12-27T10:47:29.824Z"
   },
   {
    "duration": 2,
    "start_time": "2024-12-27T10:47:30.303Z"
   },
   {
    "duration": 50,
    "start_time": "2024-12-27T10:47:30.307Z"
   },
   {
    "duration": 28,
    "start_time": "2024-12-27T10:47:30.359Z"
   },
   {
    "duration": 35,
    "start_time": "2024-12-27T10:47:30.389Z"
   },
   {
    "duration": 561,
    "start_time": "2024-12-27T10:47:30.426Z"
   },
   {
    "duration": 18,
    "start_time": "2024-12-27T10:47:30.989Z"
   },
   {
    "duration": 39,
    "start_time": "2024-12-27T10:47:31.009Z"
   },
   {
    "duration": 41,
    "start_time": "2024-12-27T10:47:31.050Z"
   },
   {
    "duration": 46,
    "start_time": "2024-12-27T10:47:31.093Z"
   },
   {
    "duration": 50,
    "start_time": "2024-12-27T10:47:31.142Z"
   },
   {
    "duration": 10,
    "start_time": "2024-12-27T10:47:31.193Z"
   },
   {
    "duration": 13,
    "start_time": "2024-12-27T10:47:31.205Z"
   },
   {
    "duration": 9,
    "start_time": "2024-12-27T10:47:31.220Z"
   },
   {
    "duration": 7,
    "start_time": "2024-12-27T10:47:31.230Z"
   },
   {
    "duration": 58,
    "start_time": "2024-12-27T11:28:52.086Z"
   },
   {
    "duration": 3,
    "start_time": "2024-12-27T11:28:52.146Z"
   },
   {
    "duration": 2752,
    "start_time": "2024-12-27T11:28:52.150Z"
   },
   {
    "duration": 3306,
    "start_time": "2024-12-27T11:28:54.905Z"
   },
   {
    "duration": 1329,
    "start_time": "2024-12-27T11:28:58.214Z"
   },
   {
    "duration": 863,
    "start_time": "2024-12-27T11:28:59.545Z"
   },
   {
    "duration": 213,
    "start_time": "2024-12-27T11:29:00.410Z"
   },
   {
    "duration": 115,
    "start_time": "2024-12-27T11:29:00.624Z"
   },
   {
    "duration": 6,
    "start_time": "2024-12-27T11:29:00.740Z"
   },
   {
    "duration": 646,
    "start_time": "2024-12-27T11:29:00.748Z"
   },
   {
    "duration": 561,
    "start_time": "2024-12-27T11:29:01.396Z"
   },
   {
    "duration": 27,
    "start_time": "2024-12-27T11:29:01.959Z"
   },
   {
    "duration": 114,
    "start_time": "2024-12-27T11:29:01.988Z"
   },
   {
    "duration": 3,
    "start_time": "2024-12-27T11:29:02.103Z"
   },
   {
    "duration": 437,
    "start_time": "2024-12-27T11:29:02.107Z"
   },
   {
    "duration": 481,
    "start_time": "2024-12-27T11:29:02.546Z"
   },
   {
    "duration": 12,
    "start_time": "2024-12-27T11:29:03.029Z"
   },
   {
    "duration": 131,
    "start_time": "2024-12-27T11:29:03.043Z"
   },
   {
    "duration": 37,
    "start_time": "2024-12-27T11:29:03.175Z"
   },
   {
    "duration": 23,
    "start_time": "2024-12-27T11:29:03.213Z"
   },
   {
    "duration": 37,
    "start_time": "2024-12-27T11:29:03.238Z"
   },
   {
    "duration": 1749,
    "start_time": "2024-12-27T11:29:03.277Z"
   },
   {
    "duration": 14,
    "start_time": "2024-12-27T11:29:05.027Z"
   },
   {
    "duration": 155,
    "start_time": "2024-12-27T11:29:05.043Z"
   },
   {
    "duration": 25,
    "start_time": "2024-12-27T11:29:05.200Z"
   },
   {
    "duration": 33,
    "start_time": "2024-12-27T11:29:05.226Z"
   },
   {
    "duration": 47,
    "start_time": "2024-12-27T11:29:05.261Z"
   },
   {
    "duration": 76,
    "start_time": "2024-12-27T11:29:05.313Z"
   },
   {
    "duration": 28,
    "start_time": "2024-12-27T11:29:05.391Z"
   },
   {
    "duration": 1819,
    "start_time": "2024-12-27T11:29:05.421Z"
   },
   {
    "duration": 20,
    "start_time": "2024-12-27T11:29:07.242Z"
   },
   {
    "duration": 29,
    "start_time": "2024-12-27T11:29:07.263Z"
   },
   {
    "duration": 26,
    "start_time": "2024-12-27T11:29:07.293Z"
   },
   {
    "duration": 22,
    "start_time": "2024-12-27T11:29:07.321Z"
   },
   {
    "duration": 22,
    "start_time": "2024-12-27T11:29:07.345Z"
   },
   {
    "duration": 94,
    "start_time": "2024-12-27T11:29:07.368Z"
   },
   {
    "duration": 25,
    "start_time": "2024-12-27T11:29:07.464Z"
   },
   {
    "duration": 46,
    "start_time": "2024-12-27T11:29:07.491Z"
   },
   {
    "duration": 305,
    "start_time": "2024-12-27T11:29:07.538Z"
   },
   {
    "duration": 104,
    "start_time": "2024-12-27T11:29:07.845Z"
   },
   {
    "duration": 363,
    "start_time": "2024-12-27T11:29:07.951Z"
   },
   {
    "duration": 359,
    "start_time": "2024-12-27T11:29:08.316Z"
   },
   {
    "duration": 745,
    "start_time": "2024-12-27T11:29:08.677Z"
   },
   {
    "duration": 2,
    "start_time": "2024-12-27T11:29:09.425Z"
   },
   {
    "duration": 17,
    "start_time": "2024-12-27T11:29:09.430Z"
   },
   {
    "duration": 15,
    "start_time": "2024-12-27T11:29:09.450Z"
   },
   {
    "duration": 450,
    "start_time": "2024-12-27T11:29:09.467Z"
   },
   {
    "duration": 14,
    "start_time": "2024-12-27T11:29:09.919Z"
   },
   {
    "duration": 498,
    "start_time": "2024-12-27T11:29:09.935Z"
   },
   {
    "duration": 2,
    "start_time": "2024-12-27T11:29:10.434Z"
   },
   {
    "duration": 8,
    "start_time": "2024-12-27T11:29:10.438Z"
   },
   {
    "duration": 3,
    "start_time": "2024-12-27T11:29:10.448Z"
   },
   {
    "duration": 20,
    "start_time": "2024-12-27T11:29:10.452Z"
   },
   {
    "duration": 522,
    "start_time": "2024-12-27T11:29:10.473Z"
   },
   {
    "duration": 18,
    "start_time": "2024-12-27T11:29:10.996Z"
   },
   {
    "duration": 49,
    "start_time": "2024-12-27T11:29:11.015Z"
   },
   {
    "duration": 120,
    "start_time": "2024-12-27T11:29:11.066Z"
   },
   {
    "duration": 46,
    "start_time": "2024-12-27T11:29:11.188Z"
   },
   {
    "duration": 33,
    "start_time": "2024-12-27T11:29:11.235Z"
   },
   {
    "duration": 19,
    "start_time": "2024-12-27T11:29:11.269Z"
   },
   {
    "duration": 5,
    "start_time": "2024-12-27T11:29:11.289Z"
   },
   {
    "duration": 3,
    "start_time": "2024-12-27T11:29:11.295Z"
   },
   {
    "duration": 3,
    "start_time": "2024-12-27T11:29:11.300Z"
   },
   {
    "duration": 52,
    "start_time": "2024-12-27T12:10:36.364Z"
   },
   {
    "duration": 2,
    "start_time": "2024-12-27T12:10:36.418Z"
   },
   {
    "duration": 2739,
    "start_time": "2024-12-27T12:10:36.421Z"
   },
   {
    "duration": 3565,
    "start_time": "2024-12-27T12:10:39.163Z"
   },
   {
    "duration": 1333,
    "start_time": "2024-12-27T12:10:42.731Z"
   },
   {
    "duration": 870,
    "start_time": "2024-12-27T12:10:44.066Z"
   },
   {
    "duration": 215,
    "start_time": "2024-12-27T12:10:44.938Z"
   },
   {
    "duration": 118,
    "start_time": "2024-12-27T12:10:45.154Z"
   },
   {
    "duration": 45,
    "start_time": "2024-12-27T12:10:45.274Z"
   },
   {
    "duration": 671,
    "start_time": "2024-12-27T12:10:45.321Z"
   },
   {
    "duration": 549,
    "start_time": "2024-12-27T12:10:45.994Z"
   },
   {
    "duration": 19,
    "start_time": "2024-12-27T12:10:46.545Z"
   },
   {
    "duration": 63,
    "start_time": "2024-12-27T12:10:46.565Z"
   },
   {
    "duration": 2,
    "start_time": "2024-12-27T12:10:46.630Z"
   },
   {
    "duration": 411,
    "start_time": "2024-12-27T12:10:46.633Z"
   },
   {
    "duration": 479,
    "start_time": "2024-12-27T12:10:47.046Z"
   },
   {
    "duration": 11,
    "start_time": "2024-12-27T12:10:47.526Z"
   },
   {
    "duration": 72,
    "start_time": "2024-12-27T12:10:47.539Z"
   },
   {
    "duration": 21,
    "start_time": "2024-12-27T12:10:47.612Z"
   },
   {
    "duration": 37,
    "start_time": "2024-12-27T12:10:47.634Z"
   },
   {
    "duration": 19,
    "start_time": "2024-12-27T12:10:47.673Z"
   },
   {
    "duration": 1766,
    "start_time": "2024-12-27T12:10:47.694Z"
   },
   {
    "duration": 28,
    "start_time": "2024-12-27T12:10:49.462Z"
   },
   {
    "duration": 39,
    "start_time": "2024-12-27T12:10:49.492Z"
   },
   {
    "duration": 19,
    "start_time": "2024-12-27T12:10:49.533Z"
   },
   {
    "duration": 38,
    "start_time": "2024-12-27T12:10:49.554Z"
   },
   {
    "duration": 22,
    "start_time": "2024-12-27T12:10:49.593Z"
   },
   {
    "duration": 47,
    "start_time": "2024-12-27T12:10:49.619Z"
   },
   {
    "duration": 36,
    "start_time": "2024-12-27T12:10:49.687Z"
   },
   {
    "duration": 1768,
    "start_time": "2024-12-27T12:10:49.725Z"
   },
   {
    "duration": 14,
    "start_time": "2024-12-27T12:10:51.495Z"
   },
   {
    "duration": 38,
    "start_time": "2024-12-27T12:10:51.510Z"
   },
   {
    "duration": 25,
    "start_time": "2024-12-27T12:10:51.550Z"
   },
   {
    "duration": 31,
    "start_time": "2024-12-27T12:10:51.576Z"
   },
   {
    "duration": 57,
    "start_time": "2024-12-27T12:10:51.609Z"
   },
   {
    "duration": 98,
    "start_time": "2024-12-27T12:10:51.668Z"
   },
   {
    "duration": 25,
    "start_time": "2024-12-27T12:10:51.768Z"
   },
   {
    "duration": 67,
    "start_time": "2024-12-27T12:10:51.794Z"
   },
   {
    "duration": 276,
    "start_time": "2024-12-27T12:10:51.863Z"
   },
   {
    "duration": 111,
    "start_time": "2024-12-27T12:10:52.141Z"
   },
   {
    "duration": 359,
    "start_time": "2024-12-27T12:10:52.254Z"
   },
   {
    "duration": 372,
    "start_time": "2024-12-27T12:10:52.615Z"
   },
   {
    "duration": 745,
    "start_time": "2024-12-27T12:10:52.989Z"
   },
   {
    "duration": 3,
    "start_time": "2024-12-27T12:10:53.735Z"
   },
   {
    "duration": 7,
    "start_time": "2024-12-27T12:10:53.739Z"
   },
   {
    "duration": 7,
    "start_time": "2024-12-27T12:10:53.748Z"
   },
   {
    "duration": 458,
    "start_time": "2024-12-27T12:10:53.756Z"
   },
   {
    "duration": 16,
    "start_time": "2024-12-27T12:10:54.216Z"
   },
   {
    "duration": 502,
    "start_time": "2024-12-27T12:10:54.234Z"
   },
   {
    "duration": 2,
    "start_time": "2024-12-27T12:10:54.738Z"
   },
   {
    "duration": 28,
    "start_time": "2024-12-27T12:10:54.742Z"
   },
   {
    "duration": 15,
    "start_time": "2024-12-27T12:10:54.771Z"
   },
   {
    "duration": 20,
    "start_time": "2024-12-27T12:10:54.787Z"
   },
   {
    "duration": 506,
    "start_time": "2024-12-27T12:10:54.810Z"
   },
   {
    "duration": 17,
    "start_time": "2024-12-27T12:10:55.318Z"
   },
   {
    "duration": 52,
    "start_time": "2024-12-27T12:10:55.336Z"
   },
   {
    "duration": 20,
    "start_time": "2024-12-27T12:10:55.390Z"
   },
   {
    "duration": 119,
    "start_time": "2024-12-27T12:10:55.411Z"
   },
   {
    "duration": 39,
    "start_time": "2024-12-27T12:10:55.531Z"
   },
   {
    "duration": 4,
    "start_time": "2024-12-27T12:10:55.586Z"
   },
   {
    "duration": 5,
    "start_time": "2024-12-27T12:10:55.591Z"
   },
   {
    "duration": 5,
    "start_time": "2024-12-27T12:10:55.598Z"
   },
   {
    "duration": 14,
    "start_time": "2024-12-27T12:10:55.604Z"
   },
   {
    "duration": 49,
    "start_time": "2024-12-27T12:48:03.122Z"
   },
   {
    "duration": 2,
    "start_time": "2024-12-27T12:48:03.173Z"
   },
   {
    "duration": 2784,
    "start_time": "2024-12-27T12:48:03.177Z"
   },
   {
    "duration": 3235,
    "start_time": "2024-12-27T12:48:05.963Z"
   },
   {
    "duration": 1368,
    "start_time": "2024-12-27T12:48:09.200Z"
   },
   {
    "duration": 863,
    "start_time": "2024-12-27T12:48:10.570Z"
   },
   {
    "duration": 212,
    "start_time": "2024-12-27T12:48:11.435Z"
   },
   {
    "duration": 111,
    "start_time": "2024-12-27T12:48:11.648Z"
   },
   {
    "duration": 6,
    "start_time": "2024-12-27T12:48:11.760Z"
   },
   {
    "duration": 599,
    "start_time": "2024-12-27T12:48:11.787Z"
   },
   {
    "duration": 552,
    "start_time": "2024-12-27T12:48:12.387Z"
   },
   {
    "duration": 13,
    "start_time": "2024-12-27T12:48:12.940Z"
   },
   {
    "duration": 65,
    "start_time": "2024-12-27T12:48:12.954Z"
   },
   {
    "duration": 3,
    "start_time": "2024-12-27T12:48:13.021Z"
   },
   {
    "duration": 422,
    "start_time": "2024-12-27T12:48:13.025Z"
   },
   {
    "duration": 476,
    "start_time": "2024-12-27T12:48:13.449Z"
   },
   {
    "duration": 11,
    "start_time": "2024-12-27T12:48:13.926Z"
   },
   {
    "duration": 73,
    "start_time": "2024-12-27T12:48:13.938Z"
   },
   {
    "duration": 17,
    "start_time": "2024-12-27T12:48:14.012Z"
   },
   {
    "duration": 20,
    "start_time": "2024-12-27T12:48:14.030Z"
   },
   {
    "duration": 36,
    "start_time": "2024-12-27T12:48:14.051Z"
   },
   {
    "duration": 1784,
    "start_time": "2024-12-27T12:48:14.089Z"
   },
   {
    "duration": 20,
    "start_time": "2024-12-27T12:48:15.874Z"
   },
   {
    "duration": 42,
    "start_time": "2024-12-27T12:48:15.897Z"
   },
   {
    "duration": 30,
    "start_time": "2024-12-27T12:48:15.941Z"
   },
   {
    "duration": 24,
    "start_time": "2024-12-27T12:48:15.972Z"
   },
   {
    "duration": 16,
    "start_time": "2024-12-27T12:48:15.997Z"
   },
   {
    "duration": 70,
    "start_time": "2024-12-27T12:48:16.017Z"
   },
   {
    "duration": 27,
    "start_time": "2024-12-27T12:48:16.089Z"
   },
   {
    "duration": 1727,
    "start_time": "2024-12-27T12:48:16.118Z"
   },
   {
    "duration": 14,
    "start_time": "2024-12-27T12:48:17.847Z"
   },
   {
    "duration": 27,
    "start_time": "2024-12-27T12:48:17.863Z"
   },
   {
    "duration": 41,
    "start_time": "2024-12-27T12:48:17.892Z"
   },
   {
    "duration": 17,
    "start_time": "2024-12-27T12:48:17.934Z"
   },
   {
    "duration": 19,
    "start_time": "2024-12-27T12:48:17.953Z"
   },
   {
    "duration": 92,
    "start_time": "2024-12-27T12:48:17.974Z"
   },
   {
    "duration": 25,
    "start_time": "2024-12-27T12:48:18.067Z"
   },
   {
    "duration": 59,
    "start_time": "2024-12-27T12:48:18.093Z"
   },
   {
    "duration": 303,
    "start_time": "2024-12-27T12:48:18.153Z"
   },
   {
    "duration": 101,
    "start_time": "2024-12-27T12:48:18.486Z"
   },
   {
    "duration": 367,
    "start_time": "2024-12-27T12:48:18.589Z"
   },
   {
    "duration": 358,
    "start_time": "2024-12-27T12:48:18.958Z"
   },
   {
    "duration": 774,
    "start_time": "2024-12-27T12:48:19.318Z"
   },
   {
    "duration": 1,
    "start_time": "2024-12-27T12:48:20.094Z"
   },
   {
    "duration": 17,
    "start_time": "2024-12-27T12:48:20.097Z"
   },
   {
    "duration": 13,
    "start_time": "2024-12-27T12:48:20.115Z"
   },
   {
    "duration": 477,
    "start_time": "2024-12-27T12:48:20.129Z"
   },
   {
    "duration": 15,
    "start_time": "2024-12-27T12:48:20.608Z"
   },
   {
    "duration": 487,
    "start_time": "2024-12-27T12:48:20.625Z"
   },
   {
    "duration": 3,
    "start_time": "2024-12-27T12:48:21.113Z"
   },
   {
    "duration": 7,
    "start_time": "2024-12-27T12:48:21.117Z"
   },
   {
    "duration": 22,
    "start_time": "2024-12-27T12:48:21.125Z"
   },
   {
    "duration": 51,
    "start_time": "2024-12-27T12:48:21.148Z"
   },
   {
    "duration": 498,
    "start_time": "2024-12-27T12:48:21.201Z"
   },
   {
    "duration": 17,
    "start_time": "2024-12-27T12:48:21.700Z"
   },
   {
    "duration": 38,
    "start_time": "2024-12-27T12:48:21.719Z"
   },
   {
    "duration": 36,
    "start_time": "2024-12-27T12:48:21.759Z"
   },
   {
    "duration": 47,
    "start_time": "2024-12-27T12:48:21.796Z"
   },
   {
    "duration": 53,
    "start_time": "2024-12-27T12:48:21.844Z"
   },
   {
    "duration": 4,
    "start_time": "2024-12-27T12:48:21.898Z"
   },
   {
    "duration": 9,
    "start_time": "2024-12-27T12:48:21.904Z"
   },
   {
    "duration": 11,
    "start_time": "2024-12-27T12:48:21.914Z"
   },
   {
    "duration": 5,
    "start_time": "2024-12-27T12:48:21.926Z"
   },
   {
    "duration": 43,
    "start_time": "2024-12-27T13:49:40.622Z"
   },
   {
    "duration": 3,
    "start_time": "2024-12-27T13:49:40.667Z"
   },
   {
    "duration": 2715,
    "start_time": "2024-12-27T13:49:40.671Z"
   },
   {
    "duration": 3287,
    "start_time": "2024-12-27T13:49:43.389Z"
   },
   {
    "duration": 1327,
    "start_time": "2024-12-27T13:49:46.677Z"
   },
   {
    "duration": 850,
    "start_time": "2024-12-27T13:49:48.005Z"
   },
   {
    "duration": 216,
    "start_time": "2024-12-27T13:49:48.856Z"
   },
   {
    "duration": 116,
    "start_time": "2024-12-27T13:49:49.073Z"
   },
   {
    "duration": 6,
    "start_time": "2024-12-27T13:49:49.190Z"
   },
   {
    "duration": 678,
    "start_time": "2024-12-27T13:49:49.198Z"
   },
   {
    "duration": 566,
    "start_time": "2024-12-27T13:49:49.877Z"
   },
   {
    "duration": 12,
    "start_time": "2024-12-27T13:49:50.445Z"
   },
   {
    "duration": 65,
    "start_time": "2024-12-27T13:49:50.459Z"
   },
   {
    "duration": 3,
    "start_time": "2024-12-27T13:49:50.525Z"
   },
   {
    "duration": 409,
    "start_time": "2024-12-27T13:49:50.529Z"
   },
   {
    "duration": 481,
    "start_time": "2024-12-27T13:49:50.939Z"
   },
   {
    "duration": 11,
    "start_time": "2024-12-27T13:49:51.421Z"
   },
   {
    "duration": 75,
    "start_time": "2024-12-27T13:49:51.433Z"
   },
   {
    "duration": 18,
    "start_time": "2024-12-27T13:49:51.509Z"
   },
   {
    "duration": 15,
    "start_time": "2024-12-27T13:49:51.529Z"
   },
   {
    "duration": 27,
    "start_time": "2024-12-27T13:49:51.546Z"
   },
   {
    "duration": 1761,
    "start_time": "2024-12-27T13:49:51.587Z"
   },
   {
    "duration": 14,
    "start_time": "2024-12-27T13:49:53.349Z"
   },
   {
    "duration": 65,
    "start_time": "2024-12-27T13:49:53.364Z"
   },
   {
    "duration": 20,
    "start_time": "2024-12-27T13:49:53.430Z"
   },
   {
    "duration": 49,
    "start_time": "2024-12-27T13:49:53.452Z"
   },
   {
    "duration": 23,
    "start_time": "2024-12-27T13:49:53.502Z"
   },
   {
    "duration": 86,
    "start_time": "2024-12-27T13:49:53.529Z"
   },
   {
    "duration": 28,
    "start_time": "2024-12-27T13:49:53.617Z"
   },
   {
    "duration": 1771,
    "start_time": "2024-12-27T13:49:53.647Z"
   },
   {
    "duration": 13,
    "start_time": "2024-12-27T13:49:55.420Z"
   },
   {
    "duration": 37,
    "start_time": "2024-12-27T13:49:55.435Z"
   },
   {
    "duration": 36,
    "start_time": "2024-12-27T13:49:55.474Z"
   },
   {
    "duration": 37,
    "start_time": "2024-12-27T13:49:55.512Z"
   },
   {
    "duration": 46,
    "start_time": "2024-12-27T13:49:55.550Z"
   },
   {
    "duration": 139,
    "start_time": "2024-12-27T13:49:55.598Z"
   },
   {
    "duration": 17,
    "start_time": "2024-12-27T13:49:55.739Z"
   },
   {
    "duration": 45,
    "start_time": "2024-12-27T13:49:55.757Z"
   },
   {
    "duration": 322,
    "start_time": "2024-12-27T13:49:55.803Z"
   },
   {
    "duration": 103,
    "start_time": "2024-12-27T13:49:56.127Z"
   },
   {
    "duration": 355,
    "start_time": "2024-12-27T13:49:56.232Z"
   },
   {
    "duration": 366,
    "start_time": "2024-12-27T13:49:56.589Z"
   },
   {
    "duration": 750,
    "start_time": "2024-12-27T13:49:56.957Z"
   },
   {
    "duration": 3,
    "start_time": "2024-12-27T13:49:57.708Z"
   },
   {
    "duration": 115,
    "start_time": "2024-12-27T13:49:57.712Z"
   },
   {
    "duration": 31,
    "start_time": "2024-12-27T13:49:57.828Z"
   },
   {
    "duration": 468,
    "start_time": "2024-12-27T13:49:57.860Z"
   },
   {
    "duration": 14,
    "start_time": "2024-12-27T13:49:58.330Z"
   },
   {
    "duration": 499,
    "start_time": "2024-12-27T13:49:58.345Z"
   },
   {
    "duration": 2,
    "start_time": "2024-12-27T13:49:58.846Z"
   },
   {
    "duration": 35,
    "start_time": "2024-12-27T13:49:58.849Z"
   },
   {
    "duration": 4,
    "start_time": "2024-12-27T13:49:58.886Z"
   },
   {
    "duration": 28,
    "start_time": "2024-12-27T13:49:58.892Z"
   },
   {
    "duration": 595,
    "start_time": "2024-12-27T13:49:58.922Z"
   },
   {
    "duration": 17,
    "start_time": "2024-12-27T13:49:59.519Z"
   },
   {
    "duration": 76,
    "start_time": "2024-12-27T13:49:59.537Z"
   },
   {
    "duration": 21,
    "start_time": "2024-12-27T13:49:59.614Z"
   },
   {
    "duration": 117,
    "start_time": "2024-12-27T13:49:59.637Z"
   },
   {
    "duration": 32,
    "start_time": "2024-12-27T13:49:59.757Z"
   },
   {
    "duration": 3,
    "start_time": "2024-12-27T13:49:59.790Z"
   },
   {
    "duration": 12,
    "start_time": "2024-12-27T13:49:59.795Z"
   },
   {
    "duration": 8,
    "start_time": "2024-12-27T13:49:59.808Z"
   },
   {
    "duration": 11,
    "start_time": "2024-12-27T13:49:59.817Z"
   },
   {
    "duration": 805,
    "start_time": "2024-12-27T13:49:59.829Z"
   },
   {
    "duration": 70675,
    "start_time": "2024-12-27T13:50:00.636Z"
   },
   {
    "duration": 937292,
    "start_time": "2024-12-27T13:51:11.312Z"
   },
   {
    "duration": 57,
    "start_time": "2024-12-27T14:44:07.298Z"
   },
   {
    "duration": 2,
    "start_time": "2024-12-27T14:44:07.357Z"
   },
   {
    "duration": 2771,
    "start_time": "2024-12-27T14:44:07.361Z"
   },
   {
    "duration": 3463,
    "start_time": "2024-12-27T14:44:10.134Z"
   },
   {
    "duration": 1288,
    "start_time": "2024-12-27T14:44:13.600Z"
   },
   {
    "duration": 903,
    "start_time": "2024-12-27T14:44:14.890Z"
   },
   {
    "duration": 254,
    "start_time": "2024-12-27T14:44:15.795Z"
   },
   {
    "duration": 126,
    "start_time": "2024-12-27T14:44:16.050Z"
   },
   {
    "duration": 6,
    "start_time": "2024-12-27T14:44:16.186Z"
   },
   {
    "duration": 628,
    "start_time": "2024-12-27T14:44:16.193Z"
   },
   {
    "duration": 534,
    "start_time": "2024-12-27T14:44:16.823Z"
   },
   {
    "duration": 38,
    "start_time": "2024-12-27T14:44:17.358Z"
   },
   {
    "duration": 91,
    "start_time": "2024-12-27T14:44:17.398Z"
   },
   {
    "duration": 2,
    "start_time": "2024-12-27T14:44:17.494Z"
   },
   {
    "duration": 445,
    "start_time": "2024-12-27T14:44:17.498Z"
   },
   {
    "duration": 486,
    "start_time": "2024-12-27T14:44:17.945Z"
   },
   {
    "duration": 12,
    "start_time": "2024-12-27T14:44:18.433Z"
   },
   {
    "duration": 72,
    "start_time": "2024-12-27T14:44:18.446Z"
   },
   {
    "duration": 17,
    "start_time": "2024-12-27T14:44:18.519Z"
   },
   {
    "duration": 17,
    "start_time": "2024-12-27T14:44:18.538Z"
   },
   {
    "duration": 33,
    "start_time": "2024-12-27T14:44:18.556Z"
   },
   {
    "duration": 1755,
    "start_time": "2024-12-27T14:44:18.591Z"
   },
   {
    "duration": 13,
    "start_time": "2024-12-27T14:44:20.348Z"
   },
   {
    "duration": 64,
    "start_time": "2024-12-27T14:44:20.362Z"
   },
   {
    "duration": 49,
    "start_time": "2024-12-27T14:44:20.428Z"
   },
   {
    "duration": 25,
    "start_time": "2024-12-27T14:44:20.478Z"
   },
   {
    "duration": 23,
    "start_time": "2024-12-27T14:44:20.505Z"
   },
   {
    "duration": 65,
    "start_time": "2024-12-27T14:44:20.530Z"
   },
   {
    "duration": 27,
    "start_time": "2024-12-27T14:44:20.596Z"
   },
   {
    "duration": 1748,
    "start_time": "2024-12-27T14:44:20.625Z"
   },
   {
    "duration": 17,
    "start_time": "2024-12-27T14:44:22.375Z"
   },
   {
    "duration": 16,
    "start_time": "2024-12-27T14:44:22.394Z"
   },
   {
    "duration": 17,
    "start_time": "2024-12-27T14:44:22.411Z"
   },
   {
    "duration": 21,
    "start_time": "2024-12-27T14:44:22.430Z"
   },
   {
    "duration": 39,
    "start_time": "2024-12-27T14:44:22.453Z"
   },
   {
    "duration": 98,
    "start_time": "2024-12-27T14:44:22.494Z"
   },
   {
    "duration": 16,
    "start_time": "2024-12-27T14:44:22.594Z"
   },
   {
    "duration": 33,
    "start_time": "2024-12-27T14:44:22.611Z"
   },
   {
    "duration": 309,
    "start_time": "2024-12-27T14:44:22.646Z"
   },
   {
    "duration": 108,
    "start_time": "2024-12-27T14:44:22.956Z"
   },
   {
    "duration": 379,
    "start_time": "2024-12-27T14:44:23.068Z"
   },
   {
    "duration": 353,
    "start_time": "2024-12-27T14:44:23.448Z"
   },
   {
    "duration": 749,
    "start_time": "2024-12-27T14:44:23.803Z"
   },
   {
    "duration": 4,
    "start_time": "2024-12-27T14:44:24.553Z"
   },
   {
    "duration": 6,
    "start_time": "2024-12-27T14:44:24.559Z"
   },
   {
    "duration": 5,
    "start_time": "2024-12-27T14:44:24.567Z"
   },
   {
    "duration": 436,
    "start_time": "2024-12-27T14:44:24.586Z"
   },
   {
    "duration": 16,
    "start_time": "2024-12-27T14:44:25.023Z"
   },
   {
    "duration": 491,
    "start_time": "2024-12-27T14:44:25.040Z"
   },
   {
    "duration": 3,
    "start_time": "2024-12-27T14:44:25.533Z"
   },
   {
    "duration": 5,
    "start_time": "2024-12-27T14:44:25.538Z"
   },
   {
    "duration": 6,
    "start_time": "2024-12-27T14:44:25.545Z"
   },
   {
    "duration": 34,
    "start_time": "2024-12-27T14:44:25.553Z"
   },
   {
    "duration": 507,
    "start_time": "2024-12-27T14:44:25.588Z"
   },
   {
    "duration": 17,
    "start_time": "2024-12-27T14:44:26.097Z"
   },
   {
    "duration": 37,
    "start_time": "2024-12-27T14:44:26.116Z"
   },
   {
    "duration": 36,
    "start_time": "2024-12-27T14:44:26.155Z"
   },
   {
    "duration": 46,
    "start_time": "2024-12-27T14:44:26.192Z"
   },
   {
    "duration": 47,
    "start_time": "2024-12-27T14:44:26.240Z"
   },
   {
    "duration": 3,
    "start_time": "2024-12-27T14:44:26.289Z"
   },
   {
    "duration": 10,
    "start_time": "2024-12-27T14:44:26.293Z"
   },
   {
    "duration": 7,
    "start_time": "2024-12-27T14:44:26.305Z"
   },
   {
    "duration": 5,
    "start_time": "2024-12-27T14:44:26.314Z"
   },
   {
    "duration": 757,
    "start_time": "2024-12-27T14:44:26.321Z"
   },
   {
    "duration": 69240,
    "start_time": "2024-12-27T14:44:27.080Z"
   },
   {
    "duration": 49,
    "start_time": "2024-12-27T14:54:02.000Z"
   },
   {
    "duration": 3,
    "start_time": "2024-12-27T14:54:02.050Z"
   },
   {
    "duration": 2754,
    "start_time": "2024-12-27T14:54:02.054Z"
   },
   {
    "duration": 3280,
    "start_time": "2024-12-27T14:54:04.811Z"
   },
   {
    "duration": 1302,
    "start_time": "2024-12-27T14:54:08.093Z"
   },
   {
    "duration": 891,
    "start_time": "2024-12-27T14:54:09.397Z"
   },
   {
    "duration": 216,
    "start_time": "2024-12-27T14:54:10.289Z"
   },
   {
    "duration": 113,
    "start_time": "2024-12-27T14:54:10.507Z"
   },
   {
    "duration": 6,
    "start_time": "2024-12-27T14:54:10.621Z"
   },
   {
    "duration": 654,
    "start_time": "2024-12-27T14:54:10.629Z"
   },
   {
    "duration": 552,
    "start_time": "2024-12-27T14:54:11.284Z"
   },
   {
    "duration": 13,
    "start_time": "2024-12-27T14:54:11.838Z"
   },
   {
    "duration": 66,
    "start_time": "2024-12-27T14:54:11.853Z"
   },
   {
    "duration": 2,
    "start_time": "2024-12-27T14:54:11.921Z"
   },
   {
    "duration": 438,
    "start_time": "2024-12-27T14:54:11.925Z"
   },
   {
    "duration": 465,
    "start_time": "2024-12-27T14:54:12.365Z"
   },
   {
    "duration": 11,
    "start_time": "2024-12-27T14:54:12.831Z"
   },
   {
    "duration": 77,
    "start_time": "2024-12-27T14:54:12.843Z"
   },
   {
    "duration": 19,
    "start_time": "2024-12-27T14:54:12.922Z"
   },
   {
    "duration": 16,
    "start_time": "2024-12-27T14:54:12.943Z"
   },
   {
    "duration": 33,
    "start_time": "2024-12-27T14:54:12.960Z"
   },
   {
    "duration": 1751,
    "start_time": "2024-12-27T14:54:12.995Z"
   },
   {
    "duration": 15,
    "start_time": "2024-12-27T14:54:14.747Z"
   },
   {
    "duration": 51,
    "start_time": "2024-12-27T14:54:14.764Z"
   },
   {
    "duration": 20,
    "start_time": "2024-12-27T14:54:14.817Z"
   },
   {
    "duration": 31,
    "start_time": "2024-12-27T14:54:14.839Z"
   },
   {
    "duration": 22,
    "start_time": "2024-12-27T14:54:14.872Z"
   },
   {
    "duration": 52,
    "start_time": "2024-12-27T14:54:14.899Z"
   },
   {
    "duration": 47,
    "start_time": "2024-12-27T14:54:14.952Z"
   },
   {
    "duration": 1766,
    "start_time": "2024-12-27T14:54:15.000Z"
   },
   {
    "duration": 20,
    "start_time": "2024-12-27T14:54:16.767Z"
   },
   {
    "duration": 24,
    "start_time": "2024-12-27T14:54:16.789Z"
   },
   {
    "duration": 24,
    "start_time": "2024-12-27T14:54:16.815Z"
   },
   {
    "duration": 19,
    "start_time": "2024-12-27T14:54:16.841Z"
   },
   {
    "duration": 27,
    "start_time": "2024-12-27T14:54:16.861Z"
   },
   {
    "duration": 98,
    "start_time": "2024-12-27T14:54:16.889Z"
   },
   {
    "duration": 26,
    "start_time": "2024-12-27T14:54:16.989Z"
   },
   {
    "duration": 73,
    "start_time": "2024-12-27T14:54:17.017Z"
   },
   {
    "duration": 346,
    "start_time": "2024-12-27T14:54:17.092Z"
   },
   {
    "duration": 99,
    "start_time": "2024-12-27T14:54:17.440Z"
   },
   {
    "duration": 352,
    "start_time": "2024-12-27T14:54:17.541Z"
   },
   {
    "duration": 319,
    "start_time": "2024-12-27T14:54:17.894Z"
   },
   {
    "duration": 685,
    "start_time": "2024-12-27T14:54:18.214Z"
   },
   {
    "duration": 2,
    "start_time": "2024-12-27T14:54:18.901Z"
   },
   {
    "duration": 30,
    "start_time": "2024-12-27T14:54:18.904Z"
   },
   {
    "duration": 8,
    "start_time": "2024-12-27T14:54:18.936Z"
   },
   {
    "duration": 461,
    "start_time": "2024-12-27T14:54:18.945Z"
   },
   {
    "duration": 16,
    "start_time": "2024-12-27T14:54:19.407Z"
   },
   {
    "duration": 523,
    "start_time": "2024-12-27T14:54:19.425Z"
   },
   {
    "duration": 3,
    "start_time": "2024-12-27T14:54:19.949Z"
   },
   {
    "duration": 41,
    "start_time": "2024-12-27T14:54:19.953Z"
   },
   {
    "duration": 24,
    "start_time": "2024-12-27T14:54:19.995Z"
   },
   {
    "duration": 43,
    "start_time": "2024-12-27T14:54:20.021Z"
   },
   {
    "duration": 524,
    "start_time": "2024-12-27T14:54:20.066Z"
   },
   {
    "duration": 17,
    "start_time": "2024-12-27T14:54:20.592Z"
   },
   {
    "duration": 48,
    "start_time": "2024-12-27T14:54:20.610Z"
   },
   {
    "duration": 27,
    "start_time": "2024-12-27T14:54:20.659Z"
   },
   {
    "duration": 53,
    "start_time": "2024-12-27T14:54:20.688Z"
   },
   {
    "duration": 30,
    "start_time": "2024-12-27T14:54:20.743Z"
   },
   {
    "duration": 12,
    "start_time": "2024-12-27T14:54:20.775Z"
   },
   {
    "duration": 12,
    "start_time": "2024-12-27T14:54:20.789Z"
   },
   {
    "duration": 21,
    "start_time": "2024-12-27T14:54:20.803Z"
   },
   {
    "duration": 17,
    "start_time": "2024-12-27T14:54:20.825Z"
   },
   {
    "duration": 769,
    "start_time": "2024-12-27T14:54:20.844Z"
   },
   {
    "duration": 67407,
    "start_time": "2024-12-27T14:54:21.615Z"
   },
   {
    "duration": 59,
    "start_time": "2024-12-27T14:59:26.222Z"
   },
   {
    "duration": 2,
    "start_time": "2024-12-27T14:59:26.283Z"
   },
   {
    "duration": 2710,
    "start_time": "2024-12-27T14:59:26.286Z"
   },
   {
    "duration": 3497,
    "start_time": "2024-12-27T14:59:28.999Z"
   },
   {
    "duration": 1291,
    "start_time": "2024-12-27T14:59:32.498Z"
   },
   {
    "duration": 856,
    "start_time": "2024-12-27T14:59:33.790Z"
   },
   {
    "duration": 254,
    "start_time": "2024-12-27T14:59:34.648Z"
   },
   {
    "duration": 111,
    "start_time": "2024-12-27T14:59:34.904Z"
   },
   {
    "duration": 6,
    "start_time": "2024-12-27T14:59:35.016Z"
   },
   {
    "duration": 676,
    "start_time": "2024-12-27T14:59:35.025Z"
   },
   {
    "duration": 548,
    "start_time": "2024-12-27T14:59:35.702Z"
   },
   {
    "duration": 12,
    "start_time": "2024-12-27T14:59:36.252Z"
   },
   {
    "duration": 66,
    "start_time": "2024-12-27T14:59:36.266Z"
   },
   {
    "duration": 3,
    "start_time": "2024-12-27T14:59:36.334Z"
   },
   {
    "duration": 411,
    "start_time": "2024-12-27T14:59:36.339Z"
   },
   {
    "duration": 471,
    "start_time": "2024-12-27T14:59:36.751Z"
   },
   {
    "duration": 14,
    "start_time": "2024-12-27T14:59:37.223Z"
   },
   {
    "duration": 75,
    "start_time": "2024-12-27T14:59:37.239Z"
   },
   {
    "duration": 18,
    "start_time": "2024-12-27T14:59:37.316Z"
   },
   {
    "duration": 60,
    "start_time": "2024-12-27T14:59:37.335Z"
   },
   {
    "duration": 22,
    "start_time": "2024-12-27T14:59:37.397Z"
   },
   {
    "duration": 1736,
    "start_time": "2024-12-27T14:59:37.421Z"
   },
   {
    "duration": 13,
    "start_time": "2024-12-27T14:59:39.159Z"
   },
   {
    "duration": 37,
    "start_time": "2024-12-27T14:59:39.186Z"
   },
   {
    "duration": 17,
    "start_time": "2024-12-27T14:59:39.225Z"
   },
   {
    "duration": 33,
    "start_time": "2024-12-27T14:59:39.244Z"
   },
   {
    "duration": 19,
    "start_time": "2024-12-27T14:59:39.279Z"
   },
   {
    "duration": 46,
    "start_time": "2024-12-27T14:59:39.302Z"
   },
   {
    "duration": 44,
    "start_time": "2024-12-27T14:59:39.349Z"
   },
   {
    "duration": 1773,
    "start_time": "2024-12-27T14:59:39.395Z"
   },
   {
    "duration": 20,
    "start_time": "2024-12-27T14:59:41.170Z"
   },
   {
    "duration": 18,
    "start_time": "2024-12-27T14:59:41.192Z"
   },
   {
    "duration": 17,
    "start_time": "2024-12-27T14:59:41.211Z"
   },
   {
    "duration": 18,
    "start_time": "2024-12-27T14:59:41.230Z"
   },
   {
    "duration": 40,
    "start_time": "2024-12-27T14:59:41.250Z"
   },
   {
    "duration": 101,
    "start_time": "2024-12-27T14:59:41.292Z"
   },
   {
    "duration": 16,
    "start_time": "2024-12-27T14:59:41.395Z"
   },
   {
    "duration": 33,
    "start_time": "2024-12-27T14:59:41.412Z"
   },
   {
    "duration": 298,
    "start_time": "2024-12-27T14:59:41.447Z"
   },
   {
    "duration": 131,
    "start_time": "2024-12-27T14:59:41.746Z"
   },
   {
    "duration": 421,
    "start_time": "2024-12-27T14:59:41.887Z"
   },
   {
    "duration": 363,
    "start_time": "2024-12-27T14:59:42.311Z"
   },
   {
    "duration": 803,
    "start_time": "2024-12-27T14:59:42.675Z"
   },
   {
    "duration": 2,
    "start_time": "2024-12-27T14:59:43.486Z"
   },
   {
    "duration": 6,
    "start_time": "2024-12-27T14:59:43.490Z"
   },
   {
    "duration": 3,
    "start_time": "2024-12-27T14:59:43.498Z"
   },
   {
    "duration": 489,
    "start_time": "2024-12-27T14:59:43.503Z"
   },
   {
    "duration": 19,
    "start_time": "2024-12-27T14:59:43.994Z"
   },
   {
    "duration": 486,
    "start_time": "2024-12-27T14:59:44.015Z"
   },
   {
    "duration": 2,
    "start_time": "2024-12-27T14:59:44.503Z"
   },
   {
    "duration": 38,
    "start_time": "2024-12-27T14:59:44.507Z"
   },
   {
    "duration": 10,
    "start_time": "2024-12-27T14:59:44.547Z"
   },
   {
    "duration": 35,
    "start_time": "2024-12-27T14:59:44.558Z"
   },
   {
    "duration": 517,
    "start_time": "2024-12-27T14:59:44.595Z"
   },
   {
    "duration": 27,
    "start_time": "2024-12-27T14:59:45.115Z"
   },
   {
    "duration": 74,
    "start_time": "2024-12-27T14:59:45.144Z"
   },
   {
    "duration": 22,
    "start_time": "2024-12-27T14:59:45.220Z"
   },
   {
    "duration": 93,
    "start_time": "2024-12-27T14:59:45.243Z"
   },
   {
    "duration": 94,
    "start_time": "2024-12-27T14:59:45.338Z"
   },
   {
    "duration": 3,
    "start_time": "2024-12-27T14:59:45.434Z"
   },
   {
    "duration": 26,
    "start_time": "2024-12-27T14:59:45.439Z"
   },
   {
    "duration": 9,
    "start_time": "2024-12-27T14:59:45.467Z"
   },
   {
    "duration": 18,
    "start_time": "2024-12-27T14:59:45.477Z"
   },
   {
    "duration": 826,
    "start_time": "2024-12-27T14:59:45.496Z"
   },
   {
    "duration": 66503,
    "start_time": "2024-12-27T14:59:46.324Z"
   },
   {
    "duration": 56305,
    "start_time": "2024-12-27T15:00:52.829Z"
   },
   {
    "duration": 68,
    "start_time": "2024-12-27T15:12:17.667Z"
   },
   {
    "duration": 3,
    "start_time": "2024-12-27T15:12:17.737Z"
   },
   {
    "duration": 2775,
    "start_time": "2024-12-27T15:12:17.741Z"
   },
   {
    "duration": 3319,
    "start_time": "2024-12-27T15:12:20.518Z"
   },
   {
    "duration": 1980,
    "start_time": "2024-12-27T15:12:23.840Z"
   },
   {
    "duration": 865,
    "start_time": "2024-12-27T15:12:25.822Z"
   },
   {
    "duration": 221,
    "start_time": "2024-12-27T15:12:26.689Z"
   },
   {
    "duration": 116,
    "start_time": "2024-12-27T15:12:26.912Z"
   },
   {
    "duration": 9,
    "start_time": "2024-12-27T15:12:27.029Z"
   },
   {
    "duration": 657,
    "start_time": "2024-12-27T15:12:27.040Z"
   },
   {
    "duration": 556,
    "start_time": "2024-12-27T15:12:27.698Z"
   },
   {
    "duration": 13,
    "start_time": "2024-12-27T15:12:28.256Z"
   },
   {
    "duration": 64,
    "start_time": "2024-12-27T15:12:28.270Z"
   },
   {
    "duration": 2,
    "start_time": "2024-12-27T15:12:28.338Z"
   },
   {
    "duration": 412,
    "start_time": "2024-12-27T15:12:28.341Z"
   },
   {
    "duration": 479,
    "start_time": "2024-12-27T15:12:28.755Z"
   },
   {
    "duration": 10,
    "start_time": "2024-12-27T15:12:29.236Z"
   },
   {
    "duration": 73,
    "start_time": "2024-12-27T15:12:29.248Z"
   },
   {
    "duration": 17,
    "start_time": "2024-12-27T15:12:29.323Z"
   },
   {
    "duration": 21,
    "start_time": "2024-12-27T15:12:29.342Z"
   },
   {
    "duration": 53,
    "start_time": "2024-12-27T15:12:29.364Z"
   },
   {
    "duration": 1825,
    "start_time": "2024-12-27T15:12:29.419Z"
   },
   {
    "duration": 14,
    "start_time": "2024-12-27T15:12:31.245Z"
   },
   {
    "duration": 50,
    "start_time": "2024-12-27T15:12:31.260Z"
   },
   {
    "duration": 22,
    "start_time": "2024-12-27T15:12:31.312Z"
   },
   {
    "duration": 66,
    "start_time": "2024-12-27T15:12:31.335Z"
   },
   {
    "duration": 78,
    "start_time": "2024-12-27T15:12:31.403Z"
   },
   {
    "duration": 81,
    "start_time": "2024-12-27T15:12:31.483Z"
   },
   {
    "duration": 41,
    "start_time": "2024-12-27T15:12:31.565Z"
   },
   {
    "duration": 1786,
    "start_time": "2024-12-27T15:12:31.607Z"
   },
   {
    "duration": 13,
    "start_time": "2024-12-27T15:12:33.395Z"
   },
   {
    "duration": 67,
    "start_time": "2024-12-27T15:12:33.409Z"
   },
   {
    "duration": 40,
    "start_time": "2024-12-27T15:12:33.478Z"
   },
   {
    "duration": 21,
    "start_time": "2024-12-27T15:12:33.520Z"
   },
   {
    "duration": 23,
    "start_time": "2024-12-27T15:12:33.543Z"
   },
   {
    "duration": 116,
    "start_time": "2024-12-27T15:12:33.567Z"
   },
   {
    "duration": 48,
    "start_time": "2024-12-27T15:12:33.684Z"
   },
   {
    "duration": 38,
    "start_time": "2024-12-27T15:12:33.734Z"
   },
   {
    "duration": 315,
    "start_time": "2024-12-27T15:12:33.774Z"
   },
   {
    "duration": 100,
    "start_time": "2024-12-27T15:12:34.091Z"
   },
   {
    "duration": 365,
    "start_time": "2024-12-27T15:12:34.197Z"
   },
   {
    "duration": 370,
    "start_time": "2024-12-27T15:12:34.563Z"
   },
   {
    "duration": 774,
    "start_time": "2024-12-27T15:12:34.935Z"
   },
   {
    "duration": 3,
    "start_time": "2024-12-27T15:12:35.711Z"
   },
   {
    "duration": 11,
    "start_time": "2024-12-27T15:12:35.716Z"
   },
   {
    "duration": 28,
    "start_time": "2024-12-27T15:12:35.728Z"
   },
   {
    "duration": 454,
    "start_time": "2024-12-27T15:12:35.757Z"
   },
   {
    "duration": 16,
    "start_time": "2024-12-27T15:12:36.213Z"
   },
   {
    "duration": 485,
    "start_time": "2024-12-27T15:12:36.230Z"
   },
   {
    "duration": 2,
    "start_time": "2024-12-27T15:12:36.717Z"
   },
   {
    "duration": 35,
    "start_time": "2024-12-27T15:12:36.721Z"
   },
   {
    "duration": 12,
    "start_time": "2024-12-27T15:12:36.758Z"
   },
   {
    "duration": 46,
    "start_time": "2024-12-27T15:12:36.771Z"
   },
   {
    "duration": 511,
    "start_time": "2024-12-27T15:12:36.819Z"
   },
   {
    "duration": 19,
    "start_time": "2024-12-27T15:12:37.331Z"
   },
   {
    "duration": 71,
    "start_time": "2024-12-27T15:12:37.351Z"
   },
   {
    "duration": 21,
    "start_time": "2024-12-27T15:12:37.424Z"
   },
   {
    "duration": 60,
    "start_time": "2024-12-27T15:12:37.447Z"
   },
   {
    "duration": 33,
    "start_time": "2024-12-27T15:12:37.509Z"
   },
   {
    "duration": 3,
    "start_time": "2024-12-27T15:12:37.543Z"
   },
   {
    "duration": 10,
    "start_time": "2024-12-27T15:12:37.547Z"
   },
   {
    "duration": 3,
    "start_time": "2024-12-27T15:12:37.559Z"
   },
   {
    "duration": 3,
    "start_time": "2024-12-27T15:12:37.586Z"
   },
   {
    "duration": 804,
    "start_time": "2024-12-27T15:12:37.590Z"
   },
   {
    "duration": 66830,
    "start_time": "2024-12-27T15:12:38.396Z"
   },
   {
    "duration": 72908,
    "start_time": "2024-12-27T15:13:45.228Z"
   },
   {
    "duration": 143653,
    "start_time": "2024-12-27T15:14:58.137Z"
   },
   {
    "duration": 3,
    "start_time": "2024-12-27T15:17:21.791Z"
   },
   {
    "duration": 11,
    "start_time": "2024-12-27T15:17:21.796Z"
   },
   {
    "duration": 7,
    "start_time": "2024-12-27T15:17:21.809Z"
   },
   {
    "duration": 19,
    "start_time": "2024-12-27T15:17:21.818Z"
   },
   {
    "duration": 13,
    "start_time": "2024-12-27T15:17:21.838Z"
   },
   {
    "duration": 2,
    "start_time": "2024-12-27T15:17:21.886Z"
   },
   {
    "duration": 26,
    "start_time": "2024-12-27T15:17:21.890Z"
   },
   {
    "duration": 13,
    "start_time": "2024-12-27T15:17:21.918Z"
   },
   {
    "duration": 16,
    "start_time": "2024-12-27T15:17:21.933Z"
   },
   {
    "duration": 13,
    "start_time": "2024-12-27T15:17:21.950Z"
   },
   {
    "duration": 5,
    "start_time": "2024-12-27T15:17:21.965Z"
   },
   {
    "duration": 10,
    "start_time": "2024-12-27T15:17:21.971Z"
   },
   {
    "duration": 431,
    "start_time": "2024-12-27T15:17:21.982Z"
   },
   {
    "duration": 0,
    "start_time": "2024-12-27T15:17:22.414Z"
   },
   {
    "duration": 282,
    "start_time": "2024-12-27T15:25:35.556Z"
   },
   {
    "duration": 1070,
    "start_time": "2024-12-27T15:26:29.904Z"
   },
   {
    "duration": 129109,
    "start_time": "2024-12-27T15:30:53.192Z"
   },
   {
    "duration": 10,
    "start_time": "2024-12-27T15:37:48.716Z"
   },
   {
    "duration": 18,
    "start_time": "2024-12-27T15:38:50.244Z"
   },
   {
    "duration": 17,
    "start_time": "2024-12-27T15:39:20.583Z"
   },
   {
    "duration": 11,
    "start_time": "2024-12-27T15:43:22.325Z"
   },
   {
    "duration": 78,
    "start_time": "2024-12-27T15:44:03.576Z"
   },
   {
    "duration": 12,
    "start_time": "2024-12-27T15:46:18.915Z"
   },
   {
    "duration": 14,
    "start_time": "2024-12-27T15:48:04.812Z"
   },
   {
    "duration": 52,
    "start_time": "2024-12-27T16:05:48.810Z"
   },
   {
    "duration": 3,
    "start_time": "2024-12-27T16:05:48.864Z"
   },
   {
    "duration": 2768,
    "start_time": "2024-12-27T16:05:48.868Z"
   },
   {
    "duration": 3308,
    "start_time": "2024-12-27T16:05:51.639Z"
   },
   {
    "duration": 1347,
    "start_time": "2024-12-27T16:05:54.949Z"
   },
   {
    "duration": 880,
    "start_time": "2024-12-27T16:05:56.298Z"
   },
   {
    "duration": 268,
    "start_time": "2024-12-27T16:05:57.179Z"
   },
   {
    "duration": 111,
    "start_time": "2024-12-27T16:05:57.449Z"
   },
   {
    "duration": 6,
    "start_time": "2024-12-27T16:05:57.561Z"
   },
   {
    "duration": 623,
    "start_time": "2024-12-27T16:05:57.570Z"
   },
   {
    "duration": 546,
    "start_time": "2024-12-27T16:05:58.195Z"
   },
   {
    "duration": 13,
    "start_time": "2024-12-27T16:05:58.743Z"
   },
   {
    "duration": 74,
    "start_time": "2024-12-27T16:05:58.758Z"
   },
   {
    "duration": 3,
    "start_time": "2024-12-27T16:05:58.834Z"
   },
   {
    "duration": 415,
    "start_time": "2024-12-27T16:05:58.839Z"
   },
   {
    "duration": 480,
    "start_time": "2024-12-27T16:05:59.255Z"
   },
   {
    "duration": 58,
    "start_time": "2024-12-27T16:05:59.736Z"
   },
   {
    "duration": 57,
    "start_time": "2024-12-27T16:05:59.796Z"
   },
   {
    "duration": 31,
    "start_time": "2024-12-27T16:05:59.855Z"
   },
   {
    "duration": 40,
    "start_time": "2024-12-27T16:05:59.888Z"
   },
   {
    "duration": 20,
    "start_time": "2024-12-27T16:05:59.930Z"
   },
   {
    "duration": 1742,
    "start_time": "2024-12-27T16:05:59.952Z"
   },
   {
    "duration": 14,
    "start_time": "2024-12-27T16:06:01.696Z"
   },
   {
    "duration": 73,
    "start_time": "2024-12-27T16:06:01.712Z"
   },
   {
    "duration": 24,
    "start_time": "2024-12-27T16:06:01.787Z"
   },
   {
    "duration": 37,
    "start_time": "2024-12-27T16:06:01.813Z"
   },
   {
    "duration": 85,
    "start_time": "2024-12-27T16:06:01.852Z"
   },
   {
    "duration": 71,
    "start_time": "2024-12-27T16:06:01.942Z"
   },
   {
    "duration": 28,
    "start_time": "2024-12-27T16:06:02.015Z"
   },
   {
    "duration": 1753,
    "start_time": "2024-12-27T16:06:02.044Z"
   },
   {
    "duration": 13,
    "start_time": "2024-12-27T16:06:03.798Z"
   },
   {
    "duration": 23,
    "start_time": "2024-12-27T16:06:03.813Z"
   },
   {
    "duration": 83,
    "start_time": "2024-12-27T16:06:03.838Z"
   },
   {
    "duration": 18,
    "start_time": "2024-12-27T16:06:03.923Z"
   },
   {
    "duration": 28,
    "start_time": "2024-12-27T16:06:03.942Z"
   },
   {
    "duration": 105,
    "start_time": "2024-12-27T16:06:03.972Z"
   },
   {
    "duration": 28,
    "start_time": "2024-12-27T16:06:04.078Z"
   },
   {
    "duration": 47,
    "start_time": "2024-12-27T16:06:04.108Z"
   },
   {
    "duration": 288,
    "start_time": "2024-12-27T16:06:04.157Z"
   },
   {
    "duration": 104,
    "start_time": "2024-12-27T16:06:04.447Z"
   },
   {
    "duration": 384,
    "start_time": "2024-12-27T16:06:04.552Z"
   },
   {
    "duration": 365,
    "start_time": "2024-12-27T16:06:04.938Z"
   },
   {
    "duration": 775,
    "start_time": "2024-12-27T16:06:05.304Z"
   },
   {
    "duration": 2,
    "start_time": "2024-12-27T16:06:06.086Z"
   },
   {
    "duration": 56,
    "start_time": "2024-12-27T16:06:06.089Z"
   },
   {
    "duration": 49,
    "start_time": "2024-12-27T16:06:06.147Z"
   },
   {
    "duration": 431,
    "start_time": "2024-12-27T16:06:06.198Z"
   },
   {
    "duration": 65,
    "start_time": "2024-12-27T16:06:06.631Z"
   },
   {
    "duration": 452,
    "start_time": "2024-12-27T16:06:06.698Z"
   },
   {
    "duration": 2,
    "start_time": "2024-12-27T16:06:07.152Z"
   },
   {
    "duration": 19,
    "start_time": "2024-12-27T16:06:07.155Z"
   },
   {
    "duration": 28,
    "start_time": "2024-12-27T16:06:07.176Z"
   },
   {
    "duration": 28,
    "start_time": "2024-12-27T16:06:07.205Z"
   },
   {
    "duration": 521,
    "start_time": "2024-12-27T16:06:07.235Z"
   },
   {
    "duration": 16,
    "start_time": "2024-12-27T16:06:07.758Z"
   },
   {
    "duration": 38,
    "start_time": "2024-12-27T16:06:07.786Z"
   },
   {
    "duration": 20,
    "start_time": "2024-12-27T16:06:07.825Z"
   },
   {
    "duration": 105,
    "start_time": "2024-12-27T16:06:07.847Z"
   },
   {
    "duration": 31,
    "start_time": "2024-12-27T16:06:07.953Z"
   },
   {
    "duration": 3,
    "start_time": "2024-12-27T16:06:07.985Z"
   },
   {
    "duration": 3,
    "start_time": "2024-12-27T16:06:07.990Z"
   },
   {
    "duration": 3,
    "start_time": "2024-12-27T16:06:07.995Z"
   },
   {
    "duration": 4,
    "start_time": "2024-12-27T16:06:08.000Z"
   },
   {
    "duration": 777,
    "start_time": "2024-12-27T16:06:08.006Z"
   },
   {
    "duration": 67239,
    "start_time": "2024-12-27T16:06:08.787Z"
   },
   {
    "duration": 56699,
    "start_time": "2024-12-27T16:07:16.028Z"
   },
   {
    "duration": 150175,
    "start_time": "2024-12-27T16:08:12.728Z"
   },
   {
    "duration": 82,
    "start_time": "2024-12-27T16:10:42.904Z"
   },
   {
    "duration": 12,
    "start_time": "2024-12-27T16:10:42.988Z"
   },
   {
    "duration": 12,
    "start_time": "2024-12-27T16:10:43.002Z"
   },
   {
    "duration": 5,
    "start_time": "2024-12-27T16:10:43.015Z"
   },
   {
    "duration": 5,
    "start_time": "2024-12-27T16:10:43.022Z"
   },
   {
    "duration": 7,
    "start_time": "2024-12-27T16:10:43.028Z"
   },
   {
    "duration": 4,
    "start_time": "2024-12-27T16:10:43.036Z"
   },
   {
    "duration": 6,
    "start_time": "2024-12-27T16:10:43.041Z"
   },
   {
    "duration": 4,
    "start_time": "2024-12-27T16:10:43.048Z"
   },
   {
    "duration": 8,
    "start_time": "2024-12-27T16:10:43.054Z"
   },
   {
    "duration": 9,
    "start_time": "2024-12-27T16:10:43.064Z"
   },
   {
    "duration": 12,
    "start_time": "2024-12-27T16:10:43.074Z"
   },
   {
    "duration": 1074,
    "start_time": "2024-12-27T16:10:43.088Z"
   },
   {
    "duration": 8,
    "start_time": "2024-12-27T16:13:45.596Z"
   },
   {
    "duration": 115421,
    "start_time": "2024-12-27T16:13:55.674Z"
   },
   {
    "duration": 109342,
    "start_time": "2024-12-27T16:19:35.345Z"
   },
   {
    "duration": 55,
    "start_time": "2024-12-27T16:21:57.376Z"
   },
   {
    "duration": 2,
    "start_time": "2024-12-27T16:21:57.434Z"
   },
   {
    "duration": 2799,
    "start_time": "2024-12-27T16:21:57.438Z"
   },
   {
    "duration": 3307,
    "start_time": "2024-12-27T16:22:00.239Z"
   },
   {
    "duration": 1342,
    "start_time": "2024-12-27T16:22:03.549Z"
   },
   {
    "duration": 894,
    "start_time": "2024-12-27T16:22:04.893Z"
   },
   {
    "duration": 225,
    "start_time": "2024-12-27T16:22:05.788Z"
   },
   {
    "duration": 112,
    "start_time": "2024-12-27T16:22:06.015Z"
   },
   {
    "duration": 17,
    "start_time": "2024-12-27T16:22:06.129Z"
   },
   {
    "duration": 667,
    "start_time": "2024-12-27T16:22:06.148Z"
   },
   {
    "duration": 550,
    "start_time": "2024-12-27T16:22:06.817Z"
   },
   {
    "duration": 26,
    "start_time": "2024-12-27T16:22:07.368Z"
   },
   {
    "duration": 50,
    "start_time": "2024-12-27T16:22:07.395Z"
   },
   {
    "duration": 2,
    "start_time": "2024-12-27T16:22:07.450Z"
   },
   {
    "duration": 407,
    "start_time": "2024-12-27T16:22:07.454Z"
   },
   {
    "duration": 466,
    "start_time": "2024-12-27T16:22:07.863Z"
   },
   {
    "duration": 11,
    "start_time": "2024-12-27T16:22:08.331Z"
   },
   {
    "duration": 74,
    "start_time": "2024-12-27T16:22:08.344Z"
   },
   {
    "duration": 18,
    "start_time": "2024-12-27T16:22:08.420Z"
   },
   {
    "duration": 42,
    "start_time": "2024-12-27T16:22:08.439Z"
   },
   {
    "duration": 22,
    "start_time": "2024-12-27T16:22:08.483Z"
   },
   {
    "duration": 1848,
    "start_time": "2024-12-27T16:22:08.507Z"
   },
   {
    "duration": 13,
    "start_time": "2024-12-27T16:22:10.356Z"
   },
   {
    "duration": 46,
    "start_time": "2024-12-27T16:22:10.371Z"
   },
   {
    "duration": 80,
    "start_time": "2024-12-27T16:22:10.419Z"
   },
   {
    "duration": 38,
    "start_time": "2024-12-27T16:22:10.500Z"
   },
   {
    "duration": 25,
    "start_time": "2024-12-27T16:22:10.539Z"
   },
   {
    "duration": 44,
    "start_time": "2024-12-27T16:22:10.565Z"
   },
   {
    "duration": 28,
    "start_time": "2024-12-27T16:22:10.611Z"
   },
   {
    "duration": 1772,
    "start_time": "2024-12-27T16:22:10.640Z"
   },
   {
    "duration": 14,
    "start_time": "2024-12-27T16:22:12.414Z"
   },
   {
    "duration": 50,
    "start_time": "2024-12-27T16:22:12.429Z"
   },
   {
    "duration": 18,
    "start_time": "2024-12-27T16:22:12.481Z"
   },
   {
    "duration": 22,
    "start_time": "2024-12-27T16:22:12.501Z"
   },
   {
    "duration": 18,
    "start_time": "2024-12-27T16:22:12.524Z"
   },
   {
    "duration": 106,
    "start_time": "2024-12-27T16:22:12.544Z"
   },
   {
    "duration": 17,
    "start_time": "2024-12-27T16:22:12.652Z"
   },
   {
    "duration": 35,
    "start_time": "2024-12-27T16:22:12.686Z"
   },
   {
    "duration": 315,
    "start_time": "2024-12-27T16:22:12.723Z"
   },
   {
    "duration": 97,
    "start_time": "2024-12-27T16:22:13.040Z"
   },
   {
    "duration": 375,
    "start_time": "2024-12-27T16:22:13.141Z"
   },
   {
    "duration": 357,
    "start_time": "2024-12-27T16:22:13.518Z"
   },
   {
    "duration": 739,
    "start_time": "2024-12-27T16:22:13.876Z"
   },
   {
    "duration": 2,
    "start_time": "2024-12-27T16:22:14.616Z"
   },
   {
    "duration": 8,
    "start_time": "2024-12-27T16:22:14.620Z"
   },
   {
    "duration": 4,
    "start_time": "2024-12-27T16:22:14.629Z"
   },
   {
    "duration": 484,
    "start_time": "2024-12-27T16:22:14.634Z"
   },
   {
    "duration": 14,
    "start_time": "2024-12-27T16:22:15.120Z"
   },
   {
    "duration": 517,
    "start_time": "2024-12-27T16:22:15.136Z"
   },
   {
    "duration": 2,
    "start_time": "2024-12-27T16:22:15.654Z"
   },
   {
    "duration": 4,
    "start_time": "2024-12-27T16:22:15.658Z"
   },
   {
    "duration": 4,
    "start_time": "2024-12-27T16:22:15.663Z"
   },
   {
    "duration": 35,
    "start_time": "2024-12-27T16:22:15.668Z"
   },
   {
    "duration": 583,
    "start_time": "2024-12-27T16:22:15.704Z"
   },
   {
    "duration": 17,
    "start_time": "2024-12-27T16:22:16.289Z"
   },
   {
    "duration": 38,
    "start_time": "2024-12-27T16:22:16.308Z"
   },
   {
    "duration": 44,
    "start_time": "2024-12-27T16:22:16.347Z"
   },
   {
    "duration": 46,
    "start_time": "2024-12-27T16:22:16.393Z"
   },
   {
    "duration": 76,
    "start_time": "2024-12-27T16:22:16.440Z"
   },
   {
    "duration": 3,
    "start_time": "2024-12-27T16:22:16.518Z"
   },
   {
    "duration": 26,
    "start_time": "2024-12-27T16:22:16.523Z"
   },
   {
    "duration": 19,
    "start_time": "2024-12-27T16:22:16.551Z"
   },
   {
    "duration": 7,
    "start_time": "2024-12-27T16:22:16.571Z"
   },
   {
    "duration": 808,
    "start_time": "2024-12-27T16:22:16.580Z"
   },
   {
    "duration": 66640,
    "start_time": "2024-12-27T16:22:17.390Z"
   },
   {
    "duration": 57831,
    "start_time": "2024-12-27T16:23:24.033Z"
   },
   {
    "duration": 348725,
    "start_time": "2024-12-27T16:24:21.866Z"
   },
   {
    "duration": 3,
    "start_time": "2024-12-27T16:30:10.593Z"
   },
   {
    "duration": 10,
    "start_time": "2024-12-27T16:30:10.597Z"
   },
   {
    "duration": 4,
    "start_time": "2024-12-27T16:30:10.608Z"
   },
   {
    "duration": 72,
    "start_time": "2024-12-27T16:30:10.614Z"
   },
   {
    "duration": 11,
    "start_time": "2024-12-27T16:30:10.688Z"
   },
   {
    "duration": 22,
    "start_time": "2024-12-27T16:30:10.701Z"
   },
   {
    "duration": 7,
    "start_time": "2024-12-27T16:30:10.724Z"
   },
   {
    "duration": 4,
    "start_time": "2024-12-27T16:30:10.732Z"
   },
   {
    "duration": 5,
    "start_time": "2024-12-27T16:30:10.738Z"
   },
   {
    "duration": 8,
    "start_time": "2024-12-27T16:30:10.744Z"
   },
   {
    "duration": 13,
    "start_time": "2024-12-27T16:30:10.753Z"
   },
   {
    "duration": 4,
    "start_time": "2024-12-27T16:30:10.767Z"
   },
   {
    "duration": 97847,
    "start_time": "2024-12-27T16:30:10.773Z"
   },
   {
    "duration": 19,
    "start_time": "2024-12-27T16:34:47.992Z"
   },
   {
    "duration": 17,
    "start_time": "2024-12-27T16:35:18.051Z"
   },
   {
    "duration": 53,
    "start_time": "2024-12-29T11:13:30.354Z"
   },
   {
    "duration": 83,
    "start_time": "2024-12-29T11:14:32.921Z"
   },
   {
    "duration": 19,
    "start_time": "2024-12-29T11:14:33.006Z"
   },
   {
    "duration": 6620,
    "start_time": "2024-12-29T11:14:35.885Z"
   },
   {
    "duration": 1531,
    "start_time": "2024-12-29T11:14:42.508Z"
   },
   {
    "duration": 3109,
    "start_time": "2024-12-29T11:14:44.041Z"
   },
   {
    "duration": 240,
    "start_time": "2024-12-29T11:14:47.152Z"
   },
   {
    "duration": 136,
    "start_time": "2024-12-29T11:14:47.394Z"
   },
   {
    "duration": 6,
    "start_time": "2024-12-29T11:14:47.532Z"
   },
   {
    "duration": 738,
    "start_time": "2024-12-29T11:14:47.539Z"
   },
   {
    "duration": 618,
    "start_time": "2024-12-29T11:14:48.279Z"
   },
   {
    "duration": 22,
    "start_time": "2024-12-29T11:14:48.899Z"
   },
   {
    "duration": 55,
    "start_time": "2024-12-29T11:14:48.923Z"
   },
   {
    "duration": 6,
    "start_time": "2024-12-29T11:14:48.982Z"
   },
   {
    "duration": 414,
    "start_time": "2024-12-29T11:14:48.990Z"
   },
   {
    "duration": 562,
    "start_time": "2024-12-29T11:14:49.406Z"
   },
   {
    "duration": 12,
    "start_time": "2024-12-29T11:14:49.969Z"
   },
   {
    "duration": 86,
    "start_time": "2024-12-29T11:14:49.982Z"
   },
   {
    "duration": 33,
    "start_time": "2024-12-29T11:14:50.070Z"
   },
   {
    "duration": 28,
    "start_time": "2024-12-29T11:14:50.105Z"
   },
   {
    "duration": 20,
    "start_time": "2024-12-29T11:14:50.135Z"
   },
   {
    "duration": 2098,
    "start_time": "2024-12-29T11:14:50.157Z"
   },
   {
    "duration": 17,
    "start_time": "2024-12-29T11:14:52.257Z"
   },
   {
    "duration": 95,
    "start_time": "2024-12-29T11:14:52.275Z"
   },
   {
    "duration": 49,
    "start_time": "2024-12-29T11:14:52.371Z"
   },
   {
    "duration": 64,
    "start_time": "2024-12-29T11:14:52.423Z"
   },
   {
    "duration": 41,
    "start_time": "2024-12-29T11:14:52.489Z"
   },
   {
    "duration": 43,
    "start_time": "2024-12-29T11:14:52.532Z"
   },
   {
    "duration": 53,
    "start_time": "2024-12-29T11:14:52.576Z"
   },
   {
    "duration": 2092,
    "start_time": "2024-12-29T11:14:52.631Z"
   },
   {
    "duration": 17,
    "start_time": "2024-12-29T11:14:54.724Z"
   },
   {
    "duration": 43,
    "start_time": "2024-12-29T11:14:54.743Z"
   },
   {
    "duration": 139,
    "start_time": "2024-12-29T11:14:54.788Z"
   },
   {
    "duration": 102,
    "start_time": "2024-12-29T11:14:54.928Z"
   },
   {
    "duration": 46,
    "start_time": "2024-12-29T11:14:55.032Z"
   },
   {
    "duration": 151,
    "start_time": "2024-12-29T11:14:55.080Z"
   },
   {
    "duration": 29,
    "start_time": "2024-12-29T11:14:55.232Z"
   },
   {
    "duration": 73,
    "start_time": "2024-12-29T11:14:55.262Z"
   },
   {
    "duration": 338,
    "start_time": "2024-12-29T11:14:55.337Z"
   },
   {
    "duration": 123,
    "start_time": "2024-12-29T11:14:55.677Z"
   },
   {
    "duration": 394,
    "start_time": "2024-12-29T11:14:55.814Z"
   },
   {
    "duration": 423,
    "start_time": "2024-12-29T11:14:56.210Z"
   },
   {
    "duration": 788,
    "start_time": "2024-12-29T11:14:56.637Z"
   },
   {
    "duration": 3,
    "start_time": "2024-12-29T11:14:57.426Z"
   },
   {
    "duration": 88,
    "start_time": "2024-12-29T11:14:57.430Z"
   },
   {
    "duration": 3,
    "start_time": "2024-12-29T11:14:57.520Z"
   },
   {
    "duration": 437,
    "start_time": "2024-12-29T11:14:57.525Z"
   },
   {
    "duration": 63,
    "start_time": "2024-12-29T11:14:57.964Z"
   },
   {
    "duration": 503,
    "start_time": "2024-12-29T11:14:58.028Z"
   },
   {
    "duration": 2,
    "start_time": "2024-12-29T11:14:58.534Z"
   },
   {
    "duration": 27,
    "start_time": "2024-12-29T11:14:58.538Z"
   },
   {
    "duration": 59,
    "start_time": "2024-12-29T11:14:58.567Z"
   },
   {
    "duration": 44,
    "start_time": "2024-12-29T11:14:58.628Z"
   },
   {
    "duration": 567,
    "start_time": "2024-12-29T11:14:58.674Z"
   },
   {
    "duration": 16,
    "start_time": "2024-12-29T11:14:59.243Z"
   },
   {
    "duration": 54,
    "start_time": "2024-12-29T11:14:59.261Z"
   },
   {
    "duration": 19,
    "start_time": "2024-12-29T11:14:59.317Z"
   },
   {
    "duration": 50,
    "start_time": "2024-12-29T11:14:59.338Z"
   },
   {
    "duration": 49,
    "start_time": "2024-12-29T11:14:59.390Z"
   },
   {
    "duration": 68,
    "start_time": "2024-12-29T11:14:59.441Z"
   },
   {
    "duration": 3,
    "start_time": "2024-12-29T11:14:59.511Z"
   },
   {
    "duration": 6,
    "start_time": "2024-12-29T11:14:59.515Z"
   },
   {
    "duration": 7,
    "start_time": "2024-12-29T11:14:59.523Z"
   },
   {
    "duration": 898,
    "start_time": "2024-12-29T11:14:59.532Z"
   },
   {
    "duration": 71923,
    "start_time": "2024-12-29T11:15:00.432Z"
   },
   {
    "duration": 56749,
    "start_time": "2024-12-29T11:16:12.357Z"
   },
   {
    "duration": 2820,
    "start_time": "2024-12-29T11:17:09.107Z"
   },
   {
    "duration": 3,
    "start_time": "2024-12-29T11:17:11.928Z"
   },
   {
    "duration": 3,
    "start_time": "2024-12-29T11:17:12.014Z"
   },
   {
    "duration": 12,
    "start_time": "2024-12-29T11:17:12.018Z"
   },
   {
    "duration": 3,
    "start_time": "2024-12-29T11:17:12.031Z"
   },
   {
    "duration": 3,
    "start_time": "2024-12-29T11:17:12.036Z"
   },
   {
    "duration": 7,
    "start_time": "2024-12-29T11:17:12.041Z"
   },
   {
    "duration": 4,
    "start_time": "2024-12-29T11:17:12.049Z"
   },
   {
    "duration": 5,
    "start_time": "2024-12-29T11:17:12.054Z"
   },
   {
    "duration": 14,
    "start_time": "2024-12-29T11:17:12.061Z"
   },
   {
    "duration": 16,
    "start_time": "2024-12-29T11:17:12.077Z"
   },
   {
    "duration": 8,
    "start_time": "2024-12-29T11:17:12.095Z"
   },
   {
    "duration": 10,
    "start_time": "2024-12-29T11:17:12.105Z"
   },
   {
    "duration": 23,
    "start_time": "2024-12-29T11:17:12.116Z"
   },
   {
    "duration": 44,
    "start_time": "2024-12-29T11:17:12.141Z"
   },
   {
    "duration": 22,
    "start_time": "2024-12-29T11:21:47.718Z"
   },
   {
    "duration": 573,
    "start_time": "2024-12-29T11:38:54.843Z"
   },
   {
    "duration": 54,
    "start_time": "2024-12-29T11:39:13.335Z"
   },
   {
    "duration": 3,
    "start_time": "2024-12-29T11:39:13.391Z"
   },
   {
    "duration": 2498,
    "start_time": "2024-12-29T11:39:13.396Z"
   },
   {
    "duration": 2968,
    "start_time": "2024-12-29T11:39:15.897Z"
   },
   {
    "duration": 1348,
    "start_time": "2024-12-29T11:39:18.867Z"
   },
   {
    "duration": 941,
    "start_time": "2024-12-29T11:39:20.217Z"
   },
   {
    "duration": 289,
    "start_time": "2024-12-29T11:39:21.160Z"
   },
   {
    "duration": 133,
    "start_time": "2024-12-29T11:39:21.451Z"
   },
   {
    "duration": 15,
    "start_time": "2024-12-29T11:39:21.585Z"
   },
   {
    "duration": 727,
    "start_time": "2024-12-29T11:39:21.602Z"
   },
   {
    "duration": 594,
    "start_time": "2024-12-29T11:39:22.331Z"
   },
   {
    "duration": 11,
    "start_time": "2024-12-29T11:39:22.927Z"
   },
   {
    "duration": 138,
    "start_time": "2024-12-29T11:39:22.940Z"
   },
   {
    "duration": 66,
    "start_time": "2024-12-29T11:39:23.080Z"
   },
   {
    "duration": 433,
    "start_time": "2024-12-29T11:39:23.147Z"
   },
   {
    "duration": 566,
    "start_time": "2024-12-29T11:39:23.582Z"
   },
   {
    "duration": 12,
    "start_time": "2024-12-29T11:39:24.150Z"
   },
   {
    "duration": 70,
    "start_time": "2024-12-29T11:39:24.164Z"
   },
   {
    "duration": 20,
    "start_time": "2024-12-29T11:39:24.235Z"
   },
   {
    "duration": 28,
    "start_time": "2024-12-29T11:39:24.257Z"
   },
   {
    "duration": 43,
    "start_time": "2024-12-29T11:39:24.287Z"
   },
   {
    "duration": 2130,
    "start_time": "2024-12-29T11:39:24.332Z"
   },
   {
    "duration": 17,
    "start_time": "2024-12-29T11:39:26.464Z"
   },
   {
    "duration": 95,
    "start_time": "2024-12-29T11:39:26.482Z"
   },
   {
    "duration": 24,
    "start_time": "2024-12-29T11:39:26.579Z"
   },
   {
    "duration": 53,
    "start_time": "2024-12-29T11:39:26.605Z"
   },
   {
    "duration": 35,
    "start_time": "2024-12-29T11:39:26.659Z"
   },
   {
    "duration": 51,
    "start_time": "2024-12-29T11:39:26.699Z"
   },
   {
    "duration": 39,
    "start_time": "2024-12-29T11:39:26.751Z"
   },
   {
    "duration": 2092,
    "start_time": "2024-12-29T11:39:26.792Z"
   },
   {
    "duration": 30,
    "start_time": "2024-12-29T11:39:28.886Z"
   },
   {
    "duration": 121,
    "start_time": "2024-12-29T11:39:28.918Z"
   },
   {
    "duration": 116,
    "start_time": "2024-12-29T11:39:29.041Z"
   },
   {
    "duration": 30,
    "start_time": "2024-12-29T11:39:29.159Z"
   },
   {
    "duration": 47,
    "start_time": "2024-12-29T11:39:29.190Z"
   },
   {
    "duration": 198,
    "start_time": "2024-12-29T11:39:29.238Z"
   },
   {
    "duration": 39,
    "start_time": "2024-12-29T11:39:29.438Z"
   },
   {
    "duration": 54,
    "start_time": "2024-12-29T11:39:29.479Z"
   },
   {
    "duration": 327,
    "start_time": "2024-12-29T11:39:29.535Z"
   },
   {
    "duration": 122,
    "start_time": "2024-12-29T11:39:29.863Z"
   },
   {
    "duration": 422,
    "start_time": "2024-12-29T11:39:29.987Z"
   },
   {
    "duration": 406,
    "start_time": "2024-12-29T11:39:30.410Z"
   },
   {
    "duration": 814,
    "start_time": "2024-12-29T11:39:30.817Z"
   },
   {
    "duration": 2,
    "start_time": "2024-12-29T11:39:31.633Z"
   },
   {
    "duration": 61,
    "start_time": "2024-12-29T11:39:31.637Z"
   },
   {
    "duration": 40,
    "start_time": "2024-12-29T11:39:31.700Z"
   },
   {
    "duration": 496,
    "start_time": "2024-12-29T11:39:31.742Z"
   },
   {
    "duration": 16,
    "start_time": "2024-12-29T11:39:32.240Z"
   },
   {
    "duration": 511,
    "start_time": "2024-12-29T11:39:32.258Z"
   },
   {
    "duration": 3,
    "start_time": "2024-12-29T11:39:32.771Z"
   },
   {
    "duration": 23,
    "start_time": "2024-12-29T11:39:32.776Z"
   },
   {
    "duration": 23,
    "start_time": "2024-12-29T11:39:32.801Z"
   },
   {
    "duration": 44,
    "start_time": "2024-12-29T11:39:32.825Z"
   },
   {
    "duration": 552,
    "start_time": "2024-12-29T11:39:32.870Z"
   },
   {
    "duration": 18,
    "start_time": "2024-12-29T11:39:33.424Z"
   },
   {
    "duration": 58,
    "start_time": "2024-12-29T11:39:33.444Z"
   },
   {
    "duration": 19,
    "start_time": "2024-12-29T11:39:33.504Z"
   },
   {
    "duration": 52,
    "start_time": "2024-12-29T11:39:33.525Z"
   },
   {
    "duration": 108,
    "start_time": "2024-12-29T11:39:33.579Z"
   },
   {
    "duration": 4,
    "start_time": "2024-12-29T11:39:33.689Z"
   },
   {
    "duration": 8,
    "start_time": "2024-12-29T11:39:33.695Z"
   },
   {
    "duration": 31,
    "start_time": "2024-12-29T11:39:33.705Z"
   },
   {
    "duration": 38,
    "start_time": "2024-12-29T11:39:33.738Z"
   },
   {
    "duration": 866,
    "start_time": "2024-12-29T11:39:33.778Z"
   },
   {
    "duration": 76810,
    "start_time": "2024-12-29T11:39:34.646Z"
   },
   {
    "duration": 55,
    "start_time": "2024-12-29T11:43:39.652Z"
   },
   {
    "duration": 3,
    "start_time": "2024-12-29T11:43:39.709Z"
   },
   {
    "duration": 2550,
    "start_time": "2024-12-29T11:43:39.713Z"
   },
   {
    "duration": 3002,
    "start_time": "2024-12-29T11:43:42.265Z"
   },
   {
    "duration": 1364,
    "start_time": "2024-12-29T11:43:45.270Z"
   },
   {
    "duration": 951,
    "start_time": "2024-12-29T11:43:46.636Z"
   },
   {
    "duration": 256,
    "start_time": "2024-12-29T11:43:47.589Z"
   },
   {
    "duration": 142,
    "start_time": "2024-12-29T11:43:47.847Z"
   },
   {
    "duration": 6,
    "start_time": "2024-12-29T11:43:47.991Z"
   },
   {
    "duration": 689,
    "start_time": "2024-12-29T11:43:48.000Z"
   },
   {
    "duration": 584,
    "start_time": "2024-12-29T11:43:48.690Z"
   },
   {
    "duration": 12,
    "start_time": "2024-12-29T11:43:49.276Z"
   },
   {
    "duration": 60,
    "start_time": "2024-12-29T11:43:49.290Z"
   },
   {
    "duration": 3,
    "start_time": "2024-12-29T11:43:49.351Z"
   },
   {
    "duration": 414,
    "start_time": "2024-12-29T11:43:49.355Z"
   },
   {
    "duration": 582,
    "start_time": "2024-12-29T11:43:49.771Z"
   },
   {
    "duration": 10,
    "start_time": "2024-12-29T11:43:50.355Z"
   },
   {
    "duration": 74,
    "start_time": "2024-12-29T11:43:50.367Z"
   },
   {
    "duration": 21,
    "start_time": "2024-12-29T11:43:50.443Z"
   },
   {
    "duration": 27,
    "start_time": "2024-12-29T11:43:50.465Z"
   },
   {
    "duration": 27,
    "start_time": "2024-12-29T11:43:50.494Z"
   },
   {
    "duration": 2054,
    "start_time": "2024-12-29T11:43:50.523Z"
   },
   {
    "duration": 16,
    "start_time": "2024-12-29T11:43:52.579Z"
   },
   {
    "duration": 52,
    "start_time": "2024-12-29T11:43:52.597Z"
   },
   {
    "duration": 23,
    "start_time": "2024-12-29T11:43:52.651Z"
   },
   {
    "duration": 43,
    "start_time": "2024-12-29T11:43:52.676Z"
   },
   {
    "duration": 18,
    "start_time": "2024-12-29T11:43:52.721Z"
   },
   {
    "duration": 42,
    "start_time": "2024-12-29T11:43:52.743Z"
   },
   {
    "duration": 57,
    "start_time": "2024-12-29T11:43:52.787Z"
   },
   {
    "duration": 2027,
    "start_time": "2024-12-29T11:43:52.846Z"
   },
   {
    "duration": 18,
    "start_time": "2024-12-29T11:43:54.875Z"
   },
   {
    "duration": 35,
    "start_time": "2024-12-29T11:43:54.895Z"
   },
   {
    "duration": 55,
    "start_time": "2024-12-29T11:43:54.932Z"
   },
   {
    "duration": 56,
    "start_time": "2024-12-29T11:43:54.990Z"
   },
   {
    "duration": 27,
    "start_time": "2024-12-29T11:43:55.048Z"
   },
   {
    "duration": 155,
    "start_time": "2024-12-29T11:43:55.077Z"
   },
   {
    "duration": 21,
    "start_time": "2024-12-29T11:43:55.234Z"
   },
   {
    "duration": 45,
    "start_time": "2024-12-29T11:43:55.256Z"
   },
   {
    "duration": 341,
    "start_time": "2024-12-29T11:43:55.303Z"
   },
   {
    "duration": 117,
    "start_time": "2024-12-29T11:43:55.645Z"
   },
   {
    "duration": 398,
    "start_time": "2024-12-29T11:43:55.763Z"
   },
   {
    "duration": 401,
    "start_time": "2024-12-29T11:43:56.162Z"
   },
   {
    "duration": 816,
    "start_time": "2024-12-29T11:43:56.565Z"
   },
   {
    "duration": 2,
    "start_time": "2024-12-29T11:43:57.383Z"
   },
   {
    "duration": 6,
    "start_time": "2024-12-29T11:43:57.387Z"
   },
   {
    "duration": 3,
    "start_time": "2024-12-29T11:43:57.394Z"
   },
   {
    "duration": 456,
    "start_time": "2024-12-29T11:43:57.398Z"
   },
   {
    "duration": 16,
    "start_time": "2024-12-29T11:43:57.855Z"
   },
   {
    "duration": 510,
    "start_time": "2024-12-29T11:43:57.872Z"
   },
   {
    "duration": 2,
    "start_time": "2024-12-29T11:43:58.416Z"
   },
   {
    "duration": 7,
    "start_time": "2024-12-29T11:43:58.419Z"
   },
   {
    "duration": 4,
    "start_time": "2024-12-29T11:43:58.427Z"
   },
   {
    "duration": 21,
    "start_time": "2024-12-29T11:43:58.433Z"
   },
   {
    "duration": 552,
    "start_time": "2024-12-29T11:43:58.456Z"
   },
   {
    "duration": 17,
    "start_time": "2024-12-29T11:43:59.015Z"
   },
   {
    "duration": 55,
    "start_time": "2024-12-29T11:43:59.033Z"
   },
   {
    "duration": 84,
    "start_time": "2024-12-29T11:43:59.090Z"
   },
   {
    "duration": 50,
    "start_time": "2024-12-29T11:43:59.176Z"
   },
   {
    "duration": 33,
    "start_time": "2024-12-29T11:43:59.227Z"
   },
   {
    "duration": 3,
    "start_time": "2024-12-29T11:43:59.261Z"
   },
   {
    "duration": 6,
    "start_time": "2024-12-29T11:43:59.266Z"
   },
   {
    "duration": 5,
    "start_time": "2024-12-29T11:43:59.274Z"
   },
   {
    "duration": 4,
    "start_time": "2024-12-29T11:43:59.280Z"
   },
   {
    "duration": 928,
    "start_time": "2024-12-29T11:43:59.286Z"
   },
   {
    "duration": 56,
    "start_time": "2024-12-29T11:44:12.341Z"
   },
   {
    "duration": 3,
    "start_time": "2024-12-29T11:44:12.398Z"
   },
   {
    "duration": 2443,
    "start_time": "2024-12-29T11:44:12.402Z"
   },
   {
    "duration": 3036,
    "start_time": "2024-12-29T11:44:14.848Z"
   },
   {
    "duration": 1386,
    "start_time": "2024-12-29T11:44:17.886Z"
   },
   {
    "duration": 929,
    "start_time": "2024-12-29T11:44:19.274Z"
   },
   {
    "duration": 289,
    "start_time": "2024-12-29T11:44:20.204Z"
   },
   {
    "duration": 134,
    "start_time": "2024-12-29T11:44:20.495Z"
   },
   {
    "duration": 8,
    "start_time": "2024-12-29T11:44:20.631Z"
   },
   {
    "duration": 696,
    "start_time": "2024-12-29T11:44:20.641Z"
   },
   {
    "duration": 632,
    "start_time": "2024-12-29T11:44:21.339Z"
   },
   {
    "duration": 12,
    "start_time": "2024-12-29T11:44:21.972Z"
   },
   {
    "duration": 60,
    "start_time": "2024-12-29T11:44:21.986Z"
   },
   {
    "duration": 3,
    "start_time": "2024-12-29T11:44:22.048Z"
   },
   {
    "duration": 418,
    "start_time": "2024-12-29T11:44:22.052Z"
   },
   {
    "duration": 576,
    "start_time": "2024-12-29T11:44:22.472Z"
   },
   {
    "duration": 13,
    "start_time": "2024-12-29T11:44:23.050Z"
   },
   {
    "duration": 77,
    "start_time": "2024-12-29T11:44:23.064Z"
   },
   {
    "duration": 24,
    "start_time": "2024-12-29T11:44:23.143Z"
   },
   {
    "duration": 20,
    "start_time": "2024-12-29T11:44:23.168Z"
   },
   {
    "duration": 37,
    "start_time": "2024-12-29T11:44:23.190Z"
   },
   {
    "duration": 2111,
    "start_time": "2024-12-29T11:44:23.230Z"
   },
   {
    "duration": 16,
    "start_time": "2024-12-29T11:44:25.343Z"
   },
   {
    "duration": 56,
    "start_time": "2024-12-29T11:44:25.360Z"
   },
   {
    "duration": 23,
    "start_time": "2024-12-29T11:44:25.418Z"
   },
   {
    "duration": 34,
    "start_time": "2024-12-29T11:44:25.442Z"
   },
   {
    "duration": 22,
    "start_time": "2024-12-29T11:44:25.478Z"
   },
   {
    "duration": 56,
    "start_time": "2024-12-29T11:44:25.504Z"
   },
   {
    "duration": 32,
    "start_time": "2024-12-29T11:44:25.561Z"
   },
   {
    "duration": 2103,
    "start_time": "2024-12-29T11:44:25.595Z"
   },
   {
    "duration": 21,
    "start_time": "2024-12-29T11:44:27.700Z"
   },
   {
    "duration": 18,
    "start_time": "2024-12-29T11:44:27.722Z"
   },
   {
    "duration": 39,
    "start_time": "2024-12-29T11:44:27.742Z"
   },
   {
    "duration": 38,
    "start_time": "2024-12-29T11:44:27.783Z"
   },
   {
    "duration": 22,
    "start_time": "2024-12-29T11:44:27.823Z"
   },
   {
    "duration": 127,
    "start_time": "2024-12-29T11:44:27.847Z"
   },
   {
    "duration": 18,
    "start_time": "2024-12-29T11:44:27.975Z"
   },
   {
    "duration": 54,
    "start_time": "2024-12-29T11:44:27.995Z"
   },
   {
    "duration": 336,
    "start_time": "2024-12-29T11:44:28.051Z"
   },
   {
    "duration": 156,
    "start_time": "2024-12-29T11:44:28.389Z"
   },
   {
    "duration": 416,
    "start_time": "2024-12-29T11:44:28.547Z"
   },
   {
    "duration": 410,
    "start_time": "2024-12-29T11:44:28.965Z"
   },
   {
    "duration": 824,
    "start_time": "2024-12-29T11:44:29.377Z"
   },
   {
    "duration": 2,
    "start_time": "2024-12-29T11:44:30.203Z"
   },
   {
    "duration": 36,
    "start_time": "2024-12-29T11:44:30.215Z"
   },
   {
    "duration": 42,
    "start_time": "2024-12-29T11:44:30.254Z"
   },
   {
    "duration": 532,
    "start_time": "2024-12-29T11:44:30.298Z"
   },
   {
    "duration": 15,
    "start_time": "2024-12-29T11:44:30.832Z"
   },
   {
    "duration": 520,
    "start_time": "2024-12-29T11:44:30.848Z"
   },
   {
    "duration": 3,
    "start_time": "2024-12-29T11:44:31.369Z"
   },
   {
    "duration": 11,
    "start_time": "2024-12-29T11:44:31.373Z"
   },
   {
    "duration": 24,
    "start_time": "2024-12-29T11:44:31.385Z"
   },
   {
    "duration": 92,
    "start_time": "2024-12-29T11:44:31.411Z"
   },
   {
    "duration": 517,
    "start_time": "2024-12-29T11:44:31.505Z"
   },
   {
    "duration": 16,
    "start_time": "2024-12-29T11:44:32.024Z"
   },
   {
    "duration": 62,
    "start_time": "2024-12-29T11:44:32.041Z"
   },
   {
    "duration": 21,
    "start_time": "2024-12-29T11:44:32.105Z"
   },
   {
    "duration": 79,
    "start_time": "2024-12-29T11:44:32.127Z"
   },
   {
    "duration": 29,
    "start_time": "2024-12-29T11:44:32.208Z"
   },
   {
    "duration": 4,
    "start_time": "2024-12-29T11:44:32.238Z"
   },
   {
    "duration": 33,
    "start_time": "2024-12-29T11:44:32.243Z"
   },
   {
    "duration": 7,
    "start_time": "2024-12-29T11:44:32.278Z"
   },
   {
    "duration": 9,
    "start_time": "2024-12-29T11:44:32.287Z"
   },
   {
    "duration": 879,
    "start_time": "2024-12-29T11:44:32.298Z"
   },
   {
    "duration": 66984,
    "start_time": "2024-12-29T11:44:33.179Z"
   },
   {
    "duration": 56194,
    "start_time": "2024-12-29T11:45:40.165Z"
   },
   {
    "duration": 3464,
    "start_time": "2024-12-29T11:46:36.361Z"
   },
   {
    "duration": 3,
    "start_time": "2024-12-29T11:46:39.827Z"
   },
   {
    "duration": 11,
    "start_time": "2024-12-29T11:46:39.832Z"
   },
   {
    "duration": 16,
    "start_time": "2024-12-29T11:46:39.915Z"
   },
   {
    "duration": 31,
    "start_time": "2024-12-29T11:46:39.933Z"
   },
   {
    "duration": 13,
    "start_time": "2024-12-29T11:46:39.965Z"
   },
   {
    "duration": 58,
    "start_time": "2024-12-29T11:46:39.980Z"
   },
   {
    "duration": 17,
    "start_time": "2024-12-29T11:46:40.040Z"
   },
   {
    "duration": 37,
    "start_time": "2024-12-29T11:46:40.059Z"
   },
   {
    "duration": 23,
    "start_time": "2024-12-29T11:46:40.098Z"
   },
   {
    "duration": 15,
    "start_time": "2024-12-29T11:46:40.123Z"
   },
   {
    "duration": 5,
    "start_time": "2024-12-29T11:46:40.140Z"
   },
   {
    "duration": 17,
    "start_time": "2024-12-29T11:46:40.147Z"
   },
   {
    "duration": 38,
    "start_time": "2024-12-29T11:46:40.166Z"
   },
   {
    "duration": 53,
    "start_time": "2024-12-29T11:46:40.206Z"
   },
   {
    "duration": 631,
    "start_time": "2024-12-29T11:46:40.265Z"
   },
   {
    "duration": 28,
    "start_time": "2024-12-29T11:49:20.273Z"
   },
   {
    "duration": 24,
    "start_time": "2024-12-29T11:55:29.871Z"
   },
   {
    "duration": 1381,
    "start_time": "2024-12-29T11:56:37.228Z"
   },
   {
    "duration": 70813,
    "start_time": "2024-12-29T12:00:13.021Z"
   },
   {
    "duration": 19,
    "start_time": "2024-12-29T12:03:13.310Z"
   },
   {
    "duration": 14,
    "start_time": "2024-12-29T12:03:37.088Z"
   },
   {
    "duration": 155,
    "start_time": "2024-12-29T12:07:19.889Z"
   },
   {
    "duration": 57,
    "start_time": "2024-12-29T12:07:31.267Z"
   },
   {
    "duration": 3,
    "start_time": "2024-12-29T12:07:31.326Z"
   },
   {
    "duration": 2466,
    "start_time": "2024-12-29T12:07:31.331Z"
   },
   {
    "duration": 3080,
    "start_time": "2024-12-29T12:07:33.799Z"
   },
   {
    "duration": 1347,
    "start_time": "2024-12-29T12:07:36.881Z"
   },
   {
    "duration": 968,
    "start_time": "2024-12-29T12:07:38.229Z"
   },
   {
    "duration": 297,
    "start_time": "2024-12-29T12:07:39.199Z"
   },
   {
    "duration": 138,
    "start_time": "2024-12-29T12:07:39.497Z"
   },
   {
    "duration": 6,
    "start_time": "2024-12-29T12:07:39.636Z"
   },
   {
    "duration": 699,
    "start_time": "2024-12-29T12:07:39.644Z"
   },
   {
    "duration": 624,
    "start_time": "2024-12-29T12:07:40.345Z"
   },
   {
    "duration": 13,
    "start_time": "2024-12-29T12:07:40.971Z"
   },
   {
    "duration": 72,
    "start_time": "2024-12-29T12:07:40.985Z"
   },
   {
    "duration": 3,
    "start_time": "2024-12-29T12:07:41.062Z"
   },
   {
    "duration": 414,
    "start_time": "2024-12-29T12:07:41.067Z"
   },
   {
    "duration": 566,
    "start_time": "2024-12-29T12:07:41.483Z"
   },
   {
    "duration": 14,
    "start_time": "2024-12-29T12:07:42.052Z"
   },
   {
    "duration": 78,
    "start_time": "2024-12-29T12:07:42.068Z"
   },
   {
    "duration": 20,
    "start_time": "2024-12-29T12:07:42.147Z"
   },
   {
    "duration": 22,
    "start_time": "2024-12-29T12:07:42.169Z"
   },
   {
    "duration": 31,
    "start_time": "2024-12-29T12:07:42.192Z"
   },
   {
    "duration": 2019,
    "start_time": "2024-12-29T12:07:42.225Z"
   },
   {
    "duration": 17,
    "start_time": "2024-12-29T12:07:44.246Z"
   },
   {
    "duration": 73,
    "start_time": "2024-12-29T12:07:44.265Z"
   },
   {
    "duration": 23,
    "start_time": "2024-12-29T12:07:44.340Z"
   },
   {
    "duration": 29,
    "start_time": "2024-12-29T12:07:44.365Z"
   },
   {
    "duration": 28,
    "start_time": "2024-12-29T12:07:44.395Z"
   },
   {
    "duration": 44,
    "start_time": "2024-12-29T12:07:44.425Z"
   },
   {
    "duration": 48,
    "start_time": "2024-12-29T12:07:44.471Z"
   },
   {
    "duration": 2042,
    "start_time": "2024-12-29T12:07:44.521Z"
   },
   {
    "duration": 18,
    "start_time": "2024-12-29T12:07:46.564Z"
   },
   {
    "duration": 36,
    "start_time": "2024-12-29T12:07:46.584Z"
   },
   {
    "duration": 32,
    "start_time": "2024-12-29T12:07:46.623Z"
   },
   {
    "duration": 20,
    "start_time": "2024-12-29T12:07:46.656Z"
   },
   {
    "duration": 20,
    "start_time": "2024-12-29T12:07:46.677Z"
   },
   {
    "duration": 159,
    "start_time": "2024-12-29T12:07:46.698Z"
   },
   {
    "duration": 19,
    "start_time": "2024-12-29T12:07:46.858Z"
   },
   {
    "duration": 49,
    "start_time": "2024-12-29T12:07:46.878Z"
   },
   {
    "duration": 335,
    "start_time": "2024-12-29T12:07:46.929Z"
   },
   {
    "duration": 127,
    "start_time": "2024-12-29T12:07:47.265Z"
   },
   {
    "duration": 401,
    "start_time": "2024-12-29T12:07:47.396Z"
   },
   {
    "duration": 398,
    "start_time": "2024-12-29T12:07:47.799Z"
   },
   {
    "duration": 820,
    "start_time": "2024-12-29T12:07:48.199Z"
   },
   {
    "duration": 3,
    "start_time": "2024-12-29T12:07:49.021Z"
   },
   {
    "duration": 36,
    "start_time": "2024-12-29T12:07:49.025Z"
   },
   {
    "duration": 20,
    "start_time": "2024-12-29T12:07:49.063Z"
   },
   {
    "duration": 476,
    "start_time": "2024-12-29T12:07:49.084Z"
   },
   {
    "duration": 67,
    "start_time": "2024-12-29T12:07:49.562Z"
   },
   {
    "duration": 528,
    "start_time": "2024-12-29T12:07:49.630Z"
   },
   {
    "duration": 2,
    "start_time": "2024-12-29T12:07:50.160Z"
   },
   {
    "duration": 14,
    "start_time": "2024-12-29T12:07:50.164Z"
   },
   {
    "duration": 18,
    "start_time": "2024-12-29T12:07:50.180Z"
   },
   {
    "duration": 39,
    "start_time": "2024-12-29T12:07:50.200Z"
   },
   {
    "duration": 501,
    "start_time": "2024-12-29T12:07:50.241Z"
   },
   {
    "duration": 17,
    "start_time": "2024-12-29T12:07:50.744Z"
   },
   {
    "duration": 56,
    "start_time": "2024-12-29T12:07:50.763Z"
   },
   {
    "duration": 20,
    "start_time": "2024-12-29T12:07:50.821Z"
   },
   {
    "duration": 71,
    "start_time": "2024-12-29T12:07:50.842Z"
   },
   {
    "duration": 31,
    "start_time": "2024-12-29T12:07:50.914Z"
   },
   {
    "duration": 3,
    "start_time": "2024-12-29T12:07:50.947Z"
   },
   {
    "duration": 292,
    "start_time": "2024-12-29T12:07:50.952Z"
   },
   {
    "duration": 2,
    "start_time": "2024-12-29T12:07:51.246Z"
   },
   {
    "duration": 39,
    "start_time": "2024-12-29T12:07:51.250Z"
   },
   {
    "duration": 51,
    "start_time": "2024-12-29T12:07:51.291Z"
   },
   {
    "duration": 926,
    "start_time": "2024-12-29T12:07:51.344Z"
   },
   {
    "duration": 68096,
    "start_time": "2024-12-29T12:07:52.271Z"
   },
   {
    "duration": 56140,
    "start_time": "2024-12-29T12:09:00.369Z"
   },
   {
    "duration": 3212,
    "start_time": "2024-12-29T12:09:56.511Z"
   },
   {
    "duration": 2,
    "start_time": "2024-12-29T12:09:59.725Z"
   },
   {
    "duration": 65,
    "start_time": "2024-12-29T12:09:59.729Z"
   },
   {
    "duration": 16,
    "start_time": "2024-12-29T12:09:59.795Z"
   },
   {
    "duration": 7,
    "start_time": "2024-12-29T12:09:59.815Z"
   },
   {
    "duration": 6,
    "start_time": "2024-12-29T12:09:59.823Z"
   },
   {
    "duration": 7,
    "start_time": "2024-12-29T12:09:59.830Z"
   },
   {
    "duration": 4,
    "start_time": "2024-12-29T12:09:59.839Z"
   },
   {
    "duration": 4,
    "start_time": "2024-12-29T12:09:59.844Z"
   },
   {
    "duration": 4,
    "start_time": "2024-12-29T12:09:59.849Z"
   },
   {
    "duration": 14,
    "start_time": "2024-12-29T12:09:59.855Z"
   },
   {
    "duration": 20,
    "start_time": "2024-12-29T12:09:59.871Z"
   },
   {
    "duration": 4,
    "start_time": "2024-12-29T12:09:59.894Z"
   },
   {
    "duration": 3,
    "start_time": "2024-12-29T12:09:59.900Z"
   },
   {
    "duration": 160,
    "start_time": "2024-12-29T12:09:59.905Z"
   },
   {
    "duration": 0,
    "start_time": "2024-12-29T12:10:00.067Z"
   },
   {
    "duration": 22,
    "start_time": "2024-12-29T12:29:37.999Z"
   },
   {
    "duration": 54,
    "start_time": "2024-12-29T12:29:59.410Z"
   },
   {
    "duration": 3,
    "start_time": "2024-12-29T12:29:59.466Z"
   },
   {
    "duration": 2532,
    "start_time": "2024-12-29T12:29:59.470Z"
   },
   {
    "duration": 3996,
    "start_time": "2024-12-29T12:30:02.004Z"
   },
   {
    "duration": 1433,
    "start_time": "2024-12-29T12:30:06.003Z"
   },
   {
    "duration": 1032,
    "start_time": "2024-12-29T12:30:07.438Z"
   },
   {
    "duration": 272,
    "start_time": "2024-12-29T12:30:08.472Z"
   },
   {
    "duration": 145,
    "start_time": "2024-12-29T12:30:08.746Z"
   },
   {
    "duration": 6,
    "start_time": "2024-12-29T12:30:08.893Z"
   },
   {
    "duration": 731,
    "start_time": "2024-12-29T12:30:08.901Z"
   },
   {
    "duration": 646,
    "start_time": "2024-12-29T12:30:09.634Z"
   },
   {
    "duration": 13,
    "start_time": "2024-12-29T12:30:10.282Z"
   },
   {
    "duration": 72,
    "start_time": "2024-12-29T12:30:10.297Z"
   },
   {
    "duration": 2,
    "start_time": "2024-12-29T12:30:10.372Z"
   },
   {
    "duration": 418,
    "start_time": "2024-12-29T12:30:10.376Z"
   },
   {
    "duration": 578,
    "start_time": "2024-12-29T12:30:10.795Z"
   },
   {
    "duration": 12,
    "start_time": "2024-12-29T12:30:11.374Z"
   },
   {
    "duration": 60,
    "start_time": "2024-12-29T12:30:11.415Z"
   },
   {
    "duration": 20,
    "start_time": "2024-12-29T12:30:11.477Z"
   },
   {
    "duration": 35,
    "start_time": "2024-12-29T12:30:11.498Z"
   },
   {
    "duration": 20,
    "start_time": "2024-12-29T12:30:11.535Z"
   },
   {
    "duration": 2118,
    "start_time": "2024-12-29T12:30:11.557Z"
   },
   {
    "duration": 18,
    "start_time": "2024-12-29T12:30:13.676Z"
   },
   {
    "duration": 60,
    "start_time": "2024-12-29T12:30:13.696Z"
   },
   {
    "duration": 24,
    "start_time": "2024-12-29T12:30:13.757Z"
   },
   {
    "duration": 119,
    "start_time": "2024-12-29T12:30:13.783Z"
   },
   {
    "duration": 44,
    "start_time": "2024-12-29T12:30:13.903Z"
   },
   {
    "duration": 48,
    "start_time": "2024-12-29T12:30:13.948Z"
   },
   {
    "duration": 90,
    "start_time": "2024-12-29T12:30:13.997Z"
   },
   {
    "duration": 2326,
    "start_time": "2024-12-29T12:30:14.088Z"
   },
   {
    "duration": 17,
    "start_time": "2024-12-29T12:30:16.416Z"
   },
   {
    "duration": 21,
    "start_time": "2024-12-29T12:30:16.434Z"
   },
   {
    "duration": 24,
    "start_time": "2024-12-29T12:30:16.457Z"
   },
   {
    "duration": 41,
    "start_time": "2024-12-29T12:30:16.483Z"
   },
   {
    "duration": 60,
    "start_time": "2024-12-29T12:30:16.526Z"
   },
   {
    "duration": 142,
    "start_time": "2024-12-29T12:30:16.588Z"
   },
   {
    "duration": 20,
    "start_time": "2024-12-29T12:30:16.731Z"
   },
   {
    "duration": 59,
    "start_time": "2024-12-29T12:30:16.753Z"
   },
   {
    "duration": 353,
    "start_time": "2024-12-29T12:30:16.814Z"
   },
   {
    "duration": 130,
    "start_time": "2024-12-29T12:30:17.168Z"
   },
   {
    "duration": 473,
    "start_time": "2024-12-29T12:30:17.302Z"
   },
   {
    "duration": 421,
    "start_time": "2024-12-29T12:30:17.776Z"
   },
   {
    "duration": 850,
    "start_time": "2024-12-29T12:30:18.199Z"
   },
   {
    "duration": 2,
    "start_time": "2024-12-29T12:30:19.051Z"
   },
   {
    "duration": 33,
    "start_time": "2024-12-29T12:30:19.055Z"
   },
   {
    "duration": 10,
    "start_time": "2024-12-29T12:30:19.090Z"
   },
   {
    "duration": 450,
    "start_time": "2024-12-29T12:30:19.102Z"
   },
   {
    "duration": 16,
    "start_time": "2024-12-29T12:30:19.553Z"
   },
   {
    "duration": 509,
    "start_time": "2024-12-29T12:30:19.571Z"
   },
   {
    "duration": 3,
    "start_time": "2024-12-29T12:30:20.081Z"
   },
   {
    "duration": 21,
    "start_time": "2024-12-29T12:30:20.085Z"
   },
   {
    "duration": 33,
    "start_time": "2024-12-29T12:30:20.107Z"
   },
   {
    "duration": 26,
    "start_time": "2024-12-29T12:30:20.141Z"
   },
   {
    "duration": 552,
    "start_time": "2024-12-29T12:30:20.169Z"
   },
   {
    "duration": 18,
    "start_time": "2024-12-29T12:30:20.722Z"
   },
   {
    "duration": 44,
    "start_time": "2024-12-29T12:30:20.741Z"
   },
   {
    "duration": 36,
    "start_time": "2024-12-29T12:30:20.787Z"
   },
   {
    "duration": 58,
    "start_time": "2024-12-29T12:30:20.825Z"
   },
   {
    "duration": 47,
    "start_time": "2024-12-29T12:30:20.885Z"
   },
   {
    "duration": 4,
    "start_time": "2024-12-29T12:30:20.934Z"
   },
   {
    "duration": 309,
    "start_time": "2024-12-29T12:30:20.939Z"
   },
   {
    "duration": 2,
    "start_time": "2024-12-29T12:30:21.250Z"
   },
   {
    "duration": 95,
    "start_time": "2024-12-29T12:30:21.253Z"
   },
   {
    "duration": 15,
    "start_time": "2024-12-29T12:30:21.350Z"
   },
   {
    "duration": 985,
    "start_time": "2024-12-29T12:30:21.367Z"
   },
   {
    "duration": 67310,
    "start_time": "2024-12-29T12:30:22.354Z"
   },
   {
    "duration": 57268,
    "start_time": "2024-12-29T12:31:29.666Z"
   },
   {
    "duration": 2987,
    "start_time": "2024-12-29T12:32:26.936Z"
   },
   {
    "duration": 2,
    "start_time": "2024-12-29T12:32:29.925Z"
   },
   {
    "duration": 7,
    "start_time": "2024-12-29T12:32:29.929Z"
   },
   {
    "duration": 22,
    "start_time": "2024-12-29T12:32:29.938Z"
   },
   {
    "duration": 123,
    "start_time": "2024-12-29T12:32:29.962Z"
   },
   {
    "duration": 35,
    "start_time": "2024-12-29T12:32:30.086Z"
   },
   {
    "duration": 50,
    "start_time": "2024-12-29T12:32:30.123Z"
   },
   {
    "duration": 40,
    "start_time": "2024-12-29T12:32:30.175Z"
   },
   {
    "duration": 134,
    "start_time": "2024-12-29T12:32:30.217Z"
   },
   {
    "duration": 50,
    "start_time": "2024-12-29T12:32:30.353Z"
   },
   {
    "duration": 26,
    "start_time": "2024-12-29T12:32:30.405Z"
   },
   {
    "duration": 85,
    "start_time": "2024-12-29T12:32:30.433Z"
   },
   {
    "duration": 11,
    "start_time": "2024-12-29T12:32:30.520Z"
   },
   {
    "duration": 23,
    "start_time": "2024-12-29T12:32:30.532Z"
   },
   {
    "duration": 33,
    "start_time": "2024-12-29T12:32:30.556Z"
   },
   {
    "duration": 115,
    "start_time": "2024-12-29T12:32:30.590Z"
   },
   {
    "duration": 29,
    "start_time": "2024-12-29T12:35:00.996Z"
   },
   {
    "duration": 7766,
    "start_time": "2024-12-29T12:35:44.348Z"
   },
   {
    "duration": 6788,
    "start_time": "2024-12-29T12:36:50.427Z"
   },
   {
    "duration": 568,
    "start_time": "2024-12-29T12:37:06.156Z"
   },
   {
    "duration": 6,
    "start_time": "2024-12-29T12:37:41.567Z"
   },
   {
    "duration": 55,
    "start_time": "2024-12-29T12:58:53.654Z"
   },
   {
    "duration": 3,
    "start_time": "2024-12-29T12:58:53.711Z"
   },
   {
    "duration": 2525,
    "start_time": "2024-12-29T12:58:53.715Z"
   },
   {
    "duration": 3104,
    "start_time": "2024-12-29T12:58:56.242Z"
   },
   {
    "duration": 1385,
    "start_time": "2024-12-29T12:58:59.349Z"
   },
   {
    "duration": 1005,
    "start_time": "2024-12-29T12:59:00.736Z"
   },
   {
    "duration": 262,
    "start_time": "2024-12-29T12:59:01.743Z"
   },
   {
    "duration": 146,
    "start_time": "2024-12-29T12:59:02.006Z"
   },
   {
    "duration": 6,
    "start_time": "2024-12-29T12:59:02.154Z"
   },
   {
    "duration": 684,
    "start_time": "2024-12-29T12:59:02.162Z"
   },
   {
    "duration": 628,
    "start_time": "2024-12-29T12:59:02.848Z"
   },
   {
    "duration": 14,
    "start_time": "2024-12-29T12:59:03.478Z"
   },
   {
    "duration": 126,
    "start_time": "2024-12-29T12:59:03.494Z"
   },
   {
    "duration": 2,
    "start_time": "2024-12-29T12:59:03.624Z"
   },
   {
    "duration": 440,
    "start_time": "2024-12-29T12:59:03.628Z"
   },
   {
    "duration": 583,
    "start_time": "2024-12-29T12:59:04.071Z"
   },
   {
    "duration": 62,
    "start_time": "2024-12-29T12:59:04.655Z"
   },
   {
    "duration": 111,
    "start_time": "2024-12-29T12:59:04.719Z"
   },
   {
    "duration": 20,
    "start_time": "2024-12-29T12:59:04.832Z"
   },
   {
    "duration": 76,
    "start_time": "2024-12-29T12:59:04.854Z"
   },
   {
    "duration": 45,
    "start_time": "2024-12-29T12:59:04.932Z"
   },
   {
    "duration": 2636,
    "start_time": "2024-12-29T12:59:04.979Z"
   },
   {
    "duration": 16,
    "start_time": "2024-12-29T12:59:07.616Z"
   },
   {
    "duration": 63,
    "start_time": "2024-12-29T12:59:07.634Z"
   },
   {
    "duration": 23,
    "start_time": "2024-12-29T12:59:07.699Z"
   },
   {
    "duration": 22,
    "start_time": "2024-12-29T12:59:07.724Z"
   },
   {
    "duration": 44,
    "start_time": "2024-12-29T12:59:07.747Z"
   },
   {
    "duration": 41,
    "start_time": "2024-12-29T12:59:07.793Z"
   },
   {
    "duration": 32,
    "start_time": "2024-12-29T12:59:07.836Z"
   },
   {
    "duration": 2074,
    "start_time": "2024-12-29T12:59:07.870Z"
   },
   {
    "duration": 19,
    "start_time": "2024-12-29T12:59:09.945Z"
   },
   {
    "duration": 84,
    "start_time": "2024-12-29T12:59:09.966Z"
   },
   {
    "duration": 77,
    "start_time": "2024-12-29T12:59:10.052Z"
   },
   {
    "duration": 20,
    "start_time": "2024-12-29T12:59:10.131Z"
   },
   {
    "duration": 23,
    "start_time": "2024-12-29T12:59:10.152Z"
   },
   {
    "duration": 139,
    "start_time": "2024-12-29T12:59:10.176Z"
   },
   {
    "duration": 19,
    "start_time": "2024-12-29T12:59:10.316Z"
   },
   {
    "duration": 36,
    "start_time": "2024-12-29T12:59:10.336Z"
   },
   {
    "duration": 305,
    "start_time": "2024-12-29T12:59:10.374Z"
   },
   {
    "duration": 143,
    "start_time": "2024-12-29T12:59:10.681Z"
   },
   {
    "duration": 419,
    "start_time": "2024-12-29T12:59:10.828Z"
   },
   {
    "duration": 420,
    "start_time": "2024-12-29T12:59:11.249Z"
   },
   {
    "duration": 855,
    "start_time": "2024-12-29T12:59:11.671Z"
   },
   {
    "duration": 2,
    "start_time": "2024-12-29T12:59:12.528Z"
   },
   {
    "duration": 15,
    "start_time": "2024-12-29T12:59:12.532Z"
   },
   {
    "duration": 30,
    "start_time": "2024-12-29T12:59:12.549Z"
   },
   {
    "duration": 471,
    "start_time": "2024-12-29T12:59:12.580Z"
   },
   {
    "duration": 15,
    "start_time": "2024-12-29T12:59:13.052Z"
   },
   {
    "duration": 498,
    "start_time": "2024-12-29T12:59:13.069Z"
   },
   {
    "duration": 2,
    "start_time": "2024-12-29T12:59:13.569Z"
   },
   {
    "duration": 12,
    "start_time": "2024-12-29T12:59:13.573Z"
   },
   {
    "duration": 8,
    "start_time": "2024-12-29T12:59:13.586Z"
   },
   {
    "duration": 27,
    "start_time": "2024-12-29T12:59:13.596Z"
   },
   {
    "duration": 501,
    "start_time": "2024-12-29T12:59:13.625Z"
   },
   {
    "duration": 16,
    "start_time": "2024-12-29T12:59:14.127Z"
   },
   {
    "duration": 58,
    "start_time": "2024-12-29T12:59:14.145Z"
   },
   {
    "duration": 18,
    "start_time": "2024-12-29T12:59:14.205Z"
   },
   {
    "duration": 50,
    "start_time": "2024-12-29T12:59:14.224Z"
   },
   {
    "duration": 48,
    "start_time": "2024-12-29T12:59:14.276Z"
   },
   {
    "duration": 3,
    "start_time": "2024-12-29T12:59:14.326Z"
   },
   {
    "duration": 298,
    "start_time": "2024-12-29T12:59:14.330Z"
   },
   {
    "duration": 3,
    "start_time": "2024-12-29T12:59:14.630Z"
   },
   {
    "duration": 5,
    "start_time": "2024-12-29T12:59:14.635Z"
   },
   {
    "duration": 6,
    "start_time": "2024-12-29T12:59:14.642Z"
   },
   {
    "duration": 914,
    "start_time": "2024-12-29T12:59:14.650Z"
   },
   {
    "duration": 69497,
    "start_time": "2024-12-29T12:59:15.565Z"
   },
   {
    "duration": 57366,
    "start_time": "2024-12-29T13:00:25.064Z"
   },
   {
    "duration": 2889,
    "start_time": "2024-12-29T13:01:22.431Z"
   },
   {
    "duration": 3,
    "start_time": "2024-12-29T13:01:25.322Z"
   },
   {
    "duration": 17,
    "start_time": "2024-12-29T13:01:25.326Z"
   },
   {
    "duration": 21,
    "start_time": "2024-12-29T13:01:25.345Z"
   },
   {
    "duration": 17,
    "start_time": "2024-12-29T13:01:25.368Z"
   },
   {
    "duration": 9,
    "start_time": "2024-12-29T13:01:25.387Z"
   },
   {
    "duration": 11,
    "start_time": "2024-12-29T13:01:25.397Z"
   },
   {
    "duration": 14,
    "start_time": "2024-12-29T13:01:25.414Z"
   },
   {
    "duration": 31,
    "start_time": "2024-12-29T13:01:25.430Z"
   },
   {
    "duration": 32,
    "start_time": "2024-12-29T13:01:25.463Z"
   },
   {
    "duration": 18,
    "start_time": "2024-12-29T13:01:25.497Z"
   },
   {
    "duration": 10,
    "start_time": "2024-12-29T13:01:25.517Z"
   },
   {
    "duration": 7,
    "start_time": "2024-12-29T13:01:25.528Z"
   },
   {
    "duration": 11,
    "start_time": "2024-12-29T13:01:25.536Z"
   },
   {
    "duration": 34,
    "start_time": "2024-12-29T13:01:25.549Z"
   },
   {
    "duration": 7038,
    "start_time": "2024-12-29T13:01:25.584Z"
   },
   {
    "duration": 195,
    "start_time": "2024-12-29T13:01:32.624Z"
   },
   {
    "duration": 59,
    "start_time": "2024-12-29T13:08:22.516Z"
   },
   {
    "duration": 3,
    "start_time": "2024-12-29T13:08:22.577Z"
   },
   {
    "duration": 2566,
    "start_time": "2024-12-29T13:08:22.581Z"
   },
   {
    "duration": 3907,
    "start_time": "2024-12-29T13:08:25.149Z"
   },
   {
    "duration": 1386,
    "start_time": "2024-12-29T13:08:29.059Z"
   },
   {
    "duration": 1024,
    "start_time": "2024-12-29T13:08:30.447Z"
   },
   {
    "duration": 266,
    "start_time": "2024-12-29T13:08:31.473Z"
   },
   {
    "duration": 146,
    "start_time": "2024-12-29T13:08:31.741Z"
   },
   {
    "duration": 7,
    "start_time": "2024-12-29T13:08:31.888Z"
   },
   {
    "duration": 734,
    "start_time": "2024-12-29T13:08:31.896Z"
   },
   {
    "duration": 657,
    "start_time": "2024-12-29T13:08:32.631Z"
   },
   {
    "duration": 13,
    "start_time": "2024-12-29T13:08:33.290Z"
   },
   {
    "duration": 68,
    "start_time": "2024-12-29T13:08:33.315Z"
   },
   {
    "duration": 3,
    "start_time": "2024-12-29T13:08:33.386Z"
   },
   {
    "duration": 502,
    "start_time": "2024-12-29T13:08:33.390Z"
   },
   {
    "duration": 567,
    "start_time": "2024-12-29T13:08:33.894Z"
   },
   {
    "duration": 11,
    "start_time": "2024-12-29T13:08:34.463Z"
   },
   {
    "duration": 77,
    "start_time": "2024-12-29T13:08:34.475Z"
   },
   {
    "duration": 21,
    "start_time": "2024-12-29T13:08:34.554Z"
   },
   {
    "duration": 23,
    "start_time": "2024-12-29T13:08:34.577Z"
   },
   {
    "duration": 29,
    "start_time": "2024-12-29T13:08:34.601Z"
   },
   {
    "duration": 2145,
    "start_time": "2024-12-29T13:08:34.631Z"
   },
   {
    "duration": 17,
    "start_time": "2024-12-29T13:08:36.778Z"
   },
   {
    "duration": 62,
    "start_time": "2024-12-29T13:08:36.797Z"
   },
   {
    "duration": 24,
    "start_time": "2024-12-29T13:08:36.861Z"
   },
   {
    "duration": 35,
    "start_time": "2024-12-29T13:08:36.886Z"
   },
   {
    "duration": 23,
    "start_time": "2024-12-29T13:08:36.923Z"
   },
   {
    "duration": 66,
    "start_time": "2024-12-29T13:08:36.948Z"
   },
   {
    "duration": 34,
    "start_time": "2024-12-29T13:08:37.016Z"
   },
   {
    "duration": 2075,
    "start_time": "2024-12-29T13:08:37.052Z"
   },
   {
    "duration": 17,
    "start_time": "2024-12-29T13:08:39.128Z"
   },
   {
    "duration": 47,
    "start_time": "2024-12-29T13:08:39.146Z"
   },
   {
    "duration": 25,
    "start_time": "2024-12-29T13:08:39.194Z"
   },
   {
    "duration": 33,
    "start_time": "2024-12-29T13:08:39.220Z"
   },
   {
    "duration": 36,
    "start_time": "2024-12-29T13:08:39.255Z"
   },
   {
    "duration": 116,
    "start_time": "2024-12-29T13:08:39.293Z"
   },
   {
    "duration": 69,
    "start_time": "2024-12-29T13:08:39.411Z"
   },
   {
    "duration": 132,
    "start_time": "2024-12-29T13:08:39.481Z"
   },
   {
    "duration": 339,
    "start_time": "2024-12-29T13:08:39.615Z"
   },
   {
    "duration": 133,
    "start_time": "2024-12-29T13:08:39.956Z"
   },
   {
    "duration": 445,
    "start_time": "2024-12-29T13:08:40.094Z"
   },
   {
    "duration": 434,
    "start_time": "2024-12-29T13:08:40.541Z"
   },
   {
    "duration": 876,
    "start_time": "2024-12-29T13:08:40.976Z"
   },
   {
    "duration": 2,
    "start_time": "2024-12-29T13:08:41.854Z"
   },
   {
    "duration": 7,
    "start_time": "2024-12-29T13:08:41.858Z"
   },
   {
    "duration": 9,
    "start_time": "2024-12-29T13:08:41.867Z"
   },
   {
    "duration": 479,
    "start_time": "2024-12-29T13:08:41.878Z"
   },
   {
    "duration": 16,
    "start_time": "2024-12-29T13:08:42.358Z"
   },
   {
    "duration": 503,
    "start_time": "2024-12-29T13:08:42.376Z"
   },
   {
    "duration": 3,
    "start_time": "2024-12-29T13:08:42.881Z"
   },
   {
    "duration": 17,
    "start_time": "2024-12-29T13:08:42.886Z"
   },
   {
    "duration": 9,
    "start_time": "2024-12-29T13:08:42.905Z"
   },
   {
    "duration": 17,
    "start_time": "2024-12-29T13:08:42.916Z"
   },
   {
    "duration": 507,
    "start_time": "2024-12-29T13:08:42.936Z"
   },
   {
    "duration": 19,
    "start_time": "2024-12-29T13:08:43.445Z"
   },
   {
    "duration": 171,
    "start_time": "2024-12-29T13:08:43.465Z"
   },
   {
    "duration": 20,
    "start_time": "2024-12-29T13:08:43.638Z"
   },
   {
    "duration": 72,
    "start_time": "2024-12-29T13:08:43.660Z"
   },
   {
    "duration": 34,
    "start_time": "2024-12-29T13:08:43.734Z"
   },
   {
    "duration": 4,
    "start_time": "2024-12-29T13:08:43.769Z"
   },
   {
    "duration": 313,
    "start_time": "2024-12-29T13:08:43.774Z"
   },
   {
    "duration": 2,
    "start_time": "2024-12-29T13:08:44.089Z"
   },
   {
    "duration": 53,
    "start_time": "2024-12-29T13:08:44.093Z"
   },
   {
    "duration": 4,
    "start_time": "2024-12-29T13:08:44.147Z"
   },
   {
    "duration": 941,
    "start_time": "2024-12-29T13:08:44.153Z"
   },
   {
    "duration": 119153,
    "start_time": "2024-12-29T13:10:53.270Z"
   },
   {
    "duration": 3,
    "start_time": "2024-12-29T13:12:52.425Z"
   },
   {
    "duration": 5,
    "start_time": "2024-12-29T13:12:52.430Z"
   },
   {
    "duration": 53,
    "start_time": "2024-12-29T13:12:52.436Z"
   },
   {
    "duration": 32,
    "start_time": "2024-12-29T13:12:52.491Z"
   },
   {
    "duration": 9,
    "start_time": "2024-12-29T13:12:52.525Z"
   },
   {
    "duration": 18,
    "start_time": "2024-12-29T13:12:52.535Z"
   },
   {
    "duration": 12,
    "start_time": "2024-12-29T13:12:52.555Z"
   },
   {
    "duration": 7,
    "start_time": "2024-12-29T13:12:52.569Z"
   },
   {
    "duration": 8,
    "start_time": "2024-12-29T13:12:52.577Z"
   },
   {
    "duration": 27,
    "start_time": "2024-12-29T13:12:52.587Z"
   },
   {
    "duration": 26,
    "start_time": "2024-12-29T13:12:52.616Z"
   },
   {
    "duration": 14,
    "start_time": "2024-12-29T13:12:52.644Z"
   },
   {
    "duration": 16,
    "start_time": "2024-12-29T13:12:52.660Z"
   },
   {
    "duration": 25,
    "start_time": "2024-12-29T13:12:52.677Z"
   },
   {
    "duration": 7417,
    "start_time": "2024-12-29T13:12:52.703Z"
   },
   {
    "duration": 48,
    "start_time": "2024-12-29T13:19:22.053Z"
   },
   {
    "duration": 3,
    "start_time": "2024-12-29T13:19:22.103Z"
   },
   {
    "duration": 2519,
    "start_time": "2024-12-29T13:19:22.107Z"
   },
   {
    "duration": 3008,
    "start_time": "2024-12-29T13:19:24.629Z"
   },
   {
    "duration": 1396,
    "start_time": "2024-12-29T13:19:27.640Z"
   },
   {
    "duration": 980,
    "start_time": "2024-12-29T13:19:29.038Z"
   },
   {
    "duration": 306,
    "start_time": "2024-12-29T13:19:30.020Z"
   },
   {
    "duration": 143,
    "start_time": "2024-12-29T13:19:30.328Z"
   },
   {
    "duration": 28,
    "start_time": "2024-12-29T13:19:30.473Z"
   },
   {
    "duration": 737,
    "start_time": "2024-12-29T13:19:30.503Z"
   },
   {
    "duration": 646,
    "start_time": "2024-12-29T13:19:31.242Z"
   },
   {
    "duration": 27,
    "start_time": "2024-12-29T13:19:31.889Z"
   },
   {
    "duration": 66,
    "start_time": "2024-12-29T13:19:31.917Z"
   },
   {
    "duration": 2,
    "start_time": "2024-12-29T13:19:31.985Z"
   },
   {
    "duration": 400,
    "start_time": "2024-12-29T13:19:31.989Z"
   },
   {
    "duration": 565,
    "start_time": "2024-12-29T13:19:32.391Z"
   },
   {
    "duration": 14,
    "start_time": "2024-12-29T13:19:32.957Z"
   },
   {
    "duration": 80,
    "start_time": "2024-12-29T13:19:32.973Z"
   },
   {
    "duration": 21,
    "start_time": "2024-12-29T13:19:33.055Z"
   },
   {
    "duration": 37,
    "start_time": "2024-12-29T13:19:33.078Z"
   },
   {
    "duration": 26,
    "start_time": "2024-12-29T13:19:33.117Z"
   },
   {
    "duration": 2110,
    "start_time": "2024-12-29T13:19:33.145Z"
   },
   {
    "duration": 17,
    "start_time": "2024-12-29T13:19:35.256Z"
   },
   {
    "duration": 55,
    "start_time": "2024-12-29T13:19:35.275Z"
   },
   {
    "duration": 25,
    "start_time": "2024-12-29T13:19:35.332Z"
   },
   {
    "duration": 41,
    "start_time": "2024-12-29T13:19:35.358Z"
   },
   {
    "duration": 102,
    "start_time": "2024-12-29T13:19:35.401Z"
   },
   {
    "duration": 65,
    "start_time": "2024-12-29T13:19:35.508Z"
   },
   {
    "duration": 122,
    "start_time": "2024-12-29T13:19:35.575Z"
   },
   {
    "duration": 2107,
    "start_time": "2024-12-29T13:19:35.699Z"
   },
   {
    "duration": 17,
    "start_time": "2024-12-29T13:19:37.814Z"
   },
   {
    "duration": 19,
    "start_time": "2024-12-29T13:19:37.832Z"
   },
   {
    "duration": 41,
    "start_time": "2024-12-29T13:19:37.853Z"
   },
   {
    "duration": 22,
    "start_time": "2024-12-29T13:19:37.896Z"
   },
   {
    "duration": 19,
    "start_time": "2024-12-29T13:19:37.920Z"
   },
   {
    "duration": 133,
    "start_time": "2024-12-29T13:19:37.941Z"
   },
   {
    "duration": 18,
    "start_time": "2024-12-29T13:19:38.076Z"
   },
   {
    "duration": 107,
    "start_time": "2024-12-29T13:19:38.096Z"
   },
   {
    "duration": 339,
    "start_time": "2024-12-29T13:19:38.204Z"
   },
   {
    "duration": 120,
    "start_time": "2024-12-29T13:19:38.545Z"
   },
   {
    "duration": 420,
    "start_time": "2024-12-29T13:19:38.667Z"
   },
   {
    "duration": 408,
    "start_time": "2024-12-29T13:19:39.089Z"
   },
   {
    "duration": 851,
    "start_time": "2024-12-29T13:19:39.499Z"
   },
   {
    "duration": 3,
    "start_time": "2024-12-29T13:19:40.351Z"
   },
   {
    "duration": 13,
    "start_time": "2024-12-29T13:19:40.355Z"
   },
   {
    "duration": 4,
    "start_time": "2024-12-29T13:19:40.370Z"
   },
   {
    "duration": 487,
    "start_time": "2024-12-29T13:19:40.375Z"
   },
   {
    "duration": 19,
    "start_time": "2024-12-29T13:19:40.864Z"
   },
   {
    "duration": 549,
    "start_time": "2024-12-29T13:19:40.885Z"
   },
   {
    "duration": 2,
    "start_time": "2024-12-29T13:19:41.435Z"
   },
   {
    "duration": 75,
    "start_time": "2024-12-29T13:19:41.439Z"
   },
   {
    "duration": 40,
    "start_time": "2024-12-29T13:19:41.515Z"
   },
   {
    "duration": 100,
    "start_time": "2024-12-29T13:19:41.556Z"
   },
   {
    "duration": 559,
    "start_time": "2024-12-29T13:19:41.657Z"
   },
   {
    "duration": 16,
    "start_time": "2024-12-29T13:19:42.218Z"
   },
   {
    "duration": 40,
    "start_time": "2024-12-29T13:19:42.236Z"
   },
   {
    "duration": 40,
    "start_time": "2024-12-29T13:19:42.277Z"
   },
   {
    "duration": 50,
    "start_time": "2024-12-29T13:19:42.319Z"
   },
   {
    "duration": 47,
    "start_time": "2024-12-29T13:19:42.371Z"
   },
   {
    "duration": 3,
    "start_time": "2024-12-29T13:19:42.419Z"
   },
   {
    "duration": 267,
    "start_time": "2024-12-29T13:19:42.424Z"
   },
   {
    "duration": 3,
    "start_time": "2024-12-29T13:19:42.692Z"
   },
   {
    "duration": 3,
    "start_time": "2024-12-29T13:19:42.697Z"
   },
   {
    "duration": 13,
    "start_time": "2024-12-29T13:19:42.702Z"
   },
   {
    "duration": 892,
    "start_time": "2024-12-29T13:19:42.717Z"
   },
   {
    "duration": 68047,
    "start_time": "2024-12-29T13:19:43.611Z"
   },
   {
    "duration": 56852,
    "start_time": "2024-12-29T13:20:51.660Z"
   },
   {
    "duration": 27714,
    "start_time": "2024-12-29T13:21:48.514Z"
   },
   {
    "duration": 2,
    "start_time": "2024-12-29T13:22:16.230Z"
   },
   {
    "duration": 3,
    "start_time": "2024-12-29T13:22:16.315Z"
   },
   {
    "duration": 5,
    "start_time": "2024-12-29T13:22:16.319Z"
   },
   {
    "duration": 3,
    "start_time": "2024-12-29T13:22:16.326Z"
   },
   {
    "duration": 12,
    "start_time": "2024-12-29T13:22:16.331Z"
   },
   {
    "duration": 3,
    "start_time": "2024-12-29T13:22:16.344Z"
   },
   {
    "duration": 4,
    "start_time": "2024-12-29T13:22:16.349Z"
   },
   {
    "duration": 11,
    "start_time": "2024-12-29T13:22:16.355Z"
   },
   {
    "duration": 3,
    "start_time": "2024-12-29T13:22:16.368Z"
   },
   {
    "duration": 5,
    "start_time": "2024-12-29T13:22:16.373Z"
   },
   {
    "duration": 6,
    "start_time": "2024-12-29T13:22:16.379Z"
   },
   {
    "duration": 7,
    "start_time": "2024-12-29T13:22:16.387Z"
   },
   {
    "duration": 15,
    "start_time": "2024-12-29T13:22:16.396Z"
   },
   {
    "duration": 22,
    "start_time": "2024-12-29T13:22:16.419Z"
   },
   {
    "duration": 10282,
    "start_time": "2024-12-29T13:22:16.442Z"
   }
  ],
  "kernelspec": {
   "display_name": "Python 3 (ipykernel)",
   "language": "python",
   "name": "python3"
  },
  "language_info": {
   "codemirror_mode": {
    "name": "ipython",
    "version": 3
   },
   "file_extension": ".py",
   "mimetype": "text/x-python",
   "name": "python",
   "nbconvert_exporter": "python",
   "pygments_lexer": "ipython3",
   "version": "3.9.5"
  },
  "toc": {
   "base_numbering": 1,
   "nav_menu": {},
   "number_sections": true,
   "sideBar": true,
   "skip_h1_title": true,
   "title_cell": "Table of Contents",
   "title_sidebar": "Contents",
   "toc_cell": false,
   "toc_position": {
    "height": "calc(100% - 180px)",
    "left": "10px",
    "top": "150px",
    "width": "176.2px"
   },
   "toc_section_display": true,
   "toc_window_display": false
  }
 },
 "nbformat": 4,
 "nbformat_minor": 2
}
